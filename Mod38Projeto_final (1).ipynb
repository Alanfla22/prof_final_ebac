{
  "cells": [
    {
      "cell_type": "code",
      "execution_count": 24,
      "metadata": {
        "id": "bJgr-4RS_B7Q",
        "colab": {
          "base_uri": "https://localhost:8080/"
        },
        "outputId": "57f63fed-587d-47aa-d178-40888e962a9d"
      },
      "outputs": [
        {
          "output_type": "stream",
          "name": "stdout",
          "text": [
            "Requirement already satisfied: pycaret in /usr/local/lib/python3.10/dist-packages (3.3.2)\n",
            "Requirement already satisfied: ipython>=5.5.0 in /usr/local/lib/python3.10/dist-packages (from pycaret) (7.34.0)\n",
            "Requirement already satisfied: ipywidgets>=7.6.5 in /usr/local/lib/python3.10/dist-packages (from pycaret) (7.7.1)\n",
            "Requirement already satisfied: tqdm>=4.62.0 in /usr/local/lib/python3.10/dist-packages (from pycaret) (4.66.5)\n",
            "Requirement already satisfied: numpy<1.27,>=1.21 in /usr/local/lib/python3.10/dist-packages (from pycaret) (1.26.4)\n",
            "Requirement already satisfied: pandas<2.2.0 in /usr/local/lib/python3.10/dist-packages (from pycaret) (2.1.4)\n",
            "Requirement already satisfied: jinja2>=3 in /usr/local/lib/python3.10/dist-packages (from pycaret) (3.1.4)\n",
            "Requirement already satisfied: scipy<=1.11.4,>=1.6.1 in /usr/local/lib/python3.10/dist-packages (from pycaret) (1.11.4)\n",
            "Requirement already satisfied: joblib<1.4,>=1.2.0 in /usr/local/lib/python3.10/dist-packages (from pycaret) (1.3.2)\n",
            "Requirement already satisfied: scikit-learn>1.4.0 in /usr/local/lib/python3.10/dist-packages (from pycaret) (1.4.2)\n",
            "Requirement already satisfied: pyod>=1.1.3 in /usr/local/lib/python3.10/dist-packages (from pycaret) (2.0.2)\n",
            "Requirement already satisfied: imbalanced-learn>=0.12.0 in /usr/local/lib/python3.10/dist-packages (from pycaret) (0.12.3)\n",
            "Requirement already satisfied: category-encoders>=2.4.0 in /usr/local/lib/python3.10/dist-packages (from pycaret) (2.6.4)\n",
            "Requirement already satisfied: lightgbm>=3.0.0 in /usr/local/lib/python3.10/dist-packages (from pycaret) (4.5.0)\n",
            "Requirement already satisfied: numba>=0.55.0 in /usr/local/lib/python3.10/dist-packages (from pycaret) (0.60.0)\n",
            "Requirement already satisfied: requests>=2.27.1 in /usr/local/lib/python3.10/dist-packages (from pycaret) (2.32.3)\n",
            "Requirement already satisfied: psutil>=5.9.0 in /usr/local/lib/python3.10/dist-packages (from pycaret) (5.9.5)\n",
            "Requirement already satisfied: markupsafe>=2.0.1 in /usr/local/lib/python3.10/dist-packages (from pycaret) (2.1.5)\n",
            "Requirement already satisfied: importlib-metadata>=4.12.0 in /usr/local/lib/python3.10/dist-packages (from pycaret) (8.4.0)\n",
            "Requirement already satisfied: nbformat>=4.2.0 in /usr/local/lib/python3.10/dist-packages (from pycaret) (5.10.4)\n",
            "Requirement already satisfied: cloudpickle in /usr/local/lib/python3.10/dist-packages (from pycaret) (2.2.1)\n",
            "Requirement already satisfied: deprecation>=2.1.0 in /usr/local/lib/python3.10/dist-packages (from pycaret) (2.1.0)\n",
            "Requirement already satisfied: xxhash in /usr/local/lib/python3.10/dist-packages (from pycaret) (3.5.0)\n",
            "Requirement already satisfied: matplotlib<3.8.0 in /usr/local/lib/python3.10/dist-packages (from pycaret) (3.7.1)\n",
            "Requirement already satisfied: scikit-plot>=0.3.7 in /usr/local/lib/python3.10/dist-packages (from pycaret) (0.3.7)\n",
            "Requirement already satisfied: yellowbrick>=1.4 in /usr/local/lib/python3.10/dist-packages (from pycaret) (1.5)\n",
            "Requirement already satisfied: plotly>=5.14.0 in /usr/local/lib/python3.10/dist-packages (from pycaret) (5.24.1)\n",
            "Requirement already satisfied: kaleido>=0.2.1 in /usr/local/lib/python3.10/dist-packages (from pycaret) (0.2.1)\n",
            "Requirement already satisfied: schemdraw==0.15 in /usr/local/lib/python3.10/dist-packages (from pycaret) (0.15)\n",
            "Requirement already satisfied: plotly-resampler>=0.8.3.1 in /usr/local/lib/python3.10/dist-packages (from pycaret) (0.10.0)\n",
            "Requirement already satisfied: statsmodels>=0.12.1 in /usr/local/lib/python3.10/dist-packages (from pycaret) (0.14.3)\n",
            "Requirement already satisfied: sktime==0.26.0 in /usr/local/lib/python3.10/dist-packages (from pycaret) (0.26.0)\n",
            "Requirement already satisfied: tbats>=1.1.3 in /usr/local/lib/python3.10/dist-packages (from pycaret) (1.1.3)\n",
            "Requirement already satisfied: pmdarima>=2.0.4 in /usr/local/lib/python3.10/dist-packages (from pycaret) (2.0.4)\n",
            "Requirement already satisfied: wurlitzer in /usr/local/lib/python3.10/dist-packages (from pycaret) (3.1.1)\n",
            "Requirement already satisfied: packaging in /usr/local/lib/python3.10/dist-packages (from sktime==0.26.0->pycaret) (24.1)\n",
            "Requirement already satisfied: scikit-base<0.8.0 in /usr/local/lib/python3.10/dist-packages (from sktime==0.26.0->pycaret) (0.7.8)\n",
            "Requirement already satisfied: patsy>=0.5.1 in /usr/local/lib/python3.10/dist-packages (from category-encoders>=2.4.0->pycaret) (0.5.6)\n",
            "Requirement already satisfied: threadpoolctl>=2.0.0 in /usr/local/lib/python3.10/dist-packages (from imbalanced-learn>=0.12.0->pycaret) (3.5.0)\n",
            "Requirement already satisfied: zipp>=0.5 in /usr/local/lib/python3.10/dist-packages (from importlib-metadata>=4.12.0->pycaret) (3.20.2)\n",
            "Requirement already satisfied: setuptools>=18.5 in /usr/local/lib/python3.10/dist-packages (from ipython>=5.5.0->pycaret) (71.0.4)\n",
            "Requirement already satisfied: jedi>=0.16 in /usr/local/lib/python3.10/dist-packages (from ipython>=5.5.0->pycaret) (0.19.1)\n",
            "Requirement already satisfied: decorator in /usr/local/lib/python3.10/dist-packages (from ipython>=5.5.0->pycaret) (4.4.2)\n",
            "Requirement already satisfied: pickleshare in /usr/local/lib/python3.10/dist-packages (from ipython>=5.5.0->pycaret) (0.7.5)\n",
            "Requirement already satisfied: traitlets>=4.2 in /usr/local/lib/python3.10/dist-packages (from ipython>=5.5.0->pycaret) (5.7.1)\n",
            "Requirement already satisfied: prompt-toolkit!=3.0.0,!=3.0.1,<3.1.0,>=2.0.0 in /usr/local/lib/python3.10/dist-packages (from ipython>=5.5.0->pycaret) (3.0.48)\n",
            "Requirement already satisfied: pygments in /usr/local/lib/python3.10/dist-packages (from ipython>=5.5.0->pycaret) (2.18.0)\n",
            "Requirement already satisfied: backcall in /usr/local/lib/python3.10/dist-packages (from ipython>=5.5.0->pycaret) (0.2.0)\n",
            "Requirement already satisfied: matplotlib-inline in /usr/local/lib/python3.10/dist-packages (from ipython>=5.5.0->pycaret) (0.1.7)\n",
            "Requirement already satisfied: pexpect>4.3 in /usr/local/lib/python3.10/dist-packages (from ipython>=5.5.0->pycaret) (4.9.0)\n",
            "Requirement already satisfied: ipykernel>=4.5.1 in /usr/local/lib/python3.10/dist-packages (from ipywidgets>=7.6.5->pycaret) (5.5.6)\n",
            "Requirement already satisfied: ipython-genutils~=0.2.0 in /usr/local/lib/python3.10/dist-packages (from ipywidgets>=7.6.5->pycaret) (0.2.0)\n",
            "Requirement already satisfied: widgetsnbextension~=3.6.0 in /usr/local/lib/python3.10/dist-packages (from ipywidgets>=7.6.5->pycaret) (3.6.9)\n",
            "Requirement already satisfied: jupyterlab-widgets>=1.0.0 in /usr/local/lib/python3.10/dist-packages (from ipywidgets>=7.6.5->pycaret) (3.0.13)\n",
            "Requirement already satisfied: contourpy>=1.0.1 in /usr/local/lib/python3.10/dist-packages (from matplotlib<3.8.0->pycaret) (1.3.0)\n",
            "Requirement already satisfied: cycler>=0.10 in /usr/local/lib/python3.10/dist-packages (from matplotlib<3.8.0->pycaret) (0.12.1)\n",
            "Requirement already satisfied: fonttools>=4.22.0 in /usr/local/lib/python3.10/dist-packages (from matplotlib<3.8.0->pycaret) (4.54.1)\n",
            "Requirement already satisfied: kiwisolver>=1.0.1 in /usr/local/lib/python3.10/dist-packages (from matplotlib<3.8.0->pycaret) (1.4.7)\n",
            "Requirement already satisfied: pillow>=6.2.0 in /usr/local/lib/python3.10/dist-packages (from matplotlib<3.8.0->pycaret) (10.4.0)\n",
            "Requirement already satisfied: pyparsing>=2.3.1 in /usr/local/lib/python3.10/dist-packages (from matplotlib<3.8.0->pycaret) (3.1.4)\n",
            "Requirement already satisfied: python-dateutil>=2.7 in /usr/local/lib/python3.10/dist-packages (from matplotlib<3.8.0->pycaret) (2.8.2)\n",
            "Requirement already satisfied: fastjsonschema>=2.15 in /usr/local/lib/python3.10/dist-packages (from nbformat>=4.2.0->pycaret) (2.20.0)\n",
            "Requirement already satisfied: jsonschema>=2.6 in /usr/local/lib/python3.10/dist-packages (from nbformat>=4.2.0->pycaret) (4.23.0)\n",
            "Requirement already satisfied: jupyter-core!=5.0.*,>=4.12 in /usr/local/lib/python3.10/dist-packages (from nbformat>=4.2.0->pycaret) (5.7.2)\n",
            "Requirement already satisfied: llvmlite<0.44,>=0.43.0dev0 in /usr/local/lib/python3.10/dist-packages (from numba>=0.55.0->pycaret) (0.43.0)\n",
            "Requirement already satisfied: pytz>=2020.1 in /usr/local/lib/python3.10/dist-packages (from pandas<2.2.0->pycaret) (2024.2)\n",
            "Requirement already satisfied: tzdata>=2022.1 in /usr/local/lib/python3.10/dist-packages (from pandas<2.2.0->pycaret) (2024.2)\n",
            "Requirement already satisfied: tenacity>=6.2.0 in /usr/local/lib/python3.10/dist-packages (from plotly>=5.14.0->pycaret) (9.0.0)\n",
            "Requirement already satisfied: dash>=2.9.0 in /usr/local/lib/python3.10/dist-packages (from plotly-resampler>=0.8.3.1->pycaret) (2.18.1)\n",
            "Requirement already satisfied: orjson<4.0.0,>=3.8.0 in /usr/local/lib/python3.10/dist-packages (from plotly-resampler>=0.8.3.1->pycaret) (3.10.7)\n",
            "Requirement already satisfied: tsdownsample>=0.1.3 in /usr/local/lib/python3.10/dist-packages (from plotly-resampler>=0.8.3.1->pycaret) (0.1.3)\n",
            "Requirement already satisfied: Cython!=0.29.18,!=0.29.31,>=0.29 in /usr/local/lib/python3.10/dist-packages (from pmdarima>=2.0.4->pycaret) (3.0.11)\n",
            "Requirement already satisfied: urllib3 in /usr/local/lib/python3.10/dist-packages (from pmdarima>=2.0.4->pycaret) (2.2.3)\n",
            "Requirement already satisfied: charset-normalizer<4,>=2 in /usr/local/lib/python3.10/dist-packages (from requests>=2.27.1->pycaret) (3.3.2)\n",
            "Requirement already satisfied: idna<4,>=2.5 in /usr/local/lib/python3.10/dist-packages (from requests>=2.27.1->pycaret) (3.10)\n",
            "Requirement already satisfied: certifi>=2017.4.17 in /usr/local/lib/python3.10/dist-packages (from requests>=2.27.1->pycaret) (2024.8.30)\n",
            "Requirement already satisfied: Flask<3.1,>=1.0.4 in /usr/local/lib/python3.10/dist-packages (from dash>=2.9.0->plotly-resampler>=0.8.3.1->pycaret) (2.2.5)\n",
            "Requirement already satisfied: Werkzeug<3.1 in /usr/local/lib/python3.10/dist-packages (from dash>=2.9.0->plotly-resampler>=0.8.3.1->pycaret) (3.0.4)\n",
            "Requirement already satisfied: dash-html-components==2.0.0 in /usr/local/lib/python3.10/dist-packages (from dash>=2.9.0->plotly-resampler>=0.8.3.1->pycaret) (2.0.0)\n",
            "Requirement already satisfied: dash-core-components==2.0.0 in /usr/local/lib/python3.10/dist-packages (from dash>=2.9.0->plotly-resampler>=0.8.3.1->pycaret) (2.0.0)\n",
            "Requirement already satisfied: dash-table==5.0.0 in /usr/local/lib/python3.10/dist-packages (from dash>=2.9.0->plotly-resampler>=0.8.3.1->pycaret) (5.0.0)\n",
            "Requirement already satisfied: typing-extensions>=4.1.1 in /usr/local/lib/python3.10/dist-packages (from dash>=2.9.0->plotly-resampler>=0.8.3.1->pycaret) (4.12.2)\n",
            "Requirement already satisfied: retrying in /usr/local/lib/python3.10/dist-packages (from dash>=2.9.0->plotly-resampler>=0.8.3.1->pycaret) (1.3.4)\n",
            "Requirement already satisfied: nest-asyncio in /usr/local/lib/python3.10/dist-packages (from dash>=2.9.0->plotly-resampler>=0.8.3.1->pycaret) (1.6.0)\n",
            "Requirement already satisfied: jupyter-client in /usr/local/lib/python3.10/dist-packages (from ipykernel>=4.5.1->ipywidgets>=7.6.5->pycaret) (6.1.12)\n",
            "Requirement already satisfied: tornado>=4.2 in /usr/local/lib/python3.10/dist-packages (from ipykernel>=4.5.1->ipywidgets>=7.6.5->pycaret) (6.3.3)\n",
            "Requirement already satisfied: parso<0.9.0,>=0.8.3 in /usr/local/lib/python3.10/dist-packages (from jedi>=0.16->ipython>=5.5.0->pycaret) (0.8.4)\n",
            "Requirement already satisfied: attrs>=22.2.0 in /usr/local/lib/python3.10/dist-packages (from jsonschema>=2.6->nbformat>=4.2.0->pycaret) (24.2.0)\n",
            "Requirement already satisfied: jsonschema-specifications>=2023.03.6 in /usr/local/lib/python3.10/dist-packages (from jsonschema>=2.6->nbformat>=4.2.0->pycaret) (2023.12.1)\n",
            "Requirement already satisfied: referencing>=0.28.4 in /usr/local/lib/python3.10/dist-packages (from jsonschema>=2.6->nbformat>=4.2.0->pycaret) (0.35.1)\n",
            "Requirement already satisfied: rpds-py>=0.7.1 in /usr/local/lib/python3.10/dist-packages (from jsonschema>=2.6->nbformat>=4.2.0->pycaret) (0.20.0)\n",
            "Requirement already satisfied: platformdirs>=2.5 in /usr/local/lib/python3.10/dist-packages (from jupyter-core!=5.0.*,>=4.12->nbformat>=4.2.0->pycaret) (4.3.6)\n",
            "Requirement already satisfied: six in /usr/local/lib/python3.10/dist-packages (from patsy>=0.5.1->category-encoders>=2.4.0->pycaret) (1.16.0)\n",
            "Requirement already satisfied: ptyprocess>=0.5 in /usr/local/lib/python3.10/dist-packages (from pexpect>4.3->ipython>=5.5.0->pycaret) (0.7.0)\n",
            "Requirement already satisfied: wcwidth in /usr/local/lib/python3.10/dist-packages (from prompt-toolkit!=3.0.0,!=3.0.1,<3.1.0,>=2.0.0->ipython>=5.5.0->pycaret) (0.2.13)\n",
            "Requirement already satisfied: notebook>=4.4.1 in /usr/local/lib/python3.10/dist-packages (from widgetsnbextension~=3.6.0->ipywidgets>=7.6.5->pycaret) (6.5.5)\n",
            "Requirement already satisfied: itsdangerous>=2.0 in /usr/local/lib/python3.10/dist-packages (from Flask<3.1,>=1.0.4->dash>=2.9.0->plotly-resampler>=0.8.3.1->pycaret) (2.2.0)\n",
            "Requirement already satisfied: click>=8.0 in /usr/local/lib/python3.10/dist-packages (from Flask<3.1,>=1.0.4->dash>=2.9.0->plotly-resampler>=0.8.3.1->pycaret) (8.1.7)\n",
            "Requirement already satisfied: pyzmq<25,>=17 in /usr/local/lib/python3.10/dist-packages (from notebook>=4.4.1->widgetsnbextension~=3.6.0->ipywidgets>=7.6.5->pycaret) (24.0.1)\n",
            "Requirement already satisfied: argon2-cffi in /usr/local/lib/python3.10/dist-packages (from notebook>=4.4.1->widgetsnbextension~=3.6.0->ipywidgets>=7.6.5->pycaret) (23.1.0)\n",
            "Requirement already satisfied: nbconvert>=5 in /usr/local/lib/python3.10/dist-packages (from notebook>=4.4.1->widgetsnbextension~=3.6.0->ipywidgets>=7.6.5->pycaret) (6.5.4)\n",
            "Requirement already satisfied: Send2Trash>=1.8.0 in /usr/local/lib/python3.10/dist-packages (from notebook>=4.4.1->widgetsnbextension~=3.6.0->ipywidgets>=7.6.5->pycaret) (1.8.3)\n",
            "Requirement already satisfied: terminado>=0.8.3 in /usr/local/lib/python3.10/dist-packages (from notebook>=4.4.1->widgetsnbextension~=3.6.0->ipywidgets>=7.6.5->pycaret) (0.18.1)\n",
            "Requirement already satisfied: prometheus-client in /usr/local/lib/python3.10/dist-packages (from notebook>=4.4.1->widgetsnbextension~=3.6.0->ipywidgets>=7.6.5->pycaret) (0.21.0)\n",
            "Requirement already satisfied: nbclassic>=0.4.7 in /usr/local/lib/python3.10/dist-packages (from notebook>=4.4.1->widgetsnbextension~=3.6.0->ipywidgets>=7.6.5->pycaret) (1.1.0)\n",
            "Requirement already satisfied: notebook-shim>=0.2.3 in /usr/local/lib/python3.10/dist-packages (from nbclassic>=0.4.7->notebook>=4.4.1->widgetsnbextension~=3.6.0->ipywidgets>=7.6.5->pycaret) (0.2.4)\n",
            "Requirement already satisfied: lxml in /usr/local/lib/python3.10/dist-packages (from nbconvert>=5->notebook>=4.4.1->widgetsnbextension~=3.6.0->ipywidgets>=7.6.5->pycaret) (4.9.4)\n",
            "Requirement already satisfied: beautifulsoup4 in /usr/local/lib/python3.10/dist-packages (from nbconvert>=5->notebook>=4.4.1->widgetsnbextension~=3.6.0->ipywidgets>=7.6.5->pycaret) (4.12.3)\n",
            "Requirement already satisfied: bleach in /usr/local/lib/python3.10/dist-packages (from nbconvert>=5->notebook>=4.4.1->widgetsnbextension~=3.6.0->ipywidgets>=7.6.5->pycaret) (6.1.0)\n",
            "Requirement already satisfied: defusedxml in /usr/local/lib/python3.10/dist-packages (from nbconvert>=5->notebook>=4.4.1->widgetsnbextension~=3.6.0->ipywidgets>=7.6.5->pycaret) (0.7.1)\n",
            "Requirement already satisfied: entrypoints>=0.2.2 in /usr/local/lib/python3.10/dist-packages (from nbconvert>=5->notebook>=4.4.1->widgetsnbextension~=3.6.0->ipywidgets>=7.6.5->pycaret) (0.4)\n",
            "Requirement already satisfied: jupyterlab-pygments in /usr/local/lib/python3.10/dist-packages (from nbconvert>=5->notebook>=4.4.1->widgetsnbextension~=3.6.0->ipywidgets>=7.6.5->pycaret) (0.3.0)\n",
            "Requirement already satisfied: mistune<2,>=0.8.1 in /usr/local/lib/python3.10/dist-packages (from nbconvert>=5->notebook>=4.4.1->widgetsnbextension~=3.6.0->ipywidgets>=7.6.5->pycaret) (0.8.4)\n",
            "Requirement already satisfied: nbclient>=0.5.0 in /usr/local/lib/python3.10/dist-packages (from nbconvert>=5->notebook>=4.4.1->widgetsnbextension~=3.6.0->ipywidgets>=7.6.5->pycaret) (0.10.0)\n",
            "Requirement already satisfied: pandocfilters>=1.4.1 in /usr/local/lib/python3.10/dist-packages (from nbconvert>=5->notebook>=4.4.1->widgetsnbextension~=3.6.0->ipywidgets>=7.6.5->pycaret) (1.5.1)\n",
            "Requirement already satisfied: tinycss2 in /usr/local/lib/python3.10/dist-packages (from nbconvert>=5->notebook>=4.4.1->widgetsnbextension~=3.6.0->ipywidgets>=7.6.5->pycaret) (1.3.0)\n",
            "Requirement already satisfied: argon2-cffi-bindings in /usr/local/lib/python3.10/dist-packages (from argon2-cffi->notebook>=4.4.1->widgetsnbextension~=3.6.0->ipywidgets>=7.6.5->pycaret) (21.2.0)\n",
            "Requirement already satisfied: jupyter-server<3,>=1.8 in /usr/local/lib/python3.10/dist-packages (from notebook-shim>=0.2.3->nbclassic>=0.4.7->notebook>=4.4.1->widgetsnbextension~=3.6.0->ipywidgets>=7.6.5->pycaret) (1.24.0)\n",
            "Requirement already satisfied: cffi>=1.0.1 in /usr/local/lib/python3.10/dist-packages (from argon2-cffi-bindings->argon2-cffi->notebook>=4.4.1->widgetsnbextension~=3.6.0->ipywidgets>=7.6.5->pycaret) (1.17.1)\n",
            "Requirement already satisfied: soupsieve>1.2 in /usr/local/lib/python3.10/dist-packages (from beautifulsoup4->nbconvert>=5->notebook>=4.4.1->widgetsnbextension~=3.6.0->ipywidgets>=7.6.5->pycaret) (2.6)\n",
            "Requirement already satisfied: webencodings in /usr/local/lib/python3.10/dist-packages (from bleach->nbconvert>=5->notebook>=4.4.1->widgetsnbextension~=3.6.0->ipywidgets>=7.6.5->pycaret) (0.5.1)\n",
            "Requirement already satisfied: pycparser in /usr/local/lib/python3.10/dist-packages (from cffi>=1.0.1->argon2-cffi-bindings->argon2-cffi->notebook>=4.4.1->widgetsnbextension~=3.6.0->ipywidgets>=7.6.5->pycaret) (2.22)\n",
            "Requirement already satisfied: anyio<4,>=3.1.0 in /usr/local/lib/python3.10/dist-packages (from jupyter-server<3,>=1.8->notebook-shim>=0.2.3->nbclassic>=0.4.7->notebook>=4.4.1->widgetsnbextension~=3.6.0->ipywidgets>=7.6.5->pycaret) (3.7.1)\n",
            "Requirement already satisfied: websocket-client in /usr/local/lib/python3.10/dist-packages (from jupyter-server<3,>=1.8->notebook-shim>=0.2.3->nbclassic>=0.4.7->notebook>=4.4.1->widgetsnbextension~=3.6.0->ipywidgets>=7.6.5->pycaret) (1.8.0)\n",
            "Requirement already satisfied: sniffio>=1.1 in /usr/local/lib/python3.10/dist-packages (from anyio<4,>=3.1.0->jupyter-server<3,>=1.8->notebook-shim>=0.2.3->nbclassic>=0.4.7->notebook>=4.4.1->widgetsnbextension~=3.6.0->ipywidgets>=7.6.5->pycaret) (1.3.1)\n",
            "Requirement already satisfied: exceptiongroup in /usr/local/lib/python3.10/dist-packages (from anyio<4,>=3.1.0->jupyter-server<3,>=1.8->notebook-shim>=0.2.3->nbclassic>=0.4.7->notebook>=4.4.1->widgetsnbextension~=3.6.0->ipywidgets>=7.6.5->pycaret) (1.2.2)\n"
          ]
        }
      ],
      "source": [
        "!pip install pycaret\n",
        "!pip install streamlit -q"
      ]
    },
    {
      "cell_type": "markdown",
      "metadata": {
        "id": "bN1duXRi7j96"
      },
      "source": [
        "![image.png](attachment:image.png)"
      ]
    },
    {
      "cell_type": "markdown",
      "metadata": {
        "id": "0iTwhg6O7j9-"
      },
      "source": [
        "# Tarefa II\n",
        "\n",
        "Neste projeto, estamos construindo um credit scoring para cartão de crédito, em um desenho amostral com 15 safras, e utilizando 12 meses de performance.\n",
        "\n",
        "Carregue a base de dados ```credit_scoring.ftr```."
      ]
    },
    {
      "cell_type": "code",
      "execution_count": 25,
      "metadata": {
        "id": "rFBKkfts736j"
      },
      "outputs": [],
      "source": [
        "# importando as biliotecas para a tarefa 1\n",
        "\n",
        "import pandas as pd\n",
        "import matplotlib.pyplot as plt\n",
        "import seaborn as sns\n",
        "import numpy as np\n",
        "from ipywidgets import interact, interactive\n",
        "\n",
        "import statsmodels.formula.api as smf\n",
        "import statsmodels.api as sm\n",
        "\n",
        "from sklearn.impute import SimpleImputer\n",
        "from sklearn.feature_selection import SelectKBest, chi2\n",
        "from sklearn.decomposition import PCA\n",
        "from sklearn.linear_model import LogisticRegression\n",
        "from sklearn import metrics\n",
        "from scipy.stats import ks_2samp\n",
        "from scipy.stats import t\n",
        "\n",
        "from statsmodels.stats.outliers_influence import variance_inflation_factor as vif"
      ]
    },
    {
      "cell_type": "code",
      "execution_count": 26,
      "metadata": {
        "colab": {
          "base_uri": "https://localhost:8080/"
        },
        "id": "m9EJGTaq76_F",
        "outputId": "50544fe0-a137-4950-b149-b0ecd0c1b7e7"
      },
      "outputs": [
        {
          "output_type": "stream",
          "name": "stdout",
          "text": [
            "Drive already mounted at /content/drive; to attempt to forcibly remount, call drive.mount(\"/content/drive\", force_remount=True).\n"
          ]
        }
      ],
      "source": [
        "from google.colab import drive\n",
        "drive.mount('/content/drive')"
      ]
    },
    {
      "cell_type": "code",
      "execution_count": 27,
      "metadata": {
        "colab": {
          "base_uri": "https://localhost:8080/",
          "height": 206
        },
        "id": "kPUdWaBD7j-A",
        "outputId": "8ce45c64-3eb2-4928-fa1e-e8f33f35fc19"
      },
      "outputs": [
        {
          "output_type": "execute_result",
          "data": {
            "text/plain": [
              "    data_ref  index sexo posse_de_veiculo posse_de_imovel  qtd_filhos  \\\n",
              "0 2015-01-01   5733    F                N               N           0   \n",
              "1 2015-01-01    727    F                S               S           0   \n",
              "2 2015-01-01   6374    F                N               N           2   \n",
              "3 2015-01-01   9566    F                N               N           0   \n",
              "4 2015-01-01   9502    F                S               N           0   \n",
              "\n",
              "    tipo_renda             educacao estado_civil tipo_residencia  idade  \\\n",
              "0   Empresário                Médio     Solteiro            Casa     43   \n",
              "1  Assalariado                Médio       Casado            Casa     35   \n",
              "2  Assalariado                Médio       Casado            Casa     31   \n",
              "3  Assalariado                Médio       Casado            Casa     54   \n",
              "4  Assalariado  Superior incompleto     Solteiro            Casa     31   \n",
              "\n",
              "   tempo_emprego  qt_pessoas_residencia     renda    mau  \n",
              "0       6.873973                    1.0   2515.39  False  \n",
              "1       4.526027                    2.0   3180.19  False  \n",
              "2       0.243836                    4.0   1582.29  False  \n",
              "3      12.772603                    2.0  13721.17  False  \n",
              "4       8.432877                    1.0   2891.08  False  "
            ],
            "text/html": [
              "\n",
              "  <div id=\"df-d43acf77-2513-4d51-92dd-7a84cab26e69\" class=\"colab-df-container\">\n",
              "    <div>\n",
              "<style scoped>\n",
              "    .dataframe tbody tr th:only-of-type {\n",
              "        vertical-align: middle;\n",
              "    }\n",
              "\n",
              "    .dataframe tbody tr th {\n",
              "        vertical-align: top;\n",
              "    }\n",
              "\n",
              "    .dataframe thead th {\n",
              "        text-align: right;\n",
              "    }\n",
              "</style>\n",
              "<table border=\"1\" class=\"dataframe\">\n",
              "  <thead>\n",
              "    <tr style=\"text-align: right;\">\n",
              "      <th></th>\n",
              "      <th>data_ref</th>\n",
              "      <th>index</th>\n",
              "      <th>sexo</th>\n",
              "      <th>posse_de_veiculo</th>\n",
              "      <th>posse_de_imovel</th>\n",
              "      <th>qtd_filhos</th>\n",
              "      <th>tipo_renda</th>\n",
              "      <th>educacao</th>\n",
              "      <th>estado_civil</th>\n",
              "      <th>tipo_residencia</th>\n",
              "      <th>idade</th>\n",
              "      <th>tempo_emprego</th>\n",
              "      <th>qt_pessoas_residencia</th>\n",
              "      <th>renda</th>\n",
              "      <th>mau</th>\n",
              "    </tr>\n",
              "  </thead>\n",
              "  <tbody>\n",
              "    <tr>\n",
              "      <th>0</th>\n",
              "      <td>2015-01-01</td>\n",
              "      <td>5733</td>\n",
              "      <td>F</td>\n",
              "      <td>N</td>\n",
              "      <td>N</td>\n",
              "      <td>0</td>\n",
              "      <td>Empresário</td>\n",
              "      <td>Médio</td>\n",
              "      <td>Solteiro</td>\n",
              "      <td>Casa</td>\n",
              "      <td>43</td>\n",
              "      <td>6.873973</td>\n",
              "      <td>1.0</td>\n",
              "      <td>2515.39</td>\n",
              "      <td>False</td>\n",
              "    </tr>\n",
              "    <tr>\n",
              "      <th>1</th>\n",
              "      <td>2015-01-01</td>\n",
              "      <td>727</td>\n",
              "      <td>F</td>\n",
              "      <td>S</td>\n",
              "      <td>S</td>\n",
              "      <td>0</td>\n",
              "      <td>Assalariado</td>\n",
              "      <td>Médio</td>\n",
              "      <td>Casado</td>\n",
              "      <td>Casa</td>\n",
              "      <td>35</td>\n",
              "      <td>4.526027</td>\n",
              "      <td>2.0</td>\n",
              "      <td>3180.19</td>\n",
              "      <td>False</td>\n",
              "    </tr>\n",
              "    <tr>\n",
              "      <th>2</th>\n",
              "      <td>2015-01-01</td>\n",
              "      <td>6374</td>\n",
              "      <td>F</td>\n",
              "      <td>N</td>\n",
              "      <td>N</td>\n",
              "      <td>2</td>\n",
              "      <td>Assalariado</td>\n",
              "      <td>Médio</td>\n",
              "      <td>Casado</td>\n",
              "      <td>Casa</td>\n",
              "      <td>31</td>\n",
              "      <td>0.243836</td>\n",
              "      <td>4.0</td>\n",
              "      <td>1582.29</td>\n",
              "      <td>False</td>\n",
              "    </tr>\n",
              "    <tr>\n",
              "      <th>3</th>\n",
              "      <td>2015-01-01</td>\n",
              "      <td>9566</td>\n",
              "      <td>F</td>\n",
              "      <td>N</td>\n",
              "      <td>N</td>\n",
              "      <td>0</td>\n",
              "      <td>Assalariado</td>\n",
              "      <td>Médio</td>\n",
              "      <td>Casado</td>\n",
              "      <td>Casa</td>\n",
              "      <td>54</td>\n",
              "      <td>12.772603</td>\n",
              "      <td>2.0</td>\n",
              "      <td>13721.17</td>\n",
              "      <td>False</td>\n",
              "    </tr>\n",
              "    <tr>\n",
              "      <th>4</th>\n",
              "      <td>2015-01-01</td>\n",
              "      <td>9502</td>\n",
              "      <td>F</td>\n",
              "      <td>S</td>\n",
              "      <td>N</td>\n",
              "      <td>0</td>\n",
              "      <td>Assalariado</td>\n",
              "      <td>Superior incompleto</td>\n",
              "      <td>Solteiro</td>\n",
              "      <td>Casa</td>\n",
              "      <td>31</td>\n",
              "      <td>8.432877</td>\n",
              "      <td>1.0</td>\n",
              "      <td>2891.08</td>\n",
              "      <td>False</td>\n",
              "    </tr>\n",
              "  </tbody>\n",
              "</table>\n",
              "</div>\n",
              "    <div class=\"colab-df-buttons\">\n",
              "\n",
              "  <div class=\"colab-df-container\">\n",
              "    <button class=\"colab-df-convert\" onclick=\"convertToInteractive('df-d43acf77-2513-4d51-92dd-7a84cab26e69')\"\n",
              "            title=\"Convert this dataframe to an interactive table.\"\n",
              "            style=\"display:none;\">\n",
              "\n",
              "  <svg xmlns=\"http://www.w3.org/2000/svg\" height=\"24px\" viewBox=\"0 -960 960 960\">\n",
              "    <path d=\"M120-120v-720h720v720H120Zm60-500h600v-160H180v160Zm220 220h160v-160H400v160Zm0 220h160v-160H400v160ZM180-400h160v-160H180v160Zm440 0h160v-160H620v160ZM180-180h160v-160H180v160Zm440 0h160v-160H620v160Z\"/>\n",
              "  </svg>\n",
              "    </button>\n",
              "\n",
              "  <style>\n",
              "    .colab-df-container {\n",
              "      display:flex;\n",
              "      gap: 12px;\n",
              "    }\n",
              "\n",
              "    .colab-df-convert {\n",
              "      background-color: #E8F0FE;\n",
              "      border: none;\n",
              "      border-radius: 50%;\n",
              "      cursor: pointer;\n",
              "      display: none;\n",
              "      fill: #1967D2;\n",
              "      height: 32px;\n",
              "      padding: 0 0 0 0;\n",
              "      width: 32px;\n",
              "    }\n",
              "\n",
              "    .colab-df-convert:hover {\n",
              "      background-color: #E2EBFA;\n",
              "      box-shadow: 0px 1px 2px rgba(60, 64, 67, 0.3), 0px 1px 3px 1px rgba(60, 64, 67, 0.15);\n",
              "      fill: #174EA6;\n",
              "    }\n",
              "\n",
              "    .colab-df-buttons div {\n",
              "      margin-bottom: 4px;\n",
              "    }\n",
              "\n",
              "    [theme=dark] .colab-df-convert {\n",
              "      background-color: #3B4455;\n",
              "      fill: #D2E3FC;\n",
              "    }\n",
              "\n",
              "    [theme=dark] .colab-df-convert:hover {\n",
              "      background-color: #434B5C;\n",
              "      box-shadow: 0px 1px 3px 1px rgba(0, 0, 0, 0.15);\n",
              "      filter: drop-shadow(0px 1px 2px rgba(0, 0, 0, 0.3));\n",
              "      fill: #FFFFFF;\n",
              "    }\n",
              "  </style>\n",
              "\n",
              "    <script>\n",
              "      const buttonEl =\n",
              "        document.querySelector('#df-d43acf77-2513-4d51-92dd-7a84cab26e69 button.colab-df-convert');\n",
              "      buttonEl.style.display =\n",
              "        google.colab.kernel.accessAllowed ? 'block' : 'none';\n",
              "\n",
              "      async function convertToInteractive(key) {\n",
              "        const element = document.querySelector('#df-d43acf77-2513-4d51-92dd-7a84cab26e69');\n",
              "        const dataTable =\n",
              "          await google.colab.kernel.invokeFunction('convertToInteractive',\n",
              "                                                    [key], {});\n",
              "        if (!dataTable) return;\n",
              "\n",
              "        const docLinkHtml = 'Like what you see? Visit the ' +\n",
              "          '<a target=\"_blank\" href=https://colab.research.google.com/notebooks/data_table.ipynb>data table notebook</a>'\n",
              "          + ' to learn more about interactive tables.';\n",
              "        element.innerHTML = '';\n",
              "        dataTable['output_type'] = 'display_data';\n",
              "        await google.colab.output.renderOutput(dataTable, element);\n",
              "        const docLink = document.createElement('div');\n",
              "        docLink.innerHTML = docLinkHtml;\n",
              "        element.appendChild(docLink);\n",
              "      }\n",
              "    </script>\n",
              "  </div>\n",
              "\n",
              "\n",
              "<div id=\"df-867aa2d6-9de9-4bd9-9b10-1e8032962729\">\n",
              "  <button class=\"colab-df-quickchart\" onclick=\"quickchart('df-867aa2d6-9de9-4bd9-9b10-1e8032962729')\"\n",
              "            title=\"Suggest charts\"\n",
              "            style=\"display:none;\">\n",
              "\n",
              "<svg xmlns=\"http://www.w3.org/2000/svg\" height=\"24px\"viewBox=\"0 0 24 24\"\n",
              "     width=\"24px\">\n",
              "    <g>\n",
              "        <path d=\"M19 3H5c-1.1 0-2 .9-2 2v14c0 1.1.9 2 2 2h14c1.1 0 2-.9 2-2V5c0-1.1-.9-2-2-2zM9 17H7v-7h2v7zm4 0h-2V7h2v10zm4 0h-2v-4h2v4z\"/>\n",
              "    </g>\n",
              "</svg>\n",
              "  </button>\n",
              "\n",
              "<style>\n",
              "  .colab-df-quickchart {\n",
              "      --bg-color: #E8F0FE;\n",
              "      --fill-color: #1967D2;\n",
              "      --hover-bg-color: #E2EBFA;\n",
              "      --hover-fill-color: #174EA6;\n",
              "      --disabled-fill-color: #AAA;\n",
              "      --disabled-bg-color: #DDD;\n",
              "  }\n",
              "\n",
              "  [theme=dark] .colab-df-quickchart {\n",
              "      --bg-color: #3B4455;\n",
              "      --fill-color: #D2E3FC;\n",
              "      --hover-bg-color: #434B5C;\n",
              "      --hover-fill-color: #FFFFFF;\n",
              "      --disabled-bg-color: #3B4455;\n",
              "      --disabled-fill-color: #666;\n",
              "  }\n",
              "\n",
              "  .colab-df-quickchart {\n",
              "    background-color: var(--bg-color);\n",
              "    border: none;\n",
              "    border-radius: 50%;\n",
              "    cursor: pointer;\n",
              "    display: none;\n",
              "    fill: var(--fill-color);\n",
              "    height: 32px;\n",
              "    padding: 0;\n",
              "    width: 32px;\n",
              "  }\n",
              "\n",
              "  .colab-df-quickchart:hover {\n",
              "    background-color: var(--hover-bg-color);\n",
              "    box-shadow: 0 1px 2px rgba(60, 64, 67, 0.3), 0 1px 3px 1px rgba(60, 64, 67, 0.15);\n",
              "    fill: var(--button-hover-fill-color);\n",
              "  }\n",
              "\n",
              "  .colab-df-quickchart-complete:disabled,\n",
              "  .colab-df-quickchart-complete:disabled:hover {\n",
              "    background-color: var(--disabled-bg-color);\n",
              "    fill: var(--disabled-fill-color);\n",
              "    box-shadow: none;\n",
              "  }\n",
              "\n",
              "  .colab-df-spinner {\n",
              "    border: 2px solid var(--fill-color);\n",
              "    border-color: transparent;\n",
              "    border-bottom-color: var(--fill-color);\n",
              "    animation:\n",
              "      spin 1s steps(1) infinite;\n",
              "  }\n",
              "\n",
              "  @keyframes spin {\n",
              "    0% {\n",
              "      border-color: transparent;\n",
              "      border-bottom-color: var(--fill-color);\n",
              "      border-left-color: var(--fill-color);\n",
              "    }\n",
              "    20% {\n",
              "      border-color: transparent;\n",
              "      border-left-color: var(--fill-color);\n",
              "      border-top-color: var(--fill-color);\n",
              "    }\n",
              "    30% {\n",
              "      border-color: transparent;\n",
              "      border-left-color: var(--fill-color);\n",
              "      border-top-color: var(--fill-color);\n",
              "      border-right-color: var(--fill-color);\n",
              "    }\n",
              "    40% {\n",
              "      border-color: transparent;\n",
              "      border-right-color: var(--fill-color);\n",
              "      border-top-color: var(--fill-color);\n",
              "    }\n",
              "    60% {\n",
              "      border-color: transparent;\n",
              "      border-right-color: var(--fill-color);\n",
              "    }\n",
              "    80% {\n",
              "      border-color: transparent;\n",
              "      border-right-color: var(--fill-color);\n",
              "      border-bottom-color: var(--fill-color);\n",
              "    }\n",
              "    90% {\n",
              "      border-color: transparent;\n",
              "      border-bottom-color: var(--fill-color);\n",
              "    }\n",
              "  }\n",
              "</style>\n",
              "\n",
              "  <script>\n",
              "    async function quickchart(key) {\n",
              "      const quickchartButtonEl =\n",
              "        document.querySelector('#' + key + ' button');\n",
              "      quickchartButtonEl.disabled = true;  // To prevent multiple clicks.\n",
              "      quickchartButtonEl.classList.add('colab-df-spinner');\n",
              "      try {\n",
              "        const charts = await google.colab.kernel.invokeFunction(\n",
              "            'suggestCharts', [key], {});\n",
              "      } catch (error) {\n",
              "        console.error('Error during call to suggestCharts:', error);\n",
              "      }\n",
              "      quickchartButtonEl.classList.remove('colab-df-spinner');\n",
              "      quickchartButtonEl.classList.add('colab-df-quickchart-complete');\n",
              "    }\n",
              "    (() => {\n",
              "      let quickchartButtonEl =\n",
              "        document.querySelector('#df-867aa2d6-9de9-4bd9-9b10-1e8032962729 button');\n",
              "      quickchartButtonEl.style.display =\n",
              "        google.colab.kernel.accessAllowed ? 'block' : 'none';\n",
              "    })();\n",
              "  </script>\n",
              "</div>\n",
              "\n",
              "    </div>\n",
              "  </div>\n"
            ],
            "application/vnd.google.colaboratory.intrinsic+json": {
              "type": "dataframe",
              "variable_name": "df"
            }
          },
          "metadata": {},
          "execution_count": 27
        }
      ],
      "source": [
        "# importando os dados\n",
        "\n",
        "df = pd.read_feather('/content/drive/MyDrive/credit_scoring.ftr')\n",
        "df.head()"
      ]
    },
    {
      "cell_type": "markdown",
      "metadata": {
        "id": "-q2cvXAQ7j-D"
      },
      "source": [
        "## Amostragem\n",
        "\n",
        "Separe os três últimos meses como safras de validação *out of time* (oot).\n",
        "\n",
        "Variáveis:<br>\n",
        "Considere que a variável ```data_ref``` não é uma variável explicativa, é somente uma variável indicadora da safra, e não deve ser utilizada na modelagem. A variávei ```index``` é um identificador do cliente, e também não deve ser utilizada como covariável (variável explicativa). As restantes podem ser utilizadas para prever a inadimplência, incluindo a renda.\n"
      ]
    },
    {
      "cell_type": "code",
      "execution_count": 28,
      "metadata": {
        "colab": {
          "base_uri": "https://localhost:8080/",
          "height": 586
        },
        "id": "ebaxuw5GixHa",
        "outputId": "33952769-0f3d-42bf-f7ef-f404f6f8655a"
      },
      "outputs": [
        {
          "output_type": "execute_result",
          "data": {
            "text/plain": [
              "data_ref\n",
              "2015-01-01    50000\n",
              "2015-02-01    50000\n",
              "2015-03-01    50000\n",
              "2015-04-01    50000\n",
              "2015-05-01    50000\n",
              "2015-06-01    50000\n",
              "2015-07-01    50000\n",
              "2015-08-01    50000\n",
              "2015-09-01    50000\n",
              "2015-10-01    50000\n",
              "2015-11-01    50000\n",
              "2015-12-01    50000\n",
              "2016-01-01    50000\n",
              "2016-02-01    50000\n",
              "2016-03-01    50000\n",
              "Name: count, dtype: int64"
            ],
            "text/html": [
              "<div>\n",
              "<style scoped>\n",
              "    .dataframe tbody tr th:only-of-type {\n",
              "        vertical-align: middle;\n",
              "    }\n",
              "\n",
              "    .dataframe tbody tr th {\n",
              "        vertical-align: top;\n",
              "    }\n",
              "\n",
              "    .dataframe thead th {\n",
              "        text-align: right;\n",
              "    }\n",
              "</style>\n",
              "<table border=\"1\" class=\"dataframe\">\n",
              "  <thead>\n",
              "    <tr style=\"text-align: right;\">\n",
              "      <th></th>\n",
              "      <th>count</th>\n",
              "    </tr>\n",
              "    <tr>\n",
              "      <th>data_ref</th>\n",
              "      <th></th>\n",
              "    </tr>\n",
              "  </thead>\n",
              "  <tbody>\n",
              "    <tr>\n",
              "      <th>2015-01-01</th>\n",
              "      <td>50000</td>\n",
              "    </tr>\n",
              "    <tr>\n",
              "      <th>2015-02-01</th>\n",
              "      <td>50000</td>\n",
              "    </tr>\n",
              "    <tr>\n",
              "      <th>2015-03-01</th>\n",
              "      <td>50000</td>\n",
              "    </tr>\n",
              "    <tr>\n",
              "      <th>2015-04-01</th>\n",
              "      <td>50000</td>\n",
              "    </tr>\n",
              "    <tr>\n",
              "      <th>2015-05-01</th>\n",
              "      <td>50000</td>\n",
              "    </tr>\n",
              "    <tr>\n",
              "      <th>2015-06-01</th>\n",
              "      <td>50000</td>\n",
              "    </tr>\n",
              "    <tr>\n",
              "      <th>2015-07-01</th>\n",
              "      <td>50000</td>\n",
              "    </tr>\n",
              "    <tr>\n",
              "      <th>2015-08-01</th>\n",
              "      <td>50000</td>\n",
              "    </tr>\n",
              "    <tr>\n",
              "      <th>2015-09-01</th>\n",
              "      <td>50000</td>\n",
              "    </tr>\n",
              "    <tr>\n",
              "      <th>2015-10-01</th>\n",
              "      <td>50000</td>\n",
              "    </tr>\n",
              "    <tr>\n",
              "      <th>2015-11-01</th>\n",
              "      <td>50000</td>\n",
              "    </tr>\n",
              "    <tr>\n",
              "      <th>2015-12-01</th>\n",
              "      <td>50000</td>\n",
              "    </tr>\n",
              "    <tr>\n",
              "      <th>2016-01-01</th>\n",
              "      <td>50000</td>\n",
              "    </tr>\n",
              "    <tr>\n",
              "      <th>2016-02-01</th>\n",
              "      <td>50000</td>\n",
              "    </tr>\n",
              "    <tr>\n",
              "      <th>2016-03-01</th>\n",
              "      <td>50000</td>\n",
              "    </tr>\n",
              "  </tbody>\n",
              "</table>\n",
              "</div><br><label><b>dtype:</b> int64</label>"
            ]
          },
          "metadata": {},
          "execution_count": 28
        }
      ],
      "source": [
        "# Descreva a base quanto ao número de linhas, número de linhas para cada mês em ```data_ref```.\n",
        "\n",
        "df['data_ref'].value_counts()"
      ]
    },
    {
      "cell_type": "code",
      "execution_count": 29,
      "metadata": {
        "id": "7bwCPp8Z7hbh"
      },
      "outputs": [],
      "source": [
        "# separando as variáveis númericas e categóricas para posterior análise dos dados\n",
        "\n",
        "variaveis_categoricas = ['sexo', 'posse_de_veiculo', 'posse_de_imovel', 'tipo_renda', 'educacao', 'estado_civil', 'tipo_residencia', 'mau']\n",
        "variaveis_numericas = ['qtd_filhos', 'idade', 'tempo_emprego', 'qt_pessoas_residencia', 'renda']"
      ]
    },
    {
      "cell_type": "markdown",
      "metadata": {
        "id": "ujZtFBAb7j-E"
      },
      "source": [
        "## Descritiva básica univariada\n",
        "\n",
        "- Descreva a base quanto ao número de linhas, número de linhas para cada mês em ```data_ref```.\n",
        "- Faça uma descritiva básica univariada de cada variável. Considere as naturezas diferentes: qualitativas e quantitativas."
      ]
    },
    {
      "cell_type": "code",
      "execution_count": 30,
      "metadata": {
        "colab": {
          "base_uri": "https://localhost:8080/",
          "height": 696
        },
        "id": "oMSnoEAr8YaP",
        "outputId": "53c192bb-b5fd-4ad6-d9b2-be2b1b5f9bdd"
      },
      "outputs": [
        {
          "output_type": "display_data",
          "data": {
            "text/plain": [
              "<Figure size 1500x800 with 6 Axes>"
            ],
            "image/png": "[encoded data removed]"
          },
          "metadata": {}
        }
      ],
      "source": [
        "fig, ax = plt.subplots(2, 3, figsize=(15, 8))\n",
        "\n",
        "i = 0\n",
        "j = 0\n",
        "\n",
        "for col in variaveis_numericas:\n",
        "\n",
        "  sns.histplot(df[col], ax=ax[i, j])\n",
        "\n",
        "  if j < 2:\n",
        "    j += 1\n",
        "  else:\n",
        "    i += 1\n",
        "    j = 0"
      ]
    },
    {
      "cell_type": "code",
      "execution_count": 31,
      "metadata": {
        "colab": {
          "base_uri": "https://localhost:8080/",
          "height": 1000
        },
        "id": "MklnUw3k8YTV",
        "outputId": "d4321b14-db05-4593-81d8-dde887b01298"
      },
      "outputs": [
        {
          "output_type": "display_data",
          "data": {
            "text/plain": [
              "<Figure size 2000x1200 with 9 Axes>"
            ],
            "image/png": "[encoded data removed]"
          },
          "metadata": {}
        }
      ],
      "source": [
        "fig, ax = plt.subplots(3, 3, figsize=(20, 12))\n",
        "\n",
        "i = 0\n",
        "j = 0\n",
        "\n",
        "for col in variaveis_categoricas:\n",
        "\n",
        "  sns.countplot(x=df[col],ax=ax[i, j])\n",
        "\n",
        "  if j < 2:\n",
        "    j += 1\n",
        "  else:\n",
        "    i += 1\n",
        "    j = 0"
      ]
    },
    {
      "cell_type": "code",
      "execution_count": 32,
      "metadata": {
        "id": "wHAGvrmA8cgQ"
      },
      "outputs": [],
      "source": [
        "def IV(variavel, resposta):\n",
        "    tab = pd.crosstab(variavel, resposta, margins=True, margins_name='total')\n",
        "\n",
        "    rótulo_evento = tab.columns[0]\n",
        "    rótulo_nao_evento = tab.columns[1]\n",
        "\n",
        "    tab['pct_evento'] = tab[rótulo_evento]/tab.loc['total',rótulo_evento]\n",
        "    tab['ep'] = tab[rótulo_evento]/tab.loc['total',rótulo_evento]\n",
        "\n",
        "    tab['pct_nao_evento'] = tab[rótulo_nao_evento]/tab.loc['total',rótulo_nao_evento]\n",
        "    tab['woe'] = np.log(tab.pct_evento/tab.pct_nao_evento)\n",
        "    tab['iv_parcial'] = (tab.pct_evento - tab.pct_nao_evento)*tab.woe\n",
        "    return tab['iv_parcial'].sum()"
      ]
    },
    {
      "cell_type": "code",
      "execution_count": 33,
      "metadata": {
        "id": "mgQYS5jz8fMY",
        "colab": {
          "base_uri": "https://localhost:8080/",
          "height": 520
        },
        "outputId": "7db6a6da-069c-43b9-e01c-cad2ebf58108"
      },
      "outputs": [
        {
          "output_type": "execute_result",
          "data": {
            "text/plain": [
              "                                dtype  missing  valores_unicos       papel  \\\n",
              "data_ref               datetime64[ns]        0              15  covariavel   \n",
              "index                           int64        0           16650  covariavel   \n",
              "sexo                           object        0               2  covariavel   \n",
              "posse_de_veiculo               object        0               2  covariavel   \n",
              "posse_de_imovel                object        0               2  covariavel   \n",
              "qtd_filhos                      int64        0               8  covariavel   \n",
              "tipo_renda                     object        0               5  covariavel   \n",
              "educacao                       object        0               5  covariavel   \n",
              "estado_civil                   object        0               5  covariavel   \n",
              "tipo_residencia                object        0               6  covariavel   \n",
              "idade                           int64        0              47  covariavel   \n",
              "tempo_emprego                 float64   125957            3004  covariavel   \n",
              "qt_pessoas_residencia         float64        0               9  covariavel   \n",
              "renda                         float64        0          142419  covariavel   \n",
              "mau                              bool        0               2    resposta   \n",
              "\n",
              "                             IV  \n",
              "data_ref               0.345982  \n",
              "index                  0.002664  \n",
              "sexo                   0.002185  \n",
              "posse_de_veiculo       0.000108  \n",
              "posse_de_imovel        0.009693  \n",
              "qtd_filhos             0.000030  \n",
              "tipo_renda             0.009360  \n",
              "educacao               0.003547  \n",
              "estado_civil           0.001126  \n",
              "tipo_residencia        0.003045  \n",
              "idade                  0.017968  \n",
              "tempo_emprego          0.351920  \n",
              "qt_pessoas_residencia  0.001346  \n",
              "renda                  1.068628  \n",
              "mau                         NaN  "
            ],
            "text/html": [
              "\n",
              "  <div id=\"df-709b93d9-11fd-40c3-a297-ab7366455927\" class=\"colab-df-container\">\n",
              "    <div>\n",
              "<style scoped>\n",
              "    .dataframe tbody tr th:only-of-type {\n",
              "        vertical-align: middle;\n",
              "    }\n",
              "\n",
              "    .dataframe tbody tr th {\n",
              "        vertical-align: top;\n",
              "    }\n",
              "\n",
              "    .dataframe thead th {\n",
              "        text-align: right;\n",
              "    }\n",
              "</style>\n",
              "<table border=\"1\" class=\"dataframe\">\n",
              "  <thead>\n",
              "    <tr style=\"text-align: right;\">\n",
              "      <th></th>\n",
              "      <th>dtype</th>\n",
              "      <th>missing</th>\n",
              "      <th>valores_unicos</th>\n",
              "      <th>papel</th>\n",
              "      <th>IV</th>\n",
              "    </tr>\n",
              "  </thead>\n",
              "  <tbody>\n",
              "    <tr>\n",
              "      <th>data_ref</th>\n",
              "      <td>datetime64[ns]</td>\n",
              "      <td>0</td>\n",
              "      <td>15</td>\n",
              "      <td>covariavel</td>\n",
              "      <td>0.345982</td>\n",
              "    </tr>\n",
              "    <tr>\n",
              "      <th>index</th>\n",
              "      <td>int64</td>\n",
              "      <td>0</td>\n",
              "      <td>16650</td>\n",
              "      <td>covariavel</td>\n",
              "      <td>0.002664</td>\n",
              "    </tr>\n",
              "    <tr>\n",
              "      <th>sexo</th>\n",
              "      <td>object</td>\n",
              "      <td>0</td>\n",
              "      <td>2</td>\n",
              "      <td>covariavel</td>\n",
              "      <td>0.002185</td>\n",
              "    </tr>\n",
              "    <tr>\n",
              "      <th>posse_de_veiculo</th>\n",
              "      <td>object</td>\n",
              "      <td>0</td>\n",
              "      <td>2</td>\n",
              "      <td>covariavel</td>\n",
              "      <td>0.000108</td>\n",
              "    </tr>\n",
              "    <tr>\n",
              "      <th>posse_de_imovel</th>\n",
              "      <td>object</td>\n",
              "      <td>0</td>\n",
              "      <td>2</td>\n",
              "      <td>covariavel</td>\n",
              "      <td>0.009693</td>\n",
              "    </tr>\n",
              "    <tr>\n",
              "      <th>qtd_filhos</th>\n",
              "      <td>int64</td>\n",
              "      <td>0</td>\n",
              "      <td>8</td>\n",
              "      <td>covariavel</td>\n",
              "      <td>0.000030</td>\n",
              "    </tr>\n",
              "    <tr>\n",
              "      <th>tipo_renda</th>\n",
              "      <td>object</td>\n",
              "      <td>0</td>\n",
              "      <td>5</td>\n",
              "      <td>covariavel</td>\n",
              "      <td>0.009360</td>\n",
              "    </tr>\n",
              "    <tr>\n",
              "      <th>educacao</th>\n",
              "      <td>object</td>\n",
              "      <td>0</td>\n",
              "      <td>5</td>\n",
              "      <td>covariavel</td>\n",
              "      <td>0.003547</td>\n",
              "    </tr>\n",
              "    <tr>\n",
              "      <th>estado_civil</th>\n",
              "      <td>object</td>\n",
              "      <td>0</td>\n",
              "      <td>5</td>\n",
              "      <td>covariavel</td>\n",
              "      <td>0.001126</td>\n",
              "    </tr>\n",
              "    <tr>\n",
              "      <th>tipo_residencia</th>\n",
              "      <td>object</td>\n",
              "      <td>0</td>\n",
              "      <td>6</td>\n",
              "      <td>covariavel</td>\n",
              "      <td>0.003045</td>\n",
              "    </tr>\n",
              "    <tr>\n",
              "      <th>idade</th>\n",
              "      <td>int64</td>\n",
              "      <td>0</td>\n",
              "      <td>47</td>\n",
              "      <td>covariavel</td>\n",
              "      <td>0.017968</td>\n",
              "    </tr>\n",
              "    <tr>\n",
              "      <th>tempo_emprego</th>\n",
              "      <td>float64</td>\n",
              "      <td>125957</td>\n",
              "      <td>3004</td>\n",
              "      <td>covariavel</td>\n",
              "      <td>0.351920</td>\n",
              "    </tr>\n",
              "    <tr>\n",
              "      <th>qt_pessoas_residencia</th>\n",
              "      <td>float64</td>\n",
              "      <td>0</td>\n",
              "      <td>9</td>\n",
              "      <td>covariavel</td>\n",
              "      <td>0.001346</td>\n",
              "    </tr>\n",
              "    <tr>\n",
              "      <th>renda</th>\n",
              "      <td>float64</td>\n",
              "      <td>0</td>\n",
              "      <td>142419</td>\n",
              "      <td>covariavel</td>\n",
              "      <td>1.068628</td>\n",
              "    </tr>\n",
              "    <tr>\n",
              "      <th>mau</th>\n",
              "      <td>bool</td>\n",
              "      <td>0</td>\n",
              "      <td>2</td>\n",
              "      <td>resposta</td>\n",
              "      <td>NaN</td>\n",
              "    </tr>\n",
              "  </tbody>\n",
              "</table>\n",
              "</div>\n",
              "    <div class=\"colab-df-buttons\">\n",
              "\n",
              "  <div class=\"colab-df-container\">\n",
              "    <button class=\"colab-df-convert\" onclick=\"convertToInteractive('df-709b93d9-11fd-40c3-a297-ab7366455927')\"\n",
              "            title=\"Convert this dataframe to an interactive table.\"\n",
              "            style=\"display:none;\">\n",
              "\n",
              "  <svg xmlns=\"http://www.w3.org/2000/svg\" height=\"24px\" viewBox=\"0 -960 960 960\">\n",
              "    <path d=\"M120-120v-720h720v720H120Zm60-500h600v-160H180v160Zm220 220h160v-160H400v160Zm0 220h160v-160H400v160ZM180-400h160v-160H180v160Zm440 0h160v-160H620v160ZM180-180h160v-160H180v160Zm440 0h160v-160H620v160Z\"/>\n",
              "  </svg>\n",
              "    </button>\n",
              "\n",
              "  <style>\n",
              "    .colab-df-container {\n",
              "      display:flex;\n",
              "      gap: 12px;\n",
              "    }\n",
              "\n",
              "    .colab-df-convert {\n",
              "      background-color: #E8F0FE;\n",
              "      border: none;\n",
              "      border-radius: 50%;\n",
              "      cursor: pointer;\n",
              "      display: none;\n",
              "      fill: #1967D2;\n",
              "      height: 32px;\n",
              "      padding: 0 0 0 0;\n",
              "      width: 32px;\n",
              "    }\n",
              "\n",
              "    .colab-df-convert:hover {\n",
              "      background-color: #E2EBFA;\n",
              "      box-shadow: 0px 1px 2px rgba(60, 64, 67, 0.3), 0px 1px 3px 1px rgba(60, 64, 67, 0.15);\n",
              "      fill: #174EA6;\n",
              "    }\n",
              "\n",
              "    .colab-df-buttons div {\n",
              "      margin-bottom: 4px;\n",
              "    }\n",
              "\n",
              "    [theme=dark] .colab-df-convert {\n",
              "      background-color: #3B4455;\n",
              "      fill: #D2E3FC;\n",
              "    }\n",
              "\n",
              "    [theme=dark] .colab-df-convert:hover {\n",
              "      background-color: #434B5C;\n",
              "      box-shadow: 0px 1px 3px 1px rgba(0, 0, 0, 0.15);\n",
              "      filter: drop-shadow(0px 1px 2px rgba(0, 0, 0, 0.3));\n",
              "      fill: #FFFFFF;\n",
              "    }\n",
              "  </style>\n",
              "\n",
              "    <script>\n",
              "      const buttonEl =\n",
              "        document.querySelector('#df-709b93d9-11fd-40c3-a297-ab7366455927 button.colab-df-convert');\n",
              "      buttonEl.style.display =\n",
              "        google.colab.kernel.accessAllowed ? 'block' : 'none';\n",
              "\n",
              "      async function convertToInteractive(key) {\n",
              "        const element = document.querySelector('#df-709b93d9-11fd-40c3-a297-ab7366455927');\n",
              "        const dataTable =\n",
              "          await google.colab.kernel.invokeFunction('convertToInteractive',\n",
              "                                                    [key], {});\n",
              "        if (!dataTable) return;\n",
              "\n",
              "        const docLinkHtml = 'Like what you see? Visit the ' +\n",
              "          '<a target=\"_blank\" href=https://colab.research.google.com/notebooks/data_table.ipynb>data table notebook</a>'\n",
              "          + ' to learn more about interactive tables.';\n",
              "        element.innerHTML = '';\n",
              "        dataTable['output_type'] = 'display_data';\n",
              "        await google.colab.output.renderOutput(dataTable, element);\n",
              "        const docLink = document.createElement('div');\n",
              "        docLink.innerHTML = docLinkHtml;\n",
              "        element.appendChild(docLink);\n",
              "      }\n",
              "    </script>\n",
              "  </div>\n",
              "\n",
              "\n",
              "<div id=\"df-989fca3e-11f2-4b5d-8de9-b510b27abdc0\">\n",
              "  <button class=\"colab-df-quickchart\" onclick=\"quickchart('df-989fca3e-11f2-4b5d-8de9-b510b27abdc0')\"\n",
              "            title=\"Suggest charts\"\n",
              "            style=\"display:none;\">\n",
              "\n",
              "<svg xmlns=\"http://www.w3.org/2000/svg\" height=\"24px\"viewBox=\"0 0 24 24\"\n",
              "     width=\"24px\">\n",
              "    <g>\n",
              "        <path d=\"M19 3H5c-1.1 0-2 .9-2 2v14c0 1.1.9 2 2 2h14c1.1 0 2-.9 2-2V5c0-1.1-.9-2-2-2zM9 17H7v-7h2v7zm4 0h-2V7h2v10zm4 0h-2v-4h2v4z\"/>\n",
              "    </g>\n",
              "</svg>\n",
              "  </button>\n",
              "\n",
              "<style>\n",
              "  .colab-df-quickchart {\n",
              "      --bg-color: #E8F0FE;\n",
              "      --fill-color: #1967D2;\n",
              "      --hover-bg-color: #E2EBFA;\n",
              "      --hover-fill-color: #174EA6;\n",
              "      --disabled-fill-color: #AAA;\n",
              "      --disabled-bg-color: #DDD;\n",
              "  }\n",
              "\n",
              "  [theme=dark] .colab-df-quickchart {\n",
              "      --bg-color: #3B4455;\n",
              "      --fill-color: #D2E3FC;\n",
              "      --hover-bg-color: #434B5C;\n",
              "      --hover-fill-color: #FFFFFF;\n",
              "      --disabled-bg-color: #3B4455;\n",
              "      --disabled-fill-color: #666;\n",
              "  }\n",
              "\n",
              "  .colab-df-quickchart {\n",
              "    background-color: var(--bg-color);\n",
              "    border: none;\n",
              "    border-radius: 50%;\n",
              "    cursor: pointer;\n",
              "    display: none;\n",
              "    fill: var(--fill-color);\n",
              "    height: 32px;\n",
              "    padding: 0;\n",
              "    width: 32px;\n",
              "  }\n",
              "\n",
              "  .colab-df-quickchart:hover {\n",
              "    background-color: var(--hover-bg-color);\n",
              "    box-shadow: 0 1px 2px rgba(60, 64, 67, 0.3), 0 1px 3px 1px rgba(60, 64, 67, 0.15);\n",
              "    fill: var(--button-hover-fill-color);\n",
              "  }\n",
              "\n",
              "  .colab-df-quickchart-complete:disabled,\n",
              "  .colab-df-quickchart-complete:disabled:hover {\n",
              "    background-color: var(--disabled-bg-color);\n",
              "    fill: var(--disabled-fill-color);\n",
              "    box-shadow: none;\n",
              "  }\n",
              "\n",
              "  .colab-df-spinner {\n",
              "    border: 2px solid var(--fill-color);\n",
              "    border-color: transparent;\n",
              "    border-bottom-color: var(--fill-color);\n",
              "    animation:\n",
              "      spin 1s steps(1) infinite;\n",
              "  }\n",
              "\n",
              "  @keyframes spin {\n",
              "    0% {\n",
              "      border-color: transparent;\n",
              "      border-bottom-color: var(--fill-color);\n",
              "      border-left-color: var(--fill-color);\n",
              "    }\n",
              "    20% {\n",
              "      border-color: transparent;\n",
              "      border-left-color: var(--fill-color);\n",
              "      border-top-color: var(--fill-color);\n",
              "    }\n",
              "    30% {\n",
              "      border-color: transparent;\n",
              "      border-left-color: var(--fill-color);\n",
              "      border-top-color: var(--fill-color);\n",
              "      border-right-color: var(--fill-color);\n",
              "    }\n",
              "    40% {\n",
              "      border-color: transparent;\n",
              "      border-right-color: var(--fill-color);\n",
              "      border-top-color: var(--fill-color);\n",
              "    }\n",
              "    60% {\n",
              "      border-color: transparent;\n",
              "      border-right-color: var(--fill-color);\n",
              "    }\n",
              "    80% {\n",
              "      border-color: transparent;\n",
              "      border-right-color: var(--fill-color);\n",
              "      border-bottom-color: var(--fill-color);\n",
              "    }\n",
              "    90% {\n",
              "      border-color: transparent;\n",
              "      border-bottom-color: var(--fill-color);\n",
              "    }\n",
              "  }\n",
              "</style>\n",
              "\n",
              "  <script>\n",
              "    async function quickchart(key) {\n",
              "      const quickchartButtonEl =\n",
              "        document.querySelector('#' + key + ' button');\n",
              "      quickchartButtonEl.disabled = true;  // To prevent multiple clicks.\n",
              "      quickchartButtonEl.classList.add('colab-df-spinner');\n",
              "      try {\n",
              "        const charts = await google.colab.kernel.invokeFunction(\n",
              "            'suggestCharts', [key], {});\n",
              "      } catch (error) {\n",
              "        console.error('Error during call to suggestCharts:', error);\n",
              "      }\n",
              "      quickchartButtonEl.classList.remove('colab-df-spinner');\n",
              "      quickchartButtonEl.classList.add('colab-df-quickchart-complete');\n",
              "    }\n",
              "    (() => {\n",
              "      let quickchartButtonEl =\n",
              "        document.querySelector('#df-989fca3e-11f2-4b5d-8de9-b510b27abdc0 button');\n",
              "      quickchartButtonEl.style.display =\n",
              "        google.colab.kernel.accessAllowed ? 'block' : 'none';\n",
              "    })();\n",
              "  </script>\n",
              "</div>\n",
              "\n",
              "  <div id=\"id_7f8b356c-e919-4b60-ba5c-18e3627f7aa5\">\n",
              "    <style>\n",
              "      .colab-df-generate {\n",
              "        background-color: #E8F0FE;\n",
              "        border: none;\n",
              "        border-radius: 50%;\n",
              "        cursor: pointer;\n",
              "        display: none;\n",
              "        fill: #1967D2;\n",
              "        height: 32px;\n",
              "        padding: 0 0 0 0;\n",
              "        width: 32px;\n",
              "      }\n",
              "\n",
              "      .colab-df-generate:hover {\n",
              "        background-color: #E2EBFA;\n",
              "        box-shadow: 0px 1px 2px rgba(60, 64, 67, 0.3), 0px 1px 3px 1px rgba(60, 64, 67, 0.15);\n",
              "        fill: #174EA6;\n",
              "      }\n",
              "\n",
              "      [theme=dark] .colab-df-generate {\n",
              "        background-color: #3B4455;\n",
              "        fill: #D2E3FC;\n",
              "      }\n",
              "\n",
              "      [theme=dark] .colab-df-generate:hover {\n",
              "        background-color: #434B5C;\n",
              "        box-shadow: 0px 1px 3px 1px rgba(0, 0, 0, 0.15);\n",
              "        filter: drop-shadow(0px 1px 2px rgba(0, 0, 0, 0.3));\n",
              "        fill: #FFFFFF;\n",
              "      }\n",
              "    </style>\n",
              "    <button class=\"colab-df-generate\" onclick=\"generateWithVariable('metadados')\"\n",
              "            title=\"Generate code using this dataframe.\"\n",
              "            style=\"display:none;\">\n",
              "\n",
              "  <svg xmlns=\"http://www.w3.org/2000/svg\" height=\"24px\"viewBox=\"0 0 24 24\"\n",
              "       width=\"24px\">\n",
              "    <path d=\"M7,19H8.4L18.45,9,17,7.55,7,17.6ZM5,21V16.75L18.45,3.32a2,2,0,0,1,2.83,0l1.4,1.43a1.91,1.91,0,0,1,.58,1.4,1.91,1.91,0,0,1-.58,1.4L9.25,21ZM18.45,9,17,7.55Zm-12,3A5.31,5.31,0,0,0,4.9,8.1,5.31,5.31,0,0,0,1,6.5,5.31,5.31,0,0,0,4.9,4.9,5.31,5.31,0,0,0,6.5,1,5.31,5.31,0,0,0,8.1,4.9,5.31,5.31,0,0,0,12,6.5,5.46,5.46,0,0,0,6.5,12Z\"/>\n",
              "  </svg>\n",
              "    </button>\n",
              "    <script>\n",
              "      (() => {\n",
              "      const buttonEl =\n",
              "        document.querySelector('#id_7f8b356c-e919-4b60-ba5c-18e3627f7aa5 button.colab-df-generate');\n",
              "      buttonEl.style.display =\n",
              "        google.colab.kernel.accessAllowed ? 'block' : 'none';\n",
              "\n",
              "      buttonEl.onclick = () => {\n",
              "        google.colab.notebook.generateWithVariable('metadados');\n",
              "      }\n",
              "      })();\n",
              "    </script>\n",
              "  </div>\n",
              "\n",
              "    </div>\n",
              "  </div>\n"
            ],
            "application/vnd.google.colaboratory.intrinsic+json": {
              "type": "dataframe",
              "variable_name": "metadados",
              "summary": "{\n  \"name\": \"metadados\",\n  \"rows\": 15,\n  \"fields\": [\n    {\n      \"column\": \"dtype\",\n      \"properties\": {\n        \"dtype\": \"category\",\n        \"num_unique_values\": 5,\n        \"samples\": [\n          \"int64\",\n          \"bool\",\n          \"object\"\n        ],\n        \"semantic_type\": \"\",\n        \"description\": \"\"\n      }\n    },\n    {\n      \"column\": \"missing\",\n      \"properties\": {\n        \"dtype\": \"number\",\n        \"std\": 32521,\n        \"min\": 0,\n        \"max\": 125957,\n        \"num_unique_values\": 2,\n        \"samples\": [\n          125957,\n          0\n        ],\n        \"semantic_type\": \"\",\n        \"description\": \"\"\n      }\n    },\n    {\n      \"column\": \"valores_unicos\",\n      \"properties\": {\n        \"dtype\": \"number\",\n        \"std\": 36660,\n        \"min\": 2,\n        \"max\": 142419,\n        \"num_unique_values\": 10,\n        \"samples\": [\n          9,\n          16650\n        ],\n        \"semantic_type\": \"\",\n        \"description\": \"\"\n      }\n    },\n    {\n      \"column\": \"papel\",\n      \"properties\": {\n        \"dtype\": \"category\",\n        \"num_unique_values\": 2,\n        \"samples\": [\n          \"resposta\",\n          \"covariavel\"\n        ],\n        \"semantic_type\": \"\",\n        \"description\": \"\"\n      }\n    },\n    {\n      \"column\": \"IV\",\n      \"properties\": {\n        \"dtype\": \"number\",\n        \"std\": 0.2974352668990979,\n        \"min\": 2.9856283185427897e-05,\n        \"max\": 1.0686277221991078,\n        \"num_unique_values\": 14,\n        \"samples\": [\n          0.0030445738823776216,\n          0.3519196857198297\n        ],\n        \"semantic_type\": \"\",\n        \"description\": \"\"\n      }\n    }\n  ]\n}"
            }
          },
          "metadata": {},
          "execution_count": 33
        }
      ],
      "source": [
        "# construindo a base de metadados\n",
        "\n",
        "metadados = pd.DataFrame(df.dtypes, columns=['dtype'])\n",
        "metadados['missing'] = df.isna().sum()\n",
        "metadados['valores_unicos'] = df.nunique()\n",
        "metadados['papel'] = 'covariavel'\n",
        "metadados.loc['mau','papel'] = 'resposta'\n",
        "\n",
        "# calculando o IV de cada variável\n",
        "\n",
        "for var in metadados[metadados.papel=='covariavel'].index:\n",
        "    if  (metadados.loc[var, 'valores_unicos']>6):\n",
        "        metadados.loc[var, 'IV'] = IV(pd.qcut(df[var],5,duplicates='drop'), df.mau)\n",
        "    else:\n",
        "        metadados.loc[var, 'IV'] = IV(df[var], df.mau)\n",
        "\n",
        "\n",
        "metadados"
      ]
    },
    {
      "cell_type": "markdown",
      "metadata": {
        "id": "QzEAP9KY7j-F"
      },
      "source": [
        "## Descritiva bivariada\n",
        "\n",
        "Faça uma análise descritiva bivariada de cada variável"
      ]
    },
    {
      "cell_type": "code",
      "execution_count": 34,
      "metadata": {
        "id": "3fS0dIyAixHg"
      },
      "outputs": [],
      "source": [
        "# análise bivariada das variáveis categóricas\n",
        "\n",
        "\n",
        "def biv_discreta(var, base):\n",
        "    df = base.copy()\n",
        "    df['bom'] = 1-df.mau\n",
        "    g = df.groupby(var)\n",
        "\n",
        "    biv = pd.DataFrame({'qt_bom': g['bom'].sum(),\n",
        "                        'qt_mau': g['mau'].sum(),\n",
        "                        'mau':g['mau'].mean(),\n",
        "                        'cont':g[var].count()})\n",
        "\n",
        "    biv[var] = g['mau'].mean().index\n",
        "\n",
        "    biv['ep'] = (biv.mau*(1-biv.mau)/biv.cont)**.5\n",
        "    biv['mau_sup'] = biv.mau+t.ppf([0.975], biv.cont-1)*biv.ep\n",
        "    biv['mau_inf'] = biv.mau+t.ppf([0.025], biv.cont-1)*biv.ep\n",
        "\n",
        "    biv['logit'] = np.log(biv.mau/(1-biv.mau))\n",
        "    biv['logit_sup'] = np.log(biv.mau_sup/(1-biv.mau_sup))\n",
        "    biv['logit_inf'] = np.log(biv.mau_inf/(1-biv.mau_inf))\n",
        "\n",
        "    tx_mau_geral = df.mau.mean()\n",
        "    woe_geral = np.log(df.mau.mean() / (1 - df.mau.mean()))\n",
        "\n",
        "    biv['woe'] = biv.logit - woe_geral\n",
        "    biv['woe_sup'] = biv.logit_sup - woe_geral\n",
        "    biv['woe_inf'] = biv.logit_inf - woe_geral\n",
        "\n",
        "    fig, ax = plt.subplots(2,1, figsize=(8,6))\n",
        "    ax[0].plot(biv[var], biv.woe, ':bo', label='woe')\n",
        "    ax[0].plot(biv[var], biv.woe_sup, 'o:r', label='limite superior')\n",
        "    ax[0].plot(biv[var], biv.woe_inf, 'o:r', label='limite inferior')\n",
        "\n",
        "    num_cat = biv.shape[0]\n",
        "    ax[0].set_xlim([-.3, num_cat-.7])\n",
        "\n",
        "    ax[0].set_ylabel(\"Weight of Evidence\")\n",
        "    ax[0].legend(bbox_to_anchor=(.83, 1.17), ncol=3)\n",
        "\n",
        "    ax[0].set_xticks(list(range(num_cat)))\n",
        "    ax[0].set_xticklabels(biv[var], rotation=15)\n",
        "\n",
        "    ax[1] = biv.cont.plot.bar()\n",
        "\n",
        "    plt.show()"
      ]
    },
    {
      "cell_type": "code",
      "execution_count": 35,
      "metadata": {
        "id": "WTApN4jW8nYP",
        "colab": {
          "base_uri": "https://localhost:8080/",
          "height": 601,
          "referenced_widgets": [
            "d1f2892401cc49e2952345adf7f3a0c9",
            "3bebc3d356434376a02f13d547e415d9",
            "1e71977ffd604a79ad912918952bde2c",
            "b555c2730fd5428ab0112ab9af0b0659",
            "c46c19c404c84f0088f26eb3019322c1",
            "c03fc98a95a843e8ab953e70027f38e9",
            "1470255f0fe647feac07cb7975ca3c38"
          ]
        },
        "outputId": "eed7be31-8d03-4df5-ef3e-15c0e496c841"
      },
      "outputs": [
        {
          "output_type": "display_data",
          "data": {
            "text/plain": [
              "interactive(children=(Dropdown(description='var', options=('sexo', 'posse_de_veiculo', 'posse_de_imovel', 'tip…"
            ],
            "application/vnd.jupyter.widget-view+json": {
              "version_major": 2,
              "version_minor": 0,
              "model_id": "d1f2892401cc49e2952345adf7f3a0c9"
            }
          },
          "metadata": {}
        }
      ],
      "source": [
        "%matplotlib inline\n",
        "\n",
        "@interact(var=variaveis_categoricas)\n",
        "def biv_discreta_inter(var):\n",
        "  biv_discreta(var, df)"
      ]
    },
    {
      "cell_type": "markdown",
      "metadata": {
        "id": "iWcylMkV8vjg"
      },
      "source": [
        "*Após análise, a fim de otimidar o desempenho do modelo a ser elaborado, será interessante:*\n",
        "\n",
        "*   Integrar bolsista ao assalariado\n",
        "*   categorizar escolaridade por até o médio e pós médio\n",
        "*   integrar estado civil separado, solteiro, união, e viúvo\n",
        "*   catgorizar tipo de residência por casa e não casa"
      ]
    },
    {
      "cell_type": "code",
      "execution_count": 36,
      "metadata": {
        "id": "O-Vfe_yc8nVv"
      },
      "outputs": [],
      "source": [
        "# análise bivariada das variáveis numéricas\n",
        "\n",
        "def biv_continua(var, ncat, base):\n",
        "    df['bom'] = 1-df.mau\n",
        "    cat_srs, bins = pd.qcut(df[var], ncat, retbins=True, precision=0, duplicates='drop')\n",
        "    g = df.groupby(cat_srs)\n",
        "\n",
        "    biv = pd.DataFrame({'qt_bom': g['bom'].sum(),\n",
        "                        'qt_mau': g['mau'].sum(),\n",
        "                        'mau':g['mau'].mean(),\n",
        "                        var: g[var].mean(),\n",
        "                        'cont':g[var].count()})\n",
        "\n",
        "    biv['ep'] = (biv.mau*(1-biv.mau)/biv.cont)**.5\n",
        "    biv['mau_sup'] = biv.mau+t.ppf([0.975], biv.cont-1)*biv.ep\n",
        "    biv['mau_inf'] = biv.mau+t.ppf([0.025], biv.cont-1)*biv.ep\n",
        "\n",
        "    biv['logit'] = np.log(biv.mau/(1-biv.mau))\n",
        "    biv['logit_sup'] = np.log(biv.mau_sup/(1-biv.mau_sup))\n",
        "    biv['logit_inf'] = np.log(biv.mau_inf/(1-biv.mau_inf))\n",
        "\n",
        "    tx_mau_geral = df.mau.mean()\n",
        "    woe_geral = np.log(df.mau.mean() / (1 - df.mau.mean()))\n",
        "\n",
        "    biv['woe'] = biv.logit - woe_geral\n",
        "    biv['woe_sup'] = biv.logit_sup - woe_geral\n",
        "    biv['woe_inf'] = biv.logit_inf - woe_geral\n",
        "\n",
        "    fig, ax = plt.subplots(2,1, figsize=(8,6))\n",
        "\n",
        "    ax[0].plot(biv[var], biv.woe, ':bo', label='woe')\n",
        "    ax[0].plot(biv[var], biv.woe_sup, 'o:r', label='limite superior')\n",
        "    ax[0].plot(biv[var], biv.woe_inf, 'o:r', label='limite inferior')\n",
        "\n",
        "    num_cat = biv.shape[0]\n",
        "\n",
        "    ax[0].set_ylabel(\"Weight of Evidence\")\n",
        "    ax[0].legend(bbox_to_anchor=(.83, 1.17), ncol=3)\n",
        "\n",
        "    ax[1] = biv.cont.plot.bar()\n",
        "    plt.show()"
      ]
    },
    {
      "cell_type": "code",
      "execution_count": 37,
      "metadata": {
        "colab": {
          "base_uri": "https://localhost:8080/",
          "height": 745,
          "referenced_widgets": [
            "cee67539534d46adac0724a7f646c750",
            "ab6dfbab071d40549088ec50411acc03",
            "193ecd99fe1d4961b21283071dfe98a7",
            "98744e3533234fc29b5e5aab83eb5626",
            "5dfb27fed3894c75af068efff38e894b",
            "817d9b1367c641bab90085af1a2d2540",
            "292b54a7f1f644ab8957171786928fe7",
            "a7f3d4ee433748a4a0b4bdbde28e0a38",
            "0a38abcf3d3f4ccc95507c79984a6c50",
            "9e208ee02b8f4640941bb8ce8a904e15"
          ]
        },
        "id": "fJhbOO288nTH",
        "outputId": "dc7f54ed-3be9-4236-a22f-48086c1bc6dd"
      },
      "outputs": [
        {
          "output_type": "display_data",
          "data": {
            "text/plain": [
              "interactive(children=(Dropdown(description='var', options=('qtd_filhos', 'idade', 'tempo_emprego', 'qt_pessoas…"
            ],
            "application/vnd.jupyter.widget-view+json": {
              "version_major": 2,
              "version_minor": 0,
              "model_id": "cee67539534d46adac0724a7f646c750"
            }
          },
          "metadata": {}
        }
      ],
      "source": [
        "%matplotlib inline\n",
        "\n",
        "@interact(var=variaveis_numericas, ncat=(2,10))\n",
        "def biv_continua_inter(var, ncat):\n",
        "  biv_continua(var, ncat, df)"
      ]
    },
    {
      "cell_type": "markdown",
      "metadata": {
        "id": "wTSw1cYO9VGP"
      },
      "source": [
        "*Após análise, a fim de otimidar o desempenho do modelo a ser elaborado, será interessante:*\n",
        "\n",
        "*   integrar com ou sem filhos\n",
        "*   dividir idade em duas categorias\n",
        "*   dividir tempo de emprego em duas categorias\n",
        "*   dividir quantidade de pessoas na residencia em duas categorias\n",
        "*   dividir renda em 4 categorias"
      ]
    },
    {
      "cell_type": "markdown",
      "metadata": {
        "id": "ZpT6mHLH7j-G"
      },
      "source": [
        "## Desenvolvimento do modelo\n",
        "\n",
        "Desenvolva um modelo de *credit scoring* através de uma regressão logística.\n",
        "\n",
        "- Trate valores missings e outliers\n",
        "- Trate 'zeros estruturais'\n",
        "- Faça agrupamentos de categorias conforme vimos em aula\n",
        "- Proponha uma equação preditiva para 'mau'\n",
        "- Caso hajam categorias não significantes, justifique"
      ]
    },
    {
      "cell_type": "code",
      "execution_count": 38,
      "metadata": {
        "id": "zEUOLvtXF7pa"
      },
      "outputs": [],
      "source": [
        "df2 = df.copy()"
      ]
    },
    {
      "cell_type": "code",
      "execution_count": 39,
      "metadata": {
        "id": "0dEkJ3u3F7nT"
      },
      "outputs": [],
      "source": [
        "# agrupamento de categorias\n",
        "\n",
        "# Integrar bolsista ao assalariado\n",
        "df2.tipo_renda.replace({'Bolsista':'Assalariado'}, inplace=True)\n",
        "\n",
        "# caegorizar até o médio e pós médio\n",
        "df2.educacao.replace({\n",
        "    'Médio':'Ate_medio',\n",
        "    'Fundamental': 'Ate_medio',\n",
        "    'Superior completo': 'Superior',\n",
        "    'Superior incompleto': 'Superior',\n",
        "    'Pós graduação': 'Superior',\n",
        "     }, inplace=True)\n",
        "\n",
        "# integrar separado, solteiro, união, e viúvo\n",
        "df2.estado_civil.replace({\n",
        "    'Solteiro':'Nao_casado',\n",
        "    'União': 'Nao_casado',\n",
        "    'Separado': 'Nao_casado',\n",
        "    'Viúvo': 'Nao_casado',\n",
        "     }, inplace=True)\n",
        "\n",
        "# separar em tipos de residência em casa ou não\n",
        "df2.tipo_residencia.replace({\n",
        "    'Com os pais':'Nao_casa',\n",
        "    'Aluguel': 'Nao_casa',\n",
        "    'Comunitário': 'Nao_casa',\n",
        "    'Governamental': 'Nao_casa',\n",
        "    'Estúdio': 'Nao_casa',\n",
        "     }, inplace=True)\n"
      ]
    },
    {
      "cell_type": "code",
      "execution_count": 40,
      "metadata": {
        "id": "qm561czgF7jb"
      },
      "outputs": [],
      "source": [
        "# agrupameno variáveis categóricas\n",
        "\n",
        "# agrupar tem ou não filhos\n",
        "df2['tem_filhos'] = df2.qtd_filhos.apply(lambda x: 1 if x > 0 else 0)\n",
        "\n",
        "# agrupar tem 2 pessoa na residência ou mais\n",
        "df2['qt_pessoas_residencia_cat'] = df2.qt_pessoas_residencia.apply(lambda x: 'ate_2' if x >= 2 else 'mais_2')\n",
        "\n",
        "# dividir idade em duas categorias\n",
        "df2['idade_cat'] = pd.qcut(df['idade'], 2)\n",
        "\n",
        "# dividir tempo de emprego em duas categorias\n",
        "df2['tempo_emprego_cat'] = pd.qcut(df['tempo_emprego'], 2)\n",
        "\n",
        "# dividir renda em 4 categorias\n",
        "df2['renda_cat'] = pd.qcut(df['renda'], 4)"
      ]
    },
    {
      "cell_type": "code",
      "execution_count": 41,
      "metadata": {
        "id": "eh3aXr6bF7hD"
      },
      "outputs": [],
      "source": [
        "# Transformar a variável resposta em inteiro\n",
        "df2['mau'] = df2.mau.astype('int64')"
      ]
    },
    {
      "cell_type": "code",
      "execution_count": 42,
      "metadata": {
        "id": "L7jnweZ5ixHi"
      },
      "outputs": [],
      "source": [
        "# Separe os três últimos meses como safras de validação *out of time* (oot).\n",
        "\n",
        "df_treino = df2.loc[df['data_ref'].isin(df2['data_ref'].unique()[:-3])]\n",
        "df_teste = df2.loc[~df['data_ref'].isin(df2['data_ref'].unique()[:-3])]"
      ]
    },
    {
      "cell_type": "code",
      "execution_count": 43,
      "metadata": {
        "id": "wIPKCQN0GGCd"
      },
      "outputs": [],
      "source": [
        "# excluindo linhas com missings\n",
        "\n",
        "df_treino = df_treino.drop(df_treino.loc[df2['tempo_emprego'].isna()].index)\n",
        "df_teste = df_teste.drop(df_teste.loc[df2['tempo_emprego'].isna()].index)"
      ]
    },
    {
      "cell_type": "code",
      "execution_count": 44,
      "metadata": {
        "colab": {
          "base_uri": "https://localhost:8080/",
          "height": 615
        },
        "id": "Om0wdYXtGGAS",
        "outputId": "08a94207-7640-4a50-c5af-12b48aab2d1f"
      },
      "outputs": [
        {
          "output_type": "execute_result",
          "data": {
            "text/plain": [
              "<class 'statsmodels.iolib.summary.Summary'>\n",
              "\"\"\"\n",
              "                 Generalized Linear Model Regression Results                  \n",
              "==============================================================================\n",
              "Dep. Variable:                    mau   No. Observations:               499125\n",
              "Model:                            GLM   Df Residuals:                   499108\n",
              "Model Family:                Binomial   Df Model:                           16\n",
              "Link Function:                  Logit   Scale:                          1.0000\n",
              "Method:                          IRLS   Log-Likelihood:            -1.0055e+05\n",
              "Date:                Fri, 04 Oct 2024   Deviance:                   2.0109e+05\n",
              "Time:                        16:27:12   Pearson chi2:                 4.99e+05\n",
              "No. Iterations:                     8   Pseudo R-squ. (CS):            0.05204\n",
              "Covariance Type:            nonrobust                                         \n",
              "================================================================================================================================\n",
              "                                                                   coef    std err          z      P>|z|      [0.025      0.975]\n",
              "--------------------------------------------------------------------------------------------------------------------------------\n",
              "Intercept                                                       -1.4322      0.018    -80.768      0.000      -1.467      -1.397\n",
              "sexo[T.M]                                                       -0.0643      0.014     -4.625      0.000      -0.092      -0.037\n",
              "posse_de_veiculo[T.S]                                            0.0277      0.013      2.064      0.039       0.001       0.054\n",
              "posse_de_imovel[T.S]                                            -0.0655      0.013     -5.058      0.000      -0.091      -0.040\n",
              "tipo_renda[T.Empresário]                                        -0.0239      0.014     -1.690      0.091      -0.052       0.004\n",
              "tipo_renda[T.Pensionista]                                       -0.0196      0.230     -0.085      0.932      -0.470       0.431\n",
              "tipo_renda[T.Servidor público]                                  -0.0295      0.023     -1.261      0.207      -0.075       0.016\n",
              "educacao[T.Superior]                                            -0.0412      0.014     -3.041      0.002      -0.068      -0.015\n",
              "estado_civil[T.Nao_casado]                                       0.0321      0.018      1.735      0.083      -0.004       0.068\n",
              "tipo_residencia[T.Nao_casa]                                      0.0191      0.019      1.016      0.310      -0.018       0.056\n",
              "idade_cat[T.Interval(43.0, 68.0, closed='right')]               -0.0149      0.014     -1.041      0.298      -0.043       0.013\n",
              "tempo_emprego_cat[T.Interval(6.047, 42.907, closed='right')]    -0.1469      0.015    -10.024      0.000      -0.176      -0.118\n",
              "renda_cat[T.Interval(3467.7, 7861.82, closed='right')]          -1.0156      0.015    -69.351      0.000      -1.044      -0.987\n",
              "renda_cat[T.Interval(7861.82, 18318.28, closed='right')]        -1.7398      0.018    -96.763      0.000      -1.775      -1.705\n",
              "renda_cat[T.Interval(18318.28, 4083986.22, closed='right')]     -2.8818      0.028   -104.182      0.000      -2.936      -2.828\n",
              "qt_pessoas_residencia_cat[T.mais_2]                             -0.0471      0.024     -1.957      0.050      -0.094    7.19e-05\n",
              "tem_filhos                                                      -0.0023      0.014     -0.160      0.873      -0.030       0.026\n",
              "================================================================================================================================\n",
              "\"\"\""
            ],
            "text/html": [
              "<table class=\"simpletable\">\n",
              "<caption>Generalized Linear Model Regression Results</caption>\n",
              "<tr>\n",
              "  <th>Dep. Variable:</th>          <td>mau</td>       <th>  No. Observations:  </th>   <td>499125</td>   \n",
              "</tr>\n",
              "<tr>\n",
              "  <th>Model:</th>                  <td>GLM</td>       <th>  Df Residuals:      </th>   <td>499108</td>   \n",
              "</tr>\n",
              "<tr>\n",
              "  <th>Model Family:</th>        <td>Binomial</td>     <th>  Df Model:          </th>   <td>    16</td>   \n",
              "</tr>\n",
              "<tr>\n",
              "  <th>Link Function:</th>         <td>Logit</td>      <th>  Scale:             </th>  <td>  1.0000</td>  \n",
              "</tr>\n",
              "<tr>\n",
              "  <th>Method:</th>                <td>IRLS</td>       <th>  Log-Likelihood:    </th> <td>-1.0055e+05</td>\n",
              "</tr>\n",
              "<tr>\n",
              "  <th>Date:</th>            <td>Fri, 04 Oct 2024</td> <th>  Deviance:          </th> <td>2.0109e+05</td> \n",
              "</tr>\n",
              "<tr>\n",
              "  <th>Time:</th>                <td>16:27:12</td>     <th>  Pearson chi2:      </th>  <td>4.99e+05</td>  \n",
              "</tr>\n",
              "<tr>\n",
              "  <th>No. Iterations:</th>          <td>8</td>        <th>  Pseudo R-squ. (CS):</th>   <td>0.05204</td>  \n",
              "</tr>\n",
              "<tr>\n",
              "  <th>Covariance Type:</th>     <td>nonrobust</td>    <th>                     </th>      <td> </td>     \n",
              "</tr>\n",
              "</table>\n",
              "<table class=\"simpletable\">\n",
              "<tr>\n",
              "                                <td></td>                                  <th>coef</th>     <th>std err</th>      <th>z</th>      <th>P>|z|</th>  <th>[0.025</th>    <th>0.975]</th>  \n",
              "</tr>\n",
              "<tr>\n",
              "  <th>Intercept</th>                                                    <td>   -1.4322</td> <td>    0.018</td> <td>  -80.768</td> <td> 0.000</td> <td>   -1.467</td> <td>   -1.397</td>\n",
              "</tr>\n",
              "<tr>\n",
              "  <th>sexo[T.M]</th>                                                    <td>   -0.0643</td> <td>    0.014</td> <td>   -4.625</td> <td> 0.000</td> <td>   -0.092</td> <td>   -0.037</td>\n",
              "</tr>\n",
              "<tr>\n",
              "  <th>posse_de_veiculo[T.S]</th>                                        <td>    0.0277</td> <td>    0.013</td> <td>    2.064</td> <td> 0.039</td> <td>    0.001</td> <td>    0.054</td>\n",
              "</tr>\n",
              "<tr>\n",
              "  <th>posse_de_imovel[T.S]</th>                                         <td>   -0.0655</td> <td>    0.013</td> <td>   -5.058</td> <td> 0.000</td> <td>   -0.091</td> <td>   -0.040</td>\n",
              "</tr>\n",
              "<tr>\n",
              "  <th>tipo_renda[T.Empresário]</th>                                     <td>   -0.0239</td> <td>    0.014</td> <td>   -1.690</td> <td> 0.091</td> <td>   -0.052</td> <td>    0.004</td>\n",
              "</tr>\n",
              "<tr>\n",
              "  <th>tipo_renda[T.Pensionista]</th>                                    <td>   -0.0196</td> <td>    0.230</td> <td>   -0.085</td> <td> 0.932</td> <td>   -0.470</td> <td>    0.431</td>\n",
              "</tr>\n",
              "<tr>\n",
              "  <th>tipo_renda[T.Servidor público]</th>                               <td>   -0.0295</td> <td>    0.023</td> <td>   -1.261</td> <td> 0.207</td> <td>   -0.075</td> <td>    0.016</td>\n",
              "</tr>\n",
              "<tr>\n",
              "  <th>educacao[T.Superior]</th>                                         <td>   -0.0412</td> <td>    0.014</td> <td>   -3.041</td> <td> 0.002</td> <td>   -0.068</td> <td>   -0.015</td>\n",
              "</tr>\n",
              "<tr>\n",
              "  <th>estado_civil[T.Nao_casado]</th>                                   <td>    0.0321</td> <td>    0.018</td> <td>    1.735</td> <td> 0.083</td> <td>   -0.004</td> <td>    0.068</td>\n",
              "</tr>\n",
              "<tr>\n",
              "  <th>tipo_residencia[T.Nao_casa]</th>                                  <td>    0.0191</td> <td>    0.019</td> <td>    1.016</td> <td> 0.310</td> <td>   -0.018</td> <td>    0.056</td>\n",
              "</tr>\n",
              "<tr>\n",
              "  <th>idade_cat[T.Interval(43.0, 68.0, closed='right')]</th>            <td>   -0.0149</td> <td>    0.014</td> <td>   -1.041</td> <td> 0.298</td> <td>   -0.043</td> <td>    0.013</td>\n",
              "</tr>\n",
              "<tr>\n",
              "  <th>tempo_emprego_cat[T.Interval(6.047, 42.907, closed='right')]</th> <td>   -0.1469</td> <td>    0.015</td> <td>  -10.024</td> <td> 0.000</td> <td>   -0.176</td> <td>   -0.118</td>\n",
              "</tr>\n",
              "<tr>\n",
              "  <th>renda_cat[T.Interval(3467.7, 7861.82, closed='right')]</th>       <td>   -1.0156</td> <td>    0.015</td> <td>  -69.351</td> <td> 0.000</td> <td>   -1.044</td> <td>   -0.987</td>\n",
              "</tr>\n",
              "<tr>\n",
              "  <th>renda_cat[T.Interval(7861.82, 18318.28, closed='right')]</th>     <td>   -1.7398</td> <td>    0.018</td> <td>  -96.763</td> <td> 0.000</td> <td>   -1.775</td> <td>   -1.705</td>\n",
              "</tr>\n",
              "<tr>\n",
              "  <th>renda_cat[T.Interval(18318.28, 4083986.22, closed='right')]</th>  <td>   -2.8818</td> <td>    0.028</td> <td> -104.182</td> <td> 0.000</td> <td>   -2.936</td> <td>   -2.828</td>\n",
              "</tr>\n",
              "<tr>\n",
              "  <th>qt_pessoas_residencia_cat[T.mais_2]</th>                          <td>   -0.0471</td> <td>    0.024</td> <td>   -1.957</td> <td> 0.050</td> <td>   -0.094</td> <td> 7.19e-05</td>\n",
              "</tr>\n",
              "<tr>\n",
              "  <th>tem_filhos</th>                                                   <td>   -0.0023</td> <td>    0.014</td> <td>   -0.160</td> <td> 0.873</td> <td>   -0.030</td> <td>    0.026</td>\n",
              "</tr>\n",
              "</table>"
            ],
            "text/latex": "\\begin{center}\n\\begin{tabular}{lclc}\n\\toprule\n\\textbf{Dep. Variable:}                                                 &       mau        & \\textbf{  No. Observations:  } &    499125    \\\\\n\\textbf{Model:}                                                         &       GLM        & \\textbf{  Df Residuals:      } &    499108    \\\\\n\\textbf{Model Family:}                                                  &     Binomial     & \\textbf{  Df Model:          } &        16    \\\\\n\\textbf{Link Function:}                                                 &      Logit       & \\textbf{  Scale:             } &     1.0000   \\\\\n\\textbf{Method:}                                                        &       IRLS       & \\textbf{  Log-Likelihood:    } & -1.0055e+05  \\\\\n\\textbf{Date:}                                                          & Fri, 04 Oct 2024 & \\textbf{  Deviance:          } &  2.0109e+05  \\\\\n\\textbf{Time:}                                                          &     16:27:12     & \\textbf{  Pearson chi2:      } &   4.99e+05   \\\\\n\\textbf{No. Iterations:}                                                &        8         & \\textbf{  Pseudo R-squ. (CS):} &   0.05204    \\\\\n\\textbf{Covariance Type:}                                               &    nonrobust     & \\textbf{                     } &              \\\\\n\\bottomrule\n\\end{tabular}\n\\begin{tabular}{lcccccc}\n                                                                        & \\textbf{coef} & \\textbf{std err} & \\textbf{z} & \\textbf{P$> |$z$|$} & \\textbf{[0.025} & \\textbf{0.975]}  \\\\\n\\midrule\n\\textbf{Intercept}                                                      &      -1.4322  &        0.018     &   -80.768  &         0.000        &       -1.467    &       -1.397     \\\\\n\\textbf{sexo[T.M]}                                                      &      -0.0643  &        0.014     &    -4.625  &         0.000        &       -0.092    &       -0.037     \\\\\n\\textbf{posse\\_de\\_veiculo[T.S]}                                        &       0.0277  &        0.013     &     2.064  &         0.039        &        0.001    &        0.054     \\\\\n\\textbf{posse\\_de\\_imovel[T.S]}                                         &      -0.0655  &        0.013     &    -5.058  &         0.000        &       -0.091    &       -0.040     \\\\\n\\textbf{tipo\\_renda[T.Empresário]}                                      &      -0.0239  &        0.014     &    -1.690  &         0.091        &       -0.052    &        0.004     \\\\\n\\textbf{tipo\\_renda[T.Pensionista]}                                     &      -0.0196  &        0.230     &    -0.085  &         0.932        &       -0.470    &        0.431     \\\\\n\\textbf{tipo\\_renda[T.Servidor público]}                                &      -0.0295  &        0.023     &    -1.261  &         0.207        &       -0.075    &        0.016     \\\\\n\\textbf{educacao[T.Superior]}                                           &      -0.0412  &        0.014     &    -3.041  &         0.002        &       -0.068    &       -0.015     \\\\\n\\textbf{estado\\_civil[T.Nao\\_casado]}                                   &       0.0321  &        0.018     &     1.735  &         0.083        &       -0.004    &        0.068     \\\\\n\\textbf{tipo\\_residencia[T.Nao\\_casa]}                                  &       0.0191  &        0.019     &     1.016  &         0.310        &       -0.018    &        0.056     \\\\\n\\textbf{idade\\_cat[T.Interval(43.0, 68.0, closed='right')]}             &      -0.0149  &        0.014     &    -1.041  &         0.298        &       -0.043    &        0.013     \\\\\n\\textbf{tempo\\_emprego\\_cat[T.Interval(6.047, 42.907, closed='right')]} &      -0.1469  &        0.015     &   -10.024  &         0.000        &       -0.176    &       -0.118     \\\\\n\\textbf{renda\\_cat[T.Interval(3467.7, 7861.82, closed='right')]}        &      -1.0156  &        0.015     &   -69.351  &         0.000        &       -1.044    &       -0.987     \\\\\n\\textbf{renda\\_cat[T.Interval(7861.82, 18318.28, closed='right')]}      &      -1.7398  &        0.018     &   -96.763  &         0.000        &       -1.775    &       -1.705     \\\\\n\\textbf{renda\\_cat[T.Interval(18318.28, 4083986.22, closed='right')]}   &      -2.8818  &        0.028     &  -104.182  &         0.000        &       -2.936    &       -2.828     \\\\\n\\textbf{qt\\_pessoas\\_residencia\\_cat[T.mais\\_2]}                        &      -0.0471  &        0.024     &    -1.957  &         0.050        &       -0.094    &     7.19e-05     \\\\\n\\textbf{tem\\_filhos}                                                    &      -0.0023  &        0.014     &    -0.160  &         0.873        &       -0.030    &        0.026     \\\\\n\\bottomrule\n\\end{tabular}\n%\\caption{Generalized Linear Model Regression Results}\n\\end{center}"
          },
          "metadata": {},
          "execution_count": 44
        }
      ],
      "source": [
        "formula = '''\n",
        "    mau ~ sexo + posse_de_veiculo + posse_de_imovel + tem_filhos + tipo_renda +\n",
        "    educacao + estado_civil + tipo_residencia + idade_cat + tempo_emprego_cat +\n",
        "    renda_cat + qt_pessoas_residencia_cat\n",
        "    '''\n",
        "\n",
        "rl = smf.glm(formula, data=df_treino, family=sm.families.Binomial()).fit()\n",
        "\n",
        "rl.summary()"
      ]
    },
    {
      "cell_type": "markdown",
      "metadata": {
        "id": "Nck8JN8AGMti"
      },
      "source": [
        "*Verifica-se que as variáveis mais significantes são: sexo, posse de imóvel, educacao, tempo de emprego categórico, renda categórica*"
      ]
    },
    {
      "cell_type": "code",
      "execution_count": 45,
      "metadata": {
        "colab": {
          "base_uri": "https://localhost:8080/",
          "height": 423
        },
        "id": "2BJ3bKfQGF-j",
        "outputId": "109d0874-0fae-43a0-f99a-6beccae255c1"
      },
      "outputs": [
        {
          "output_type": "execute_result",
          "data": {
            "text/plain": [
              "<class 'statsmodels.iolib.summary.Summary'>\n",
              "\"\"\"\n",
              "                 Generalized Linear Model Regression Results                  \n",
              "==============================================================================\n",
              "Dep. Variable:                    mau   No. Observations:               499125\n",
              "Model:                            GLM   Df Residuals:                   499117\n",
              "Model Family:                Binomial   Df Model:                            7\n",
              "Link Function:                  Logit   Scale:                          1.0000\n",
              "Method:                          IRLS   Log-Likelihood:            -1.0055e+05\n",
              "Date:                Fri, 04 Oct 2024   Deviance:                   2.0111e+05\n",
              "Time:                        16:27:19   Pearson chi2:                 4.99e+05\n",
              "No. Iterations:                     8   Pseudo R-squ. (CS):            0.05201\n",
              "Covariance Type:            nonrobust                                         \n",
              "================================================================================================================================\n",
              "                                                                   coef    std err          z      P>|z|      [0.025      0.975]\n",
              "--------------------------------------------------------------------------------------------------------------------------------\n",
              "Intercept                                                       -1.4320      0.013   -107.800      0.000      -1.458      -1.406\n",
              "sexo[T.M]                                                       -0.0524      0.013     -4.042      0.000      -0.078      -0.027\n",
              "posse_de_imovel[T.S]                                            -0.0693      0.013     -5.501      0.000      -0.094      -0.045\n",
              "educacao[T.Superior]                                            -0.0396      0.013     -3.011      0.003      -0.065      -0.014\n",
              "tempo_emprego_cat[T.Interval(6.047, 42.907, closed='right')]    -0.1478      0.015    -10.171      0.000      -0.176      -0.119\n",
              "renda_cat[T.Interval(3467.7, 7861.82, closed='right')]          -1.0167      0.015    -69.487      0.000      -1.045      -0.988\n",
              "renda_cat[T.Interval(7861.82, 18318.28, closed='right')]        -1.7419      0.018    -97.038      0.000      -1.777      -1.707\n",
              "renda_cat[T.Interval(18318.28, 4083986.22, closed='right')]     -2.8870      0.028   -104.828      0.000      -2.941      -2.833\n",
              "================================================================================================================================\n",
              "\"\"\""
            ],
            "text/html": [
              "<table class=\"simpletable\">\n",
              "<caption>Generalized Linear Model Regression Results</caption>\n",
              "<tr>\n",
              "  <th>Dep. Variable:</th>          <td>mau</td>       <th>  No. Observations:  </th>   <td>499125</td>   \n",
              "</tr>\n",
              "<tr>\n",
              "  <th>Model:</th>                  <td>GLM</td>       <th>  Df Residuals:      </th>   <td>499117</td>   \n",
              "</tr>\n",
              "<tr>\n",
              "  <th>Model Family:</th>        <td>Binomial</td>     <th>  Df Model:          </th>   <td>     7</td>   \n",
              "</tr>\n",
              "<tr>\n",
              "  <th>Link Function:</th>         <td>Logit</td>      <th>  Scale:             </th>  <td>  1.0000</td>  \n",
              "</tr>\n",
              "<tr>\n",
              "  <th>Method:</th>                <td>IRLS</td>       <th>  Log-Likelihood:    </th> <td>-1.0055e+05</td>\n",
              "</tr>\n",
              "<tr>\n",
              "  <th>Date:</th>            <td>Fri, 04 Oct 2024</td> <th>  Deviance:          </th> <td>2.0111e+05</td> \n",
              "</tr>\n",
              "<tr>\n",
              "  <th>Time:</th>                <td>16:27:19</td>     <th>  Pearson chi2:      </th>  <td>4.99e+05</td>  \n",
              "</tr>\n",
              "<tr>\n",
              "  <th>No. Iterations:</th>          <td>8</td>        <th>  Pseudo R-squ. (CS):</th>   <td>0.05201</td>  \n",
              "</tr>\n",
              "<tr>\n",
              "  <th>Covariance Type:</th>     <td>nonrobust</td>    <th>                     </th>      <td> </td>     \n",
              "</tr>\n",
              "</table>\n",
              "<table class=\"simpletable\">\n",
              "<tr>\n",
              "                                <td></td>                                  <th>coef</th>     <th>std err</th>      <th>z</th>      <th>P>|z|</th>  <th>[0.025</th>    <th>0.975]</th>  \n",
              "</tr>\n",
              "<tr>\n",
              "  <th>Intercept</th>                                                    <td>   -1.4320</td> <td>    0.013</td> <td> -107.800</td> <td> 0.000</td> <td>   -1.458</td> <td>   -1.406</td>\n",
              "</tr>\n",
              "<tr>\n",
              "  <th>sexo[T.M]</th>                                                    <td>   -0.0524</td> <td>    0.013</td> <td>   -4.042</td> <td> 0.000</td> <td>   -0.078</td> <td>   -0.027</td>\n",
              "</tr>\n",
              "<tr>\n",
              "  <th>posse_de_imovel[T.S]</th>                                         <td>   -0.0693</td> <td>    0.013</td> <td>   -5.501</td> <td> 0.000</td> <td>   -0.094</td> <td>   -0.045</td>\n",
              "</tr>\n",
              "<tr>\n",
              "  <th>educacao[T.Superior]</th>                                         <td>   -0.0396</td> <td>    0.013</td> <td>   -3.011</td> <td> 0.003</td> <td>   -0.065</td> <td>   -0.014</td>\n",
              "</tr>\n",
              "<tr>\n",
              "  <th>tempo_emprego_cat[T.Interval(6.047, 42.907, closed='right')]</th> <td>   -0.1478</td> <td>    0.015</td> <td>  -10.171</td> <td> 0.000</td> <td>   -0.176</td> <td>   -0.119</td>\n",
              "</tr>\n",
              "<tr>\n",
              "  <th>renda_cat[T.Interval(3467.7, 7861.82, closed='right')]</th>       <td>   -1.0167</td> <td>    0.015</td> <td>  -69.487</td> <td> 0.000</td> <td>   -1.045</td> <td>   -0.988</td>\n",
              "</tr>\n",
              "<tr>\n",
              "  <th>renda_cat[T.Interval(7861.82, 18318.28, closed='right')]</th>     <td>   -1.7419</td> <td>    0.018</td> <td>  -97.038</td> <td> 0.000</td> <td>   -1.777</td> <td>   -1.707</td>\n",
              "</tr>\n",
              "<tr>\n",
              "  <th>renda_cat[T.Interval(18318.28, 4083986.22, closed='right')]</th>  <td>   -2.8870</td> <td>    0.028</td> <td> -104.828</td> <td> 0.000</td> <td>   -2.941</td> <td>   -2.833</td>\n",
              "</tr>\n",
              "</table>"
            ],
            "text/latex": "\\begin{center}\n\\begin{tabular}{lclc}\n\\toprule\n\\textbf{Dep. Variable:}                                                 &       mau        & \\textbf{  No. Observations:  } &    499125    \\\\\n\\textbf{Model:}                                                         &       GLM        & \\textbf{  Df Residuals:      } &    499117    \\\\\n\\textbf{Model Family:}                                                  &     Binomial     & \\textbf{  Df Model:          } &         7    \\\\\n\\textbf{Link Function:}                                                 &      Logit       & \\textbf{  Scale:             } &     1.0000   \\\\\n\\textbf{Method:}                                                        &       IRLS       & \\textbf{  Log-Likelihood:    } & -1.0055e+05  \\\\\n\\textbf{Date:}                                                          & Fri, 04 Oct 2024 & \\textbf{  Deviance:          } &  2.0111e+05  \\\\\n\\textbf{Time:}                                                          &     16:27:19     & \\textbf{  Pearson chi2:      } &   4.99e+05   \\\\\n\\textbf{No. Iterations:}                                                &        8         & \\textbf{  Pseudo R-squ. (CS):} &   0.05201    \\\\\n\\textbf{Covariance Type:}                                               &    nonrobust     & \\textbf{                     } &              \\\\\n\\bottomrule\n\\end{tabular}\n\\begin{tabular}{lcccccc}\n                                                                        & \\textbf{coef} & \\textbf{std err} & \\textbf{z} & \\textbf{P$> |$z$|$} & \\textbf{[0.025} & \\textbf{0.975]}  \\\\\n\\midrule\n\\textbf{Intercept}                                                      &      -1.4320  &        0.013     &  -107.800  &         0.000        &       -1.458    &       -1.406     \\\\\n\\textbf{sexo[T.M]}                                                      &      -0.0524  &        0.013     &    -4.042  &         0.000        &       -0.078    &       -0.027     \\\\\n\\textbf{posse\\_de\\_imovel[T.S]}                                         &      -0.0693  &        0.013     &    -5.501  &         0.000        &       -0.094    &       -0.045     \\\\\n\\textbf{educacao[T.Superior]}                                           &      -0.0396  &        0.013     &    -3.011  &         0.003        &       -0.065    &       -0.014     \\\\\n\\textbf{tempo\\_emprego\\_cat[T.Interval(6.047, 42.907, closed='right')]} &      -0.1478  &        0.015     &   -10.171  &         0.000        &       -0.176    &       -0.119     \\\\\n\\textbf{renda\\_cat[T.Interval(3467.7, 7861.82, closed='right')]}        &      -1.0167  &        0.015     &   -69.487  &         0.000        &       -1.045    &       -0.988     \\\\\n\\textbf{renda\\_cat[T.Interval(7861.82, 18318.28, closed='right')]}      &      -1.7419  &        0.018     &   -97.038  &         0.000        &       -1.777    &       -1.707     \\\\\n\\textbf{renda\\_cat[T.Interval(18318.28, 4083986.22, closed='right')]}   &      -2.8870  &        0.028     &  -104.828  &         0.000        &       -2.941    &       -2.833     \\\\\n\\bottomrule\n\\end{tabular}\n%\\caption{Generalized Linear Model Regression Results}\n\\end{center}"
          },
          "metadata": {},
          "execution_count": 45
        }
      ],
      "source": [
        "formula = '''\n",
        "    mau ~ sexo + posse_de_imovel +\n",
        "    educacao + tempo_emprego_cat +\n",
        "    renda_cat\n",
        "    '''\n",
        "\n",
        "rl = smf.glm(formula, data=df_treino, family=sm.families.Binomial()).fit()\n",
        "\n",
        "rl.summary()"
      ]
    },
    {
      "cell_type": "markdown",
      "metadata": {
        "id": "5ND_CEDs7j-H"
      },
      "source": [
        "## Avaliação do modelo\n",
        "\n",
        "Avalie o poder discriminante do modelo pelo menos avaliando acurácia, KS e Gini.\n",
        "\n",
        "Avalie estas métricas nas bases de desenvolvimento e *out of time*."
      ]
    },
    {
      "cell_type": "code",
      "execution_count": 46,
      "metadata": {
        "id": "q5R_rgmtixHl"
      },
      "outputs": [],
      "source": [
        "proporcao_mau = df2.mau.value_counts()[1] / df2.mau.value_counts().sum()"
      ]
    },
    {
      "cell_type": "code",
      "execution_count": 47,
      "metadata": {
        "id": "y7U-CPJbixHl",
        "colab": {
          "base_uri": "https://localhost:8080/"
        },
        "outputId": "8944f3b5-1f4b-4687-a0da-4485f6afadb7"
      },
      "outputs": [
        {
          "output_type": "stream",
          "name": "stdout",
          "text": [
            "RESULTADOS NA BASE DE TREINO\n",
            "Acurácia: 81.3% \n",
            "AUC: 76.1% \n",
            "GINI: 52.3%\n",
            "KS: 40.0%\n"
          ]
        }
      ],
      "source": [
        "df_treino['score'] = rl.predict()\n",
        "\n",
        "# Acurácia\n",
        "acc = metrics.accuracy_score(df_treino.mau, df_treino.score > proporcao_mau)\n",
        "#AUC\n",
        "fpr, tpr, thresholds = metrics.roc_curve(df_treino.mau, df_treino.score)\n",
        "auc = metrics.auc(fpr, tpr)\n",
        "#Gini\n",
        "gini = 2*auc -1\n",
        "ks = ks_2samp(df_treino.loc[df_treino.mau == 1, 'score'], df_treino.loc[df_treino.mau != 1, 'score']).statistic\n",
        "\n",
        "print('RESULTADOS NA BASE DE TREINO')\n",
        "print('Acurácia: {0:.1%} \\nAUC: {1:.1%} \\nGINI: {2:.1%}\\nKS: {3:.1%}'\n",
        "      .format(acc, auc, gini, ks))"
      ]
    },
    {
      "cell_type": "code",
      "execution_count": 48,
      "metadata": {
        "colab": {
          "base_uri": "https://localhost:8080/"
        },
        "id": "Pc7sJ0JPGdLr",
        "outputId": "33f76c2a-03fc-4de8-a871-483731a94c23"
      },
      "outputs": [
        {
          "output_type": "stream",
          "name": "stdout",
          "text": [
            "RESULTADOS NA BASE DE TESTE\n",
            "Acurácia: 54.4% \n",
            "AUC: 70.4% \n",
            "GINI: 40.9%\n",
            "KS: 33.6%\n"
          ]
        }
      ],
      "source": [
        "df_teste['score'] = rl.predict(df_teste)\n",
        "\n",
        "# Acurácia\n",
        "acc = metrics.accuracy_score(df_teste.mau, df_teste.score > proporcao_mau)\n",
        "#AUC\n",
        "fpr, tpr, thresholds = metrics.roc_curve(df_teste.mau, df_teste.score)\n",
        "auc = metrics.auc(fpr, tpr)\n",
        "#Gini\n",
        "gini = 2*auc -1\n",
        "ks = ks_2samp(df_teste.loc[df_teste.mau == 1, 'score'], df_teste.loc[df_teste.mau != 1, 'score']).statistic\n",
        "\n",
        "print('RESULTADOS NA BASE DE TESTE')\n",
        "print('Acurácia: {0:.1%} \\nAUC: {1:.1%} \\nGINI: {2:.1%}\\nKS: {3:.1%}'\n",
        "      .format(acc, auc, gini, ks))"
      ]
    },
    {
      "cell_type": "markdown",
      "metadata": {
        "id": "wPSuqsSw7j-I"
      },
      "source": [
        "## Criar um pipeline utilizando o sklearn pipeline"
      ]
    },
    {
      "cell_type": "code",
      "execution_count": 49,
      "metadata": {
        "id": "1bxRug528v4l"
      },
      "outputs": [],
      "source": [
        "# importando biliotecas para a tarefa 2\n",
        "\n",
        "import pandas as pd\n",
        "import numpy as np\n",
        "\n",
        "from sklearn import tree\n",
        "from sklearn.impute import SimpleImputer\n",
        "from sklearn.decomposition import PCA\n",
        "from sklearn.linear_model import RidgeClassifier\n",
        "from sklearn.pipeline import Pipeline\n",
        "from sklearn.preprocessing import FunctionTransformer\n",
        "from sklearn.compose import ColumnTransformer\n",
        "from sklearn.compose import make_column_transformer\n",
        "from sklearn.compose import make_column_selector\n",
        "from sklearn.preprocessing import OneHotEncoder\n",
        "from sklearn.feature_selection import SelectFromModel\n",
        "from sklearn.metrics import confusion_matrix, ConfusionMatrixDisplay\n",
        "from sklearn.svm import LinearSVC\n",
        "from sklearn.metrics import confusion_matrix, accuracy_score, f1_score"
      ]
    },
    {
      "cell_type": "markdown",
      "metadata": {
        "id": "4ntTJuyR7j-I"
      },
      "source": [
        "## Pré processamento"
      ]
    },
    {
      "cell_type": "code",
      "execution_count": 50,
      "metadata": {
        "colab": {
          "base_uri": "https://localhost:8080/",
          "height": 206
        },
        "id": "l9EmONy57VSq",
        "outputId": "707fdf95-a282-40aa-d63c-02d21c1d9c1e"
      },
      "outputs": [
        {
          "output_type": "execute_result",
          "data": {
            "text/plain": [
              "    data_ref  index sexo posse_de_veiculo posse_de_imovel  qtd_filhos  \\\n",
              "0 2015-01-01   5733    F                N               N           0   \n",
              "1 2015-01-01    727    F                S               S           0   \n",
              "2 2015-01-01   6374    F                N               N           2   \n",
              "3 2015-01-01   9566    F                N               N           0   \n",
              "4 2015-01-01   9502    F                S               N           0   \n",
              "\n",
              "    tipo_renda             educacao estado_civil tipo_residencia  idade  \\\n",
              "0   Empresário                Médio     Solteiro            Casa     43   \n",
              "1  Assalariado                Médio       Casado            Casa     35   \n",
              "2  Assalariado                Médio       Casado            Casa     31   \n",
              "3  Assalariado                Médio       Casado            Casa     54   \n",
              "4  Assalariado  Superior incompleto     Solteiro            Casa     31   \n",
              "\n",
              "   tempo_emprego  qt_pessoas_residencia     renda    mau  \n",
              "0       6.873973                    1.0   2515.39  False  \n",
              "1       4.526027                    2.0   3180.19  False  \n",
              "2       0.243836                    4.0   1582.29  False  \n",
              "3      12.772603                    2.0  13721.17  False  \n",
              "4       8.432877                    1.0   2891.08  False  "
            ],
            "text/html": [
              "\n",
              "  <div id=\"df-14d0d146-38a6-4123-a324-993b691d8918\" class=\"colab-df-container\">\n",
              "    <div>\n",
              "<style scoped>\n",
              "    .dataframe tbody tr th:only-of-type {\n",
              "        vertical-align: middle;\n",
              "    }\n",
              "\n",
              "    .dataframe tbody tr th {\n",
              "        vertical-align: top;\n",
              "    }\n",
              "\n",
              "    .dataframe thead th {\n",
              "        text-align: right;\n",
              "    }\n",
              "</style>\n",
              "<table border=\"1\" class=\"dataframe\">\n",
              "  <thead>\n",
              "    <tr style=\"text-align: right;\">\n",
              "      <th></th>\n",
              "      <th>data_ref</th>\n",
              "      <th>index</th>\n",
              "      <th>sexo</th>\n",
              "      <th>posse_de_veiculo</th>\n",
              "      <th>posse_de_imovel</th>\n",
              "      <th>qtd_filhos</th>\n",
              "      <th>tipo_renda</th>\n",
              "      <th>educacao</th>\n",
              "      <th>estado_civil</th>\n",
              "      <th>tipo_residencia</th>\n",
              "      <th>idade</th>\n",
              "      <th>tempo_emprego</th>\n",
              "      <th>qt_pessoas_residencia</th>\n",
              "      <th>renda</th>\n",
              "      <th>mau</th>\n",
              "    </tr>\n",
              "  </thead>\n",
              "  <tbody>\n",
              "    <tr>\n",
              "      <th>0</th>\n",
              "      <td>2015-01-01</td>\n",
              "      <td>5733</td>\n",
              "      <td>F</td>\n",
              "      <td>N</td>\n",
              "      <td>N</td>\n",
              "      <td>0</td>\n",
              "      <td>Empresário</td>\n",
              "      <td>Médio</td>\n",
              "      <td>Solteiro</td>\n",
              "      <td>Casa</td>\n",
              "      <td>43</td>\n",
              "      <td>6.873973</td>\n",
              "      <td>1.0</td>\n",
              "      <td>2515.39</td>\n",
              "      <td>False</td>\n",
              "    </tr>\n",
              "    <tr>\n",
              "      <th>1</th>\n",
              "      <td>2015-01-01</td>\n",
              "      <td>727</td>\n",
              "      <td>F</td>\n",
              "      <td>S</td>\n",
              "      <td>S</td>\n",
              "      <td>0</td>\n",
              "      <td>Assalariado</td>\n",
              "      <td>Médio</td>\n",
              "      <td>Casado</td>\n",
              "      <td>Casa</td>\n",
              "      <td>35</td>\n",
              "      <td>4.526027</td>\n",
              "      <td>2.0</td>\n",
              "      <td>3180.19</td>\n",
              "      <td>False</td>\n",
              "    </tr>\n",
              "    <tr>\n",
              "      <th>2</th>\n",
              "      <td>2015-01-01</td>\n",
              "      <td>6374</td>\n",
              "      <td>F</td>\n",
              "      <td>N</td>\n",
              "      <td>N</td>\n",
              "      <td>2</td>\n",
              "      <td>Assalariado</td>\n",
              "      <td>Médio</td>\n",
              "      <td>Casado</td>\n",
              "      <td>Casa</td>\n",
              "      <td>31</td>\n",
              "      <td>0.243836</td>\n",
              "      <td>4.0</td>\n",
              "      <td>1582.29</td>\n",
              "      <td>False</td>\n",
              "    </tr>\n",
              "    <tr>\n",
              "      <th>3</th>\n",
              "      <td>2015-01-01</td>\n",
              "      <td>9566</td>\n",
              "      <td>F</td>\n",
              "      <td>N</td>\n",
              "      <td>N</td>\n",
              "      <td>0</td>\n",
              "      <td>Assalariado</td>\n",
              "      <td>Médio</td>\n",
              "      <td>Casado</td>\n",
              "      <td>Casa</td>\n",
              "      <td>54</td>\n",
              "      <td>12.772603</td>\n",
              "      <td>2.0</td>\n",
              "      <td>13721.17</td>\n",
              "      <td>False</td>\n",
              "    </tr>\n",
              "    <tr>\n",
              "      <th>4</th>\n",
              "      <td>2015-01-01</td>\n",
              "      <td>9502</td>\n",
              "      <td>F</td>\n",
              "      <td>S</td>\n",
              "      <td>N</td>\n",
              "      <td>0</td>\n",
              "      <td>Assalariado</td>\n",
              "      <td>Superior incompleto</td>\n",
              "      <td>Solteiro</td>\n",
              "      <td>Casa</td>\n",
              "      <td>31</td>\n",
              "      <td>8.432877</td>\n",
              "      <td>1.0</td>\n",
              "      <td>2891.08</td>\n",
              "      <td>False</td>\n",
              "    </tr>\n",
              "  </tbody>\n",
              "</table>\n",
              "</div>\n",
              "    <div class=\"colab-df-buttons\">\n",
              "\n",
              "  <div class=\"colab-df-container\">\n",
              "    <button class=\"colab-df-convert\" onclick=\"convertToInteractive('df-14d0d146-38a6-4123-a324-993b691d8918')\"\n",
              "            title=\"Convert this dataframe to an interactive table.\"\n",
              "            style=\"display:none;\">\n",
              "\n",
              "  <svg xmlns=\"http://www.w3.org/2000/svg\" height=\"24px\" viewBox=\"0 -960 960 960\">\n",
              "    <path d=\"M120-120v-720h720v720H120Zm60-500h600v-160H180v160Zm220 220h160v-160H400v160Zm0 220h160v-160H400v160ZM180-400h160v-160H180v160Zm440 0h160v-160H620v160ZM180-180h160v-160H180v160Zm440 0h160v-160H620v160Z\"/>\n",
              "  </svg>\n",
              "    </button>\n",
              "\n",
              "  <style>\n",
              "    .colab-df-container {\n",
              "      display:flex;\n",
              "      gap: 12px;\n",
              "    }\n",
              "\n",
              "    .colab-df-convert {\n",
              "      background-color: #E8F0FE;\n",
              "      border: none;\n",
              "      border-radius: 50%;\n",
              "      cursor: pointer;\n",
              "      display: none;\n",
              "      fill: #1967D2;\n",
              "      height: 32px;\n",
              "      padding: 0 0 0 0;\n",
              "      width: 32px;\n",
              "    }\n",
              "\n",
              "    .colab-df-convert:hover {\n",
              "      background-color: #E2EBFA;\n",
              "      box-shadow: 0px 1px 2px rgba(60, 64, 67, 0.3), 0px 1px 3px 1px rgba(60, 64, 67, 0.15);\n",
              "      fill: #174EA6;\n",
              "    }\n",
              "\n",
              "    .colab-df-buttons div {\n",
              "      margin-bottom: 4px;\n",
              "    }\n",
              "\n",
              "    [theme=dark] .colab-df-convert {\n",
              "      background-color: #3B4455;\n",
              "      fill: #D2E3FC;\n",
              "    }\n",
              "\n",
              "    [theme=dark] .colab-df-convert:hover {\n",
              "      background-color: #434B5C;\n",
              "      box-shadow: 0px 1px 3px 1px rgba(0, 0, 0, 0.15);\n",
              "      filter: drop-shadow(0px 1px 2px rgba(0, 0, 0, 0.3));\n",
              "      fill: #FFFFFF;\n",
              "    }\n",
              "  </style>\n",
              "\n",
              "    <script>\n",
              "      const buttonEl =\n",
              "        document.querySelector('#df-14d0d146-38a6-4123-a324-993b691d8918 button.colab-df-convert');\n",
              "      buttonEl.style.display =\n",
              "        google.colab.kernel.accessAllowed ? 'block' : 'none';\n",
              "\n",
              "      async function convertToInteractive(key) {\n",
              "        const element = document.querySelector('#df-14d0d146-38a6-4123-a324-993b691d8918');\n",
              "        const dataTable =\n",
              "          await google.colab.kernel.invokeFunction('convertToInteractive',\n",
              "                                                    [key], {});\n",
              "        if (!dataTable) return;\n",
              "\n",
              "        const docLinkHtml = 'Like what you see? Visit the ' +\n",
              "          '<a target=\"_blank\" href=https://colab.research.google.com/notebooks/data_table.ipynb>data table notebook</a>'\n",
              "          + ' to learn more about interactive tables.';\n",
              "        element.innerHTML = '';\n",
              "        dataTable['output_type'] = 'display_data';\n",
              "        await google.colab.output.renderOutput(dataTable, element);\n",
              "        const docLink = document.createElement('div');\n",
              "        docLink.innerHTML = docLinkHtml;\n",
              "        element.appendChild(docLink);\n",
              "      }\n",
              "    </script>\n",
              "  </div>\n",
              "\n",
              "\n",
              "<div id=\"df-6ff85e66-120a-4529-96fc-4c4ced687771\">\n",
              "  <button class=\"colab-df-quickchart\" onclick=\"quickchart('df-6ff85e66-120a-4529-96fc-4c4ced687771')\"\n",
              "            title=\"Suggest charts\"\n",
              "            style=\"display:none;\">\n",
              "\n",
              "<svg xmlns=\"http://www.w3.org/2000/svg\" height=\"24px\"viewBox=\"0 0 24 24\"\n",
              "     width=\"24px\">\n",
              "    <g>\n",
              "        <path d=\"M19 3H5c-1.1 0-2 .9-2 2v14c0 1.1.9 2 2 2h14c1.1 0 2-.9 2-2V5c0-1.1-.9-2-2-2zM9 17H7v-7h2v7zm4 0h-2V7h2v10zm4 0h-2v-4h2v4z\"/>\n",
              "    </g>\n",
              "</svg>\n",
              "  </button>\n",
              "\n",
              "<style>\n",
              "  .colab-df-quickchart {\n",
              "      --bg-color: #E8F0FE;\n",
              "      --fill-color: #1967D2;\n",
              "      --hover-bg-color: #E2EBFA;\n",
              "      --hover-fill-color: #174EA6;\n",
              "      --disabled-fill-color: #AAA;\n",
              "      --disabled-bg-color: #DDD;\n",
              "  }\n",
              "\n",
              "  [theme=dark] .colab-df-quickchart {\n",
              "      --bg-color: #3B4455;\n",
              "      --fill-color: #D2E3FC;\n",
              "      --hover-bg-color: #434B5C;\n",
              "      --hover-fill-color: #FFFFFF;\n",
              "      --disabled-bg-color: #3B4455;\n",
              "      --disabled-fill-color: #666;\n",
              "  }\n",
              "\n",
              "  .colab-df-quickchart {\n",
              "    background-color: var(--bg-color);\n",
              "    border: none;\n",
              "    border-radius: 50%;\n",
              "    cursor: pointer;\n",
              "    display: none;\n",
              "    fill: var(--fill-color);\n",
              "    height: 32px;\n",
              "    padding: 0;\n",
              "    width: 32px;\n",
              "  }\n",
              "\n",
              "  .colab-df-quickchart:hover {\n",
              "    background-color: var(--hover-bg-color);\n",
              "    box-shadow: 0 1px 2px rgba(60, 64, 67, 0.3), 0 1px 3px 1px rgba(60, 64, 67, 0.15);\n",
              "    fill: var(--button-hover-fill-color);\n",
              "  }\n",
              "\n",
              "  .colab-df-quickchart-complete:disabled,\n",
              "  .colab-df-quickchart-complete:disabled:hover {\n",
              "    background-color: var(--disabled-bg-color);\n",
              "    fill: var(--disabled-fill-color);\n",
              "    box-shadow: none;\n",
              "  }\n",
              "\n",
              "  .colab-df-spinner {\n",
              "    border: 2px solid var(--fill-color);\n",
              "    border-color: transparent;\n",
              "    border-bottom-color: var(--fill-color);\n",
              "    animation:\n",
              "      spin 1s steps(1) infinite;\n",
              "  }\n",
              "\n",
              "  @keyframes spin {\n",
              "    0% {\n",
              "      border-color: transparent;\n",
              "      border-bottom-color: var(--fill-color);\n",
              "      border-left-color: var(--fill-color);\n",
              "    }\n",
              "    20% {\n",
              "      border-color: transparent;\n",
              "      border-left-color: var(--fill-color);\n",
              "      border-top-color: var(--fill-color);\n",
              "    }\n",
              "    30% {\n",
              "      border-color: transparent;\n",
              "      border-left-color: var(--fill-color);\n",
              "      border-top-color: var(--fill-color);\n",
              "      border-right-color: var(--fill-color);\n",
              "    }\n",
              "    40% {\n",
              "      border-color: transparent;\n",
              "      border-right-color: var(--fill-color);\n",
              "      border-top-color: var(--fill-color);\n",
              "    }\n",
              "    60% {\n",
              "      border-color: transparent;\n",
              "      border-right-color: var(--fill-color);\n",
              "    }\n",
              "    80% {\n",
              "      border-color: transparent;\n",
              "      border-right-color: var(--fill-color);\n",
              "      border-bottom-color: var(--fill-color);\n",
              "    }\n",
              "    90% {\n",
              "      border-color: transparent;\n",
              "      border-bottom-color: var(--fill-color);\n",
              "    }\n",
              "  }\n",
              "</style>\n",
              "\n",
              "  <script>\n",
              "    async function quickchart(key) {\n",
              "      const quickchartButtonEl =\n",
              "        document.querySelector('#' + key + ' button');\n",
              "      quickchartButtonEl.disabled = true;  // To prevent multiple clicks.\n",
              "      quickchartButtonEl.classList.add('colab-df-spinner');\n",
              "      try {\n",
              "        const charts = await google.colab.kernel.invokeFunction(\n",
              "            'suggestCharts', [key], {});\n",
              "      } catch (error) {\n",
              "        console.error('Error during call to suggestCharts:', error);\n",
              "      }\n",
              "      quickchartButtonEl.classList.remove('colab-df-spinner');\n",
              "      quickchartButtonEl.classList.add('colab-df-quickchart-complete');\n",
              "    }\n",
              "    (() => {\n",
              "      let quickchartButtonEl =\n",
              "        document.querySelector('#df-6ff85e66-120a-4529-96fc-4c4ced687771 button');\n",
              "      quickchartButtonEl.style.display =\n",
              "        google.colab.kernel.accessAllowed ? 'block' : 'none';\n",
              "    })();\n",
              "  </script>\n",
              "</div>\n",
              "\n",
              "    </div>\n",
              "  </div>\n"
            ],
            "application/vnd.google.colaboratory.intrinsic+json": {
              "type": "dataframe",
              "variable_name": "df"
            }
          },
          "metadata": {},
          "execution_count": 50
        }
      ],
      "source": [
        "# importando os dados\n",
        "\n",
        "df = pd.read_feather('/content/drive/MyDrive/credit_scoring.ftr')\n",
        "df.head(5)"
      ]
    },
    {
      "cell_type": "code",
      "execution_count": 51,
      "metadata": {
        "id": "huSpuWbBRNsS"
      },
      "outputs": [],
      "source": [
        "# removendo dados duplicados\n",
        "\n",
        "df = df.drop_duplicates()"
      ]
    },
    {
      "cell_type": "code",
      "execution_count": 52,
      "metadata": {
        "id": "TKEMCAw54maG"
      },
      "outputs": [],
      "source": [
        "# Separe os três últimos meses como safras de validação *out of time* (oot).\n",
        "\n",
        "df_treino = df.loc[df['data_ref'].isin(df['data_ref'].unique()[:-3])]\n",
        "df_teste = df.loc[~df['data_ref'].isin(df['data_ref'].unique()[:-3])]"
      ]
    },
    {
      "cell_type": "code",
      "execution_count": 53,
      "metadata": {
        "id": "QbhZw7Mk7XF8"
      },
      "outputs": [],
      "source": [
        "# separando features explicativos e target\n",
        "\n",
        "x_treino = df_treino.drop('mau', axis=1)\n",
        "x_teste = df_teste.drop('mau', axis=1)\n",
        "y_treino = df_treino.mau\n",
        "y_teste = df_teste.mau"
      ]
    },
    {
      "cell_type": "markdown",
      "metadata": {
        "id": "PKarj0xTXkdq"
      },
      "source": [
        "### Remover colunas"
      ]
    },
    {
      "cell_type": "code",
      "execution_count": 54,
      "metadata": {
        "id": "xK4mLkxwXh0t"
      },
      "outputs": [],
      "source": [
        "def remove_columns(X):\n",
        "\n",
        "  X = X.drop(['data_ref', 'index'], axis=1)\n",
        "\n",
        "  return X\n"
      ]
    },
    {
      "cell_type": "code",
      "execution_count": 55,
      "metadata": {
        "id": "WPWH2loOX-r8"
      },
      "outputs": [],
      "source": [
        "# criando step de remoção de outliers para aplicação em pipeline\n",
        "\n",
        "ct_remove_columns = FunctionTransformer(remove_columns)"
      ]
    },
    {
      "cell_type": "code",
      "execution_count": 56,
      "metadata": {
        "id": "bWryBJlnYcdg"
      },
      "outputs": [],
      "source": [
        "x_treino = ct_remove_columns.fit_transform(x_treino)\n",
        "\n",
        "x_teste = ct_remove_columns.transform(x_teste)"
      ]
    },
    {
      "cell_type": "markdown",
      "metadata": {
        "id": "OpWiu_iDtTX9"
      },
      "source": [
        "### Remoção de outliers\n"
      ]
    },
    {
      "cell_type": "markdown",
      "metadata": {
        "id": "ZHABl32jvJsx"
      },
      "source": [
        "Como identificar outlier? Substituir o outlier por algum valor? Remover a linha?"
      ]
    },
    {
      "cell_type": "code",
      "execution_count": 57,
      "metadata": {
        "id": "lAeAWQvrtZDd"
      },
      "outputs": [],
      "source": [
        "# criando função para remoção de outliers\n",
        "\n",
        "def remove_outliers(X):\n",
        "\n",
        "  # Calcular os quartis Q1 e Q3\n",
        "  Q1 = X.quantile(0.25)\n",
        "  Q3 = X.quantile(0.75)\n",
        "\n",
        "  # Calcular o IQR\n",
        "  IQR = Q3 - Q1\n",
        "\n",
        "  # Definir os limites inferior e superior\n",
        "  limite_inferior = Q1 - 1.5 * IQR\n",
        "  limite_superior = Q3 + 1.5 * IQR\n",
        "\n",
        "  # Remover outliers\n",
        "  X_new = X[(X >= limite_inferior) & (X <= limite_superior)]\n",
        "\n",
        "  return X_new"
      ]
    },
    {
      "cell_type": "code",
      "execution_count": 58,
      "metadata": {
        "id": "jDC_y1xUo5gl"
      },
      "outputs": [],
      "source": [
        "# criando step de remoção de outliers para aplicação em pipeline\n",
        "\n",
        "ct_remove_outlier = ColumnTransformer([\n",
        "      ('out', FunctionTransformer(remove_outliers),\n",
        "      make_column_selector(dtype_include=np.number))], remainder='passthrough')"
      ]
    },
    {
      "cell_type": "code",
      "execution_count": 59,
      "metadata": {
        "id": "2xid3eSptY61"
      },
      "outputs": [],
      "source": [
        "# aplicando a transformação\n",
        "\n",
        "x_treino = ct_remove_outlier.fit_transform(x_treino)\n",
        "\n",
        "x_teste = ct_remove_outlier.transform(x_teste)"
      ]
    },
    {
      "cell_type": "markdown",
      "metadata": {
        "id": "hTTe2zKCixHp"
      },
      "source": [
        "### Substituição de nulos (nans)\n",
        "\n",
        "Existe nulos na base? é dado numérico ou categórico? qual o valor de substituição? média? valor mais frequente? etc"
      ]
    },
    {
      "cell_type": "code",
      "execution_count": 60,
      "metadata": {
        "id": "LgsBq5GVxNhh"
      },
      "outputs": [],
      "source": [
        "# criando step para imputação de valores\n",
        "\n",
        "ct_missing = ColumnTransformer([\n",
        "      ('median', SimpleImputer(strategy='median'), # mediana em missings numéricos\n",
        "      [0,1,2,3,4]),\n",
        "      ('most_frequent', SimpleImputer(strategy='most_frequent'), # moda em missings categóricos\n",
        "      [5,6,7,8,9,10,11])])"
      ]
    },
    {
      "cell_type": "code",
      "execution_count": 61,
      "metadata": {
        "id": "cMg0eOJN87hV"
      },
      "outputs": [],
      "source": [
        "# aplicando a transformação\n",
        "\n",
        "x_treino = ct_missing.fit_transform(x_treino)\n",
        "\n",
        "x_teste = ct_missing.transform(x_teste)"
      ]
    },
    {
      "cell_type": "markdown",
      "metadata": {
        "id": "uT9QleB2ixHw"
      },
      "source": [
        "### Redução de dimensionalidade (PCA)\n",
        "\n",
        "Aplicar PCA para reduzir a dimensionalidade para 5"
      ]
    },
    {
      "cell_type": "code",
      "execution_count": 62,
      "metadata": {
        "id": "vmX7VfFlzYgu"
      },
      "outputs": [],
      "source": [
        "# criando step para aplicação de PCA sobre os dados\n",
        "\n",
        "ct_pca = ColumnTransformer([\n",
        "      ('pca', PCA(n_components=5),\n",
        "      [0,1,2,3,4])], remainder='passthrough')"
      ]
    },
    {
      "cell_type": "code",
      "execution_count": 63,
      "metadata": {
        "id": "KuyXg32YzYau"
      },
      "outputs": [],
      "source": [
        "# aplicando a transformação\n",
        "\n",
        "x_treino = ct_pca.fit_transform(x_treino)\n",
        "\n",
        "x_teste = ct_pca.transform(x_teste)"
      ]
    },
    {
      "cell_type": "markdown",
      "metadata": {
        "id": "Q7IpfNFiixHy"
      },
      "source": [
        "### Criação de dummies\n",
        "\n",
        "Aplicar o get_dummies() ou onehotencoder() para transformar colunas catégoricas do dataframe em colunas de 0 e 1.\n",
        "- sexo\n",
        "- posse_de_veiculo\n",
        "- posse_de_imovel\n",
        "- tipo_renda\n",
        "- educacao\n",
        "- estado_civil\n",
        "- tipo_residencia"
      ]
    },
    {
      "cell_type": "code",
      "execution_count": 64,
      "metadata": {
        "id": "_xCcleQ_ixH0"
      },
      "outputs": [],
      "source": [
        "# criando step para criação de dummies de variáveis categóricas\n",
        "\n",
        "ct_dummie = ColumnTransformer([\n",
        "      ('onehot', OneHotEncoder(),\n",
        "      [5,6,7,8,9,10,11])], remainder='passthrough')"
      ]
    },
    {
      "cell_type": "code",
      "execution_count": 65,
      "metadata": {
        "id": "pukMrQxkwfbQ"
      },
      "outputs": [],
      "source": [
        "# aplicando a transformação\n",
        "\n",
        "x_treino = ct_dummie.fit_transform(x_treino)\n",
        "\n",
        "x_teste = ct_dummie.transform(x_teste)"
      ]
    },
    {
      "cell_type": "markdown",
      "metadata": {
        "id": "8JJ4cwHyCThA"
      },
      "source": [
        "### Seleção de variáveis\n",
        "\n",
        "Qual tipo de técnica? Boruta? Feature importance?"
      ]
    },
    {
      "cell_type": "code",
      "execution_count": 66,
      "metadata": {
        "id": "DFK30zeqlwBv"
      },
      "outputs": [],
      "source": [
        "# selecionado as features através da técnica LinearSVC\n",
        "\n",
        "lsvc = LinearSVC(penalty=\"l1\", dual=False).fit(x_treino, y_treino)\n",
        "\n",
        "model = SelectFromModel(lsvc, prefit=True)"
      ]
    },
    {
      "cell_type": "code",
      "execution_count": 67,
      "metadata": {
        "id": "eN3ZV6gH4Cp4"
      },
      "outputs": [],
      "source": [
        "# aplicando a transformação\n",
        "\n",
        "x_treino = model.transform(x_treino)\n",
        "\n",
        "x_teste = model.transform(x_teste)"
      ]
    },
    {
      "cell_type": "markdown",
      "metadata": {
        "id": "UUEBinzDixH2"
      },
      "source": [
        "### Pipeline\n",
        "\n",
        "Crie um pipeline contendo essas funções.\n",
        "\n",
        "preprocessamento()\n",
        "- substituicao de nulos\n",
        "- remoção outliers\n",
        "- PCA\n",
        "- Criação de dummy de pelo menos 1 variável (posse_de_veiculo)"
      ]
    },
    {
      "cell_type": "code",
      "execution_count": 91,
      "metadata": {
        "id": "gIb2EK3kixH3"
      },
      "outputs": [],
      "source": [
        "# importando os dados\n",
        "\n",
        "df = pd.read_feather('/content/drive/MyDrive/credit_scoring.ftr')\n",
        "\n",
        "# removendo dados duplicados\n",
        "\n",
        "df = df.drop_duplicates()\n",
        "\n",
        "# separando dados para treino e teste\n",
        "\n",
        "df_treino = df.loc[df['data_ref'].isin(df['data_ref'].unique()[:-3])]\n",
        "df_teste = df.loc[~df['data_ref'].isin(df['data_ref'].unique()[:-3])]\n",
        "\n",
        "# separando features explicativos e target\n",
        "\n",
        "x_treino = df_treino.drop('mau', axis=1)\n",
        "x_teste = df_teste.drop('mau', axis=1)\n",
        "y_treino = df_treino.mau\n",
        "y_teste = df_teste.mau"
      ]
    },
    {
      "cell_type": "code",
      "execution_count": 92,
      "metadata": {
        "id": "wCsjP4agixH4"
      },
      "outputs": [],
      "source": [
        "# criando pipeline através de sklearn com as etapas criadas anteriormente\n",
        "\n",
        "preprocessamento = Pipeline(steps=[\n",
        "                          (\"remove_columns\", ct_remove_columns),\n",
        "                          (\"outliers\", ct_remove_outlier),\n",
        "                          (\"missing\", ct_missing),\n",
        "                          (\"pca\", ct_pca),\n",
        "                          (\"dummies\", ct_dummie)])"
      ]
    },
    {
      "cell_type": "markdown",
      "metadata": {
        "id": "1Ty492Lx7j-N"
      },
      "source": [
        "### Treinar um modelo de regressão logistica com o resultado"
      ]
    },
    {
      "cell_type": "code",
      "execution_count": 93,
      "metadata": {
        "id": "gQZovfofDrJ7"
      },
      "outputs": [],
      "source": [
        "# processando os dados através do pipeline\n",
        "\n",
        "x_treino_p = preprocessamento.fit_transform(x_treino)\n",
        "\n",
        "x_teste_p = preprocessamento.transform(x_teste)"
      ]
    },
    {
      "cell_type": "code",
      "execution_count": 94,
      "metadata": {
        "id": "pckK-kZh7j-N"
      },
      "outputs": [],
      "source": [
        "# treinando o modelo preditivo\n",
        "\n",
        "clf = tree.DecisionTreeClassifier().fit(x_treino_p, y_treino)"
      ]
    },
    {
      "cell_type": "markdown",
      "metadata": {
        "id": "YmI8rvHqEj6S"
      },
      "source": [
        "### Avaliando a performance do modelo"
      ]
    },
    {
      "cell_type": "code",
      "execution_count": 95,
      "metadata": {
        "id": "54zRZ5hSDmTk"
      },
      "outputs": [],
      "source": [
        "# salvando as predições do modelo na base de treino e de teste\n",
        "\n",
        "pred_treino = clf.predict(x_treino_p)\n",
        "\n",
        "pred_teste = clf.predict(x_teste_p)"
      ]
    },
    {
      "cell_type": "code",
      "execution_count": 96,
      "metadata": {
        "colab": {
          "base_uri": "https://localhost:8080/",
          "height": 520
        },
        "id": "tjHD5RaZ0LZL",
        "outputId": "c5d21f9b-35c4-47d4-a9e1-2129151e0880"
      },
      "outputs": [
        {
          "output_type": "stream",
          "name": "stdout",
          "text": [
            "Acurácia na base de treino: 0.8644403125200363\n"
          ]
        },
        {
          "output_type": "display_data",
          "data": {
            "text/plain": [
              "<Figure size 800x550 with 2 Axes>"
            ],
            "image/png": "[encoded data removed]"
          },
          "metadata": {}
        }
      ],
      "source": [
        "# verificando a acurácia do modelo na base de treino\n",
        "\n",
        "cm = confusion_matrix(y_treino, pred_treino)\n",
        "\n",
        "ConfusionMatrixDisplay(confusion_matrix=cm, display_labels=clf.classes_).plot()\n",
        "\n",
        "print(f'Acurácia na base de treino: {accuracy_score(y_treino, pred_treino)}')"
      ]
    },
    {
      "cell_type": "code",
      "execution_count": 97,
      "metadata": {
        "colab": {
          "base_uri": "https://localhost:8080/",
          "height": 520
        },
        "id": "u2L5FJZG2hYr",
        "outputId": "f1218439-4950-4c00-9d39-bffd4dc7f20f"
      },
      "outputs": [
        {
          "output_type": "stream",
          "name": "stdout",
          "text": [
            "Acurácia na base de teste: 0.7283858998144712\n"
          ]
        },
        {
          "output_type": "display_data",
          "data": {
            "text/plain": [
              "<Figure size 800x550 with 2 Axes>"
            ],
            "image/png": "[encoded data removed]"
          },
          "metadata": {}
        }
      ],
      "source": [
        "# verificando a acurácia do modelo na base de teste\n",
        "\n",
        "cm = confusion_matrix(y_teste, pred_teste)\n",
        "\n",
        "ConfusionMatrixDisplay(confusion_matrix=cm, display_labels=clf.classes_).plot()\n",
        "\n",
        "print(f'Acurácia na base de teste: {accuracy_score(y_teste, pred_teste)}')"
      ]
    },
    {
      "cell_type": "markdown",
      "metadata": {
        "id": "zVYDAeqEvh67"
      },
      "source": [
        "Apesar de o modelo apresentar performance com alta acurácia, não se mostra sensível na detecção de 'maus' clientes. Isso se deve, provavelmente, à pouca representação de ocorrência de 'mau' na amostra. Será interessante verificar qual o melhor ajuste para se obter maior deteção de 'maus' - Recall -, com menor geração falsos positivos - Precisão."
      ]
    },
    {
      "cell_type": "code",
      "execution_count": 75,
      "metadata": {
        "colab": {
          "base_uri": "https://localhost:8080/",
          "height": 469
        },
        "id": "FV6w9RPaoZkV",
        "outputId": "7803835e-3b7b-4b60-ccf5-783e5a4575db"
      },
      "outputs": [
        {
          "output_type": "stream",
          "name": "stdout",
          "text": [
            "Probabilidade de 'mau' em que F1 - score atinge maior valor nas bases de dados: 0.3061224489795918\n"
          ]
        },
        {
          "output_type": "display_data",
          "data": {
            "text/plain": [
              "<Figure size 640x480 with 1 Axes>"
            ],
            "image/png": "[encoded data removed]"
          },
          "metadata": {}
        }
      ],
      "source": [
        "# verificando o F1 - score conforme taxa de probabilidade de 'mau' atribuída pelo modelo\n",
        "\n",
        "prob_mau = clf.predict_proba(x_treino_p)[:,1]\n",
        "prob_mau_t = clf.predict_proba(x_teste_p)[:,1]\n",
        "\n",
        "x = np.linspace(0,1)\n",
        "\n",
        "y_tr = [f1_score(y_treino,(prob_mau >= i)) for i in x]\n",
        "y_te = [f1_score(y_teste,(prob_mau_t >= i)) for i in x]\n",
        "\n",
        "plt.plot(x, y_tr, label='treino')\n",
        "plt.plot(x, y_te, label='teste')\n",
        "plt.axvline(x=x[15], color='r', linestyle='dotted')\n",
        "plt.title(\"F1 - score x Probabilidade de 'mau'\")\n",
        "plt.legend()\n",
        "\n",
        "print(f\"Probabilidade de 'mau' em que F1 - score atinge maior valor nas bases de dados: {x[15]}\")\n"
      ]
    },
    {
      "cell_type": "code",
      "execution_count": 98,
      "metadata": {
        "colab": {
          "base_uri": "https://localhost:8080/",
          "height": 520
        },
        "id": "DSXNc7GYEfbb",
        "outputId": "e588b120-2d09-4a01-ee99-4e131ccd5c68"
      },
      "outputs": [
        {
          "output_type": "stream",
          "name": "stdout",
          "text": [
            "Acurácia na base de treino, classificando 'mau' a partir de 30% de probabilidade': 0.7919204594374273\n"
          ]
        },
        {
          "output_type": "display_data",
          "data": {
            "text/plain": [
              "<Figure size 800x550 with 2 Axes>"
            ],
            "image/png": "[encoded data removed]"
          },
          "metadata": {}
        }
      ],
      "source": [
        "# verificando a acurácia do modelo na base de treino ao trabalhar a probabilidade de 'mau' com 30%\n",
        "\n",
        "cm = confusion_matrix(y_treino, (prob_mau >= 0.30))\n",
        "\n",
        "ConfusionMatrixDisplay(confusion_matrix=cm, display_labels=clf.classes_).plot()\n",
        "\n",
        "print(f\"Acurácia na base de treino, classificando 'mau' a partir de 30% de probabilidade': {accuracy_score(y_treino, (prob_mau >= 0.30))}\")"
      ]
    },
    {
      "cell_type": "code",
      "execution_count": 99,
      "metadata": {
        "colab": {
          "base_uri": "https://localhost:8080/",
          "height": 520
        },
        "id": "jWtQ5J6H3HYg",
        "outputId": "83ef0939-bdff-4ebd-8d4e-a633c0a08a0c"
      },
      "outputs": [
        {
          "output_type": "stream",
          "name": "stdout",
          "text": [
            "Acurácia na base de teste, classificando 'mau' a partir de 30% de probabilidade': 0.586738727111398\n"
          ]
        },
        {
          "output_type": "display_data",
          "data": {
            "text/plain": [
              "<Figure size 800x550 with 2 Axes>"
            ],
            "image/png": "[encoded data removed]"
          },
          "metadata": {}
        }
      ],
      "source": [
        "# verificando a acurácia do modelo na base de teste ao trabalhar a probabilidade de 'mau' com 20%\n",
        "\n",
        "cm = confusion_matrix(y_teste, (prob_mau_t >= 0.30))\n",
        "\n",
        "ConfusionMatrixDisplay(confusion_matrix=cm, display_labels=clf.classes_).plot()\n",
        "\n",
        "print(f\"Acurácia na base de teste, classificando 'mau' a partir de 30% de probabilidade': {accuracy_score(y_teste, (prob_mau_t >= 0.30))}\")"
      ]
    },
    {
      "cell_type": "markdown",
      "metadata": {
        "id": "dPDEMibqmRRe"
      },
      "source": [
        "Em face dos resultados, constata-se que a busca por melhor permance do modelo sob a métrica de F1 score ocorre em detrimento da acurária. O contrário também acontece. Daí, a fim de se aproveitar os resultados de ambas abordagens, podemos adotar a seguinte classificação de risco de crédito (inadimplência) de acordo a probabilidade de 'mau' atribuída pelo modelo:\n",
        "\n",
        "*   RISCO ALTO: probabilidade de 'mau' maior que 50%\n",
        "*   RISCO MÉDIO: probabilidade de 'mau' de 30% a 50%\n",
        "*   RISCO BAIXO: probabilidade de 'mau' menor que 20%\n",
        "\n",
        "A vantagem também é que se dá maior margem de decisão, principalmente sobre os classificados de RISCO MÉDIO\n",
        "\n",
        "\n"
      ]
    },
    {
      "cell_type": "markdown",
      "metadata": {
        "id": "2h5PFvAA7j-P"
      },
      "source": [
        "### Salvar o pickle file do modelo treinado"
      ]
    },
    {
      "cell_type": "code",
      "execution_count": 78,
      "metadata": {
        "id": "trR0wi2d7j-P"
      },
      "outputs": [],
      "source": [
        "# gravando o modelo\n",
        "\n",
        "import pickle\n",
        "\n",
        "nome_arquivo = '/content/drive/MyDrive/PROJ_EBAC_FINAL/modelo/model_final.pkl'\n",
        "pickle.dump(clf, open(nome_arquivo, 'wb'))"
      ]
    },
    {
      "cell_type": "code",
      "execution_count": 79,
      "metadata": {
        "colab": {
          "base_uri": "https://localhost:8080/"
        },
        "id": "ZPbXzmOwITb3",
        "outputId": "7284cf35-989b-48fe-86b4-59b203408329"
      },
      "outputs": [
        {
          "output_type": "execute_result",
          "data": {
            "text/plain": [
              "['/content/drive/MyDrive/PROJ_EBAC_FINAL/modelo/pipe.joblib']"
            ]
          },
          "metadata": {},
          "execution_count": 79
        }
      ],
      "source": [
        "# gravando o pipeline\n",
        "\n",
        "from joblib import dump\n",
        "\n",
        "dump(preprocessamento, '/content/drive/MyDrive/PROJ_EBAC_FINAL/modelo/pipe.joblib')"
      ]
    },
    {
      "cell_type": "markdown",
      "metadata": {
        "id": "tb4LTrG27j-Q"
      },
      "source": [
        "# Pycaret na base de dados\n",
        "\n",
        "Utilize o pycaret para pre processar os dados e rodar o modelo **lightgbm**. Faça todos os passos a passos da aula e gere os gráficos finais. E o pipeline de toda a transformação.\n",
        "\n"
      ]
    },
    {
      "cell_type": "code",
      "execution_count": 80,
      "metadata": {
        "id": "IzDoPeN5HC5K"
      },
      "outputs": [],
      "source": [
        "from pycaret.classification import *\n",
        "from sklearn import set_config"
      ]
    },
    {
      "cell_type": "code",
      "execution_count": 81,
      "metadata": {
        "id": "npiMYxvGixH5",
        "colab": {
          "base_uri": "https://localhost:8080/",
          "height": 206
        },
        "outputId": "13e8bd7d-f718-4eb4-96ec-b1b84f714c03"
      },
      "outputs": [
        {
          "output_type": "execute_result",
          "data": {
            "text/plain": [
              "    data_ref  index sexo posse_de_veiculo posse_de_imovel  qtd_filhos  \\\n",
              "0 2015-01-01   5733    F                N               N           0   \n",
              "1 2015-01-01    727    F                S               S           0   \n",
              "2 2015-01-01   6374    F                N               N           2   \n",
              "3 2015-01-01   9566    F                N               N           0   \n",
              "4 2015-01-01   9502    F                S               N           0   \n",
              "\n",
              "    tipo_renda             educacao estado_civil tipo_residencia  idade  \\\n",
              "0   Empresário                Médio     Solteiro            Casa     43   \n",
              "1  Assalariado                Médio       Casado            Casa     35   \n",
              "2  Assalariado                Médio       Casado            Casa     31   \n",
              "3  Assalariado                Médio       Casado            Casa     54   \n",
              "4  Assalariado  Superior incompleto     Solteiro            Casa     31   \n",
              "\n",
              "   tempo_emprego  qt_pessoas_residencia     renda    mau  \n",
              "0       6.873973                    1.0   2515.39  False  \n",
              "1       4.526027                    2.0   3180.19  False  \n",
              "2       0.243836                    4.0   1582.29  False  \n",
              "3      12.772603                    2.0  13721.17  False  \n",
              "4       8.432877                    1.0   2891.08  False  "
            ],
            "text/html": [
              "\n",
              "  <div id=\"df-3da34ffa-8b7b-48e7-a0ec-a74ff57d0bba\" class=\"colab-df-container\">\n",
              "    <div>\n",
              "<style scoped>\n",
              "    .dataframe tbody tr th:only-of-type {\n",
              "        vertical-align: middle;\n",
              "    }\n",
              "\n",
              "    .dataframe tbody tr th {\n",
              "        vertical-align: top;\n",
              "    }\n",
              "\n",
              "    .dataframe thead th {\n",
              "        text-align: right;\n",
              "    }\n",
              "</style>\n",
              "<table border=\"1\" class=\"dataframe\">\n",
              "  <thead>\n",
              "    <tr style=\"text-align: right;\">\n",
              "      <th></th>\n",
              "      <th>data_ref</th>\n",
              "      <th>index</th>\n",
              "      <th>sexo</th>\n",
              "      <th>posse_de_veiculo</th>\n",
              "      <th>posse_de_imovel</th>\n",
              "      <th>qtd_filhos</th>\n",
              "      <th>tipo_renda</th>\n",
              "      <th>educacao</th>\n",
              "      <th>estado_civil</th>\n",
              "      <th>tipo_residencia</th>\n",
              "      <th>idade</th>\n",
              "      <th>tempo_emprego</th>\n",
              "      <th>qt_pessoas_residencia</th>\n",
              "      <th>renda</th>\n",
              "      <th>mau</th>\n",
              "    </tr>\n",
              "  </thead>\n",
              "  <tbody>\n",
              "    <tr>\n",
              "      <th>0</th>\n",
              "      <td>2015-01-01</td>\n",
              "      <td>5733</td>\n",
              "      <td>F</td>\n",
              "      <td>N</td>\n",
              "      <td>N</td>\n",
              "      <td>0</td>\n",
              "      <td>Empresário</td>\n",
              "      <td>Médio</td>\n",
              "      <td>Solteiro</td>\n",
              "      <td>Casa</td>\n",
              "      <td>43</td>\n",
              "      <td>6.873973</td>\n",
              "      <td>1.0</td>\n",
              "      <td>2515.39</td>\n",
              "      <td>False</td>\n",
              "    </tr>\n",
              "    <tr>\n",
              "      <th>1</th>\n",
              "      <td>2015-01-01</td>\n",
              "      <td>727</td>\n",
              "      <td>F</td>\n",
              "      <td>S</td>\n",
              "      <td>S</td>\n",
              "      <td>0</td>\n",
              "      <td>Assalariado</td>\n",
              "      <td>Médio</td>\n",
              "      <td>Casado</td>\n",
              "      <td>Casa</td>\n",
              "      <td>35</td>\n",
              "      <td>4.526027</td>\n",
              "      <td>2.0</td>\n",
              "      <td>3180.19</td>\n",
              "      <td>False</td>\n",
              "    </tr>\n",
              "    <tr>\n",
              "      <th>2</th>\n",
              "      <td>2015-01-01</td>\n",
              "      <td>6374</td>\n",
              "      <td>F</td>\n",
              "      <td>N</td>\n",
              "      <td>N</td>\n",
              "      <td>2</td>\n",
              "      <td>Assalariado</td>\n",
              "      <td>Médio</td>\n",
              "      <td>Casado</td>\n",
              "      <td>Casa</td>\n",
              "      <td>31</td>\n",
              "      <td>0.243836</td>\n",
              "      <td>4.0</td>\n",
              "      <td>1582.29</td>\n",
              "      <td>False</td>\n",
              "    </tr>\n",
              "    <tr>\n",
              "      <th>3</th>\n",
              "      <td>2015-01-01</td>\n",
              "      <td>9566</td>\n",
              "      <td>F</td>\n",
              "      <td>N</td>\n",
              "      <td>N</td>\n",
              "      <td>0</td>\n",
              "      <td>Assalariado</td>\n",
              "      <td>Médio</td>\n",
              "      <td>Casado</td>\n",
              "      <td>Casa</td>\n",
              "      <td>54</td>\n",
              "      <td>12.772603</td>\n",
              "      <td>2.0</td>\n",
              "      <td>13721.17</td>\n",
              "      <td>False</td>\n",
              "    </tr>\n",
              "    <tr>\n",
              "      <th>4</th>\n",
              "      <td>2015-01-01</td>\n",
              "      <td>9502</td>\n",
              "      <td>F</td>\n",
              "      <td>S</td>\n",
              "      <td>N</td>\n",
              "      <td>0</td>\n",
              "      <td>Assalariado</td>\n",
              "      <td>Superior incompleto</td>\n",
              "      <td>Solteiro</td>\n",
              "      <td>Casa</td>\n",
              "      <td>31</td>\n",
              "      <td>8.432877</td>\n",
              "      <td>1.0</td>\n",
              "      <td>2891.08</td>\n",
              "      <td>False</td>\n",
              "    </tr>\n",
              "  </tbody>\n",
              "</table>\n",
              "</div>\n",
              "    <div class=\"colab-df-buttons\">\n",
              "\n",
              "  <div class=\"colab-df-container\">\n",
              "    <button class=\"colab-df-convert\" onclick=\"convertToInteractive('df-3da34ffa-8b7b-48e7-a0ec-a74ff57d0bba')\"\n",
              "            title=\"Convert this dataframe to an interactive table.\"\n",
              "            style=\"display:none;\">\n",
              "\n",
              "  <svg xmlns=\"http://www.w3.org/2000/svg\" height=\"24px\" viewBox=\"0 -960 960 960\">\n",
              "    <path d=\"M120-120v-720h720v720H120Zm60-500h600v-160H180v160Zm220 220h160v-160H400v160Zm0 220h160v-160H400v160ZM180-400h160v-160H180v160Zm440 0h160v-160H620v160ZM180-180h160v-160H180v160Zm440 0h160v-160H620v160Z\"/>\n",
              "  </svg>\n",
              "    </button>\n",
              "\n",
              "  <style>\n",
              "    .colab-df-container {\n",
              "      display:flex;\n",
              "      gap: 12px;\n",
              "    }\n",
              "\n",
              "    .colab-df-convert {\n",
              "      background-color: #E8F0FE;\n",
              "      border: none;\n",
              "      border-radius: 50%;\n",
              "      cursor: pointer;\n",
              "      display: none;\n",
              "      fill: #1967D2;\n",
              "      height: 32px;\n",
              "      padding: 0 0 0 0;\n",
              "      width: 32px;\n",
              "    }\n",
              "\n",
              "    .colab-df-convert:hover {\n",
              "      background-color: #E2EBFA;\n",
              "      box-shadow: 0px 1px 2px rgba(60, 64, 67, 0.3), 0px 1px 3px 1px rgba(60, 64, 67, 0.15);\n",
              "      fill: #174EA6;\n",
              "    }\n",
              "\n",
              "    .colab-df-buttons div {\n",
              "      margin-bottom: 4px;\n",
              "    }\n",
              "\n",
              "    [theme=dark] .colab-df-convert {\n",
              "      background-color: #3B4455;\n",
              "      fill: #D2E3FC;\n",
              "    }\n",
              "\n",
              "    [theme=dark] .colab-df-convert:hover {\n",
              "      background-color: #434B5C;\n",
              "      box-shadow: 0px 1px 3px 1px rgba(0, 0, 0, 0.15);\n",
              "      filter: drop-shadow(0px 1px 2px rgba(0, 0, 0, 0.3));\n",
              "      fill: #FFFFFF;\n",
              "    }\n",
              "  </style>\n",
              "\n",
              "    <script>\n",
              "      const buttonEl =\n",
              "        document.querySelector('#df-3da34ffa-8b7b-48e7-a0ec-a74ff57d0bba button.colab-df-convert');\n",
              "      buttonEl.style.display =\n",
              "        google.colab.kernel.accessAllowed ? 'block' : 'none';\n",
              "\n",
              "      async function convertToInteractive(key) {\n",
              "        const element = document.querySelector('#df-3da34ffa-8b7b-48e7-a0ec-a74ff57d0bba');\n",
              "        const dataTable =\n",
              "          await google.colab.kernel.invokeFunction('convertToInteractive',\n",
              "                                                    [key], {});\n",
              "        if (!dataTable) return;\n",
              "\n",
              "        const docLinkHtml = 'Like what you see? Visit the ' +\n",
              "          '<a target=\"_blank\" href=https://colab.research.google.com/notebooks/data_table.ipynb>data table notebook</a>'\n",
              "          + ' to learn more about interactive tables.';\n",
              "        element.innerHTML = '';\n",
              "        dataTable['output_type'] = 'display_data';\n",
              "        await google.colab.output.renderOutput(dataTable, element);\n",
              "        const docLink = document.createElement('div');\n",
              "        docLink.innerHTML = docLinkHtml;\n",
              "        element.appendChild(docLink);\n",
              "      }\n",
              "    </script>\n",
              "  </div>\n",
              "\n",
              "\n",
              "<div id=\"df-84ad33cc-bc8f-4789-91de-b099c3ab229a\">\n",
              "  <button class=\"colab-df-quickchart\" onclick=\"quickchart('df-84ad33cc-bc8f-4789-91de-b099c3ab229a')\"\n",
              "            title=\"Suggest charts\"\n",
              "            style=\"display:none;\">\n",
              "\n",
              "<svg xmlns=\"http://www.w3.org/2000/svg\" height=\"24px\"viewBox=\"0 0 24 24\"\n",
              "     width=\"24px\">\n",
              "    <g>\n",
              "        <path d=\"M19 3H5c-1.1 0-2 .9-2 2v14c0 1.1.9 2 2 2h14c1.1 0 2-.9 2-2V5c0-1.1-.9-2-2-2zM9 17H7v-7h2v7zm4 0h-2V7h2v10zm4 0h-2v-4h2v4z\"/>\n",
              "    </g>\n",
              "</svg>\n",
              "  </button>\n",
              "\n",
              "<style>\n",
              "  .colab-df-quickchart {\n",
              "      --bg-color: #E8F0FE;\n",
              "      --fill-color: #1967D2;\n",
              "      --hover-bg-color: #E2EBFA;\n",
              "      --hover-fill-color: #174EA6;\n",
              "      --disabled-fill-color: #AAA;\n",
              "      --disabled-bg-color: #DDD;\n",
              "  }\n",
              "\n",
              "  [theme=dark] .colab-df-quickchart {\n",
              "      --bg-color: #3B4455;\n",
              "      --fill-color: #D2E3FC;\n",
              "      --hover-bg-color: #434B5C;\n",
              "      --hover-fill-color: #FFFFFF;\n",
              "      --disabled-bg-color: #3B4455;\n",
              "      --disabled-fill-color: #666;\n",
              "  }\n",
              "\n",
              "  .colab-df-quickchart {\n",
              "    background-color: var(--bg-color);\n",
              "    border: none;\n",
              "    border-radius: 50%;\n",
              "    cursor: pointer;\n",
              "    display: none;\n",
              "    fill: var(--fill-color);\n",
              "    height: 32px;\n",
              "    padding: 0;\n",
              "    width: 32px;\n",
              "  }\n",
              "\n",
              "  .colab-df-quickchart:hover {\n",
              "    background-color: var(--hover-bg-color);\n",
              "    box-shadow: 0 1px 2px rgba(60, 64, 67, 0.3), 0 1px 3px 1px rgba(60, 64, 67, 0.15);\n",
              "    fill: var(--button-hover-fill-color);\n",
              "  }\n",
              "\n",
              "  .colab-df-quickchart-complete:disabled,\n",
              "  .colab-df-quickchart-complete:disabled:hover {\n",
              "    background-color: var(--disabled-bg-color);\n",
              "    fill: var(--disabled-fill-color);\n",
              "    box-shadow: none;\n",
              "  }\n",
              "\n",
              "  .colab-df-spinner {\n",
              "    border: 2px solid var(--fill-color);\n",
              "    border-color: transparent;\n",
              "    border-bottom-color: var(--fill-color);\n",
              "    animation:\n",
              "      spin 1s steps(1) infinite;\n",
              "  }\n",
              "\n",
              "  @keyframes spin {\n",
              "    0% {\n",
              "      border-color: transparent;\n",
              "      border-bottom-color: var(--fill-color);\n",
              "      border-left-color: var(--fill-color);\n",
              "    }\n",
              "    20% {\n",
              "      border-color: transparent;\n",
              "      border-left-color: var(--fill-color);\n",
              "      border-top-color: var(--fill-color);\n",
              "    }\n",
              "    30% {\n",
              "      border-color: transparent;\n",
              "      border-left-color: var(--fill-color);\n",
              "      border-top-color: var(--fill-color);\n",
              "      border-right-color: var(--fill-color);\n",
              "    }\n",
              "    40% {\n",
              "      border-color: transparent;\n",
              "      border-right-color: var(--fill-color);\n",
              "      border-top-color: var(--fill-color);\n",
              "    }\n",
              "    60% {\n",
              "      border-color: transparent;\n",
              "      border-right-color: var(--fill-color);\n",
              "    }\n",
              "    80% {\n",
              "      border-color: transparent;\n",
              "      border-right-color: var(--fill-color);\n",
              "      border-bottom-color: var(--fill-color);\n",
              "    }\n",
              "    90% {\n",
              "      border-color: transparent;\n",
              "      border-bottom-color: var(--fill-color);\n",
              "    }\n",
              "  }\n",
              "</style>\n",
              "\n",
              "  <script>\n",
              "    async function quickchart(key) {\n",
              "      const quickchartButtonEl =\n",
              "        document.querySelector('#' + key + ' button');\n",
              "      quickchartButtonEl.disabled = true;  // To prevent multiple clicks.\n",
              "      quickchartButtonEl.classList.add('colab-df-spinner');\n",
              "      try {\n",
              "        const charts = await google.colab.kernel.invokeFunction(\n",
              "            'suggestCharts', [key], {});\n",
              "      } catch (error) {\n",
              "        console.error('Error during call to suggestCharts:', error);\n",
              "      }\n",
              "      quickchartButtonEl.classList.remove('colab-df-spinner');\n",
              "      quickchartButtonEl.classList.add('colab-df-quickchart-complete');\n",
              "    }\n",
              "    (() => {\n",
              "      let quickchartButtonEl =\n",
              "        document.querySelector('#df-84ad33cc-bc8f-4789-91de-b099c3ab229a button');\n",
              "      quickchartButtonEl.style.display =\n",
              "        google.colab.kernel.accessAllowed ? 'block' : 'none';\n",
              "    })();\n",
              "  </script>\n",
              "</div>\n",
              "\n",
              "    </div>\n",
              "  </div>\n"
            ],
            "application/vnd.google.colaboratory.intrinsic+json": {
              "type": "dataframe",
              "variable_name": "df"
            }
          },
          "metadata": {},
          "execution_count": 81
        }
      ],
      "source": [
        "df = pd.read_feather('/content/drive/MyDrive/credit_scoring.ftr')\n",
        "df.head(5)"
      ]
    },
    {
      "cell_type": "code",
      "execution_count": 82,
      "metadata": {
        "id": "MNBoAKNqC06L"
      },
      "outputs": [],
      "source": [
        "data = df.drop(['data_ref', 'index'], axis=1)"
      ]
    },
    {
      "cell_type": "code",
      "execution_count": 83,
      "metadata": {
        "colab": {
          "base_uri": "https://localhost:8080/",
          "height": 896
        },
        "id": "CMYz2iVcBczU",
        "outputId": "a1095ae0-89b2-4ed3-c2f1-2b358f767d4f"
      },
      "outputs": [
        {
          "output_type": "display_data",
          "data": {
            "text/plain": [
              "<pandas.io.formats.style.Styler at 0x7f010297d7e0>"
            ],
            "text/html": [
              "<style type=\"text/css\">\n",
              "#T_90896_row10_col1, #T_90896_row16_col1, #T_90896_row18_col1 {\n",
              "  background-color: lightgreen;\n",
              "}\n",
              "</style>\n",
              "<table id=\"T_90896\" class=\"dataframe\">\n",
              "  <thead>\n",
              "    <tr>\n",
              "      <th class=\"blank level0\" >&nbsp;</th>\n",
              "      <th id=\"T_90896_level0_col0\" class=\"col_heading level0 col0\" >Description</th>\n",
              "      <th id=\"T_90896_level0_col1\" class=\"col_heading level0 col1\" >Value</th>\n",
              "    </tr>\n",
              "  </thead>\n",
              "  <tbody>\n",
              "    <tr>\n",
              "      <th id=\"T_90896_level0_row0\" class=\"row_heading level0 row0\" >0</th>\n",
              "      <td id=\"T_90896_row0_col0\" class=\"data row0 col0\" >Session id</td>\n",
              "      <td id=\"T_90896_row0_col1\" class=\"data row0 col1\" >123</td>\n",
              "    </tr>\n",
              "    <tr>\n",
              "      <th id=\"T_90896_level0_row1\" class=\"row_heading level0 row1\" >1</th>\n",
              "      <td id=\"T_90896_row1_col0\" class=\"data row1 col0\" >Target</td>\n",
              "      <td id=\"T_90896_row1_col1\" class=\"data row1 col1\" >mau</td>\n",
              "    </tr>\n",
              "    <tr>\n",
              "      <th id=\"T_90896_level0_row2\" class=\"row_heading level0 row2\" >2</th>\n",
              "      <td id=\"T_90896_row2_col0\" class=\"data row2 col0\" >Target type</td>\n",
              "      <td id=\"T_90896_row2_col1\" class=\"data row2 col1\" >Binary</td>\n",
              "    </tr>\n",
              "    <tr>\n",
              "      <th id=\"T_90896_level0_row3\" class=\"row_heading level0 row3\" >3</th>\n",
              "      <td id=\"T_90896_row3_col0\" class=\"data row3 col0\" >Original data shape</td>\n",
              "      <td id=\"T_90896_row3_col1\" class=\"data row3 col1\" >(750000, 13)</td>\n",
              "    </tr>\n",
              "    <tr>\n",
              "      <th id=\"T_90896_level0_row4\" class=\"row_heading level0 row4\" >4</th>\n",
              "      <td id=\"T_90896_row4_col0\" class=\"data row4 col0\" >Transformed data shape</td>\n",
              "      <td id=\"T_90896_row4_col1\" class=\"data row4 col1\" >(723761, 30)</td>\n",
              "    </tr>\n",
              "    <tr>\n",
              "      <th id=\"T_90896_level0_row5\" class=\"row_heading level0 row5\" >5</th>\n",
              "      <td id=\"T_90896_row5_col0\" class=\"data row5 col0\" >Transformed train set shape</td>\n",
              "      <td id=\"T_90896_row5_col1\" class=\"data row5 col1\" >(498761, 30)</td>\n",
              "    </tr>\n",
              "    <tr>\n",
              "      <th id=\"T_90896_level0_row6\" class=\"row_heading level0 row6\" >6</th>\n",
              "      <td id=\"T_90896_row6_col0\" class=\"data row6 col0\" >Transformed test set shape</td>\n",
              "      <td id=\"T_90896_row6_col1\" class=\"data row6 col1\" >(225000, 30)</td>\n",
              "    </tr>\n",
              "    <tr>\n",
              "      <th id=\"T_90896_level0_row7\" class=\"row_heading level0 row7\" >7</th>\n",
              "      <td id=\"T_90896_row7_col0\" class=\"data row7 col0\" >Numeric features</td>\n",
              "      <td id=\"T_90896_row7_col1\" class=\"data row7 col1\" >5</td>\n",
              "    </tr>\n",
              "    <tr>\n",
              "      <th id=\"T_90896_level0_row8\" class=\"row_heading level0 row8\" >8</th>\n",
              "      <td id=\"T_90896_row8_col0\" class=\"data row8 col0\" >Categorical features</td>\n",
              "      <td id=\"T_90896_row8_col1\" class=\"data row8 col1\" >7</td>\n",
              "    </tr>\n",
              "    <tr>\n",
              "      <th id=\"T_90896_level0_row9\" class=\"row_heading level0 row9\" >9</th>\n",
              "      <td id=\"T_90896_row9_col0\" class=\"data row9 col0\" >Rows with missing values</td>\n",
              "      <td id=\"T_90896_row9_col1\" class=\"data row9 col1\" >16.8%</td>\n",
              "    </tr>\n",
              "    <tr>\n",
              "      <th id=\"T_90896_level0_row10\" class=\"row_heading level0 row10\" >10</th>\n",
              "      <td id=\"T_90896_row10_col0\" class=\"data row10 col0\" >Preprocess</td>\n",
              "      <td id=\"T_90896_row10_col1\" class=\"data row10 col1\" >True</td>\n",
              "    </tr>\n",
              "    <tr>\n",
              "      <th id=\"T_90896_level0_row11\" class=\"row_heading level0 row11\" >11</th>\n",
              "      <td id=\"T_90896_row11_col0\" class=\"data row11 col0\" >Imputation type</td>\n",
              "      <td id=\"T_90896_row11_col1\" class=\"data row11 col1\" >simple</td>\n",
              "    </tr>\n",
              "    <tr>\n",
              "      <th id=\"T_90896_level0_row12\" class=\"row_heading level0 row12\" >12</th>\n",
              "      <td id=\"T_90896_row12_col0\" class=\"data row12 col0\" >Numeric imputation</td>\n",
              "      <td id=\"T_90896_row12_col1\" class=\"data row12 col1\" >median</td>\n",
              "    </tr>\n",
              "    <tr>\n",
              "      <th id=\"T_90896_level0_row13\" class=\"row_heading level0 row13\" >13</th>\n",
              "      <td id=\"T_90896_row13_col0\" class=\"data row13 col0\" >Categorical imputation</td>\n",
              "      <td id=\"T_90896_row13_col1\" class=\"data row13 col1\" >mode</td>\n",
              "    </tr>\n",
              "    <tr>\n",
              "      <th id=\"T_90896_level0_row14\" class=\"row_heading level0 row14\" >14</th>\n",
              "      <td id=\"T_90896_row14_col0\" class=\"data row14 col0\" >Maximum one-hot encoding</td>\n",
              "      <td id=\"T_90896_row14_col1\" class=\"data row14 col1\" >25</td>\n",
              "    </tr>\n",
              "    <tr>\n",
              "      <th id=\"T_90896_level0_row15\" class=\"row_heading level0 row15\" >15</th>\n",
              "      <td id=\"T_90896_row15_col0\" class=\"data row15 col0\" >Encoding method</td>\n",
              "      <td id=\"T_90896_row15_col1\" class=\"data row15 col1\" >category-encoders estimator</td>\n",
              "    </tr>\n",
              "    <tr>\n",
              "      <th id=\"T_90896_level0_row16\" class=\"row_heading level0 row16\" >16</th>\n",
              "      <td id=\"T_90896_row16_col0\" class=\"data row16 col0\" >Remove multicollinearity</td>\n",
              "      <td id=\"T_90896_row16_col1\" class=\"data row16 col1\" >True</td>\n",
              "    </tr>\n",
              "    <tr>\n",
              "      <th id=\"T_90896_level0_row17\" class=\"row_heading level0 row17\" >17</th>\n",
              "      <td id=\"T_90896_row17_col0\" class=\"data row17 col0\" >Multicollinearity threshold</td>\n",
              "      <td id=\"T_90896_row17_col1\" class=\"data row17 col1\" >0.900000</td>\n",
              "    </tr>\n",
              "    <tr>\n",
              "      <th id=\"T_90896_level0_row18\" class=\"row_heading level0 row18\" >18</th>\n",
              "      <td id=\"T_90896_row18_col0\" class=\"data row18 col0\" >Remove outliers</td>\n",
              "      <td id=\"T_90896_row18_col1\" class=\"data row18 col1\" >True</td>\n",
              "    </tr>\n",
              "    <tr>\n",
              "      <th id=\"T_90896_level0_row19\" class=\"row_heading level0 row19\" >19</th>\n",
              "      <td id=\"T_90896_row19_col0\" class=\"data row19 col0\" >Outliers threshold</td>\n",
              "      <td id=\"T_90896_row19_col1\" class=\"data row19 col1\" >0.050000</td>\n",
              "    </tr>\n",
              "    <tr>\n",
              "      <th id=\"T_90896_level0_row20\" class=\"row_heading level0 row20\" >20</th>\n",
              "      <td id=\"T_90896_row20_col0\" class=\"data row20 col0\" >Fold Generator</td>\n",
              "      <td id=\"T_90896_row20_col1\" class=\"data row20 col1\" >StratifiedKFold</td>\n",
              "    </tr>\n",
              "    <tr>\n",
              "      <th id=\"T_90896_level0_row21\" class=\"row_heading level0 row21\" >21</th>\n",
              "      <td id=\"T_90896_row21_col0\" class=\"data row21 col0\" >Fold Number</td>\n",
              "      <td id=\"T_90896_row21_col1\" class=\"data row21 col1\" >10</td>\n",
              "    </tr>\n",
              "    <tr>\n",
              "      <th id=\"T_90896_level0_row22\" class=\"row_heading level0 row22\" >22</th>\n",
              "      <td id=\"T_90896_row22_col0\" class=\"data row22 col0\" >CPU Jobs</td>\n",
              "      <td id=\"T_90896_row22_col1\" class=\"data row22 col1\" >-1</td>\n",
              "    </tr>\n",
              "    <tr>\n",
              "      <th id=\"T_90896_level0_row23\" class=\"row_heading level0 row23\" >23</th>\n",
              "      <td id=\"T_90896_row23_col0\" class=\"data row23 col0\" >Use GPU</td>\n",
              "      <td id=\"T_90896_row23_col1\" class=\"data row23 col1\" >False</td>\n",
              "    </tr>\n",
              "    <tr>\n",
              "      <th id=\"T_90896_level0_row24\" class=\"row_heading level0 row24\" >24</th>\n",
              "      <td id=\"T_90896_row24_col0\" class=\"data row24 col0\" >Log Experiment</td>\n",
              "      <td id=\"T_90896_row24_col1\" class=\"data row24 col1\" >False</td>\n",
              "    </tr>\n",
              "    <tr>\n",
              "      <th id=\"T_90896_level0_row25\" class=\"row_heading level0 row25\" >25</th>\n",
              "      <td id=\"T_90896_row25_col0\" class=\"data row25 col0\" >Experiment Name</td>\n",
              "      <td id=\"T_90896_row25_col1\" class=\"data row25 col1\" >clf-default-name</td>\n",
              "    </tr>\n",
              "    <tr>\n",
              "      <th id=\"T_90896_level0_row26\" class=\"row_heading level0 row26\" >26</th>\n",
              "      <td id=\"T_90896_row26_col0\" class=\"data row26 col0\" >USI</td>\n",
              "      <td id=\"T_90896_row26_col1\" class=\"data row26 col1\" >9ced</td>\n",
              "    </tr>\n",
              "  </tbody>\n",
              "</table>\n"
            ]
          },
          "metadata": {}
        }
      ],
      "source": [
        "clf = setup(data = data,\n",
        "            target = 'mau',\n",
        "            encoding_method='category-encoders estimator',\n",
        "            numeric_imputation='median',\n",
        "            remove_outliers=True,\n",
        "            remove_multicollinearity = True,\n",
        "            session_id=123)"
      ]
    },
    {
      "cell_type": "code",
      "execution_count": 84,
      "metadata": {
        "colab": {
          "base_uri": "https://localhost:8080/",
          "height": 457,
          "referenced_widgets": [
            "025c2c02c40f4fb8a153d3984ddf20cb",
            "b0d7f905372a443ba4a452e51dff2048",
            "837e56fea83d47bc979e577a18c7c480",
            "f8337b5e63434fffba7ae98127af2853",
            "a0ee758a208c46418c1f3754dd708674",
            "4378b1372aee484f887472c1b0b5aa00",
            "05f5c69f0ec245c6b3b2f91be04b4d92",
            "e10fb7786ce3432fa170fe23977c4456",
            "190085fee94046cf80cb9bd9f1a516fb",
            "d8f4ac8928e440fab99e06d5ee3c8e18",
            "52f11dcf017b4305a628b9b903b93c9f"
          ]
        },
        "id": "2dBEFQoVCjlB",
        "outputId": "2b840f91-798e-4d95-8909-4e64ffaabc86"
      },
      "outputs": [
        {
          "output_type": "display_data",
          "data": {
            "text/plain": [
              "<IPython.core.display.HTML object>"
            ],
            "text/html": []
          },
          "metadata": {}
        },
        {
          "output_type": "display_data",
          "data": {
            "text/plain": [
              "<pandas.io.formats.style.Styler at 0x7f00eba67e80>"
            ],
            "text/html": [
              "<style type=\"text/css\">\n",
              "#T_d2d58_row10_col0, #T_d2d58_row10_col1, #T_d2d58_row10_col2, #T_d2d58_row10_col3, #T_d2d58_row10_col4, #T_d2d58_row10_col5, #T_d2d58_row10_col6 {\n",
              "  background: yellow;\n",
              "}\n",
              "</style>\n",
              "<table id=\"T_d2d58\" class=\"dataframe\">\n",
              "  <thead>\n",
              "    <tr>\n",
              "      <th class=\"blank level0\" >&nbsp;</th>\n",
              "      <th id=\"T_d2d58_level0_col0\" class=\"col_heading level0 col0\" >Accuracy</th>\n",
              "      <th id=\"T_d2d58_level0_col1\" class=\"col_heading level0 col1\" >AUC</th>\n",
              "      <th id=\"T_d2d58_level0_col2\" class=\"col_heading level0 col2\" >Recall</th>\n",
              "      <th id=\"T_d2d58_level0_col3\" class=\"col_heading level0 col3\" >Prec.</th>\n",
              "      <th id=\"T_d2d58_level0_col4\" class=\"col_heading level0 col4\" >F1</th>\n",
              "      <th id=\"T_d2d58_level0_col5\" class=\"col_heading level0 col5\" >Kappa</th>\n",
              "      <th id=\"T_d2d58_level0_col6\" class=\"col_heading level0 col6\" >MCC</th>\n",
              "    </tr>\n",
              "    <tr>\n",
              "      <th class=\"index_name level0\" >Fold</th>\n",
              "      <th class=\"blank col0\" >&nbsp;</th>\n",
              "      <th class=\"blank col1\" >&nbsp;</th>\n",
              "      <th class=\"blank col2\" >&nbsp;</th>\n",
              "      <th class=\"blank col3\" >&nbsp;</th>\n",
              "      <th class=\"blank col4\" >&nbsp;</th>\n",
              "      <th class=\"blank col5\" >&nbsp;</th>\n",
              "      <th class=\"blank col6\" >&nbsp;</th>\n",
              "    </tr>\n",
              "  </thead>\n",
              "  <tbody>\n",
              "    <tr>\n",
              "      <th id=\"T_d2d58_level0_row0\" class=\"row_heading level0 row0\" >0</th>\n",
              "      <td id=\"T_d2d58_row0_col0\" class=\"data row0 col0\" >0.9220</td>\n",
              "      <td id=\"T_d2d58_row0_col1\" class=\"data row0 col1\" >0.7714</td>\n",
              "      <td id=\"T_d2d58_row0_col2\" class=\"data row0 col2\" >0.0244</td>\n",
              "      <td id=\"T_d2d58_row0_col3\" class=\"data row0 col3\" >0.5263</td>\n",
              "      <td id=\"T_d2d58_row0_col4\" class=\"data row0 col4\" >0.0466</td>\n",
              "      <td id=\"T_d2d58_row0_col5\" class=\"data row0 col5\" >0.0399</td>\n",
              "      <td id=\"T_d2d58_row0_col6\" class=\"data row0 col6\" >0.1006</td>\n",
              "    </tr>\n",
              "    <tr>\n",
              "      <th id=\"T_d2d58_level0_row1\" class=\"row_heading level0 row1\" >1</th>\n",
              "      <td id=\"T_d2d58_row1_col0\" class=\"data row1 col0\" >0.9220</td>\n",
              "      <td id=\"T_d2d58_row1_col1\" class=\"data row1 col1\" >0.7871</td>\n",
              "      <td id=\"T_d2d58_row1_col2\" class=\"data row1 col2\" >0.0251</td>\n",
              "      <td id=\"T_d2d58_row1_col3\" class=\"data row1 col3\" >0.5228</td>\n",
              "      <td id=\"T_d2d58_row1_col4\" class=\"data row1 col4\" >0.0479</td>\n",
              "      <td id=\"T_d2d58_row1_col5\" class=\"data row1 col5\" >0.0410</td>\n",
              "      <td id=\"T_d2d58_row1_col6\" class=\"data row1 col6\" >0.1016</td>\n",
              "    </tr>\n",
              "    <tr>\n",
              "      <th id=\"T_d2d58_level0_row2\" class=\"row_heading level0 row2\" >2</th>\n",
              "      <td id=\"T_d2d58_row2_col0\" class=\"data row2 col0\" >0.9226</td>\n",
              "      <td id=\"T_d2d58_row2_col1\" class=\"data row2 col1\" >0.7787</td>\n",
              "      <td id=\"T_d2d58_row2_col2\" class=\"data row2 col2\" >0.0283</td>\n",
              "      <td id=\"T_d2d58_row2_col3\" class=\"data row2 col3\" >0.6073</td>\n",
              "      <td id=\"T_d2d58_row2_col4\" class=\"data row2 col4\" >0.0540</td>\n",
              "      <td id=\"T_d2d58_row2_col5\" class=\"data row2 col5\" >0.0474</td>\n",
              "      <td id=\"T_d2d58_row2_col6\" class=\"data row2 col6\" >0.1191</td>\n",
              "    </tr>\n",
              "    <tr>\n",
              "      <th id=\"T_d2d58_level0_row3\" class=\"row_heading level0 row3\" >3</th>\n",
              "      <td id=\"T_d2d58_row3_col0\" class=\"data row3 col0\" >0.9222</td>\n",
              "      <td id=\"T_d2d58_row3_col1\" class=\"data row3 col1\" >0.7819</td>\n",
              "      <td id=\"T_d2d58_row3_col2\" class=\"data row3 col2\" >0.0244</td>\n",
              "      <td id=\"T_d2d58_row3_col3\" class=\"data row3 col3\" >0.5495</td>\n",
              "      <td id=\"T_d2d58_row3_col4\" class=\"data row3 col4\" >0.0467</td>\n",
              "      <td id=\"T_d2d58_row3_col5\" class=\"data row3 col5\" >0.0403</td>\n",
              "      <td id=\"T_d2d58_row3_col6\" class=\"data row3 col6\" >0.1035</td>\n",
              "    </tr>\n",
              "    <tr>\n",
              "      <th id=\"T_d2d58_level0_row4\" class=\"row_heading level0 row4\" >4</th>\n",
              "      <td id=\"T_d2d58_row4_col0\" class=\"data row4 col0\" >0.9219</td>\n",
              "      <td id=\"T_d2d58_row4_col1\" class=\"data row4 col1\" >0.7840</td>\n",
              "      <td id=\"T_d2d58_row4_col2\" class=\"data row4 col2\" >0.0222</td>\n",
              "      <td id=\"T_d2d58_row4_col3\" class=\"data row4 col3\" >0.5170</td>\n",
              "      <td id=\"T_d2d58_row4_col4\" class=\"data row4 col4\" >0.0425</td>\n",
              "      <td id=\"T_d2d58_row4_col5\" class=\"data row4 col5\" >0.0363</td>\n",
              "      <td id=\"T_d2d58_row4_col6\" class=\"data row4 col6\" >0.0948</td>\n",
              "    </tr>\n",
              "    <tr>\n",
              "      <th id=\"T_d2d58_level0_row5\" class=\"row_heading level0 row5\" >5</th>\n",
              "      <td id=\"T_d2d58_row5_col0\" class=\"data row5 col0\" >0.9225</td>\n",
              "      <td id=\"T_d2d58_row5_col1\" class=\"data row5 col1\" >0.7768</td>\n",
              "      <td id=\"T_d2d58_row5_col2\" class=\"data row5 col2\" >0.0261</td>\n",
              "      <td id=\"T_d2d58_row5_col3\" class=\"data row5 col3\" >0.6011</td>\n",
              "      <td id=\"T_d2d58_row5_col4\" class=\"data row5 col4\" >0.0500</td>\n",
              "      <td id=\"T_d2d58_row5_col5\" class=\"data row5 col5\" >0.0438</td>\n",
              "      <td id=\"T_d2d58_row5_col6\" class=\"data row5 col6\" >0.1136</td>\n",
              "    </tr>\n",
              "    <tr>\n",
              "      <th id=\"T_d2d58_level0_row6\" class=\"row_heading level0 row6\" >6</th>\n",
              "      <td id=\"T_d2d58_row6_col0\" class=\"data row6 col0\" >0.9224</td>\n",
              "      <td id=\"T_d2d58_row6_col1\" class=\"data row6 col1\" >0.7830</td>\n",
              "      <td id=\"T_d2d58_row6_col2\" class=\"data row6 col2\" >0.0258</td>\n",
              "      <td id=\"T_d2d58_row6_col3\" class=\"data row6 col3\" >0.5856</td>\n",
              "      <td id=\"T_d2d58_row6_col4\" class=\"data row6 col4\" >0.0495</td>\n",
              "      <td id=\"T_d2d58_row6_col5\" class=\"data row6 col5\" >0.0431</td>\n",
              "      <td id=\"T_d2d58_row6_col6\" class=\"data row6 col6\" >0.1112</td>\n",
              "    </tr>\n",
              "    <tr>\n",
              "      <th id=\"T_d2d58_level0_row7\" class=\"row_heading level0 row7\" >7</th>\n",
              "      <td id=\"T_d2d58_row7_col0\" class=\"data row7 col0\" >0.9219</td>\n",
              "      <td id=\"T_d2d58_row7_col1\" class=\"data row7 col1\" >0.7791</td>\n",
              "      <td id=\"T_d2d58_row7_col2\" class=\"data row7 col2\" >0.0246</td>\n",
              "      <td id=\"T_d2d58_row7_col3\" class=\"data row7 col3\" >0.5101</td>\n",
              "      <td id=\"T_d2d58_row7_col4\" class=\"data row7 col4\" >0.0469</td>\n",
              "      <td id=\"T_d2d58_row7_col5\" class=\"data row7 col5\" >0.0400</td>\n",
              "      <td id=\"T_d2d58_row7_col6\" class=\"data row7 col6\" >0.0990</td>\n",
              "    </tr>\n",
              "    <tr>\n",
              "      <th id=\"T_d2d58_level0_row8\" class=\"row_heading level0 row8\" >8</th>\n",
              "      <td id=\"T_d2d58_row8_col0\" class=\"data row8 col0\" >0.9218</td>\n",
              "      <td id=\"T_d2d58_row8_col1\" class=\"data row8 col1\" >0.7788</td>\n",
              "      <td id=\"T_d2d58_row8_col2\" class=\"data row8 col2\" >0.0207</td>\n",
              "      <td id=\"T_d2d58_row8_col3\" class=\"data row8 col3\" >0.5030</td>\n",
              "      <td id=\"T_d2d58_row8_col4\" class=\"data row8 col4\" >0.0398</td>\n",
              "      <td id=\"T_d2d58_row8_col5\" class=\"data row8 col5\" >0.0338</td>\n",
              "      <td id=\"T_d2d58_row8_col6\" class=\"data row8 col6\" >0.0899</td>\n",
              "    </tr>\n",
              "    <tr>\n",
              "      <th id=\"T_d2d58_level0_row9\" class=\"row_heading level0 row9\" >9</th>\n",
              "      <td id=\"T_d2d58_row9_col0\" class=\"data row9 col0\" >0.9217</td>\n",
              "      <td id=\"T_d2d58_row9_col1\" class=\"data row9 col1\" >0.7797</td>\n",
              "      <td id=\"T_d2d58_row9_col2\" class=\"data row9 col2\" >0.0171</td>\n",
              "      <td id=\"T_d2d58_row9_col3\" class=\"data row9 col3\" >0.4861</td>\n",
              "      <td id=\"T_d2d58_row9_col4\" class=\"data row9 col4\" >0.0329</td>\n",
              "      <td id=\"T_d2d58_row9_col5\" class=\"data row9 col5\" >0.0278</td>\n",
              "      <td id=\"T_d2d58_row9_col6\" class=\"data row9 col6\" >0.0797</td>\n",
              "    </tr>\n",
              "    <tr>\n",
              "      <th id=\"T_d2d58_level0_row10\" class=\"row_heading level0 row10\" >Mean</th>\n",
              "      <td id=\"T_d2d58_row10_col0\" class=\"data row10 col0\" >0.9221</td>\n",
              "      <td id=\"T_d2d58_row10_col1\" class=\"data row10 col1\" >0.7800</td>\n",
              "      <td id=\"T_d2d58_row10_col2\" class=\"data row10 col2\" >0.0238</td>\n",
              "      <td id=\"T_d2d58_row10_col3\" class=\"data row10 col3\" >0.5409</td>\n",
              "      <td id=\"T_d2d58_row10_col4\" class=\"data row10 col4\" >0.0457</td>\n",
              "      <td id=\"T_d2d58_row10_col5\" class=\"data row10 col5\" >0.0393</td>\n",
              "      <td id=\"T_d2d58_row10_col6\" class=\"data row10 col6\" >0.1013</td>\n",
              "    </tr>\n",
              "    <tr>\n",
              "      <th id=\"T_d2d58_level0_row11\" class=\"row_heading level0 row11\" >Std</th>\n",
              "      <td id=\"T_d2d58_row11_col0\" class=\"data row11 col0\" >0.0003</td>\n",
              "      <td id=\"T_d2d58_row11_col1\" class=\"data row11 col1\" >0.0041</td>\n",
              "      <td id=\"T_d2d58_row11_col2\" class=\"data row11 col2\" >0.0030</td>\n",
              "      <td id=\"T_d2d58_row11_col3\" class=\"data row11 col3\" >0.0408</td>\n",
              "      <td id=\"T_d2d58_row11_col4\" class=\"data row11 col4\" >0.0056</td>\n",
              "      <td id=\"T_d2d58_row11_col5\" class=\"data row11 col5\" >0.0053</td>\n",
              "      <td id=\"T_d2d58_row11_col6\" class=\"data row11 col6\" >0.0110</td>\n",
              "    </tr>\n",
              "  </tbody>\n",
              "</table>\n"
            ]
          },
          "metadata": {}
        },
        {
          "output_type": "display_data",
          "data": {
            "text/plain": [
              "Processing:   0%|          | 0/4 [00:00<?, ?it/s]"
            ],
            "application/vnd.jupyter.widget-view+json": {
              "version_major": 2,
              "version_minor": 0,
              "model_id": "025c2c02c40f4fb8a153d3984ddf20cb"
            }
          },
          "metadata": {
            "application/vnd.jupyter.widget-view+json": {
              "colab": {
                "custom_widget_manager": {
                  "url": "https://ssl.gstatic.com/colaboratory-static/widgets/colab-cdn-widget-manager/2b70e893a8ba7c0f/manager.min.js"
                }
              }
            }
          }
        },
        {
          "output_type": "display_data",
          "data": {
            "text/plain": [
              "<IPython.core.display.HTML object>"
            ],
            "text/html": []
          },
          "metadata": {}
        }
      ],
      "source": [
        "lightgbm = create_model('lightgbm')"
      ]
    },
    {
      "cell_type": "code",
      "execution_count": 85,
      "metadata": {
        "colab": {
          "base_uri": "https://localhost:8080/",
          "height": 524
        },
        "id": "FCrf40yQixIV",
        "outputId": "c0be507a-0749-45c2-ab42-514a610a528c"
      },
      "outputs": [
        {
          "output_type": "display_data",
          "data": {
            "text/plain": [
              "<IPython.core.display.HTML object>"
            ],
            "text/html": []
          },
          "metadata": {}
        },
        {
          "output_type": "display_data",
          "data": {
            "text/plain": [
              "<Figure size 800x550 with 1 Axes>"
            ],
            "image/png": "[encoded data removed]"
          },
          "metadata": {}
        }
      ],
      "source": [
        "plot_model(lightgbm)"
      ]
    },
    {
      "cell_type": "code",
      "execution_count": 86,
      "metadata": {
        "colab": {
          "base_uri": "https://localhost:8080/",
          "height": 551
        },
        "id": "sw12v0NeixIX",
        "outputId": "97f3a380-0a7e-4c24-9b97-83bd6d7e3d65"
      },
      "outputs": [
        {
          "output_type": "display_data",
          "data": {
            "text/plain": [
              "<IPython.core.display.HTML object>"
            ],
            "text/html": []
          },
          "metadata": {}
        },
        {
          "output_type": "display_data",
          "data": {
            "text/plain": [
              "<Figure size 800x550 with 1 Axes>"
            ],
            "image/png": "[encoded data removed]"
          },
          "metadata": {}
        }
      ],
      "source": [
        "plot_model(lightgbm, plot = 'confusion_matrix')"
      ]
    },
    {
      "cell_type": "code",
      "execution_count": 87,
      "metadata": {
        "colab": {
          "base_uri": "https://localhost:8080/",
          "height": 485
        },
        "id": "Y8yxDPGqixIY",
        "outputId": "c1771fa9-2455-45e2-c7cc-ac5461ca3fef"
      },
      "outputs": [
        {
          "output_type": "display_data",
          "data": {
            "text/plain": [
              "<IPython.core.display.HTML object>"
            ],
            "text/html": []
          },
          "metadata": {}
        },
        {
          "output_type": "display_data",
          "data": {
            "text/plain": [
              "<Figure size 800x500 with 1 Axes>"
            ],
            "image/png": "[encoded data removed]"
          },
          "metadata": {}
        }
      ],
      "source": [
        "plot_model(lightgbm, plot = 'feature')"
      ]
    },
    {
      "cell_type": "markdown",
      "metadata": {
        "id": "ViB69F707j-T"
      },
      "source": [
        "### Salvar o arquivo do modelo treinado"
      ]
    },
    {
      "cell_type": "code",
      "execution_count": 88,
      "metadata": {
        "colab": {
          "base_uri": "https://localhost:8080/"
        },
        "id": "XYtv3HU07j-T",
        "outputId": "fa118801-b2c7-4558-ef42-37d423ced6f0"
      },
      "outputs": [
        {
          "output_type": "stream",
          "name": "stdout",
          "text": [
            "Transformation Pipeline and Model Successfully Saved\n"
          ]
        },
        {
          "output_type": "execute_result",
          "data": {
            "text/plain": [
              "(Pipeline(memory=Memory(location=None),\n",
              "          steps=[('numerical_imputer',\n",
              "                  TransformerWrapper(exclude=None,\n",
              "                                     include=['qtd_filhos', 'idade',\n",
              "                                              'tempo_emprego',\n",
              "                                              'qt_pessoas_residencia', 'renda'],\n",
              "                                     transformer=SimpleImputer(add_indicator=False,\n",
              "                                                               copy=True,\n",
              "                                                               fill_value=None,\n",
              "                                                               keep_empty_features=False,\n",
              "                                                               missing_values=nan,\n",
              "                                                               strategy='median'))),\n",
              "                 ('categorical_imputer',\n",
              "                  TransformerW...\n",
              "                  LGBMClassifier(boosting_type='gbdt', class_weight=None,\n",
              "                                 colsample_bytree=1.0, importance_type='split',\n",
              "                                 learning_rate=0.1, max_depth=-1,\n",
              "                                 min_child_samples=20, min_child_weight=0.001,\n",
              "                                 min_split_gain=0.0, n_estimators=100, n_jobs=-1,\n",
              "                                 num_leaves=31, objective=None, random_state=123,\n",
              "                                 reg_alpha=0.0, reg_lambda=0.0, subsample=1.0,\n",
              "                                 subsample_for_bin=200000, subsample_freq=0))],\n",
              "          verbose=False),\n",
              " 'lightgbm-model.pkl')"
            ]
          },
          "metadata": {},
          "execution_count": 88
        }
      ],
      "source": [
        "save_model(lightgbm, model_name='lightgbm-model')"
      ]
    },
    {
      "cell_type": "markdown",
      "metadata": {
        "id": "mlGzVnXZ7j-U"
      },
      "source": [
        "# Projeto Final\n",
        "\n",
        "1. Subir no GITHUB todos os jupyter notebooks/códigos que você desenvolveu nesse ultimo módulo\n",
        "1. Gerar um arquivo python (.py) com todas as funções necessárias para rodar no streamlit a escoragem do arquivo de treino\n",
        "    - Criar um .py\n",
        "    - Criar um carregador de csv no streamlit\n",
        "    - Subir um csv no streamlit\n",
        "    - Criar um pipeline de pré processamento dos dados\n",
        "    - Utilizar o modelo treinado para escorar a base\n",
        "        - nome_arquivo = 'model_final.pkl'\n",
        "1. Gravar um vídeo da tela do streamlit em funcionamento (usando o próprio streamlit (temos aula disso) ou qlqr outra forma de gravação).\n",
        "1. Subir no Github o vídeo de funcionamento da ferramenta como README.md.\n",
        "1. Subir no Github os códigos desenvolvidos.\n",
        "1. Enviar links do github para o tutor corrigir."
      ]
    }
  ],
  "metadata": {
    "colab": {
      "provenance": []
    },
    "kernelspec": {
      "display_name": "Python 3",
      "language": "python",
      "name": "python3"
    },
    "language_info": {
      "codemirror_mode": {
        "name": "ipython",
        "version": 3
      },
      "file_extension": ".py",
      "mimetype": "text/x-python",
      "name": "python",
      "nbconvert_exporter": "python",
      "pygments_lexer": "ipython3",
      "version": "3.8.7"
    },
    "toc": {
      "base_numbering": 1,
      "nav_menu": {},
      "number_sections": false,
      "sideBar": true,
      "skip_h1_title": true,
      "title_cell": "Índice",
      "title_sidebar": "Conteúdo",
      "toc_cell": false,
      "toc_position": {},
      "toc_section_display": true,
      "toc_window_display": false
    },
    "varInspector": {
      "cols": {
        "lenName": 16,
        "lenType": 16,
        "lenVar": 40
      },
      "kernels_config": {
        "python": {
          "delete_cmd_postfix": "",
          "delete_cmd_prefix": "del ",
          "library": "var_list.py",
          "varRefreshCmd": "print(var_dic_list())"
        },
        "r": {
          "delete_cmd_postfix": ") ",
          "delete_cmd_prefix": "rm(",
          "library": "var_list.r",
          "varRefreshCmd": "cat(var_dic_list()) "
        }
      },
      "types_to_exclude": [
        "module",
        "function",
        "builtin_function_or_method",
        "instance",
        "_Feature"
      ],
      "window_display": false
    },
    "widgets": {
      "application/vnd.jupyter.widget-state+json": {
        "d1f2892401cc49e2952345adf7f3a0c9": {
          "model_module": "@jupyter-widgets/controls",
          "model_name": "VBoxModel",
          "model_module_version": "1.5.0",
          "state": {
            "_dom_classes": [
              "widget-interact"
            ],
            "_model_module": "@jupyter-widgets/controls",
            "_model_module_version": "1.5.0",
            "_model_name": "VBoxModel",
            "_view_count": null,
            "_view_module": "@jupyter-widgets/controls",
            "_view_module_version": "1.5.0",
            "_view_name": "VBoxView",
            "box_style": "",
            "children": [
              "IPY_MODEL_3bebc3d356434376a02f13d547e415d9",
              "IPY_MODEL_1e71977ffd604a79ad912918952bde2c"
            ],
            "layout": "IPY_MODEL_b555c2730fd5428ab0112ab9af0b0659"
          }
        },
        "3bebc3d356434376a02f13d547e415d9": {
          "model_module": "@jupyter-widgets/controls",
          "model_name": "DropdownModel",
          "model_module_version": "1.5.0",
          "state": {
            "_dom_classes": [],
            "_model_module": "@jupyter-widgets/controls",
            "_model_module_version": "1.5.0",
            "_model_name": "DropdownModel",
            "_options_labels": [
              "sexo",
              "posse_de_veiculo",
              "posse_de_imovel",
              "tipo_renda",
              "educacao",
              "estado_civil",
              "tipo_residencia",
              "mau"
            ],
            "_view_count": null,
            "_view_module": "@jupyter-widgets/controls",
            "_view_module_version": "1.5.0",
            "_view_name": "DropdownView",
            "description": "var",
            "description_tooltip": null,
            "disabled": false,
            "index": 0,
            "layout": "IPY_MODEL_c46c19c404c84f0088f26eb3019322c1",
            "style": "IPY_MODEL_c03fc98a95a843e8ab953e70027f38e9"
          }
        },
        "1e71977ffd604a79ad912918952bde2c": {
          "model_module": "@jupyter-widgets/output",
          "model_name": "OutputModel",
          "model_module_version": "1.0.0",
          "state": {
            "_dom_classes": [],
            "_model_module": "@jupyter-widgets/output",
            "_model_module_version": "1.0.0",
            "_model_name": "OutputModel",
            "_view_count": null,
            "_view_module": "@jupyter-widgets/output",
            "_view_module_version": "1.0.0",
            "_view_name": "OutputView",
            "layout": "IPY_MODEL_1470255f0fe647feac07cb7975ca3c38",
            "msg_id": "",
            "outputs": [
              {
                "output_type": "display_data",
                "data": {
                  "text/plain": "<Figure size 800x600 with 2 Axes>",
                  "image/png": "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\n"
                },
                "metadata": {}
              }
            ]
          }
        },
        "b555c2730fd5428ab0112ab9af0b0659": {
          "model_module": "@jupyter-widgets/base",
          "model_name": "LayoutModel",
          "model_module_version": "1.2.0",
          "state": {
            "_model_module": "@jupyter-widgets/base",
            "_model_module_version": "1.2.0",
            "_model_name": "LayoutModel",
            "_view_count": null,
            "_view_module": "@jupyter-widgets/base",
            "_view_module_version": "1.2.0",
            "_view_name": "LayoutView",
            "align_content": null,
            "align_items": null,
            "align_self": null,
            "border": null,
            "bottom": null,
            "display": null,
            "flex": null,
            "flex_flow": null,
            "grid_area": null,
            "grid_auto_columns": null,
            "grid_auto_flow": null,
            "grid_auto_rows": null,
            "grid_column": null,
            "grid_gap": null,
            "grid_row": null,
            "grid_template_areas": null,
            "grid_template_columns": null,
            "grid_template_rows": null,
            "height": null,
            "justify_content": null,
            "justify_items": null,
            "left": null,
            "margin": null,
            "max_height": null,
            "max_width": null,
            "min_height": null,
            "min_width": null,
            "object_fit": null,
            "object_position": null,
            "order": null,
            "overflow": null,
            "overflow_x": null,
            "overflow_y": null,
            "padding": null,
            "right": null,
            "top": null,
            "visibility": null,
            "width": null
          }
        },
        "c46c19c404c84f0088f26eb3019322c1": {
          "model_module": "@jupyter-widgets/base",
          "model_name": "LayoutModel",
          "model_module_version": "1.2.0",
          "state": {
            "_model_module": "@jupyter-widgets/base",
            "_model_module_version": "1.2.0",
            "_model_name": "LayoutModel",
            "_view_count": null,
            "_view_module": "@jupyter-widgets/base",
            "_view_module_version": "1.2.0",
            "_view_name": "LayoutView",
            "align_content": null,
            "align_items": null,
            "align_self": null,
            "border": null,
            "bottom": null,
            "display": null,
            "flex": null,
            "flex_flow": null,
            "grid_area": null,
            "grid_auto_columns": null,
            "grid_auto_flow": null,
            "grid_auto_rows": null,
            "grid_column": null,
            "grid_gap": null,
            "grid_row": null,
            "grid_template_areas": null,
            "grid_template_columns": null,
            "grid_template_rows": null,
            "height": null,
            "justify_content": null,
            "justify_items": null,
            "left": null,
            "margin": null,
            "max_height": null,
            "max_width": null,
            "min_height": null,
            "min_width": null,
            "object_fit": null,
            "object_position": null,
            "order": null,
            "overflow": null,
            "overflow_x": null,
            "overflow_y": null,
            "padding": null,
            "right": null,
            "top": null,
            "visibility": null,
            "width": null
          }
        },
        "c03fc98a95a843e8ab953e70027f38e9": {
          "model_module": "@jupyter-widgets/controls",
          "model_name": "DescriptionStyleModel",
          "model_module_version": "1.5.0",
          "state": {
            "_model_module": "@jupyter-widgets/controls",
            "_model_module_version": "1.5.0",
            "_model_name": "DescriptionStyleModel",
            "_view_count": null,
            "_view_module": "@jupyter-widgets/base",
            "_view_module_version": "1.2.0",
            "_view_name": "StyleView",
            "description_width": ""
          }
        },
        "1470255f0fe647feac07cb7975ca3c38": {
          "model_module": "@jupyter-widgets/base",
          "model_name": "LayoutModel",
          "model_module_version": "1.2.0",
          "state": {
            "_model_module": "@jupyter-widgets/base",
            "_model_module_version": "1.2.0",
            "_model_name": "LayoutModel",
            "_view_count": null,
            "_view_module": "@jupyter-widgets/base",
            "_view_module_version": "1.2.0",
            "_view_name": "LayoutView",
            "align_content": null,
            "align_items": null,
            "align_self": null,
            "border": null,
            "bottom": null,
            "display": null,
            "flex": null,
            "flex_flow": null,
            "grid_area": null,
            "grid_auto_columns": null,
            "grid_auto_flow": null,
            "grid_auto_rows": null,
            "grid_column": null,
            "grid_gap": null,
            "grid_row": null,
            "grid_template_areas": null,
            "grid_template_columns": null,
            "grid_template_rows": null,
            "height": null,
            "justify_content": null,
            "justify_items": null,
            "left": null,
            "margin": null,
            "max_height": null,
            "max_width": null,
            "min_height": null,
            "min_width": null,
            "object_fit": null,
            "object_position": null,
            "order": null,
            "overflow": null,
            "overflow_x": null,
            "overflow_y": null,
            "padding": null,
            "right": null,
            "top": null,
            "visibility": null,
            "width": null
          }
        },
        "cee67539534d46adac0724a7f646c750": {
          "model_module": "@jupyter-widgets/controls",
          "model_name": "VBoxModel",
          "model_module_version": "1.5.0",
          "state": {
            "_dom_classes": [
              "widget-interact"
            ],
            "_model_module": "@jupyter-widgets/controls",
            "_model_module_version": "1.5.0",
            "_model_name": "VBoxModel",
            "_view_count": null,
            "_view_module": "@jupyter-widgets/controls",
            "_view_module_version": "1.5.0",
            "_view_name": "VBoxView",
            "box_style": "",
            "children": [
              "IPY_MODEL_ab6dfbab071d40549088ec50411acc03",
              "IPY_MODEL_193ecd99fe1d4961b21283071dfe98a7",
              "IPY_MODEL_98744e3533234fc29b5e5aab83eb5626"
            ],
            "layout": "IPY_MODEL_5dfb27fed3894c75af068efff38e894b"
          }
        },
        "ab6dfbab071d40549088ec50411acc03": {
          "model_module": "@jupyter-widgets/controls",
          "model_name": "DropdownModel",
          "model_module_version": "1.5.0",
          "state": {
            "_dom_classes": [],
            "_model_module": "@jupyter-widgets/controls",
            "_model_module_version": "1.5.0",
            "_model_name": "DropdownModel",
            "_options_labels": [
              "qtd_filhos",
              "idade",
              "tempo_emprego",
              "qt_pessoas_residencia",
              "renda"
            ],
            "_view_count": null,
            "_view_module": "@jupyter-widgets/controls",
            "_view_module_version": "1.5.0",
            "_view_name": "DropdownView",
            "description": "var",
            "description_tooltip": null,
            "disabled": false,
            "index": 0,
            "layout": "IPY_MODEL_817d9b1367c641bab90085af1a2d2540",
            "style": "IPY_MODEL_292b54a7f1f644ab8957171786928fe7"
          }
        },
        "193ecd99fe1d4961b21283071dfe98a7": {
          "model_module": "@jupyter-widgets/controls",
          "model_name": "IntSliderModel",
          "model_module_version": "1.5.0",
          "state": {
            "_dom_classes": [],
            "_model_module": "@jupyter-widgets/controls",
            "_model_module_version": "1.5.0",
            "_model_name": "IntSliderModel",
            "_view_count": null,
            "_view_module": "@jupyter-widgets/controls",
            "_view_module_version": "1.5.0",
            "_view_name": "IntSliderView",
            "continuous_update": true,
            "description": "ncat",
            "description_tooltip": null,
            "disabled": false,
            "layout": "IPY_MODEL_a7f3d4ee433748a4a0b4bdbde28e0a38",
            "max": 10,
            "min": 2,
            "orientation": "horizontal",
            "readout": true,
            "readout_format": "d",
            "step": 1,
            "style": "IPY_MODEL_0a38abcf3d3f4ccc95507c79984a6c50",
            "value": 6
          }
        },
        "98744e3533234fc29b5e5aab83eb5626": {
          "model_module": "@jupyter-widgets/output",
          "model_name": "OutputModel",
          "model_module_version": "1.0.0",
          "state": {
            "_dom_classes": [],
            "_model_module": "@jupyter-widgets/output",
            "_model_module_version": "1.0.0",
            "_model_name": "OutputModel",
            "_view_count": null,
            "_view_module": "@jupyter-widgets/output",
            "_view_module_version": "1.0.0",
            "_view_name": "OutputView",
            "layout": "IPY_MODEL_9e208ee02b8f4640941bb8ce8a904e15",
            "msg_id": "",
            "outputs": [
              {
                "output_type": "stream",
                "name": "stderr",
                "text": [
                  "<ipython-input-36-e9e7e25cad0c>:6: FutureWarning: The default of observed=False is deprecated and will be changed to True in a future version of pandas. Pass observed=False to retain current behavior or observed=True to adopt the future default and silence this warning.\n",
                  "  g = df.groupby(cat_srs)\n"
                ]
              },
              {
                "output_type": "display_data",
                "data": {
                  "text/plain": "<Figure size 800x600 with 2 Axes>",
                  "image/png": "iVBORw0KGgoAAAANSUhEUgAAAtUAAAJkCAYAAADeJd27AAAAOXRFWHRTb2Z0d2FyZQBNYXRwbG90bGliIHZlcnNpb24zLjcuMSwgaHR0cHM6Ly9tYXRwbG90bGliLm9yZy/bCgiHAAAACXBIWXMAAA9hAAAPYQGoP6dpAACRfUlEQVR4nOzdd1xT1/sH8E9AhgucgCgKTsSFoiBaV6VitYOvWmdddbT+rFWxVm2to9ov1g5HXdVatf26ah1t1aIWRa3iwr2oA8UFaBVQlJnz++M0ubmAAiYhgJ/365VXm+ee3Dy53iQPJ+eeoxFCCBARERER0XOzsnQCRERERERFHYtqIiIiIiIjsagmIiIiIjISi2oiIiIiIiOxqCYiIiIiMhKLaiIiIiIiI7GoJiIiIiIyUglLJ0BkbpmZmUhPT7d0GkREVITZ2trCyop9kfR0LKqp2BJCIDY2FgkJCZZOhYiIijgrKyt4eHjA1tbW0qlQIaXhiopUXN25cwcJCQlwcnJCqVKloNFoLJ0SEREVQVqtFrdv34aNjQ2qV6/O7xPKEXuqqVjKzMzUF9QVK1a0dDpERFTEVa5cGbdv30ZGRgZsbGwsnQ4VQhwcRMWSbgx1qVKlLJwJEREVB7phH5mZmRbOhAorFtVUrPEnOiIiMgV+n1BuWFQTERERERmJRTURERERkZFYVBPlIjMTCA8H1q6V/+VwugJUwAe/ffv2GDNmjP6+u7s75s6da9Q+p02bBm9vb6P2UdSEh4dDo9EU7+kseW4+1fP++0+bNg3Ozs7QaDTYsmXLcz//ypUrUa5cued+PNHz4pR6VCylpKQgOjoaHh4esLe3f+79bNoEjB4N3LypxKpVA+bNA7p1M0Gi9HQWOPjt27eHt7e3vli5e/cuSpcubdQFr48ePUJqaqp+FppBgwYhISHBqKKhsEtLS8P9+/f1BVKxw3PzmZ7n3//ChQvw8vLC5s2b0bJlS5QvXx52dnbP9fxPnjzBw4cP4eTk9FyPfxpTfa9Q8cWeaqKn2LQJ6NFD/b0JALduyfimTZbJ64VQSA5+5cqVjZ5BpkyZMi/UtI7p6emwtbWFi4uLUQV1WlqaCbMyIZ6buXqef/8rV64AAN588024uLg8d0Gdnp6OkiVLGl1QcxVeeh4squmFk5wsb4a/0aSlyVhqqryfmSk7onL6HUcXGz1a/Yuvbr9arRLL7+fy1q1bUa5cOf2UTSdPnoRGo8HEiRP1bYYOHYq3334bALBx40Y0aNAAdnZ2cHd3x9dff63aX2pqKj788ENUrVoVpUuXhp+fH8LDw/OXlCkV5oOfg6w/sWs0Gnz33Xd47bXXUKpUKdSvXx8RERG4fPky2rdvj9KlS6NVq1b6AgFQ/8Q+bdo0rFq1Cr/++is0Gg00Go3+3+PGjRvo2bMnypUrhwoVKuDNN9/EtWvXnprbgwcP0K9fP1SuXBklS5ZEnTp1sGLFCgA5//yuO5d0+9T9RL5lyxbUqVMH9vb2CAwMxI0bN1TP8+uvv6JZs2awt7dHzZo1MX36dGRkZKiOyeLFi/HGG2+gdOnS+Pzzz3N8/tzOVXd3d8yYMQMDBgyAg4MDhg8fnsu/jonx3DTZuZn13193ru3YsQP169dHmTJl0LlzZ9y5c0f/3K+//joAuWqhYTH+/fffo379+rC3t4enpycWLVqk33bt2jVoNBqsX78e7dq1g729PVavXp3j8I/FixejVq1asLW1Rb169fDTTz+ptud0HhPlmyAqhp48eSLOnz8vnjx5km2b/PYTIj5eic2cKWNDh8r7e/Yo7Z5127NH2UelSjJ29qwSW7o0f3knJCQIKysrcfToUSGEEHPnzhWVKlUSfn5++ja1a9cWy5YtE8eOHRNWVlbis88+E1FRUWLFihWiZMmSYsWKFfq2Q4cOFa1atRL79u0Tly9fFl9++aWws7MTf//9d/4SM5XCfPCFEO3atROjR4/W369Ro4aYM2eOQfoQVatWFevXrxdRUVEiKChIuLu7i5dfflmEhoaK8+fPi5YtW4rOnTvrHzN16lTRpEkTIYQQDx8+FD179hSdO3cWd+7cEXfu3BGpqakiLS1N1K9fX7zzzjvi9OnT4vz586Jv376iXr16IjU1NcdcR44cKby9vcXRo0dFdHS02LVrl/jtt9/+PYR7BADx4MEDffsTJ04IACI6OloIIcSKFSuEjY2NaN68uTh48KA4duyY8PX1Fa1atdI/Zt++fcLBwUGsXLlSXLlyRezcuVO4u7uLadOmqY6Jk5OT+OGHH8SVK1fE9evXsz1/Xs7VGjVqCAcHB/HVV1+Jy5cvi8uXL+fjX84EeG6a7NzM+u+vO9cCAgLE0aNHRWRkpKhfv77o27ev/rlXrFghAOifWwgh/ve//4kqVaqIjRs3iqtXr4qNGzeKChUqiJUrVwohhIiOjhYAhLu7u77N7du3xYoVK4Sjo6M+n02bNgkbGxuxcOFCERUVJb7++mthbW0tdu/erTp+Wc/jrJ71vUIkhBAsqqlYMraoXrMmb9+da9Yo+zDRd6do1qyZ+PLLL4UQQgQFBYnPP/9c2NraiocPH4qbN28KAOLvv/8Wffv2Fa+88orqsePHjxdeXl5CCCGuX78urK2txa1bt1RtOnbsKCZNmpT/xEyhkB/8vBQukydP1t+PiIgQAMTy5cv1sbVr1wp7e3v9fcPCRQghBg4cKN58803V8/7000+iXr16QqvV6mOpqamiZMmSYseOHTnm+vrrr4vBgwfnuC2vRTUAcejQIX2bCxcuCADi8OHDQgh5rvz3v//NlmuVKlVUx2TMmDHPfP7czlUh5LEOCgrK8fUUCJ6bJjs3cyqqAaj+UFq4cKFwdnbW39+8ebPI2s9Xq1YtscbwWAohZsyYIfz9/YUQSlE9d+5cVZusRXWrVq3EsGHDVG3eeust0aVLF/39nM7jrFhUU244/INeOI8eyVulSkps/HgZW7BA3q9SJW/7Mmx37ZrcR/36SmzQoPzn165dO4SHh0MIgf3796Nbt26oX78+/vrrL+zduxeurq6oU6cOLly4gNatW6se27p1a1y6dAmZmZk4c+YMMjMzUbduXZQpU0Z/27t3r+on4AJV2A9+HjRu3Fj//87OzgCARo0aqWIpKSlISkrK8z5PnTqFy5cvo2zZsvp/pwoVKiAlJeWp/1YjRozAunXr4O3tjY8++ggHDx7M92spUaIEWrRoob/v6emJcuXK4cKFC/q8PvvsM9X5M2zYMNy5cwePHz/WP6558+bPfJ7cztW87seseG7m6HnOzZyUKlUKtWrV0t+vUqUK4uPjn9o+OTkZV65cwZAhQ1Tn38yZM7M97/Oef7rzPK/7IcpNCUsnQFTQSpfOHrO1lTedNm3kxfy3buU8fFKjkdvbtHn2fm1s8p9f+/bt8cMPP+DUqVOwsbGBp6cn2rdvj/DwcDx48ADt2rXL034ePXoEa2trREZGwtraWrWtTJky+U/MFAr7wc8DG4P96sZ+5hTTGo6hzcWjR4/g4+OD1atXZ9tWuXLlHB/z6quv4vr169i+fTt27dqFjh07YuTIkfjqq69gZSX7S4TB8XueC68ePXqE6dOno1sOM1oYzn5QOqfj/xxMtZ/nfPLsMZ6bz3Vu5pabLheR0zE0eF4AWLZsGfz8/FTbsn6eFYvzj4oFFtVEObC2lrNj9eghvycNP/t119DMnSvbmVqbNm3w8OFDzJkzR19At2/fHrNmzcKDBw8wbtw4AED9+vVx4MAB1WMPHDiAunXrwtraGk2bNkVmZibi4+PRxvBLvrCz5MEvALa2tqreWQBo1qwZ1q9fDycnJzg4OOR5X5UrV8bAgQMxcOBAtGnTBuPHj8dXX32lL3bu3LmD8uXLA5AXKmaVkZGBY8eOwdfXFwAQFRWFhIQE1P+3V7VZs2aIiopC7dq1n+el6uV2rhYZPDcLLBdnZ2e4urri6tWr6Nevn1H70p1/AwcO1McOHDgALy8vY9MkUuHwD6Kn6NYN+OUXoGpVdbxaNRk31zzV5cuXR+PGjbF69Wq0b98eANC2bVscP34cf//9t77QHjduHMLCwjBjxgz8/fffWLVqFRYsWIAPP/wQAFC3bl3069cPAwYMwKZNmxAdHY0jR44gJCQE27ZtM0/ypmKpg18A3N3dcfr0aURFReHevXtIT09Hv379UKlSJbz55pvYv38/oqOjER4ejg8++AA3s07d9q8pU6bg119/xeXLl3Hu3Dls3bpVXwzXrl0bbm5umDZtGi5duoRt27Zlm20DkL2Ho0aNwuHDhxEZGYlBgwahZcuW+iJ7ypQp+PHHHzF9+nScO3cOFy5cwLp16zB58uR8vebcztUihedmruemqUyfPh0hISGYP38+/v77b5w5cwYrVqzAN998k6/9jB8/HitXrsTixYtx6dIlfPPNN9i0aVPRPP+oUGNRTfQM3brJIZF79gBr1sj/Rkeb/3uzXbt2yMzM1BfVFSpUgJeXF1xcXFCvXj0Asgfp559/xrp169CwYUNMmTIFn332GQYZjNdcsWIFBgwYgHHjxqFevXoICgrC0aNHUb16dfO+AFOw1ME3s2HDhqFevXpo3rw5KleujAMHDqBUqVLYt28fqlevrh9DP2TIEKSkpDy1d9DW1haTJk1C48aN0bZtW1hbW2PdunUAZLG8du1aXLx4EY0bN8YXX3yBmTNnZttHqVKlMGHCBPTt2xetW7dGmTJlsH79ev32wMBAbN26FTt37kSLFi3QsmVLzJkzBzVq1MjXa87LuVqk8Nx85rlpKkOHDsX333+PFStWoFGjRmjXrh1WrlwJDw+PfO0nKCgI8+bNw1dffYUGDRrgu+++w4oVK/Sfr0SmwhUVqVjiyldEz7Zy5UqMGTOmeC8lTmRC/F6h3LCnmoiIiIjISCyqiYiIiIiMxKKaiOgFNGjQIA79ICIyIRbVRERERERGYlFNxVp+FjkgIiJ6Gs7rQLnh4i9ULNna2sLKygq3b99G5cqVYWtrq19NjIiIKD+EELh79y40Gk221SGJdDilHhVbaWlpuHPnDh4/fmzpVIiIqIjTaDSoVq0aypQpY+lUqJBiUU3FmhACGRkZ2ZbeJSIiyg8bGxtYF9El6KlgsKgmIiIiIjISx1SbgFarxe3bt1G2bFmO2yUiIiIqhIQQePjwIVxdXWFlZfq5OlhUm8Dt27fh5uZm6TSIiIiIKBc3btxAtWrVTL5fFtUmULZsWQDyH8nBwcHC2RARERFRVklJSXBzc9PXbabGotoEdEM+HBwcWFQTERERFWLmGqrLxV+IiIiIiIzEopqIiIiIyEgc/kFEREREBSczE9i/H7hzB6hSBWjTBigGc4CzqCYiIiKigrFpEzB6NHDzphKrVg2YNw/o1s1yeZkAh38QERERkflt2gT06KEuqAHg1i0Z37TJMnmZCItqIiIiIjKvzEzZQ53TQt662Jgxsl0RxaKaiIiIiMxr//7sPdSGhABu3JDtiqgiV1QvXLgQ7u7usLe3h5+fH44cOfLM9hs2bICnpyfs7e3RqFEjbN++/alt33vvPWg0GsydO9fEWRMRERG9QP7+G3jrLeD11+X9O3fy9ri8tiuEilRRvX79egQHB2Pq1Kk4fvw4mjRpgsDAQMTHx+fY/uDBg+jTpw+GDBmCEydOICgoCEFBQTh79my2tps3b8ahQ4fg6upq7pdBREREVHzs2QOMHQuEhioxe3vgl1+AP/4AkpPlLB95kdd2hVCRKqq/+eYbDBs2DIMHD4aXlxeWLFmCUqVK4Ycffsix/bx589C5c2eMHz8e9evXx4wZM9CsWTMsWLBA1e7WrVsYNWoUVq9eDRsbm4J4KURERERFS2YmEBEBzJ8PaLVKfOtWYO5c4LfflJibGzBnDhAWBtjaymnzqlUDnraaoUYjH9OmjVlfgjkVmaI6LS0NkZGRCAgI0MesrKwQEBCAiIiIHB8TERGhag8AgYGBqvZarRb9+/fH+PHj0aBBgzzlkpqaiqSkJNWNiIiIqFi5eRM4f165n5kJvPyyvODw77+VeJcuwP/9nzLUA5BF8pgxQLt2gI2NnId63jxlmyHd/blzi/R81UWmqL537x4yMzPh7Oysijs7OyM2NjbHx8TGxuba/osvvkCJEiXwwQcf5DmXkJAQODo66m9ubm75eCVEREREhUxqKpCertxfvlz2HI8dq8RsbYFXX5XFc1qaEu/YEVi4UG57lm7d5JCQqlXV8WrVZLyIz1P9Qi/+EhkZiXnz5uH48ePQPO3niBxMmjQJwcHB+vtJSUksrImIiKho6tdPFrVbtiiFcdOmgJWVungGjJ9Luls34M03uaKiJVWqVAnW1taIi4tTxePi4uDi4pLjY1xcXJ7Zfv/+/YiPj0f16tX12zMzMzFu3DjMnTsX165dy3G/dnZ2sLOzM+LVEBERERWw69eBjz4C7t4Fdu9W4iVKyOI5MlIpqps0ARITgTJlTJ+HtTXQvr3p92thRWb4h62tLXx8fBAWFqaPabVahIWFwd/fP8fH+Pv7q9oDwK5du/Tt+/fvj9OnT+PkyZP6m6urK8aPH48dO3aY78UQERERmdOBA8CHHwKbNysxBwfg55/lbB137yrxTz6RY6Q/+USJWVubp6AuxopMTzUABAcHY+DAgWjevDl8fX0xd+5cJCcnY/DgwQCAAQMGoGrVqggJCQEAjB49Gu3atcPXX3+Nrl27Yt26dTh27BiWLl0KAKhYsSIqVqyoeg4bGxu4uLigXr16BfviiIiIiPJLqwWOHQMOHQLee0+OewbkrBtffw3ExgL/+Y+MlS8vxz57esoCW6du3YLPuxgqUkV1r169cPfuXUyZMgWxsbHw9vZGaGio/mLEmJgYWFkpne+tWrXCmjVrMHnyZHz88ceoU6cOtmzZgoYNG1rqJRARERE9vzt3gHv3gEaN5H2NRg7ZuH8faNkS8PWV8U6dZNvOndWP/7//K9h8XyAaIXJahJ3yIykpCY6OjkhMTISD4V9+RERERM8rPV32ROuu4/rlF7lKYcuWcr5onQEDZFE9ZYpSVFM25q7XisyYaiIiIqIXxrvvyiEahmOidTNyZGaqF1/58Ue5AAsLaotiUU1ERERkKXFxQN++gJ8fYDh4wM4OSEmRM3Lo1KwJJCQAR47I4poKFQ7/MAEO/yAiIqJcHT0qh3A0biznhgZk4ezgIId6XLkiC2cAuHpVxurWffrS3pQvHP5BREREVNRERgILFgAPHyqxAweA2bOBdeuUmL09sGgRsGuXXAhFp2ZNoF49FtRFSJGa/YOIiIio0ImLkzNteHsrse7d5WIrnp5AQICMvfwyMGyYcl9n6NACS5XMh0U1ERERUV6lpwMZGUDJkvL+jh1y2jovL+DcOaXdq68C164p80YDctjHv2tlUPHD4R9EREREeTFuHODoKGfb0GnaVA7RsLaWS33rLF4M/PEH0LZtwedJFsGimoiIiMhQYiLw9tuyZzkjQ4mXLAk8eQIcP67EnJzkjBynT6t7pemFw9k/TICzfxARERVRJ08C69fLCwOHDZMxrVYu6Z2UBJw4oYyVjokBHj2S46Q5pV2Rw9k/iIiIiEzh1Ck5LOPuXSV2/Dgwaxbw009KzMoK+PZbIDQUqFNHiVevLsdOs6CmHPBCRSIiIip+7t2Ts2/4+CixgQNlYe3sDHTrJmNt2wLvvAO0b69+/IABBZYqFQ8sqomIiKhoy8iQFwmWKiXvR0QArVoB1aoBN24o7Tp1kgV1mTJKrHZtYPnygs2XiiX+fkFERERF19SpQLlywMKFSqxxY6BECaBsWTkuWmf2bDkFXqdOBZ4mFX8sqomIiKjwS0mRwze8vIDHj5V46dJAcrJ6Ro7SpYH794Hz5+US4EQFgEU1ERERFS7nzwOTJwPz5ysxOzvgzz+BCxeAY8eUeP/+wJkzwP/+p95H2bIFkyvRv1hUExERkeWcOwd89x1w86YSO38e+Pxz4IcflJhGA3z9NbB9u1xwRadKFaBhQ7n4CpEF8UJFIiIiKhj37wOXLwO+vkpsxAhg/35gxQpg0CAZa91a/v9LL6kf37t3QWVKlG8sqomIiMj0MjPlOOjSpeX9s2eBRo3kMt/37ytzPQcEADY2crEVnSpVZJFNVIRw+AcRERGZ1pdfyiJ51iwl5ukpC2xnZyAuTolPmQKEhQFvvlnweRKZ0HMX1WlpaYiKikJGRoYp8yEiIqKiQqsFhgwB6tdXr1Lo4AA8fKiekaNECeDOHSAqSvZEExUz+S6qHz9+jCFDhqBUqVJo0KABYmJiAACjRo3CLMO/SImIiKj4uHRJ9ip/8YUSs7KSC61cvAgcPqzEu3UDTp4EfvtNvQ/OyEHFWL6L6kmTJuHUqVMIDw+Hvb29Ph4QEID169ebNDkiIiKygIsXgWXL5EWFOtHRwIwZcqYOQzNnAr//DrRpo8QqVwaaNOGMHPRCyfeFilu2bMH69evRsmVLaDQafbxBgwa4cuWKSZMjIiIiM3vwQBbR/v5K7MMPgW3bgLlzgdGjZczPT84J7e8vh33oLjTs1q3AUyYqjPJdVN+9exdOTk7Z4snJyaoim4iIiAoZrVauRlimjLx//Trg7g7Y2srlvO3sZLxjR7lKoYuL8lhHR+DHHws8ZaKiIt/DP5o3b45t27bp7+sK6e+//x7+hn/lEhERUeGxaBFQsSLwySdKrHp1OVTDzU29+MrYscCePUCvXgWfJ1ERle+e6v/+97949dVXcf78eWRkZGDevHk4f/48Dh48iL1795ojRyIiIsqP998HwsPlhYI1a8pY+fJAQoJ6Rg6NBrh6Vem5JqLnlu+e6pdeegknT55ERkYGGjVqhJ07d8LJyQkRERHw8fExR44qCxcuhLu7O+zt7eHn54cjR448s/2GDRvg6ekJe3t7NGrUCNu3b1dtnzZtGjw9PVG6dGmUL18eAQEBOGx4BTMREVFhde0aMH06MG2aOn7smFz+OyJCiXXuLAvqPXvUbVlQE5mERgghLJ1EXq1fvx4DBgzAkiVL4Ofnh7lz52LDhg2IiorKcZz3wYMH0bZtW4SEhOC1117DmjVr8MUXX+D48eNo2LAhAGDNmjVwcnJCzZo18eTJE8yZMwcbNmzA5cuXUbly5TzllZSUBEdHRyQmJsLBwcGkr5mIiAiAnIlj3z55wWCDBjJ2+DDQsiVQqRIQHy97ngFg61Y5fvqll4AKFSyXM1EhYu56Ld9F9fbt22FtbY3AwEBVfMeOHdBqtXj11VdNmqAhPz8/tGjRAgsWLAAAaLVauLm5YdSoUZg4cWK29r169UJycjK2bt2qj7Vs2RLe3t5YsmRJjs+hO+B//vknOnbsmKe8WFQTEZFJJSUBp0/Lolinb19g7Vrgs8+ATz+VsbQ0YOhQWWgPHy6X+yaiHJm7Xsv38I+JEyciMzMzW1wIkWNhayppaWmIjIxEQECAPmZlZYWAgABEGP68ZSAiIkLVHgACAwOf2j4tLQ1Lly6Fo6MjmjRp8tRcUlNTkZSUpLoRERE9F61Wrj6oc/++HP/cpo0cA63ToQPQtq28qFDH1lbOyDFyJAtqIgvLd1F96dIleHl5ZYt7enrisuEk8SZ27949ZGZmwtnZWRV3dnZGbGxsjo+JjY3NU/utW7eiTJkysLe3x5w5c7Br1y5UqlTpqbmEhITA0dFRf3Mz/IAjIiLKq1Wr5NCNDz5QYhUqyGnu3N2Bf1ctBgAMGwbs3QsMGlTASRJRXuS7qHZ0dMTVq1ezxS9fvozSpUubJKmC1qFDB5w8eRIHDx5E586d0bNnT8THxz+1/aRJk5CYmKi/3bhxowCzJSKiImn8eKBxY7l8t06lSnLxFcMZOQDg1Cm5gmHjxgWaIhE9v3wX1W+++SbGjBmjWj3x8uXLGDduHN544w2TJmeoUqVKsLa2RlxcnCoeFxcHF8PJ6Q24uLjkqX3p0qVRu3ZttGzZEsuXL0eJEiWwfPnyp+ZiZ2cHBwcH1Y2IiAgAcOuWXLp7wgR1/NQp4MwZ4OBBJdauHXDkCHD0qLotZ+QgKnLyXVTPnj0bpUuXhqenJzw8PODh4YH69eujYsWK+Oqrr8yRIwDA1tYWPj4+CAsL08e0Wi3CwsKeuuiMv7+/qj0A7Nq1K9dFarRaLVJTU41PmoiIirfoaGDlSnVPc1KSvJDw22+B9HQl/uGHwKZNQM+eSqxMGaBFCzk2moiKtHwv/uLo6IiDBw9i165dOHXqFEqWLInGjRujbdu25shPJTg4GAMHDkTz5s3h6+uLuXPnIjk5GYMHDwYADBgwAFWrVkVISAgAYPTo0WjXrh2+/vprdO3aFevWrcOxY8ewdOlSAHJp9c8//xxvvPEGqlSpgnv37mHhwoW4desW3nrrLbO/HiIiKkIePpTFc7t2SuyLL4DvvgPGjQOaNZOxevXkuOemTWVRrbuAsFOnAk+ZiApOvotqQC5N3qlTJ3Qq4A+IXr164e7du5gyZQpiY2Ph7e2N0NBQ/cWIMTExsLJSOt9btWqFNWvWYPLkyfj4449Rp04dbNmyRT9HtbW1NS5evIhVq1bh3r17qFixIlq0aIH9+/ejgW4OUCIievEIATx6BJQtK++npMjxz2lp8uJB3QXq7dsDZ88CtWopj7WyAlasKPCUiciynmvxl7CwMISFhSE+Ph5arVa17YcffjBZckUF56kmIipGfvkFeO89OX3dpk1KvFkz4J9/gHXrgFyGERJR4VPo5qmePn06OnXqhLCwMNy7dw8PHjxQ3YiIiIqMqVPlMI39+5WYs7Msnk+cULfdtw+4fp0FNRHlKN/DP5YsWYKVK1eif//+5siHiIjI9O7eBb7/HoiNBebNU+Lnzskp7g4ckIutAPLCwUOHZLFtiDNyENEz5Hv4R8WKFXHkyBHUMhw/9oLj8A8iokIkJkYuklK7ttKrfPs2ULWqHO+cmKgUyHv3yoK7TRvZQ01ExVahG/4xdOhQrFmzxuSJEBER5VtysiyMDa/vWbAAGDBAfbGgq6scJ/311+q27doBPXqwoCYio+V7+EdKSgqWLl2KP//8E40bN4aNbqqgf33zzTcmS46IiEhPCDmtna6HSauVvc+JiXIGDt2sTW3bAn/9BXh6qh+/eHHB5ktEL5R8F9WnT5+Gt7c3AODs2bOqbRqNxiRJERERqYSGAgMHAo0aAX/+KWNWVnLc8+XLwJ07SlH92mvyRkRUgPJdVO/Zs8cceRAREUmzZgEbNgAzZgBdushYlSpAfLy8qFCrlQU1AGzdCpQubbFUiYh08j2mWufy5cvYsWMHnjx5AgB4jumuiYjoRfbggVyRcPhwdfzSJbly4V9/KbGGDeUMHTdvKgU1wIKaiAqNfM/+8c8//6Bnz57Ys2cPNBoNLl26hJo1a+Kdd95B+fLl8fXXX5sr10KLs38QEeXi1i15QaGrq1yFEACSkoBy5eRY6dhY5WLBiAg5g0ebNrI9EZEJFLrZP8aOHQsbGxvExMSgVKlS+nivXr0QGhpq0uSIiKgIevxYLqaSmqrEVqwA+vUDlixRYg4OwAcfAF9+CZQwGI3o7w/06sWCmoiKlHyPqd65cyd27NiBatWqqeJ16tTB9evXTZYYEREVAULIHmdHRyVWt67smT54UJknuk0bwNdXXmhoaO7cAkuViMic8l1UJycnq3qode7fvw87OzuTJEVEREXA/v3AW28B1asDR44ocR8feTHh3btKrF074PDhgs+RiKiA5Hv4R5s2bfDjjz/q72s0Gmi1WsyePRsdOnQwaXJERFRIzJsne5p//lmJubkBcXFyqe+0NCW+Zo3sqX7jjYLPk4jIQvLdUz179mx07NgRx44dQ1paGj766COcO3cO9+/fx4EDB8yRIxERFZRHj+S459OngVWrAN36A9euAUePAvv2AT17yliNGnJGjqZNAVtbZR+ckYOIXkD5nv0DABITE7FgwQKcOnUKjx49QrNmzTBy5EhUqVLFHDkWepz9g4iKpNhYOSNH+fJAp04ylpYmLyBMTQWiouT4aEBOcRcVBbz0kuyhJiIqYsxdr+W7pxoAHB0d8cknn5g6FyIiMpeUFFkYN24MlCkjYxs2yNk3Xn1VKaptbYGxY2Whbfil06yZvBERUY7yVFSfPn06zzts3LjxcydDREQmkNOMHM2aARcuAH/8AXTuLGMvvSQvKsxaLIeEFFyuRETFRJ6Kam9vb2g0GgghoNGNr4OyiqJhLDMz08QpEhFRnh0/Li8QLFMGuHhRifv4APfvy1UMdZo2BY4dK/gciYiKoTzN/hEdHY2rV68iOjoaGzduhIeHBxYtWoSTJ0/i5MmTWLRoEWrVqoWNGzeaO18iItJZuhRo2RL4/nslVqOGnHnjyhXZW63z3XfAnTtAnz4FnycR0QsgTz3VNWrU0P//W2+9hfnz56NLly76WOPGjeHm5oZPP/0UQUFBJk+SiOiFlpoKLFwoZ9/48UfAxkbGb92Scz/XrQsMHSpjFSvKZb4bNVLPwpHD+gJERGQ6+b5Q8cyZM/Dw8MgW9/DwwPnz502SFBHRC+vuXSA8HLC3B15/XcZsbIAZM4CEBGDcOKB5cxnv2VMW1K1bq/fRsmVBZkxERHiOxV/q16+PkJAQpBlM9J+WloaQkBDUr1/fpMkRERVrqanAoUPqcc5//CGL5S++UGJWVsCYMcB//ws4OyvxBg2Afv0Ad/eCypiIiJ4i3z3VS5Ysweuvv45q1arpZ/o4ffo0NBoNfv/9d5MnSERUbCQkAOXKKfd1S3evX68sqNKqFeDtDfj5qR87dWoBJUlERM8j30W1r68vrl69itWrV+Piv1eW9+rVC3379kVprqJFRJRdVBTwyitAejpw+7aySqGPj7ygMDFRaVu7NnDihGXyJCKi5/ZcKyqSGldUJCK9n34CFi8G3npLLqICAE+eyIVUtFrgxg3A1VXGHz8GSpZUimwiIjKbQrGi4m+//YZXX30VNjY2+O23357Z9o033jBJYkREhZpWC3z7rRwTvXQpULasjMfHy9k3KldWiuqSJYGDB4H69ZXVDAHOyEFEVIzkqafaysoKsbGxcHJygpXV069t1Gg0Zl/8ZeHChfjyyy8RGxuLJk2a4Ntvv4Wvr+9T22/YsAGffvoprl27hjp16uCLL77QTweYnp6OyZMnY/v27bh69SocHR0REBCAWbNmwVXXk5QH7KkmKubu35czcmi1QI8eSrxGDSAmBggLA15+WcYuX5YFdOvWQK1aFkmXiIiyM3e9lqfZP7RaLZycnPT//7SbuQvq9evXIzg4GFOnTsXx48fRpEkTBAYGIj4+Psf2Bw8eRJ8+fTBkyBCcOHECQUFBCAoKwtmzZwEAjx8/xvHjx/Hpp5/i+PHj2LRpE6KiotjbTvQiS0uT80HfvavE9u0DuncHpk9Xtx05Epg5Uz37Ru3awIABLKiJiF4w+R5TfePGDbi5uZkrn2fy8/NDixYtsGDBAgCywHdzc8OoUaMwceLEbO179eqF5ORkbN26VR9r2bIlvL29sWTJkhyf4+jRo/D19cX169dRvXr1HNukpqYiNTVVfz8pKQlubm7sqSYqirLOyNGpE7BrF7BsmbKgSlycjL/0ErBgAcdAExEVQYWip9qQu7s72rVrh2XLluGB4dyqZpaWlobIyEgEBAToY1ZWVggICEBERESOj4mIiFC1B4DAwMCntgeAxMREaDQalDP8ks0iJCQEjo6O+pul/sggIiPcvAl4eADVqwOGv7L5+AAVKgCPHikxZ2fg1Cm5qiELaiIiykG+i+pjx47B19cXn332GapUqYKgoCD88ssvqp5bc7h37x4yMzPhbLjwAQBnZ2fExsbm+JjY2Nh8tU9JScGECRPQp0+fZ/4FM2nSJCQmJupvN27cyOerIaIC9csvQNu2clVCnSpVgH/+AZKT5ThonSlTgHv35GIrREREeZTvorpp06b48ssvERMTgz/++AOVK1fG8OHD4ezsjHfeecccORaI9PR09OzZE0IILF68+Jlt7ezs4ODgoLoRUSGxaBHQt68csqGTkADs3w/s3q3ErK2BPXvkaob16ilxTnFHRETPId9FtY5Go0GHDh2wbNky/Pnnn/Dw8MCqVatMmZtKpUqVYG1tjTjDL0oAcXFxcHFxyfExLi4ueWqvK6ivX7+OXbt2sUgmKgoSEoAtW4DVq9XxxYuBtWvltHY6gYHAihXAd9+p2/r4yPmjiYiIjPTcRfXNmzcxe/ZseHt7w9fXF2XKlMHChQtNmZuKra0tfHx8EBYWpo9ptVqEhYXB398/x8f4+/ur2gPArl27VO11BfWlS5fw559/omLFiuZ5AUT0/NLTgchIuRqhzvHjwH/+A0yapG777rtylo769ZWYmxswaBBQt26BpEtERC+efC9T/t1332HNmjU4cOAAPD090a9fP/z666+oUaOGOfJTCQ4OxsCBA9G8eXP4+vpi7ty5SE5OxuDBgwEAAwYMQNWqVRESEgIAGD16NNq1a4evv/4aXbt2xbp163Ds2DEsXboUgCyoe/TogePHj2Pr1q3IzMzUj7euUKECbG1tzf6aiCgHDx4A5csr9/v0ATZuBL7+GggOljFfX6BRI8DPT06Dp3u/vv9+wedLREQvvHwX1TNnzkSfPn0wf/58NGnSxBw5PVWvXr1w9+5dTJkyBbGxsfD29kZoaKj+YsSYmBjV4jStWrXCmjVrMHnyZHz88ceoU6cOtmzZgoYNGwIAbt26pV8h0tvbW/Vce/bsQfv27QvkdRHRv+7fB1q0kEt5JybK8c0A0Lw58OefcrlvnTJlgNOnLZMnERFRFvmep1oIAQ0v4lHhiopEz2HbNuDLL2WP8+zZMiYE4OoKxMbKBViaN5fxlBTZE/2MFV2JiIiepdDMUz179mw8efJEX1AfOHBANY3ew4cP8X//938mT5CIioHly4H+/YGrV5VYcjKwd69c4ltHowH++EMO/9AV1ABgb8+CmoiICrU891RbW1vjzp07+uXKHRwccPLkSdSsWROAnFXD1dXV7EuVF0bsqSb618OHQHi4nOf532sdAACtWwMHDwKrVsklvAEgPh74/XegVSv1RYVERERmYO56Lc9jqrPW3vkcNUJExU1GBnD2rFx9sHp1GYuKAt54Qy77PXCg0rs8eDDwyitAs2bK452cgCFDCjxtIiIic8j3hYpE9ILKOiPH8OFy7uepU4Fp02SsSROgaVN5S04GypaV8aFDCzxdIiIqnDIz5Xpcd+7IxW3btJHrcRV1LKqJ6NlSUmSx/PffcliHbi73Fi3kNHdpaUpbGxs5fzQREVEONm0CRo8Gbt5UYtWqAfPmAd26WS4vU8hXUf3999+jTJkyAICMjAysXLkSlSpVAiAvVCSiIm73buDzz+Wy3YsWyZi9vbL91Cng5Zfl/7/zjuytLg7dC0REZHabNgE9esiJngzduiXjv/xStAvrPF+o6O7unqep9KKjo41OqqjhhYpUJP3vf3Lu53Hj5CIqABAaCrz6KlCrFnD5stL2zBmgalU5fpqIiCifMjMBd3d1D7UhjUb2WEdHm6+vptBcqHjt2jWTPzkRFYDkZDkjx82bcglvndWrZRHt46MU1f7+wHffyf8a0m0nIiLKRUoKcOWKXK9LNzvq/v1PL6gB2Xt944ZsV1TX3uOYaqLiJDMTOHcOKF1a9jYD8ne1114D7OzkLBy65bzfflt+2r30kvJ4R0c5pIOIiCgHmZnqnuRly4Bjx2SfjW6Cp/37gU6dgAYN5CRRgLwoMS/y2q4w4moKREXZgwfqwWnjxsmLChcuVGJ16gAtWwK9ewNJSUq8Xz9gxgw5UwcREdG/Tp8GNmwADAcpHDokZ+rI+pWxaROwdClw4oQSc3OTk0UZThhVpUrenjuv7Qoj9lQTFUWZmfKT7cwZOQDN3V3GW7QAypSRc0jraDRARIRF0iQiosJBCCAhQU7S9O+cE7h8Wc6Iam0t1+bSmTBBjg78/ntlOYFy5YDYWODxY/V+e/cGfH3VxbanJ3D/vrpdmzZyzPStW9kvVASUMdVt2hj5Qi2IPdVEhd3Bg3LhlP79lZi1tRzOAcgZOXTeekt+as6fX6ApEhFR4XD/PrByJbB4sTrerZu81nz9eiWWkSEvr9m8Wd22WTO52K3htXw1awKRkbIQNyyKBw4Epk9Xr+2VE2trOW0eIAtoQ7r7c+cW7Qml8lRUBwcHIzk5GQCwb98+ZBj2ghGR6WzYIKeqO3xYiWk0cpaOHTvUn2QrVwJ37wJvvqnEbG2L9icSERFlk5kpL/I7eVIdnzlTXmu+dq0Si4+Xl89MmKBu6+SkbNepUQP44gt5fbpWq8Q//xw4cED20+jY2srCuXLl7EVxXnXrJqfNq1pVHa9WrehPpwfkcUo9Gxsb3Lx5E87OzrC2tsadO3fgpPvXIU6pR/mXkiJn5Lh0CRg1Son37i27EWbOBD75RMZSU4EffpAzcjRp8vyfZkREVOht2yYv9OvcWZkFIypKDqkoU0ZeGqP7Gnj3XTmeecoU2VsMyAmf/vMfoHp12VttYyPjDx7IHzhLlSrwl5SNpVZULBRT6rm7u2P+/Pno1KkThBCIiIhAecPR5wbatm1r0gSJijytFrhwAShRQi6qAgCJiXI+aI0GGDBAzroBAL16yd/YAgKUx9vZASNGFHzeRERkEjduyMK4enWgbl0Zu3lTftQnJgK3byuF8u+/y55jOzulqHZzk18hFSvKMc2lS8v48OFycqfGjZXnKl0a2Lkzew5PKdsswtq66E6b9yx56qnesmUL3nvvPcTHx0Oj0eBpD9FoNMjMzDR5koUde6pJJSEBKFtW+bN7yhQ5y8Y77wDLlyvtOnaUv4GFhGT/LYyIiAq9jAwgLU3p/U1IACZPliPzDMcuv/eeLJQNe5QNi+MHD+SFgACwcSOwb5/sd+ncWdlH1qnsKP/MXa/laUx1UFAQYmNjkZSUBCEEoqKi8ODBg2y3+1kv9SR6kQghh2hUqCDnitZp0UJ+4mb9YzQsDPjxRxbURESFWGoqsGULsGiR+mN84kTZm/zFF0rM1lbOaPrzz7IHWqdePTlns+5HSUB+LehGAZYtq8S7d5cX9BkW1AAL6qIgX1PqlSlTBnv27IGHhwdKlOBsfPQCO3ECmDQJKFlSuWxao1GK51OnlN/jOneWn658zxARFRqPHslhGZ6eytCLVauAn34CgoKA99+XscxMOUYZAPr2VXqUHRzk6D7DVQJLlZI90U5O6iJ47Fh5y6pdO1O/KrKkfH/Lt2vXDpmZmdi4cSMuXLgAAPDy8sKbb74Ja/4ZRcXRr78CW7fKT9MOHWTM1lbOxlGqlPz9T1cwL1okB64ZXsiru0qEiIgK3JEjwO7dQMOGcvwxIIde6HqHDYde3Lwpf0SsXl15fKlScuyzo6O8xlzn3XflLBvOzurnmzLFbC+FCrl8F9WXL19G165dcfPmTdT796KrkJAQuLm5Ydu2bailWxqZqKhJSwP27pVLSY0bp8S3bZMz4FeooBTV9evLAtrPD7AyGEWluxCRiIjMJiFBzpdcurT8OAZk/8ZLLwExMXIEnu7CvF275DjnQYOUorpUKXnRX0aGnGJOV1S/8YYsqBs1Uj/frl3Zc6hY0QwvjIq0PF2oaKhLly4QQmD16tWoUKECAOCff/7B22+/DSsrK2zbts0siRZmvFCxCNJqgb//lr/rNWggY48eya4IrVYu+eTqKuOhoXLg22uvyU9sIiIyG8Mf/4QAPv1UFsrffquMSf78c6VQXrFCeWylSsA//6hH4O3aBfzvf7JPZNAgpe3jx4VjejkqOIViSj1De/fuxaFDh/QFNQBUrFgRs2bNQuvWrU2aHJHJJCXJ8c+6oRjffAOMHy+vCPnlFxkrU0YWzmXKAE+eKI/t3Dn7FSNERPTcwsNlody9uzIDxtKl8mO5WzelUNZogCVLZKH84YdKoezuLvs9dMtt66xfLwvvOnWU2CuvyFtWLKjJ1PJdVNvZ2eHhw4fZ4o8ePYKtra1JkiIyqU6d5IqE+/YpPc0tWsgi2yrLBDi//lrw+RERFQNaLRAbK1fc0/Vf/PmnXIDE21v2OOu89RZw756M6wrlkiVl/0dMjHq/wcHyo9pwuEW/fvKWVceOpnxFRPmTpyn1DL322msYPnw4Dh8+DCEEhBA4dOgQ3nvvPbzxxhvmyJEoby5cALp0US+cAsiuDCHkWGmd1q3ljBw//1ywORIRFXGXLslCWfcjn46bm5wh9N85DADIFfM2bZI904batJEFsOEA1K5dgfPns/dtfPyxnL6Os49SYZfvMdUJCQkYOHAgfv/9d9j8+6doRkYG3njjDaxcuRKOhpMwviA4ptoCQkPlVHavv65ceXLjhrzCxNpaFsy63xR1V7NUqWK5fImICrHUVNlDnJGhXPgHAH36yPHJGzYol5/8739A//7Ayy/LmTJ0mjWTbUNDleEWV64A27cDXl7sRSbLKxSLvxgqV64cfv31V/z999/45Zdf8MsvvyAqKgqbN28ukIJ64cKFcHd3h729Pfz8/HDkyJFntt+wYQM8PT1hb2+PRo0aYfv27artmzZtQqdOnVCxYkVoNBqcPHnSjNlTvmVkyE/tWbPkb4s6YWFyAN7WrUrMzU0uWRURAdjbK/HatVlQE9ELK2vX2ZIlwOjRQHS0EtuwQS6frZubWefvv2XP87VrSszLS86SkXWZ6V27ZHFuOH65Vi1g1CgW1PRieO7VKGrXro3atWubMpdcrV+/HsHBwViyZAn8/Pwwd+5cBAYGIioqCk6G8wL/6+DBg+jTpw9CQkLw2muvYc2aNQgKCsLx48fRsGFDAEBycjJeeukl9OzZE8OGDSvQ10NZCCF/V3zyBGjSRIm9/rqMBQXJWfoBpXf61VfV+xg+vMDSJSIqLM6dA65eBVq2lGOaAdlj/O67suc5NFRpu3SpXL+qUyfAw0PG3NzkhXtZL42aPVv+t2lTJdasWc6Xn3CKOXrR5Xv4hyX5+fmhRYsWWLBgAQBAq9XCzc0No0aNwsSJE7O179WrF5KTk7HVoDezZcuW8Pb2xpIlS1Rtr127Bg8PD5w4cQLe3t75yovDP57To0fyahY7O3l/6VL5DfDKK8DOnUq7Pn1kcT1liuwiISJ6QTx+LEe06T4mT5+WS1hXrKgUvIAsdE+cAH7/Xelz2LtX9ibXqSN7nHW++Qa4e1de6Pdv/xK0WjnThm5lQaLiqNAN/7CUtLQ0REZGIsDgIjQrKysEBAQgIiIix8dERESo2gNAYGDgU9vnVWpqKpKSklQ3yqfu3eW8R4YD8lq0kN8cWZfzXrsWWLeOBTURFUvx8fJjbu1adfzll+XlIIYLjzx4APzwg7ykxJC3N9C8ufrjs1kz4OBBYM8eddvgYCAkRCmoATm7BgtqIuMUmaL63r17yMzMhHOW9UCdnZ0RGxub42NiY2Pz1T6vQkJC4OjoqL+5ubkZtb9iLTpaDt/w91fHHRxk18iZM0qsSRM5n1KWce9EREWNELI32LCHGAA++UROPmTYn3DhAtC3b/blrXUdabduKbH69YEZM4Dp09Vtf/gBOHpUPaV+2bLyo5ezZhAVjHwX1TExMchpxIgQAjFZJ5cspiZNmoTExET97caNG5ZOqXDYswf4v/9TT1NXrpy8mPDQIdkdozNlivymmDBBiVlZZR/QR0RUyP36q/xIM7zOff9+wMlJThNn6Nw52XscFaXEatYE2rXLfuHf4sWyZ9rwUhEnJ7mSYN++pn4VRGSsfF+o6OHhgTt37mS7MPD+/fvw8PBAZmamyZIzVKlSJVhbWyMuLk4Vj4uLg4uLS46PcXFxyVf7vLKzs4OdboDbi0irlQupHDoEjB2rDPb76y/5LZCQAPTsKWPly8suFC8v+f86uqtjiIgKoVu35HRwNWsC1arJ2Llzspi1sQGOHVParlghC2sXFzkMA5AX/gFyAiMhlKEVo0cDb78tR7vpuLlln8cZ4KRFREVNvnuqhRDQ5DDw6tGjR7A3nMbMxGxtbeHj44Mwg9/MtFotwsLC4J91aMG//P39Ve0BYNeuXU9tTzkQQn6zREYqMY0G6NEDmDRJ3TXTubMcrDdwoHofgwcDfn7KEltERBai1QLp6cr927eBceOyTyX3/vuy9/i335RYqVLyQsGzZ9XT1L36qjLLhk6NGkBKihwBZ/iV2aGD/PisUcO0r4uILC/PPdXBwcEAAI1Gg08//RSlSpXSb8vMzMThw4fzPWtGfgUHB2PgwIFo3rw5fH19MXfuXCQnJ2Pw4MEAgAEDBqBq1aoICQkBAIwePRrt2rXD119/ja5du2LdunU4duwYli5dqt/n/fv3ERMTg9u3bwMAov79Tc7FxcXoHu0iKTlZDsMoWVLe//lnoHdvWRQfOiRjGg3wn//IBVYMC+UWLdTdL0REFpCcLH9Me/BAPUzivfdkr/KcOXKkGgCkpcnZMOzsgG+/VQrgOnXkHMuGF/5Vqwb88YfSC63z7rvZc7CyUn7EI6IXQ56L6hMnTgCQPdVnzpyBrcHYV1tbWzRp0gQffvih6TM00KtXL9y9exdTpkxBbGwsvL29ERoaqr8YMSYmBlZWSud7q1atsGbNGkyePBkff/wx6tSpgy1btujnqAaA3377TV+UA0Dv3r0BAFOnTsW0adPM+noKnUGD5FJZP/0kp7EDZJFsayu/HQx/w1y2zGJpEtGLKTUViIuTC6fqLFkie5MHDVJGnd29C3TpIj+2+vRRPrZsbWURbXgZTNWq8ge26tXlUA1dP8Hs2eop6wC5zfBCQCIiQ/mep3rw4MGYN28e52M2UKDzVGdmyitg7tyRA+7atJGTmObHnTvAiBFyWMfp0+rBfvPny2Ed//2vjAkhv4XY5UJEBeTgQfnDmK8v8NJLMnb9OuDuLj+KnjxRPrY++ED2ME+cKKeJA+TwDl9f2aO8dq2clg6Q46TT02UhzdFoRC8ec9drRWrxl8KqwIrqTZtk4XvzphKrVk2uBNCtW86P+esvOcdz8+ayKweQA/0cHOS3y+XL8jdOQOm+4RSBRGRiSUlyqWtHR2U88T//yJFk8fFyWrmshfKECcCsWTKWlgbY28vbjRvK6n0HDsjH+voCjRsX+MsioiLE3PVavmf/SE5OxqxZsxAWFob4+HhotVrV9qtXr5osOTKwaZO8uiXr30C3bsn4hg1ybdqICNkLrTtZIiOBhQvlvE66otreXs7IUbOmuoBmMU1Ez8FwZNjjx8DXX8uPpkWL5NhiQE4Dl7VQdnCQf/fr5nTWTSrl7y8L7SZNlOewtZVtKlRQX/jXurW8ERFZWr6L6qFDh2Lv3r3o378/qlSpkuNMIGRimZmyhzqnHxV032Zjx8phINeuyWW0XnlFbg8IkI/t2FH9uLffNnvaRFQ8ZGTIhUVu3JB/w+sK5S+/lLd33lEKZRsbYOpU+dE0fTqgW3+renXZu2xw2QtsbICNG2UbR0cl3qePclmHIV3vNBFRYZTvovqPP/7Atm3b0JpdAwVn/371kI+shJDfdt27y4JaN4AQABo0AObONXuKRFT0CCFnyChfXun9/f13OQ65bVs5W4auXevW8r+xsUqhrNHI3mPDdb9sbIAxY+S6T4YzZ4wbB+R0Lft//mOOV0ZEVPDyXVSXL18eFSpUMEcu9DR37uStXffuOXfvENEL7eJFefFf9eryxytA/gBWvjzw8KG6UI6KkkU1oBTVNjZyzLKtrZyuTqdvX/mjWNY5l7/5JnsO/FGTiIq7fC/+MmPGDEyZMgWPHz82Rz6Uk7wuq8Xlt4heGBkZsof4+nUlJoTs+W3aVE49p7NtGzBkiLyUQsfaGihbVv7/rVtKvGNH4KuvgGHD1M936JCc+7lmTSXm6irHPZcrZ7KXRURUZOWpp7pp06aqsdOXL1+Gs7Mz3N3dYZNlXqLjx4+bNkOS0+ZVqya/+XIaV63RyO1t2hR8bkRkdosWyZX5Jk2SF+oBctKfDz+UP06tWSNjGg1w5IhcJTAmRul9btRIzq/ctKl6v4cPA5UqyWuXdZo2zd6OiIhyl6eiOigoyMxp0DNZW8tv0B495LemYWGt+2Nn7tz8z1dNRBZz8aLsZW7dGihTRsZ+/hn45BP597Fhr/Lnn8tCuVcvpah2c5PDMjIy1Pv99ls5l3OdOkqsUyd5y6paNdO+JiKiF1meiuqpU6eaOw/KTbduwC+/5DxP9dy5T5+nmogKVHq6nOFC9zfu4cPAypVy2MT48Uq7jh1loXzkiFy4VOfyZcDFRb3PAQPk9PKGwyy6dZMxqyyD+PhRQERkGfm+UJEsqFs34M03jV9RkYiMcueOvPCvVCng1VeVePPmwPHjspDWFcrXr8ultFu3VhfVDRvKXue0NCXWoQMQHg54eKifT7dSoKES/PQmIipUnmv2j5zmptZoNLC3t0ft2rUxaNAgDB482CQJUhbW1kD79pbOgqhYSkyUs2EYDosIDgZOnJAjsHQr9u3fL4ditG6tLqptbOTorJgYpahu2lQufNKggfq5duzI/vyVKwPt2pn2NRERUcHId1E9ZcoUfP7553j11Vfh6+sLADhy5AhCQ0MxcuRIREdHY8SIEcjIyMCwrJePExEVAps3A+fPy4v8dLNZbNwoL1to3Vqu8qcTESFnvrh0SSmqa9cGWrYEvL3V+129Wk4TX7myEqtTB5gxw6wvh4iICoF8F9V//fUXZs6cifd0E5j+67vvvsPOnTuxceNGNG7cGPPnz2dRTUQFJi5OLihau7ay8t7Bg/IyhKpVgS1blLazZ8tC2dNTKaqrVpX/TUpS73fCBDk3s5+fEmvWTBbbWRlON0dERC8WjRA5zdH2dGXKlMHJkydRu3ZtVfzy5cvw9vbGo0ePcOXKFTRu3BjJhqsEFGNJSUlwdHREYmIiHBwcLJ0OUbEihLzpLsi7ehX4/ns5DdyUKUq7Vq1kofvLL3IdJEAWzv7+cqYMw1X/Zs4ErlwBhg+X2wF5gWFamnpBUiIiKj7MXa/le/GXChUq4Pfff88W//333/UrLSYnJ6OsblUBIqJcJCUBu3cD27er4/36AQ4OcriGzt278sK9779Xt/XwkMVzeroS8/KSPdS//aZuO3kysGKFUlADcjw0C2oiInpe+R7+8emnn2LEiBHYs2ePfkz10aNHsX37dixZsgQAsGvXLrTj1TZEL7zMTOD+ffUY43nz5AwXo0YBL78sYxcuyCnmqldXrxCYkQE8egTcuKHEatUC3n8/+wwZ//tf9qWwHRzkhDlERETmlu/hHwBw4MABLFiwAFFRUQCAevXqYdSoUWjVqpXJEywKOPyDXnR//QWcOgW0bStX7wPk1HK+vnIpa8OhF716yUVO5swBxoyRsdhYWWB7eABbtyrF8aVLcuhH9erqVf+IiIjyy9z12nMV1aTGopqKo+Rk2UNcoQLg5CRj0dHAu+/KHuTdu5W2ukL5m2+AsWNl7PZtefGfvb3sbdZNp759u7ygsG1bOVczERFRQTB3vZan4R9JSUn6J0/Keml8FiwqiYqW+/fl+OTERLkcts4772QvlO3sgF27ZIGckaEsQNK6tRzL7O6uPN7FRS7+6eKiXp+oSxezvyQiIqICl6eiunz58rhz5w6cnJxQrly5HBd/EUJAo9EgMzPT5EkSUf6kpQFnz8pp5gwXJ/n0U3mB3vjxcqo5QC51PWGCnF1j+nSlUK5eHShbFkhNVR7v4iIfX726+vk++EDeDFlZKdPUERERFXd5Kqp3796tn9ljz549Zk2IiJ7t8WO5PLbOhg3Atm3A668rU8nduwf4+MjCNjVVKZRTUoBbt+TwCx0XF6B/f7mKYFqa0jYkBPjyS/VzW1kBgwaZ65UREREVXXkqqg1n8uCsHkTmd/68vNCvbl15sR8gC+U6deT0c4aF8pEjwKpVQPnySlHt4iKnl3NxkcM6dIuhvPce8NZbcgYNHSsr4Mcfs+dQIt9zAxEREb248j1PNQDs378fb7/9Nlq1aoVbt24BAH766Sf8Zbi2LxGpaLVylov4eCX26JEscv395RhlnZUrZe/x2rVKrEIFefGgVisvAtTp0kWOhQ4KUmJWVnLGjSNHlIIakMW0r686RkRERMbLd1G9ceNGBAYGomTJkjh+/DhS/x1wmZiYiP/+978mT5CoqElPB777Ti4wYlgoT5oEVKkCzJqlxEqVAn79Va78Z1goN2kCdOiQvUf5zBnZ82w4prlDB+DjjwH+iERERGQ5+S6qZ86ciSVLlmDZsmWwsbHRx1u3bo3jx4+bNDmiwkIIuax1eLi6UF6+XE4L9+mnSszaWi5s8vnnwJ07SrxaNTn/8sOHSszKCli8GNi0SfZE6/TrJ6ese/99dR716skFTYiIiKhwyfeoyaioKLRt2zZb3NHREQkJCabIiahAabWy2NVNarNvn1wWu0kT5aI8IYD69WUv9PXrSk/x48fAuXOAp6eyPysrYMAAOf2clcGfrcOGyTHNBn+LAgCGDDHbSyMiIqICku+eahcXF1y+fDlb/K+//kLNmjVNktSzLFy4EO7u7rC3t4efnx+OHDnyzPYbNmyAp6cn7O3t0ahRI2zfvl21XQiBKVOmoEqVKihZsiQCAgJw6dIlc74EsoDbt+UMGQcOKDEhZM+vvb16GexTp4C5c+XKfjpWVvIiwbp15YWCOm+8AezcmX2WjO+/BxYuVE8pZ2+fvaAmIiKi4iHfRfWwYcMwevRoHD58GBqNBrdv38bq1avx4YcfYsSIEebIUW/9+vUIDg7G1KlTcfz4cTRp0gSBgYGIN7zyy8DBgwfRp08fDBkyBCdOnEBQUBCCgoJw9uxZfZvZs2dj/vz5WLJkCQ4fPozSpUsjMDAQKSkpZn0tZBopKcA//6hjI0cCgYFy6jidjRuB116TC5noaDSy5zk9XV1U+/sDH30E9O6t3u+5c0BUlHoVwBo1gFdekctrExER0QtM5JNWqxUzZ84UpUuXFhqNRmg0GmFvby8mT56c313lm6+vrxg5cqT+fmZmpnB1dRUhISE5tu/Zs6fo2rWrKubn5yfeffddIYR8LS4uLuLLL7/Ub09ISBB2dnZi7dq1ec4rMTFRABCJiYn5eTmUD7/8IsTs2ULcvavEvvtOCECIbt3UbT08ZHz/fiUWGipEs2ZCjB+vbnv6tBAxMUJkZJgvdyIiIrI8c9dree6pjo6OBgBoNBp88sknuH//Ps6ePYtDhw7h7t27mDFjhpnKfiktLQ2RkZEICAjQx6ysrBAQEICIiIgcHxMREaFqDwCBgYH69tHR0YiNjVW1cXR0hJ+f31P3CQCpqalISkpS3Sj//vkHOHFCThOns3Mn0KYNkPVHj/HjZe/xxYtKzNlZ/jfrDxVTpgA//ADUrq3EAgOByEhg9mx120aN5HzOhstoExEREeVXni9UrFWrFmrUqIEOHTrg5ZdfRocOHeDl5WXO3FTu3buHzMxMOOsqqX85OzvjomGlZSA2NjbH9rGxsfrtutjT2uQkJCQE06dPz/dreFFduAD8/DNQqZIcmqHj6wtcvQrs3w+89JKMPXkC/PWXHNZh6LXXZBFetqwS69RJxsqXV7flin9ERERU0PLcU717924MHDgQV69exbBhw1C9enXUqVMH7777LtatW4e4uDhz5lmoTJo0CYmJifrbDcMBuS+IxERZ/GZd7+eNN+TCIobxv/8Gpk2TC5oYql4dcHJSTzHn5wesXw8sWaJuO38+sHq1nJFDp2RJOQ2dbtYOIiIiIkvJc091+/bt0b59ewBASkoKDh48iPDwcISHh2PVqlVIT0+Hp6cnzp07Z5ZEK1WqBGtr62zFe1xcHFxcXHJ8jIuLyzPb6/4bFxeHKlWqqNp4e3s/NRc7OzvY2dk9z8swWmam7Nm9c0cuJNKmjWmHLgghV/kz7BGePVsOnfj4Y6Wo3bsXePNNoEULuWqfTlIScP+++sK/Bg3kdHINGqif688/s+fu4gL07Gm610NERERUEJ5rmXJ7e3u8/PLLmDx5MqZPn44PPvgAZcqUeeowDFOwtbWFj48PwsLC9DGtVouwsDD4+/vn+Bh/f39VewDYtWuXvr2HhwdcXFxUbZKSknD48OGn7tOSNm0C3N3lCnp9+8r/urvLeH7t3w8sWwZcu6bEdu2SK/y9/LK67fbtcvjG+fNKzN1dznjh5qZuO28ecPq0LLh1atcGli4FRo9Wt+U4ZiIiIiou8rX4S1paGg4dOoQ9e/YgPDwchw8fhpubG9q2bYsFCxagnZnXSQ4ODsbAgQPRvHlz+Pr6Yu7cuUhOTsbgwYMBAAMGDEDVqlUREhICABg9ejTatWuHr7/+Gl27dsW6detw7NgxLF26FIC86HLMmDGYOXMm6tSpAw8PD3z66adwdXVFUFCQWV9Lfm3aBPToIXuSDd26JeO//CLHHd+6JYdEODrK7adPyx5mR0c5fELn009lb/Pq1bJABuSY55QU4OZN9XMMGyaL5KZNlVjjxnI8dFaGwzOIiIiIXhR5LqpffvllHD58GB4eHmjXrh3effddrFmzRjVswtx69eqFu3fvYsqUKYiNjYW3tzdCQ0P1FxrGxMTAymAJu1atWmHNmjWYPHkyPv74Y9SpUwdbtmxBQ4OJhj/66CMkJydj+PDhSEhIwEsvvYTQ0FDY29sX2OvKTWam7OXNWlADMqbRAGPGyHHHukK5b1/lsdu2KTNl6Lz0ElC6tBz/rOPlJZfiNlywBJBLZhMRERHR02mEyKlUy87GxgZVqlRBUFAQ2rdvj3bt2qGiYUX2AktKSoKjoyMSExPh4OBg8v2Hh8uhHrl55RW5xPbcuXI5bEBeBLh2rbwosHNnk6dGREREVCSYu17Lc091QkIC9u/fj/DwcHzxxRfo06cP6tati3bt2umL7MqVK5s8QZIXJeZFv37Ajh3q2TDKlgWGDzdPXkREREQk5bmnOquHDx/ir7/+0o+vPnXqFOrUqaNaAvxFUVh6qvfsAf6doIWIiIiIDJi7Xnuu2T8AoHTp0qhQoQIqVKiA8uXLo0SJErhw4YIpc6N/tWkDVKv29PmYNRo5C0ebNgWbFxERERFJeR7+odVqcezYMYSHh2PPnj04cOAAkpOTUbVqVXTo0AELFy5Eh7x0p1K+WVvLqep69JAFtOFvC7pCe+5cTlFHREREZCl5LqrLlSuH5ORkuLi4oEOHDpgzZw7at2+PWrVqmTM/+le3bnLavNGj1VPeVasmC+pu3SyWGhEREdELL89jqr/77jt06NABdevWNXdORY65x+gYMveKikRERETFkbnrtee+UJEUBVlUExEREVH+FdoLFYmIiIiISGJRTURERERkJBbVRERERERGYlFNRERERGQkFtVEREREREZiUU1EREREZCQW1URERERERmJRTURERERkJBbVRERERERGYlFNRERERGQkFtVEREREREZiUU1EREREZCQW1URERERERmJRTURERERkJBbVRERERERGYlFNRERERGQkFtVEREREREZiUU1EREREZKQSlk6AiIiIiF4gmZnA/v3AnTtAlSpAmzaAtbWlszJakempvn//Pvr16wcHBweUK1cOQ4YMwaNHj575mJSUFIwcORIVK1ZEmTJl0L17d8TFxanafPDBB/Dx8YGdnR28vb3N+AqIiIiIXnCbNgHu7kCHDkDfvvK/7u4yXsQVmaK6X79+OHfuHHbt2oWtW7di3759GD58+DMfM3bsWPz+++/YsGED9u7di9u3b6Nbt27Z2r3zzjvo1auXuVInIiIiok2bgB49gJs31fFbt2S8iBfWGiGEsHQSublw4QK8vLxw9OhRNG/eHAAQGhqKLl264ObNm3B1dc32mMTERFSuXBlr1qxBjx49AAAXL15E/fr1ERERgZYtW6raT5s2DVu2bMHJkydzzSc1NRWpqan6+0lJSXBzc0NiYiIcHByMeKV5UEx/MiEiIqJiLDNT9khnLah1NBqgWjUgOtpsdU1SUhIcHR3NVq8ViZ7qiIgIlCtXTl9QA0BAQACsrKxw+PDhHB8TGRmJ9PR0BAQE6GOenp6oXr06IiIijMonJCQEjo6O+pubm5tR+8uzYvyTCRFRoSSELAYyM9Xx1FTgyRN1PD0dSEwEsg5NTEgA7t4F0tKUWEqK7J2Lj1e3jY2VRUVyshJ78gSIigKuXlW3vXYNOH0aePBAiT1+DERGyrihv/8GDh6U+zdsGx4O/PWXuu3Zs8DOnXL/hjls3Qps365ue/Kk/A66cEGJpaYC69bJm1arxCMjgR9/lP/VycwEli8Hvv9efXyOHAEWLZKdSIbmzwfmzFEf48OHgdmzs+f25ZfAjBnA/ftK7NAh4NNPgfXr1W0//xyYMEF2WBnud+xYmZuhadOAkSPV/x5HjwLDhgFffaVu++mnwMCBwLlzSuz4caBPH2DyZHXbjz8GuneX+9I5fRp4/XX5fIYmTgQ6dQL27FFiFy7IuqBPH3XbCROAVq2A339XYpcvA82by31kbdu4MbB6tRK7cQPw9ASaNVO3nTQJqFkTWLxYid29KwvjrHXRJ58AFSs+vaAG5Hvtxo3s/+ZFiSgCPv/8c1G3bt1s8cqVK4tFixbl+JjVq1cLW1vbbPEWLVqIjz76KFt86tSpokmTJnnKJyUlRSQmJupvN27cEABEYmJinh7/XDZuFEKjEUKedspNo5G3jRvN99xkXlqtEBkZ8mYoNVWI5GQh0tOVWEaGEAkJQmQ91xIThYiPl+110tOFuHFDiJs31W3j44W4ckWIBw+UWFqaEBcuCHHxorrtzZtCnDolRGyser9Hj8qbVqvEr10T4sABIaKjlVhmphDh4ULs2aN+HZcvC7FjhxDnz6ufb9s2IX77TYgnT5RYVJQ8v48eVbfduFGINWuESEpSYhcuCLFqlXxOQ6tXC7F0qRD37qnbLlggxO+/q9uuWCHEN98IceuWuu2sWfL5DC1dKsRnn8njqXPxohCTJwuxZIm67cKFQnz0kRBnzyqxS5eEGDNG7tvQ/PlCjBghxJEjSuzqVSGGDhViwgR127lzhRgwQB5jnZgYIXr3FmL4cHXbb74R4j//Ub/mO3eE6NpViO7ds7d95RUh1q5VYv/8I0S7dkK0b69uO2eOEP7+6tecnCyEj4+8Gf57zpsnRKNGQsyercQyM4Xw9BSiXj0h7t9X4gsWCOHhIcSkSernq1VLCFdXeX7rLF4sROXKQrz3nrptzZpCODioz+3vvxfC3l6Inj3VbT08hLCyUp9rP/0kP2s7dVK39fSUccNzbeNGGWvVSt3Wx0fGt21TYqGhMubtrW7bpo2M//yzEtu/X8bq1FG37dxZxleuVGKRkTLm6qpu2727jC9cqMQuXpSxcuXUbfv3l3HDf6MbN2TMxkbd9r33ZHzaNCX2zz/Kd5Th+z44WMbGj1diKSlK24QEJf7ppzI2cqT6+aytZdzw/TlrlowNGqRuW7asjF+6pMS+/VbG3npL3dbFRcZPnlRiy5fLWNeu6ra1asn4gQNKbN06Gcv63mjUSMZ37VJiv/8uYy1aqNu2bCnjW7YosbAwGfPyUrft2FHGV69WYocOyZi7u7rt66/L+NKlSuzMGRmrXFndtndvGZ87V4lduSJjpUqp2w4ZIuOff67EYmOVf09Do0Zlr1+edsv6OWtCiYmJZq3XLNpTPXHiRGg0mmfeLl68aMkUc2RnZwcHBwfVzawyM4HRo+XplpUuNmYMsGaN/CvTsNfhn3/kto8+Uj9u9Wrg//4PCA1VYklJwNCh8pa17YABwC+/KLGUFKB3b3kzGAqD1auBbt2AH35Q5/j668Brr8leHJ01a+RfyXPnqp+vc2egXTt1j8r69fIv7WnT1G1feQXw8VH3GPzyC9CokTxmhl5+GahXDzhzRolt2QJ4eAD9+6vbdugAVK0KGP6qsX07ULky0LVr9raOjrJnR+fPP4GSJYEsw4zw8svyZy3DY3ngAFCiBFC/vrptUBBQurS6x+D0aaBcuext33kHcHICVqxQYlevyt6CBg3UbT/8EKhVC1i2TInFxcl9NmqkbjtzJtCkibon4uFDoEULecvIUOLffgu0bi17l3TS04H27eUxMuxZ+vFHIDAQWLBA/XxvvCFvhj1LmzfL3pusbQcPlr/YGJ4nf/4pe4UWLlS3HTcOGD5c9oLoREQA77+vfm261xwcrO6lO31a9gx995267YIFwJQpwJUrSuzSJbmP5cvVbf/3P9mbdumSErtxQ57/P/6obvvrrzIvw7Z378oes3Xr1G1375aPN2ybmCjbbd6sbnvkiIxdvqzEnjwBtm0D/vhD3fbcOWDXLvV7Kz0d2LtX9m4aio6WxzMmRolptbJHMjJS3Vt55458D966pcQ0GuDiRdkba3hOPXgg933vnvr5bt0Cbt9Wt33yRB6jpCR128REGTPsUc7IkJ9hhp9dgGyj1T77s/ZZcY0m5za6uGFbKyv5vs/6M3fJkkCpUuq4jY1832f9rilfXr7v7e2VmJ2d7CnMOizSxUX2Khruw85O9kDWratuW6OGfN9XrqzEbG1lz6bBL8YAgNq15fvesGfSxka+519+Wd3W01O+7w2fz9pafj+8/ro8HjoNGsj3fdYJBPr0kTfD19yokXzft26tbjtokOw9LltWiTVuLHt9O3dWt333Xfm+N3zNjRvL79R/h5DqjRol3/fVqqlzmDkTGDJE3TY4WL7va9dWv7a5c+U2Q+PHy8/Pxo2VmKenfN/PmKFuO2GCfN/7+yux2rXl+/7bb9VtJ02Svya88ooSq1FD/vKwZo267ccfy/f9f/6jxKpUke95w+843X4jIuSx16lQQb7njx9Xt504UV0XPEuVKnlrVwhZdEq9cePGYdCgQc9sU7NmTbi4uCA+y09kGRkZuH//PlxcXHJ8nIuLC9LS0pCQkIBy5crp43FxcU99TKG1f3/efjJZvlx+wVapArz0ktyWlATMmyc/pGfPVh4THi7fqFWrKh8uKSlKIWD4c9eRI8BPP8kPTd2HS2am8vPZ8uXywxmQX8SbNwPVq6tz3LpV/tfwSyw6Wr55a9RQt923T35BpqQosdu35ZvX3V3d9uRJ+YX75IkSu39f/nxZq5a67ZUr8kvfsG1ysiyeDD/wAFlk3r6tzjc1VT6X4U+tgCwWk5JkwaGj1cr8DV8DoHxpGxYZOX3hGjL2S9vGRt3W3l4W64Zxa2v5pW1rq27r6Ag4OwNlyqjburllz6VSJXnMK1ZU56D7A8DK4G/4KlXkl7bhlxIgC/XMTPWXq5ub/LKsU0fdtm1b+e9XsqQSq1FDfmk3aaJuGxgo/90MCwp3d/ml7eOjbvvGG/Lf3/B1eHjILw5PT3XbHj3kH05Vq6rbvv9+9vdAnz7yC9DwvKxRQ37ZODur2/bvL19zw4ZKrFo1+aVt8HkGQBYOL70E+PkpsSpV5Je24bEB5B9f7drJP1B1KlWS7/es58mQIfIPIsOixtFRfmlrNPJc050DQ4bIIsqwWLK3l8U6oHw+6Np27Kg+PhqN/EzSaORzGL62gABZOBo6eFA+v+GXb//+smjIenwOHZLvN8PPmb595edeqVLqtkeOyLaG//Y9esi2Wd8bR4/KHAyP8RtvyPe8VZb+qsOH5WszfM+88or6M0Nnx47sMT+/7J87QPaCCJAFm+EfjzpZ/ygF5HvAcNiGzowZ2Ys4Jyf1sASdcePkzVDZsvK7KKthw+TNUIkSwG+/ZW/bq5e8ZfXTT9ljXbrIW1bz52ePtW0rb1ll7bABcv4jAsjeYQMAXl7yllVONY6HR877yGEiBbi6Zi/UAXWBrFOxYs7HzLDw1ilbNnsHESD/OMjauVKypPzcyKpWrezfszY22YeJAPJ1DBgg/xi5dSvn7zvdmOo2bbJvKyKK1IWKx44dg8+/X4A7d+5E586dc71Qce3atejevTsAICoqCp6enkZfqJiVuQe+Y+1a+SWQm//7P/lF9uabyofGgweymLa1BaZPV9r+9pv8S/Lll5W2jx/LsWoajfwLVPcFsHu3bOvnp5zs6elKD9+IEcoX8uHDwIkT8k1p2GuwfLncX58+ypfQ2bOyKK5dW92ju3GjLKy6dpXFHyB71s6elW84ww+5P/+U4/DatFF6I27dkl8UlSuri6vDh2Vbb2+l7b17ct/lyqkLpvPnZRFdu7bSNilJflmVKiU/FHViYmRbV1cl3ydP5FhJW1v1F/+9e/LYlSunHIf0dLlvXWGr8/ixPA729srx1Wple41G/SWvexs/regmIiKyNN3sH0DOHUa//JLzHxcmYu56rUgU1QDw6quvIi4uDkuWLEF6ejoGDx6M5s2bY82/f6nfunULHTt2xI8//ghfX18AwIgRI7B9+3asXLkSDg4OGDVqFADg4MGD+v1evnwZjx49wpIlS7Bnzx6s/7f31cvLC7ZZeyaewuxFdXi47AXKzZ49smeJiIiIqDDatEn21Bv+Au/mJn9dM2NBDZi/XisyKyquXr0a77//Pjp27AgrKyt0794d8w1+2klPT0dUVBQeP36sj82ZM0ffNjU1FYGBgVhkON4TwNChQ7F37179/aZNmwIAoqOj4Z51qIGltGkje2iL8U8mRERE9ALo1k3+ol4MpwcuMj3VhZnZe6oBi/9kQkRERFSUcZ5qkrp1k4Wz4QVRgOyhZkFNREREZFFFZvgHoVj/ZEJERERUlLGoLmqsrXkxIhEREVEhw+EfRERERERGYk+1Ceiu9UzKupIXERERERUKujrNXHN0sKg2gYcPHwIA3AyXaSUiIiKiQufhw4dwNFy91UQ4pZ4JaLVa3L59G2XLloXGgivaJSUlwc3NDTdu3DDf1H5FHI9R7niMcsdjlDseo9zxGOWOxyh3PEa50x2jmJgYaDQauLq6wsrK9COg2VNtAlZWVqhWrZql09BzcHDgGysXPEa54zHKHY9R7niMcsdjlDseo9zxGOXO0dHRrMeIFyoSERERERmJRTURERERkZFYVBcjdnZ2mDp1Kuzs7CydSqHFY5Q7HqPc8RjljscodzxGueMxyh2PUe4K6hjxQkUiIiIiIiOxp5qIiIiIyEgsqomIiIiIjMSimoiIiIjISCyqiYiIiIiMxKK6kFu4cCHc3d1hb28PPz8/HDly5Kltly1bhjZt2qB8+fIoX748AgICsrUfNGgQNBqN6ta5c2dzvwyzys8xWrlyZbbXb29vr2ojhMCUKVNQpUoVlCxZEgEBAbh06ZK5X4ZZ5ecYtW/fPtsx0mg06Nq1q75NcTqP9u3bh9dffx2urq7QaDTYsmVLro8JDw9Hs2bNYGdnh9q1a2PlypXZ2uTnmBd2+T1GmzZtwiuvvILKlSvDwcEB/v7+2LFjh6rNtGnTsp1Dnp6eZnwV5pXfYxQeHp7j+yw2NlbV7kU+j3L6nNFoNGjQoIG+TXE7j0JCQtCiRQuULVsWTk5OCAoKQlRUVK6P27BhAzw9PWFvb49GjRph+/btqu3F6XvteY5RQdVHLKoLsfXr1yM4OBhTp07F8ePH0aRJEwQGBiI+Pj7H9uHh4ejTpw/27NmDiIgIuLm5oVOnTrh165aqXefOnXHnzh39be3atQXxcswiv8cIkKtOGb7+69evq7bPnj0b8+fPx5IlS3D48GGULl0agYGBSElJMffLMYv8HqNNmzapjs/Zs2dhbW2Nt956S9WuuJxHycnJaNKkCRYuXJin9tHR0ejatSs6dOiAkydPYsyYMRg6dKiqaHye87Iwy+8x2rdvH1555RVs374dkZGR6NChA15//XWcOHFC1a5Bgwaqc+ivv/4yR/oFIr/HSCcqKkp1DJycnPTbXvTzaN68eapjc+PGDVSoUCHbZ1FxOo/27t2LkSNH4tChQ9i1axfS09PRqVMnJCcnP/UxBw8eRJ8+fTBkyBCcOHECQUFBCAoKwtmzZ/VtitP32vMcowKrjwQVWr6+vmLkyJH6+5mZmcLV1VWEhITk6fEZGRmibNmyYtWqVfrYwIEDxZtvvmnqVC0mv8doxYoVwtHR8an702q1wsXFRXz55Zf6WEJCgrCzsxNr1641Wd4FydjzaM6cOaJs2bLi0aNH+lhxO490AIjNmzc/s81HH30kGjRooIr16tVLBAYG6u8be8wLs7wco5x4eXmJ6dOn6+9PnTpVNGnSxHSJFSJ5OUZ79uwRAMSDBw+e2obnkdrmzZuFRqMR165d08eK83kkhBDx8fECgNi7d+9T2/Ts2VN07dpVFfPz8xPvvvuuEKJ4fq8Zyssxyspc9RF7qguptLQ0REZGIiAgQB+zsrJCQEAAIiIi8rSPx48fIz09HRUqVFDFw8PD4eTkhHr16mHEiBH4559/TJp7QXneY/To0SPUqFEDbm5uePPNN3Hu3Dn9tujoaMTGxqr26ejoCD8/vzwf98LEFOfR8uXL0bt3b5QuXVoVLy7nUX5FRESojicABAYG6o+nKY55caPVavHw4cNsn0WXLl2Cq6sratasiX79+iEmJsZCGVqOt7c3qlSpgldeeQUHDhzQx3keZbd8+XIEBASgRo0aqnhxPo8SExMBINt7x1Bun0nF7Xstq7wco6zMVR+xqC6k7t27h8zMTDg7O6vizs7O2cbcPc2ECRPg6uqqeiN17twZP/74I8LCwvDFF19g7969ePXVV5GZmWnS/AvC8xyjevXq4YcffsCvv/6K//3vf9BqtWjVqhVu3rwJAPrHGXPcCxNjz6MjR47g7NmzGDp0qCpenM6j/IqNjc3xeCYlJeHJkycmee8WN1999RUePXqEnj176mN+fn5YuXIlQkNDsXjxYkRHR6NNmzZ4+PChBTMtOFWqVMGSJUuwceNGbNy4EW5ubmjfvj2OHz8OwDTfAcXJ7du38ccff2T7LCrO55FWq8WYMWPQunVrNGzY8KntnvaZpDtPitv3mqG8HqOszFUflchX9lRkzJo1C+vWrUN4eLjqQrzevXvr/79Ro0Zo3LgxatWqhfDwcHTs2NESqRYof39/+Pv76++3atUK9evXx3fffYcZM2ZYMLPCafny5WjUqBF8fX1V8Rf9PKK8W7NmDaZPn45ff/1VNV741Vdf1f9/48aN4efnhxo1auDnn3/GkCFDLJFqgapXrx7q1aunv9+qVStcuXIFc+bMwU8//WTBzAqnVatWoVy5cggKClLFi/N5NHLkSJw9e7ZIjxE3t+c5Ruasj9hTXUhVqlQJ1tbWiIuLU8Xj4uLg4uLyzMd+9dVXmDVrFnbu3InGjRs/s23NmjVRqVIlXL582eicC5oxx0jHxsYGTZs21b9+3eOM2WdhYswxSk5Oxrp16/L0xVSUz6P8cnFxyfF4Ojg4oGTJkiY5L4uLdevWYejQofj555+z/TydVbly5VC3bt0X4hx6Gl9fX/3r53mkEELghx9+QP/+/WFra/vMtsXlPHr//fexdetW7NmzB9WqVXtm26d9JunOk+L2vaaTn2OkY+76iEV1IWVrawsfHx+EhYXpY1qtFmFhYaqe1qxmz56NGTNmIDQ0FM2bN8/1eW7evIl//vkHVapUMUneBel5j5GhzMxMnDlzRv/6PTw84OLiotpnUlISDh8+nOd9FibGHKMNGzYgNTUVb7/9dq7PU5TPo/zy9/dXHU8A2LVrl/54muK8LA7Wrl2LwYMHY+3atarpGJ/m0aNHuHLlygtxDj3NyZMn9a+f55Fi7969uHz5cp7+wC/q55EQAu+//z42b96M3bt3w8PDI9fH5PaZVNy+157nGAEFVB8ZdZkjmdW6deuEnZ2dWLlypTh//rwYPny4KFeunIiNjRVCCNG/f38xceJEfftZs2YJW1tb8csvv4g7d+7obw8fPhRCCPHw4UPx4YcfioiICBEdHS3+/PNP0axZM1GnTh2RkpJikddorPweo+nTp4sdO3aIK1euiMjISNG7d29hb28vzp07p28za9YsUa5cOfHrr7+K06dPizfffFN4eHiIJ0+eFPjrM4X8HiOdl156SfTq1StbvLidRw8fPhQnTpwQJ06cEADEN998I06cOCGuX78uhBBi4sSJon///vr2V69eFaVKlRLjx48XFy5cEAsXLhTW1tYiNDRU3ya3Y17U5PcYrV69WpQoUUIsXLhQ9VmUkJCgbzNu3DgRHh4uoqOjxYEDB0RAQICoVKmSiI+PL/DXZwr5PUZz5swRW7ZsEZcuXRJnzpwRo0ePFlZWVuLPP//Ut3nRzyOdt99+W/j5+eW4z+J2Ho0YMUI4OjqK8PBw1Xvn8ePH+jZZP7MPHDggSpQoIb766itx4cIFMXXqVGFjYyPOnDmjb1Ocvtee5xgVVH3EorqQ+/bbb0X16tWFra2t8PX1FYcOHdJva9eunRg4cKD+fo0aNQSAbLepU6cKIYR4/Pix6NSpk6hcubKwsbERNWrUEMOGDSuyH9A6+TlGY8aM0bd1dnYWXbp0EcePH1ftT6vVik8//VQ4OzsLOzs70bFjRxEVFVVQL8cs8nOMhBDi4sWLAoDYuXNntn0Vt/NIN7VZ1pvumAwcOFC0a9cu22O8vb2Fra2tqFmzplixYkW2/T7rmBc1+T1G7dq1e2Z7IeQ0hFWqVBG2traiatWqolevXuLy5csF+8JMKL/H6IsvvhC1atUS9vb2okKFCqJ9+/Zi9+7d2fb7Ip9HQsip30qWLCmWLl2a4z6L23mU0/EBoPqMyekz++effxZ169YVtra2okGDBmLbtm2q7cXpe+15jlFB1UeafxMkIiIiIqLnxDHVRERERERGYlFNRERERGQkFtVEREREREZiUU1EREREZCQW1URERERERmJRTURERERkJBbVRERERERGYlFNRERERGQkFtVEREREREZiUU1EREREZCQW1URERERERmJRTURERERkJBbVRERERERGYlFNRERERGQkFtVEREREREZiUU1EREREZCQW1URERERERmJRTURERERkJBbVRERERERGKmHpBIoDrVaL27dvo2zZstBoNJZOh4iIiIiyEELg4cOHcHV1hZWV6fuVWVSbwO3bt+Hm5mbpNIiIiIgoFzdu3EC1atVMvl8W1SZQtmxZAPIfycHBwcLZEBEREVFWSUlJcHNz09dtpsai2gR0Qz4cHBxYVBMREREVYuYaqssLFYmIiIiIjMSimoiIiIjISCyqiYiIiIiMxKKaiIiIiMhILKqJiIiIiIzEopqIiIiIyEgsqomIiIiIjMR5qsli3Cdus3QK9IK4NqurpVMgIqJijj3VRERERERGYlFNRERERGQkFtVEREREREZiUU1EREREZCQW1URERERERmJRTURERERkJBbVRERERERGYlFNRERERGQkFtVEREREREZiUU1EREREZCQW1URERERERmJRTURERERkJBbVRERERERGYlFNRERERGQkFtVEREREREZiUU1EREREZCSzFNW3bt3C22+/jYoVK6JkyZJo1KgRjh07pt8uhMCUKVNQpUoVlCxZEgEBAbh06ZJqH/fv30e/fv3g4OCAcuXKYciQIXj06JGqzenTp9GmTRvY29vDzc0Ns2fPzpbLhg0b4OnpCXt7ezRq1Ajbt29Xbc9LLkREREREz2LyovrBgwdo3bo1bGxs8Mcff+D8+fP4+uuvUb58eX2b2bNnY/78+ViyZAkOHz6M0qVLIzAwECkpKfo2/fr1w7lz57Br1y5s3boV+/btw/Dhw/Xbk5KS0KlTJ9SoUQORkZH48ssvMW3aNCxdulTf5uDBg+jTpw+GDBmCEydOICgoCEFBQTh79my+ciEiIiIiehaNEEKYcocTJ07EgQMHsH///hy3CyHg6uqKcePG4cMPPwQAJCYmwtnZGStXrkTv3r1x4cIFeHl54ejRo2jevDkAIDQ0FF26dMHNmzfh6uqKxYsX45NPPkFsbCxsbW31z71lyxZcvHgRANCrVy8kJydj69at+udv2bIlvL29sWTJkjzlkhdJSUlwdHREYmIiHBwcnu/AvYDcJ26zdAr0grg2q6ulUyAiIgszd71m8p7q3377Dc2bN8dbb70FJycnNG3aFMuWLdNvj46ORmxsLAICAvQxR0dH+Pn5ISIiAgAQERGBcuXK6QtqAAgICICVlRUOHz6sb9O2bVt9QQ0AgYGBiIqKwoMHD/RtDJ9H10b3PHnJJSepqalISkpS3YiIiIjoxWXyovrq1atYvHgx6tSpgx07dmDEiBH44IMPsGrVKgBAbGwsAMDZ2Vn1OGdnZ/222NhYODk5qbaXKFECFSpUULXJaR+Gz/G0Nobbc8slJyEhIXB0dNTf3NzcnnVIiIiIiKiYM3lRrdVq0axZM/z3v/9F06ZNMXz4cAwbNgxLliwx9VNZzKRJk5CYmKi/3bhxw9IpEREREZEFmbyorlKlCry8vFSx+vXrIyYmBgDg4uICAIiLi1O1iYuL029zcXFBfHy8antGRgbu37+vapPTPgyf42ltDLfnlktO7Ozs4ODgoLoRERER0YvL5EV169atERUVpYr9/fffqFGjBgDAw8MDLi4uCAsL029PSkrC4cOH4e/vDwDw9/dHQkICIiMj9W12794NrVYLPz8/fZt9+/YhPT1d32bXrl2oV6+efqYRf39/1fPo2uieJy+5EBERERHlxuRF9dixY3Ho0CH897//xeXLl7FmzRosXboUI0eOBABoNBqMGTMGM2fOxG+//YYzZ85gwIABcHV1RVBQEADZs925c2cMGzYMR44cwYEDB/D++++jd+/ecHV1BQD07dsXtra2GDJkCM6dO4f169dj3rx5CA4O1ucyevRohIaG4uuvv8bFixcxbdo0HDt2DO+//36ecyEiIiIiyk0JU++wRYsW2Lx5MyZNmoTPPvsMHh4emDt3Lvr166dv89FHHyE5ORnDhw9HQkICXnrpJYSGhsLe3l7fZvXq1Xj//ffRsWNHWFlZoXv37pg/f75+u6OjI3bu3ImRI0fCx8cHlSpVwpQpU1RzWbdq1Qpr1qzB5MmT8fHHH6NOnTrYsmULGjZsmK9ciIiIiIiexeTzVL+IOE/18+E81VRQOE81EREVuXmqiYiIiIheNCyqiYiIiIiMxKKaiIiIiMhILKqJiIiIiIzEopqIiIiIyEgsqomIiIiIjMSimoiIiIjISCyqiYiIiIiMxKKaiIiIiMhILKqJiIiIiIzEopqIiIiIyEgsqomIiIiIjMSimoiIiIjISCyqiYiIiIiMxKKaiIiIiMhILKqJiIiIiIzEopqIiIiIyEgsqomIiIiIjMSimoiIiIjISCyqiYiIiIiMxKKaiIiIiMhILKqJiIiIiIzEopqIiIiIyEgsqomIiIiIjMSimoiIiIjISCyqiYiIiIiMxKKaiIiIiMhILKqJiIiIiIzEopqIiIiIyEgsqomIiIiIjMSimoiIiIjISCyqiYiIiIiMxKKaiIiIiMhILKqJiIiIiIzEopqIiIiIyEgsqomIiIiIjMSimoiIiIjISCyqiYiIiIiMxKKaiIiIiMhILKqJiIiIiIzEopqIiIiIyEgsqomIiIiIjMSimoiIiIjISCyqiYiIiIiMxKKaiIiIiMhILKqJiIiIiIzEopqIiIiIyEgsqomIiIiIjMSimoiIiIjISGYvqmfNmgWNRoMxY8boYykpKRg5ciQqVqyIMmXKoHv37oiLi1M9LiYmBl27dkWpUqXg5OSE8ePHIyMjQ9UmPDwczZo1g52dHWrXro2VK1dme/6FCxfC3d0d9vb28PPzw5EjR1Tb85ILEREREdGzmLWoPnr0KL777js0btxYFR87dix+//13bNiwAXv37sXt27fRrVs3/fbMzEx07doVaWlpOHjwIFatWoWVK1diypQp+jbR0dHo2rUrOnTogJMnT2LMmDEYOnQoduzYoW+zfv16BAcHY+rUqTh+/DiaNGmCwMBAxMfH5zkXIiIiIqLcaIQQwhw7fvToEZo1a4ZFixZh5syZ8Pb2xty5c5GYmIjKlStjzZo16NGjBwDg4sWLqF+/PiIiItCyZUv88ccfeO2113D79m04OzsDAJYsWYIJEybg7t27sLW1xYQJE7Bt2zacPXtW/5y9e/dGQkICQkNDAQB+fn5o0aIFFixYAADQarVwc3PDqFGjMHHixDzlkhdJSUlwdHREYmIiHBwcTHYMizv3idssnQK9IK7N6mrpFIiIyMLMXa+Zrad65MiR6Nq1KwICAlTxyMhIpKenq+Kenp6oXr06IiIiAAARERFo1KiRvqAGgMDAQCQlJeHcuXP6Nln3HRgYqN9HWloaIiMjVW2srKwQEBCgb5OXXHKSmpqKpKQk1Y2IiIiIXlwlzLHTdevW4fjx4zh69Gi2bbGxsbC1tUW5cuVUcWdnZ8TGxurbGBbUuu26bc9qk5SUhCdPnuDBgwfIzMzMsc3FixfznEtOQkJCMH369KduJyIiIqIXi8l7qm/cuIHRo0dj9erVsLe3N/XuC4VJkyYhMTFRf7tx44alUyIiIiIiCzJ5UR0ZGYn4+Hg0a9YMJUqUQIkSJbB3717Mnz8fJUqUgLOzM9LS0pCQkKB6XFxcHFxcXAAALi4u2Wbg0N3PrY2DgwNKliyJSpUqwdraOsc2hvvILZec2NnZwcHBQXUjIiIioheXyYvqjh074syZMzh58qT+1rx5c/Tr10///zY2NggLC9M/JioqCjExMfD39wcA+Pv748yZM6pZOnbt2gUHBwd4eXnp2xjuQ9dGtw9bW1v4+Pio2mi1WoSFhenb+Pj45JoLEREREVFuTD6mumzZsmjYsKEqVrp0aVSsWFEfHzJkCIKDg1GhQgU4ODhg1KhR8Pf318+20alTJ3h5eaF///6YPXs2YmNjMXnyZIwcORJ2dnYAgPfeew8LFizARx99hHfeeQe7d+/Gzz//jG3blBklgoODMXDgQDRv3hy+vr6YO3cukpOTMXjwYACAo6NjrrkQEREREeXGLBcq5mbOnDmwsrJC9+7dkZqaisDAQCxatEi/3draGlu3bsWIESPg7++P0qVLY+DAgfjss8/0bTw8PLBt2zaMHTsW8+bNQ7Vq1fD9998jMDBQ36ZXr164e/cupkyZgtjYWHh7eyM0NFR18WJuuRARERER5cZs81S/SDhP9fPhPNVUUDhPNRERFdl5qomIiIiIXhQsqomIiIiIjMSimoiIiIjISCyqiYiIiIiMxKKaiIiIiMhILKqJiIiIiIzEopqIiIiIyEgsqomIiIiIjMSimoiIiIjISCyqiYiIiIiMxKKaiIiIiMhILKqJiIiIiIzEopqIiIiIyEgsqomIiIiIjMSimoiIiIjISCyqiYiIiIiMxKKaiIiIiMhILKqJiIiIiIzEopqIiIiIyEgsqomIiIiIjMSimoiIiIjISCyqiYiIiIiMxKKaiIiIiMhILKqJiIiIiIzEopqIiIiIyEgsqomIiIiIjMSimoiIiIjISCyqiYiIiIiMxKKaiIiIiMhILKqJiIiIiIzEopqIiIiIyEgsqomIiIiIjMSimoiIiIjISCyqiYiIiIiMxKKaiIiIiMhILKqJiIiIiIzEopqIiIiIyEgsqomIiIiIjMSimoiIiIjISCyqiYiIiIiMxKKaiIiIiMhILKqJiIiIiIzEopqIiIiIyEgsqomIiIiIjMSimoiIiIjISCyqiYiIiIiMxKKaiIiIiMhILKqJiIiIiIzEopqIiIiIyEgmL6pDQkLQokULlC1bFk5OTggKCkJUVJSqTUpKCkaOHImKFSuiTJky6N69O+Li4lRtYmJi0LVrV5QqVQpOTk4YP348MjIyVG3Cw8PRrFkz2NnZoXbt2li5cmW2fBYuXAh3d3fY29vDz88PR44cyXcuRERERETPYvKieu/evRg5ciQOHTqEXbt2IT09HZ06dUJycrK+zdixY/H7779jw4YN2Lt3L27fvo1u3brpt2dmZqJr165IS0vDwYMHsWrVKqxcuRJTpkzRt4mOjkbXrl3RoUMHnDx5EmPGjMHQoUOxY8cOfZv169cjODgYU6dOxfHjx9GkSRMEBgYiPj4+z7kQEREREeVGI4QQ5nyCu3fvwsnJCXv37kXbtm2RmJiIypUrY82aNejRowcA4OLFi6hfvz4iIiLQsmVL/PHHH3jttddw+/ZtODs7AwCWLFmCCRMm4O7du7C1tcWECROwbds2nD17Vv9cvXv3RkJCAkJDQwEAfn5+aNGiBRYsWAAA0Gq1cHNzw6hRozBx4sQ85ZKT1NRUpKam6u8nJSXBzc0NiYmJcHBwMP1BLKbcJ26zdAr0grg2q6ulUyAiIgtLSkqCo6Oj2eo1s4+pTkxMBABUqFABABAZGYn09HQEBATo23h6eqJ69eqIiIgAAERERKBRo0b6ghoAAgMDkZSUhHPnzunbGO5D10a3j7S0NERGRqraWFlZISAgQN8mL7nkJCQkBI6Ojvqbm5tb/g8MERERERUbZi2qtVotxowZg9atW6Nhw4YAgNjYWNja2qJcuXKqts7OzoiNjdW3MSyoddt1257VJikpCU+ePMG9e/eQmZmZYxvDfeSWS04mTZqExMRE/e3GjRt5OBpEREREVFyVMOfOR44cibNnz+Kvv/4y59MUODs7O9jZ2Vk6DSIiIiIqJMzWU/3+++9j69at2LNnD6pVq6aPu7i4IC0tDQkJCar2cXFxcHFx0bfJOgOH7n5ubRwcHFCyZElUqlQJ1tbWObYx3EduuRARERER5cbkRbUQAu+//z42b96M3bt3w8PDQ7Xdx8cHNjY2CAsL08eioqIQExMDf39/AIC/vz/OnDmjmqVj165dcHBwgJeXl76N4T50bXT7sLW1hY+Pj6qNVqtFWFiYvk1eciEiIiIiyo3Jh3+MHDkSa9aswa+//oqyZcvqxyY7OjqiZMmScHR0xJAhQxAcHIwKFSrAwcEBo0aNgr+/v362jU6dOsHLywv9+/fH7NmzERsbi8mTJ2PkyJH6YRfvvfceFixYgI8++gjvvPMOdu/ejZ9//hnbtikzSgQHB2PgwIFo3rw5fH19MXfuXCQnJ2Pw4MH6nHLLhYiIiIgoNyYvqhcvXgwAaN++vSq+YsUKDBo0CAAwZ84cWFlZoXv37khNTUVgYCAWLVqkb2ttbY2tW7dixIgR8Pf3R+nSpTFw4EB89tln+jYeHh7Ytm0bxo4di3nz5qFatWr4/vvvERgYqG/Tq1cv3L17F1OmTEFsbCy8vb0RGhqqungxt1yIiIiIiHJj9nmqXwTmnvewuOI81VRQOE81EREV+XmqiYiIiIiKOxbVRERERERGYlFNRERERGQkFtVEREREREZiUU1EREREZCQW1URERERERmJRTURERERkJBbVRERERERGYlFNRERERGQkFtVEREREREZiUU1EREREZCQW1URERERERmJRTURERERkJBbVRERERERGYlFNRERERGQkFtVEREREREZiUU1EREREZCQW1URERERERmJRTURERERkJBbVRERERERGYlFNRERERGQkFtVEREREREZiUU1EREREZCQW1URERERERmJRTURERERkJBbVRERERERGYlFNRERERGQkFtVEREREREYqYekEiIiIigv3idssnQK9IK7N6mrpFCgL9lQTERERERmJRTURERERkZFYVBMRERERGYlFNRERERGRkVhUExEREREZiUU1EREREZGRWFQTERERERmJRTURERERkZFYVBMRERERGYlFNRERERGRkVhUExEREREZiUU1EREREZGRWFQTERERERmJRTURERERkZFYVBMRERERGYlFNRERERGRkVhUExEREREZiUU1EREREZGRWFQTERERERmJRfW/Fi5cCHd3d9jb28PPzw9HjhyxdEpEREREVESwqAawfv16BAcHY+rUqTh+/DiaNGmCwMBAxMfHWzo1IiIiIioCWFQD+OabbzBs2DAMHjwYXl5eWLJkCUqVKoUffvjB0qkRERERURFQwtIJWFpaWhoiIyMxadIkfczKygoBAQGIiIjI8TGpqalITU3V309MTAQAJCUlmTfZYkab+tjSKdALgu9NKij8XKOCws+1/NMdMyGEWfb/whfV9+7dQ2ZmJpydnVVxZ2dnXLx4McfHhISEYPr06dnibm5uZsmRiIzjONfSGRARmRY/157fw4cP4ejoaPL9vvBF9fOYNGkSgoOD9fe1Wi3u37+PihUrQqPRWDAzKu6SkpLg5uaGGzduwMHBwdLpEBEZjZ9rVFCEEHj48CFcXV3Nsv8XvqiuVKkSrK2tERcXp4rHxcXBxcUlx8fY2dnBzs5OFStXrpy5UiTKxsHBgV8+RFSs8HONCoI5eqh1XvgLFW1tbeHj44OwsDB9TKvVIiwsDP7+/hbMjIiIiIiKihe+pxoAgoODMXDgQDRv3hy+vr6YO3cukpOTMXjwYEunRkRERERFAItqAL169cLdu3cxZcoUxMbGwtvbG6GhodkuXiSyNDs7O0ydOjXb8CMioqKKn2tUXGiEueYVISIiIiJ6QbzwY6qJiIiIiIzFopqIiIiIyEgsqomIiIiIjMSimoiIiIjISCyqiYiIiIiMxCn1iAqZ+fPn5/sxgwcPRtmyZc2QDRGR8X777bd8P+aVV15ByZIlzZANkXlwSj2iQsbKygrVqlWDtbV1ntrfuHEDf//9N2rWrGnmzIiIno+VVf5+GNdoNLh06RI/16hIYU81USF07NgxODk55akte6iJqCiIjY3l5xoVaxxTTVTITJ06FWXKlMlz+48//hgVKlQwY0ZERMYZOHBgvoZyvP3223BwcDBjRkSmx+EfRERERERG4vAPokIuMTERsbGxAAAXFxc4OjpaOCMiIuOlpqYCAOzs7CycCZFpcPgHUSH1/fffw8vLCxUqVICXl5fq/5cvX27p9IiI8m3Xrl3o0qULypcvj1KlSqFUqVIoX748unTpgj///NPS6REZhT3VRIXQl19+iWnTpuGDDz5AYGAgnJ2dAQBxcXHYuXMnRo8ejQcPHuDDDz+0cKZERHmzatUqDB06FD169MCcOXOyfa516dIFy5cvR//+/S2cKdHz4ZhqokKoRo0a+PLLL9GzZ88ct69fvx7jx49HTExMAWdGRPR86tati9GjR2PkyJE5bl+0aBHmzJmDS5cuFXBmRKbB4R9EhVB8fDwaNWr01O2NGjXCvXv3CjAjIiLjxMTEICAg4KnbO3bsiJs3bxZgRkSmxaKaqBBq0aIFZs2ahYyMjGzbMjMz8cUXX6BFixYWyIyI6Pk0aNDgmdeD/PDDD/Dy8irAjIhMi8M/iAqh06dPIzAwEOnp6Wjbtq1q7OG+fftga2uLnTt3omHDhhbOlIgob8LDw/Haa6+hZs2aCAgIUH2uhYWF4erVq9i2bRvatm1r4UyJng+LaqJC6uHDh/jf//6HQ4cOqabU8/f3R9++fbkwAhEVOdeuXcPixYtz/Fx777334O7ubtkEiYzAopqIiIiIyEgcU01EREREZCQW1URFUEBAAGrWrGnpNIiITGbgwIF4+eWXLZ0G0XPj4i9ERdB//vMfTqlHRMVK1apVYWXFvj4qujimmoiIiIjISPyTkIiIiCwmOjo6xzn5iYoaFtVERdCVK1c49pCIioV69epxaXIqFjimmqgIevToEfbu3WvpNIiI8qxbt245xjMzM/HBBx+gbNmyAIBNmzYVZFpEJsOimqgQmj9//jO337p1q4AyISIyjS1btqBt27bw8PDItq1MmTJwdHS0QFZEpsMLFYkKISsrK1SpUgW2trY5bk9LS0NsbCwyMzMLODMiouezbt06jB8/Hp999hkGDx6sj9vY2ODUqVPw8vKyYHZExmNRTVQIeXh44IsvvkDPnj1z3H7y5En4+PiwqCaiIuXatWt4++234ezsjO+//x7ly5dnUU3FBi9UJCqEfHx8EBkZ+dTtGo0G/HuYiIoad3d37Nu3Dw0bNkSTJk2wY8cOaDQaS6dFZBLsqSYqhM6fP4/Hjx+jefPmOW5PT0/H7du3UaNGjQLOjIjINP766y8MGDAA169fx5kzZ9hTTUUei2oiIiKyiEePHuHKlSuoX7/+U68hISoqWFQTERERERmJY6qJiIjI4i5cuICaNWtaOg2i58aimoiIiCwuLS0N169ft3QaRM+Ni78QERGR2QUHBz9z+927dwsoEyLz4JhqIiIiMjtra2t4e3vDwcEhx+2PHj3C8ePHOf8+FVnsqSYqon788Ue0bt0atWrVsnQqRES5ql27NsaOHYu33347x+26Ra2IiiqOqSYqogYNGgQvLy+MGjXK0qkQEeWqefPmXNSKijUO/yAqwqKjo/HHH3/g//7v/yydChHRM8XGxiI1NZWLVlGxxaKaiIiIiMhIHFNNVIjFxsbi8OHDiI2NBQC4uLjAz88PLi4uFs6MiIiIDLGoJiqEkpOT8e6772LdunXQaDSoUKECAOD+/fsQQqBPnz747rvvUKpUKQtnSkRERAAvVCQqlEaPHo0jR45g27ZtSElJQVxcHOLi4pCSkoLt27fjyJEjGD16tKXTJCIion9xTDVRIVS+fHls27YNrVq1ynH7gQMH8Nprr+HBgwcFnBkRERHlhD3VRIWQVquFra3tU7fb2tpCq9UWYEZERET0LCyqiQqh1157DcOHD8eJEyeybTtx4gRGjBiB119/3QKZERGZz2effYb9+/dbOg2i58LhH0SF0IMHD9C3b1/s2LED5cuXh5OTEwAgPj4eCQkJCAwMxJo1a1CuXDnLJkpEZEIeHh6Ii4tDx44d8fvvv1s6HaJ8YVFNVIhdvHgRERERqin1/P394enpaeHMiIjM48mTJ9izZw+6dOli6VSI8oVFNRERERGRkThPNVERdOfOHaSnp6N69eqWToWIKF+OHDmS4y9wvr6+Fs6MyDjsqSYqgurXr4+///4bmZmZlk6FiChP4uPj0b17dxw4cADVq1eHs7MzACAuLg4xMTFo3bo1Nm7cqL+GhKioYVFNVAQdPXoUjx8/Rrt27SydChFRnvTo0QO3b9/GihUrUK9ePdW2qKgovPPOO3B1dcWGDRsslCGRcVhUExERkdmVLVsW+/btQ9OmTXPcHhkZifbt2+Phw4cFnBmRaXCeaiIiIjI7Ozs7JCUlPXX7w4cPYWdnV4AZEZkWi2qiIujUqVOwtra2dBpERHnWq1cvDBw4EJs3b1YV10lJSdi8eTMGDx6MPn36WDBDIuNw9g+iIoojt4ioKPnmm2+g1WrRu3dvZGRkwNbWFgCQlpaGEiVKYMiQIfjqq68snCXR8+OYaqJCqFu3bs/cnpiYiPDwcM7+QURFTlJSEiIjI1VT6vn4+MDBwcHCmREZh0U1USFkY2ODV155RT/lVFb379/H1q1bWVQTEREVEhz+QVQI1a9fH927d8eQIUNy3H7y5Els3bq1gLMiIjKfY8eO4fHjx2jbtq2lUyF6LrxQkagQ8vHxwfHjx5+63c7OjqspElGx0r9/f3To0MHSaRA9Nw7/ICqEUlNTkZmZiVKlSlk6FSKiAnH79m2kp6ejRo0alk6F6LmwqCYiIiIiMhKHfxAVEV27dsWdO3csnQYRkVlkZGQgJibG0mkQPTcW1URFxL59+/DkyRNLp0FEZBbnzp2Dh4eHpdMgem4sqomIiIiIjMQp9YiKiBo1asDGxsbSaRARPZdmzZo9czt/iaOijhcqEhERkdnZ29ujd+/eTx3icefOHSxbtoyLWlGRxZ5qokImJiYmX3NQ37p1C1WrVjVjRkRExmvYsCH8/PwwYsSIHLefPHkSy5YtK+CsiEyHY6qJCpkWLVrg3XffxdGjR5/aJjExEcuWLUPDhg2xcePGAsyOiOj5tG7dGlFRUU/dXrZsWa6mSEUah38QFTL//PMPPv/8c/zwww+wt7eHj48PXF1dYW9vjwcPHuD8+fM4d+4cmjVrhk8//RRdunSxdMpEREQvPBbVRIXU/7d3fyFN/3scx19TDKpNbCU52EKUVptphkUF/Zk0qZCwutALQQSjqxEZzboIWqMgrEDBqyJaURfdFF4EMptoVKQrKSqFwnITGUVWRDFIsnPRYed4Tpz2O9PfZj0fsIvv57PP9/veLsaLL+/PvvF4XLdu3dLdu3cViUQUj8e1ZMkSrVmzRtu3b9eqVavSXSIAAPgnQjUAAJhV7BXBn4CeagAAMKvYK4I/Af/+AQAAZtXQ0JBOnTqlqqqqX+4VaW1tZa8I5iTaPwAAwN+CvSL4nRGqAQAAgBTRUw0AAACkiFANAAAApIhQDQAAAKSIUA0AAACkiFANAAAApIhQDQC/uUAgoLy8vKTff/78edlsNmVlZamtrU0+n0/l5eWJ+cbGRu3evTtx7HK5dPDgwRmrFwDmIkI1AMxRhYWFamtrm9Fzfvr0SR6PR0eOHNH4+Lj279+vw4cPKxQKzeh1AOB3wxMVAQAJ0WhUk5OTqq6ulsViSYwbjcY0VgUAmY871QCQob58+aKGhgYZjUZZLBadO3cu0WrhcrkUiUTU3Nwsg8Egg8GQWBcIBLRs2TItWLBAe/bs0cTERFLXCwQCKi0tlSQVFRXJYDBodHT0v9o/fmZqakotLS0ym80qKCiQz+ebNh+NRlVTUyOj0ajc3FzV1tbqzZs3ifknT56osrJSJpNJubm5qqio0MOHD5P7ogAgAxCqASBDeb1e9fX1qbOzU8FgUL29vRocHJQk3bhxQ1arVX6/X7FYTLFYTJLU39+vpqYmeTwePX78WJWVlTp58mRS16urq9Pt27clSQMDA4rFYrLZbEmtvXz5shYuXKj+/n61trbK7/eru7tb0o/AXVNTo/fv36uvr0/d3d169eqV6urqEuvr6+tltVoVDof16NEjHT16VDk5OUl/VwCQbrR/AEAG+vz5sy5evKirV69q27Ztkn4EV6vVKkkym83Kzs6WyWRSQUFBYl17e7t27NihlpYWSZLdbtf9+/fV1dX1y2vOnz9fixcvliTl5+dPO++vlJWV6fjx45Kk5cuXq6OjQ6FQSFVVVQqFQnr69Klev36dCOlXrlxRSUmJwuGw1q1bp2g0Kq/Xq5UrVybOAQBzCXeqASADjYyM6OvXr1q/fn1izGw2a8WKFf9z3fDw8LQ1krRx48ZZqfHflZWVTTu2WCx6+/ZtoiabzTbtrrfT6VReXp6Gh4clSYcOHdK+ffvkdrt1+vRpjYyMzHrNADCTCNUAgJT9Z6uGwWDQ1NRU0ut9Pp+eP3+u6upq9fT0yOl06ubNmzNdJgDMGkI1AGSg4uJi5eTkqL+/PzH24cMHvXjxInE8b948ffv2bdo6h8MxbY0kPXjwYHaL/QWHw6GxsTGNjY0lxoaGhvTx40c5nc7EmN1uV3Nzs4LBoPbu3atLly6lo1wA+L8QqgEgAxmNRjU1Ncnr9aqnp0fPnj1TY2OjsrL+9bNdWFioO3fuaHx8XO/evZMkHThwQF1dXTp79qxevnypjo6OpPqpZ5Pb7VZpaanq6+s1ODiogYEBNTQ0aOvWrVq7dq3i8bg8Ho96e3sViUR07949hcNhORyOtNYNAH8FoRoAMtSZM2e0efNm7dq1S263W5s2bVJFRUVi3u/3a3R0VMXFxcrPz5ckbdiwQRcuXFB7e7tWr16tYDCoY8eOpesjSPrRCtLZ2alFixZpy5YtcrvdKioq0vXr1yVJ2dnZmpiYUENDg+x2u2pra7Vz506dOHEirXUDwF9h+P79+/d0FwEASI7L5VJ5efmMP0kRAJAa7lQDAAAAKSJUA8AfpKSkREaj8aeva9eupbs8AJizaP8AgD9IJBLR5OTkT+eWLl0qk8n0N1cEAL8HQjUAAACQIto/AAAAgBQRqgEAAIAUEaoBAACAFBGqAQAAgBQRqgEAAIAUEaoBAACAFBGqAQAAgBT9A3HqzWwW/UPLAAAAAElFTkSuQmCC\n"
                },
                "metadata": {}
              }
            ]
          }
        },
        "5dfb27fed3894c75af068efff38e894b": {
          "model_module": "@jupyter-widgets/base",
          "model_name": "LayoutModel",
          "model_module_version": "1.2.0",
          "state": {
            "_model_module": "@jupyter-widgets/base",
            "_model_module_version": "1.2.0",
            "_model_name": "LayoutModel",
            "_view_count": null,
            "_view_module": "@jupyter-widgets/base",
            "_view_module_version": "1.2.0",
            "_view_name": "LayoutView",
            "align_content": null,
            "align_items": null,
            "align_self": null,
            "border": null,
            "bottom": null,
            "display": null,
            "flex": null,
            "flex_flow": null,
            "grid_area": null,
            "grid_auto_columns": null,
            "grid_auto_flow": null,
            "grid_auto_rows": null,
            "grid_column": null,
            "grid_gap": null,
            "grid_row": null,
            "grid_template_areas": null,
            "grid_template_columns": null,
            "grid_template_rows": null,
            "height": null,
            "justify_content": null,
            "justify_items": null,
            "left": null,
            "margin": null,
            "max_height": null,
            "max_width": null,
            "min_height": null,
            "min_width": null,
            "object_fit": null,
            "object_position": null,
            "order": null,
            "overflow": null,
            "overflow_x": null,
            "overflow_y": null,
            "padding": null,
            "right": null,
            "top": null,
            "visibility": null,
            "width": null
          }
        },
        "817d9b1367c641bab90085af1a2d2540": {
          "model_module": "@jupyter-widgets/base",
          "model_name": "LayoutModel",
          "model_module_version": "1.2.0",
          "state": {
            "_model_module": "@jupyter-widgets/base",
            "_model_module_version": "1.2.0",
            "_model_name": "LayoutModel",
            "_view_count": null,
            "_view_module": "@jupyter-widgets/base",
            "_view_module_version": "1.2.0",
            "_view_name": "LayoutView",
            "align_content": null,
            "align_items": null,
            "align_self": null,
            "border": null,
            "bottom": null,
            "display": null,
            "flex": null,
            "flex_flow": null,
            "grid_area": null,
            "grid_auto_columns": null,
            "grid_auto_flow": null,
            "grid_auto_rows": null,
            "grid_column": null,
            "grid_gap": null,
            "grid_row": null,
            "grid_template_areas": null,
            "grid_template_columns": null,
            "grid_template_rows": null,
            "height": null,
            "justify_content": null,
            "justify_items": null,
            "left": null,
            "margin": null,
            "max_height": null,
            "max_width": null,
            "min_height": null,
            "min_width": null,
            "object_fit": null,
            "object_position": null,
            "order": null,
            "overflow": null,
            "overflow_x": null,
            "overflow_y": null,
            "padding": null,
            "right": null,
            "top": null,
            "visibility": null,
            "width": null
          }
        },
        "292b54a7f1f644ab8957171786928fe7": {
          "model_module": "@jupyter-widgets/controls",
          "model_name": "DescriptionStyleModel",
          "model_module_version": "1.5.0",
          "state": {
            "_model_module": "@jupyter-widgets/controls",
            "_model_module_version": "1.5.0",
            "_model_name": "DescriptionStyleModel",
            "_view_count": null,
            "_view_module": "@jupyter-widgets/base",
            "_view_module_version": "1.2.0",
            "_view_name": "StyleView",
            "description_width": ""
          }
        },
        "a7f3d4ee433748a4a0b4bdbde28e0a38": {
          "model_module": "@jupyter-widgets/base",
          "model_name": "LayoutModel",
          "model_module_version": "1.2.0",
          "state": {
            "_model_module": "@jupyter-widgets/base",
            "_model_module_version": "1.2.0",
            "_model_name": "LayoutModel",
            "_view_count": null,
            "_view_module": "@jupyter-widgets/base",
            "_view_module_version": "1.2.0",
            "_view_name": "LayoutView",
            "align_content": null,
            "align_items": null,
            "align_self": null,
            "border": null,
            "bottom": null,
            "display": null,
            "flex": null,
            "flex_flow": null,
            "grid_area": null,
            "grid_auto_columns": null,
            "grid_auto_flow": null,
            "grid_auto_rows": null,
            "grid_column": null,
            "grid_gap": null,
            "grid_row": null,
            "grid_template_areas": null,
            "grid_template_columns": null,
            "grid_template_rows": null,
            "height": null,
            "justify_content": null,
            "justify_items": null,
            "left": null,
            "margin": null,
            "max_height": null,
            "max_width": null,
            "min_height": null,
            "min_width": null,
            "object_fit": null,
            "object_position": null,
            "order": null,
            "overflow": null,
            "overflow_x": null,
            "overflow_y": null,
            "padding": null,
            "right": null,
            "top": null,
            "visibility": null,
            "width": null
          }
        },
        "0a38abcf3d3f4ccc95507c79984a6c50": {
          "model_module": "@jupyter-widgets/controls",
          "model_name": "SliderStyleModel",
          "model_module_version": "1.5.0",
          "state": {
            "_model_module": "@jupyter-widgets/controls",
            "_model_module_version": "1.5.0",
            "_model_name": "SliderStyleModel",
            "_view_count": null,
            "_view_module": "@jupyter-widgets/base",
            "_view_module_version": "1.2.0",
            "_view_name": "StyleView",
            "description_width": "",
            "handle_color": null
          }
        },
        "9e208ee02b8f4640941bb8ce8a904e15": {
          "model_module": "@jupyter-widgets/base",
          "model_name": "LayoutModel",
          "model_module_version": "1.2.0",
          "state": {
            "_model_module": "@jupyter-widgets/base",
            "_model_module_version": "1.2.0",
            "_model_name": "LayoutModel",
            "_view_count": null,
            "_view_module": "@jupyter-widgets/base",
            "_view_module_version": "1.2.0",
            "_view_name": "LayoutView",
            "align_content": null,
            "align_items": null,
            "align_self": null,
            "border": null,
            "bottom": null,
            "display": null,
            "flex": null,
            "flex_flow": null,
            "grid_area": null,
            "grid_auto_columns": null,
            "grid_auto_flow": null,
            "grid_auto_rows": null,
            "grid_column": null,
            "grid_gap": null,
            "grid_row": null,
            "grid_template_areas": null,
            "grid_template_columns": null,
            "grid_template_rows": null,
            "height": null,
            "justify_content": null,
            "justify_items": null,
            "left": null,
            "margin": null,
            "max_height": null,
            "max_width": null,
            "min_height": null,
            "min_width": null,
            "object_fit": null,
            "object_position": null,
            "order": null,
            "overflow": null,
            "overflow_x": null,
            "overflow_y": null,
            "padding": null,
            "right": null,
            "top": null,
            "visibility": null,
            "width": null
          }
        },
        "025c2c02c40f4fb8a153d3984ddf20cb": {
          "model_module": "@jupyter-widgets/controls",
          "model_name": "HBoxModel",
          "model_module_version": "1.5.0",
          "state": {
            "_dom_classes": [],
            "_model_module": "@jupyter-widgets/controls",
            "_model_module_version": "1.5.0",
            "_model_name": "HBoxModel",
            "_view_count": null,
            "_view_module": "@jupyter-widgets/controls",
            "_view_module_version": "1.5.0",
            "_view_name": "HBoxView",
            "box_style": "",
            "children": [
              "IPY_MODEL_b0d7f905372a443ba4a452e51dff2048",
              "IPY_MODEL_837e56fea83d47bc979e577a18c7c480",
              "IPY_MODEL_f8337b5e63434fffba7ae98127af2853"
            ],
            "layout": "IPY_MODEL_a0ee758a208c46418c1f3754dd708674"
          }
        },
        "b0d7f905372a443ba4a452e51dff2048": {
          "model_module": "@jupyter-widgets/controls",
          "model_name": "HTMLModel",
          "model_module_version": "1.5.0",
          "state": {
            "_dom_classes": [],
            "_model_module": "@jupyter-widgets/controls",
            "_model_module_version": "1.5.0",
            "_model_name": "HTMLModel",
            "_view_count": null,
            "_view_module": "@jupyter-widgets/controls",
            "_view_module_version": "1.5.0",
            "_view_name": "HTMLView",
            "description": "",
            "description_tooltip": null,
            "layout": "IPY_MODEL_4378b1372aee484f887472c1b0b5aa00",
            "placeholder": "​",
            "style": "IPY_MODEL_05f5c69f0ec245c6b3b2f91be04b4d92",
            "value": "Processing: 100%"
          }
        },
        "837e56fea83d47bc979e577a18c7c480": {
          "model_module": "@jupyter-widgets/controls",
          "model_name": "FloatProgressModel",
          "model_module_version": "1.5.0",
          "state": {
            "_dom_classes": [],
            "_model_module": "@jupyter-widgets/controls",
            "_model_module_version": "1.5.0",
            "_model_name": "FloatProgressModel",
            "_view_count": null,
            "_view_module": "@jupyter-widgets/controls",
            "_view_module_version": "1.5.0",
            "_view_name": "ProgressView",
            "bar_style": "",
            "description": "",
            "description_tooltip": null,
            "layout": "IPY_MODEL_e10fb7786ce3432fa170fe23977c4456",
            "max": 4,
            "min": 0,
            "orientation": "horizontal",
            "style": "IPY_MODEL_190085fee94046cf80cb9bd9f1a516fb",
            "value": 4
          }
        },
        "f8337b5e63434fffba7ae98127af2853": {
          "model_module": "@jupyter-widgets/controls",
          "model_name": "HTMLModel",
          "model_module_version": "1.5.0",
          "state": {
            "_dom_classes": [],
            "_model_module": "@jupyter-widgets/controls",
            "_model_module_version": "1.5.0",
            "_model_name": "HTMLModel",
            "_view_count": null,
            "_view_module": "@jupyter-widgets/controls",
            "_view_module_version": "1.5.0",
            "_view_name": "HTMLView",
            "description": "",
            "description_tooltip": null,
            "layout": "IPY_MODEL_d8f4ac8928e440fab99e06d5ee3c8e18",
            "placeholder": "​",
            "style": "IPY_MODEL_52f11dcf017b4305a628b9b903b93c9f",
            "value": " 4/4 [05:14&lt;00:00, 72.96s/it]"
          }
        },
        "a0ee758a208c46418c1f3754dd708674": {
          "model_module": "@jupyter-widgets/base",
          "model_name": "LayoutModel",
          "model_module_version": "1.2.0",
          "state": {
            "_model_module": "@jupyter-widgets/base",
            "_model_module_version": "1.2.0",
            "_model_name": "LayoutModel",
            "_view_count": null,
            "_view_module": "@jupyter-widgets/base",
            "_view_module_version": "1.2.0",
            "_view_name": "LayoutView",
            "align_content": null,
            "align_items": null,
            "align_self": null,
            "border": null,
            "bottom": null,
            "display": null,
            "flex": null,
            "flex_flow": null,
            "grid_area": null,
            "grid_auto_columns": null,
            "grid_auto_flow": null,
            "grid_auto_rows": null,
            "grid_column": null,
            "grid_gap": null,
            "grid_row": null,
            "grid_template_areas": null,
            "grid_template_columns": null,
            "grid_template_rows": null,
            "height": null,
            "justify_content": null,
            "justify_items": null,
            "left": null,
            "margin": null,
            "max_height": null,
            "max_width": null,
            "min_height": null,
            "min_width": null,
            "object_fit": null,
            "object_position": null,
            "order": null,
            "overflow": null,
            "overflow_x": null,
            "overflow_y": null,
            "padding": null,
            "right": null,
            "top": null,
            "visibility": "hidden",
            "width": null
          }
        },
        "4378b1372aee484f887472c1b0b5aa00": {
          "model_module": "@jupyter-widgets/base",
          "model_name": "LayoutModel",
          "model_module_version": "1.2.0",
          "state": {
            "_model_module": "@jupyter-widgets/base",
            "_model_module_version": "1.2.0",
            "_model_name": "LayoutModel",
            "_view_count": null,
            "_view_module": "@jupyter-widgets/base",
            "_view_module_version": "1.2.0",
            "_view_name": "LayoutView",
            "align_content": null,
            "align_items": null,
            "align_self": null,
            "border": null,
            "bottom": null,
            "display": null,
            "flex": null,
            "flex_flow": null,
            "grid_area": null,
            "grid_auto_columns": null,
            "grid_auto_flow": null,
            "grid_auto_rows": null,
            "grid_column": null,
            "grid_gap": null,
            "grid_row": null,
            "grid_template_areas": null,
            "grid_template_columns": null,
            "grid_template_rows": null,
            "height": null,
            "justify_content": null,
            "justify_items": null,
            "left": null,
            "margin": null,
            "max_height": null,
            "max_width": null,
            "min_height": null,
            "min_width": null,
            "object_fit": null,
            "object_position": null,
            "order": null,
            "overflow": null,
            "overflow_x": null,
            "overflow_y": null,
            "padding": null,
            "right": null,
            "top": null,
            "visibility": null,
            "width": null
          }
        },
        "05f5c69f0ec245c6b3b2f91be04b4d92": {
          "model_module": "@jupyter-widgets/controls",
          "model_name": "DescriptionStyleModel",
          "model_module_version": "1.5.0",
          "state": {
            "_model_module": "@jupyter-widgets/controls",
            "_model_module_version": "1.5.0",
            "_model_name": "DescriptionStyleModel",
            "_view_count": null,
            "_view_module": "@jupyter-widgets/base",
            "_view_module_version": "1.2.0",
            "_view_name": "StyleView",
            "description_width": ""
          }
        },
        "e10fb7786ce3432fa170fe23977c4456": {
          "model_module": "@jupyter-widgets/base",
          "model_name": "LayoutModel",
          "model_module_version": "1.2.0",
          "state": {
            "_model_module": "@jupyter-widgets/base",
            "_model_module_version": "1.2.0",
            "_model_name": "LayoutModel",
            "_view_count": null,
            "_view_module": "@jupyter-widgets/base",
            "_view_module_version": "1.2.0",
            "_view_name": "LayoutView",
            "align_content": null,
            "align_items": null,
            "align_self": null,
            "border": null,
            "bottom": null,
            "display": null,
            "flex": null,
            "flex_flow": null,
            "grid_area": null,
            "grid_auto_columns": null,
            "grid_auto_flow": null,
            "grid_auto_rows": null,
            "grid_column": null,
            "grid_gap": null,
            "grid_row": null,
            "grid_template_areas": null,
            "grid_template_columns": null,
            "grid_template_rows": null,
            "height": null,
            "justify_content": null,
            "justify_items": null,
            "left": null,
            "margin": null,
            "max_height": null,
            "max_width": null,
            "min_height": null,
            "min_width": null,
            "object_fit": null,
            "object_position": null,
            "order": null,
            "overflow": null,
            "overflow_x": null,
            "overflow_y": null,
            "padding": null,
            "right": null,
            "top": null,
            "visibility": null,
            "width": null
          }
        },
        "190085fee94046cf80cb9bd9f1a516fb": {
          "model_module": "@jupyter-widgets/controls",
          "model_name": "ProgressStyleModel",
          "model_module_version": "1.5.0",
          "state": {
            "_model_module": "@jupyter-widgets/controls",
            "_model_module_version": "1.5.0",
            "_model_name": "ProgressStyleModel",
            "_view_count": null,
            "_view_module": "@jupyter-widgets/base",
            "_view_module_version": "1.2.0",
            "_view_name": "StyleView",
            "bar_color": null,
            "description_width": ""
          }
        },
        "d8f4ac8928e440fab99e06d5ee3c8e18": {
          "model_module": "@jupyter-widgets/base",
          "model_name": "LayoutModel",
          "model_module_version": "1.2.0",
          "state": {
            "_model_module": "@jupyter-widgets/base",
            "_model_module_version": "1.2.0",
            "_model_name": "LayoutModel",
            "_view_count": null,
            "_view_module": "@jupyter-widgets/base",
            "_view_module_version": "1.2.0",
            "_view_name": "LayoutView",
            "align_content": null,
            "align_items": null,
            "align_self": null,
            "border": null,
            "bottom": null,
            "display": null,
            "flex": null,
            "flex_flow": null,
            "grid_area": null,
            "grid_auto_columns": null,
            "grid_auto_flow": null,
            "grid_auto_rows": null,
            "grid_column": null,
            "grid_gap": null,
            "grid_row": null,
            "grid_template_areas": null,
            "grid_template_columns": null,
            "grid_template_rows": null,
            "height": null,
            "justify_content": null,
            "justify_items": null,
            "left": null,
            "margin": null,
            "max_height": null,
            "max_width": null,
            "min_height": null,
            "min_width": null,
            "object_fit": null,
            "object_position": null,
            "order": null,
            "overflow": null,
            "overflow_x": null,
            "overflow_y": null,
            "padding": null,
            "right": null,
            "top": null,
            "visibility": null,
            "width": null
          }
        },
        "52f11dcf017b4305a628b9b903b93c9f": {
          "model_module": "@jupyter-widgets/controls",
          "model_name": "DescriptionStyleModel",
          "model_module_version": "1.5.0",
          "state": {
            "_model_module": "@jupyter-widgets/controls",
            "_model_module_version": "1.5.0",
            "_model_name": "DescriptionStyleModel",
            "_view_count": null,
            "_view_module": "@jupyter-widgets/base",
            "_view_module_version": "1.2.0",
            "_view_name": "StyleView",
            "description_width": ""
          }
        }
      }
    }
  },
  "nbformat": 4,
  "nbformat_minor": 0
}