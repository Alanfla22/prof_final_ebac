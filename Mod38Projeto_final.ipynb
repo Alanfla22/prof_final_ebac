{
  "cells": [
    {
      "cell_type": "code",
      "execution_count": null,
      "metadata": {
        "id": "bJgr-4RS_B7Q"
      },
      "outputs": [],
      "source": [
        "!pip install pycaret\n",
        "!pip install streamlit -q"
      ]
    },
    {
      "cell_type": "markdown",
      "metadata": {
        "id": "bN1duXRi7j96"
      },
      "source": [
        "![image.png](attachment:image.png)"
      ]
    },
    {
      "cell_type": "markdown",
      "metadata": {
        "id": "0iTwhg6O7j9-"
      },
      "source": [
        "# Tarefa II\n",
        "\n",
        "Neste projeto, estamos construindo um credit scoring para cartão de crédito, em um desenho amostral com 15 safras, e utilizando 12 meses de performance.\n",
        "\n",
        "Carregue a base de dados ```credit_scoring.ftr```."
      ]
    },
    {
      "cell_type": "code",
      "execution_count": null,
      "metadata": {
        "id": "rFBKkfts736j"
      },
      "outputs": [],
      "source": [
        "# importando as biliotecas para a tarefa 1\n",
        "\n",
        "import pandas as pd\n",
        "import matplotlib.pyplot as plt\n",
        "import seaborn as sns\n",
        "import numpy as np\n",
        "from ipywidgets import interact, interactive\n",
        "\n",
        "import statsmodels.formula.api as smf\n",
        "import statsmodels.api as sm\n",
        "\n",
        "from sklearn.impute import SimpleImputer\n",
        "from sklearn.feature_selection import SelectKBest, chi2\n",
        "from sklearn.decomposition import PCA\n",
        "from sklearn.linear_model import LogisticRegression\n",
        "from sklearn import metrics\n",
        "from scipy.stats import ks_2samp\n",
        "from scipy.stats import t\n",
        "\n",
        "from statsmodels.stats.outliers_influence import variance_inflation_factor as vif"
      ]
    },
    {
      "cell_type": "code",
      "execution_count": null,
      "metadata": {
        "colab": {
          "base_uri": "https://localhost:8080/"
        },
        "id": "m9EJGTaq76_F",
        "outputId": "43208592-3ca5-4ac8-f24f-0786237ef5d0"
      },
      "outputs": [
        {
          "output_type": "stream",
          "name": "stdout",
          "text": [
            "Drive already mounted at /content/drive; to attempt to forcibly remount, call drive.mount(\"/content/drive\", force_remount=True).\n"
          ]
        }
      ],
      "source": [
        "from google.colab import drive\n",
        "drive.mount('/content/drive')"
      ]
    },
    {
      "cell_type": "code",
      "execution_count": null,
      "metadata": {
        "colab": {
          "base_uri": "https://localhost:8080/",
          "height": 293
        },
        "id": "kPUdWaBD7j-A",
        "outputId": "52d77055-7926-45ab-cec4-d0479deab345"
      },
      "outputs": [
        {
          "data": {
            "application/vnd.google.colaboratory.intrinsic+json": {
              "type": "dataframe",
              "variable_name": "df"
            },
            "text/html": [
              "\n",
              "  <div id=\"df-7ed6b7b7-398b-4aea-9125-d820ff1c2220\" class=\"colab-df-container\">\n",
              "    <div>\n",
              "<style scoped>\n",
              "    .dataframe tbody tr th:only-of-type {\n",
              "        vertical-align: middle;\n",
              "    }\n",
              "\n",
              "    .dataframe tbody tr th {\n",
              "        vertical-align: top;\n",
              "    }\n",
              "\n",
              "    .dataframe thead th {\n",
              "        text-align: right;\n",
              "    }\n",
              "</style>\n",
              "<table border=\"1\" class=\"dataframe\">\n",
              "  <thead>\n",
              "    <tr style=\"text-align: right;\">\n",
              "      <th></th>\n",
              "      <th>data_ref</th>\n",
              "      <th>index</th>\n",
              "      <th>sexo</th>\n",
              "      <th>posse_de_veiculo</th>\n",
              "      <th>posse_de_imovel</th>\n",
              "      <th>qtd_filhos</th>\n",
              "      <th>tipo_renda</th>\n",
              "      <th>educacao</th>\n",
              "      <th>estado_civil</th>\n",
              "      <th>tipo_residencia</th>\n",
              "      <th>idade</th>\n",
              "      <th>tempo_emprego</th>\n",
              "      <th>qt_pessoas_residencia</th>\n",
              "      <th>renda</th>\n",
              "      <th>mau</th>\n",
              "    </tr>\n",
              "  </thead>\n",
              "  <tbody>\n",
              "    <tr>\n",
              "      <th>0</th>\n",
              "      <td>2015-01-01</td>\n",
              "      <td>5733</td>\n",
              "      <td>F</td>\n",
              "      <td>N</td>\n",
              "      <td>N</td>\n",
              "      <td>0</td>\n",
              "      <td>Empresário</td>\n",
              "      <td>Médio</td>\n",
              "      <td>Solteiro</td>\n",
              "      <td>Casa</td>\n",
              "      <td>43</td>\n",
              "      <td>6.873973</td>\n",
              "      <td>1.0</td>\n",
              "      <td>2515.39</td>\n",
              "      <td>False</td>\n",
              "    </tr>\n",
              "    <tr>\n",
              "      <th>1</th>\n",
              "      <td>2015-01-01</td>\n",
              "      <td>727</td>\n",
              "      <td>F</td>\n",
              "      <td>S</td>\n",
              "      <td>S</td>\n",
              "      <td>0</td>\n",
              "      <td>Assalariado</td>\n",
              "      <td>Médio</td>\n",
              "      <td>Casado</td>\n",
              "      <td>Casa</td>\n",
              "      <td>35</td>\n",
              "      <td>4.526027</td>\n",
              "      <td>2.0</td>\n",
              "      <td>3180.19</td>\n",
              "      <td>False</td>\n",
              "    </tr>\n",
              "    <tr>\n",
              "      <th>2</th>\n",
              "      <td>2015-01-01</td>\n",
              "      <td>6374</td>\n",
              "      <td>F</td>\n",
              "      <td>N</td>\n",
              "      <td>N</td>\n",
              "      <td>2</td>\n",
              "      <td>Assalariado</td>\n",
              "      <td>Médio</td>\n",
              "      <td>Casado</td>\n",
              "      <td>Casa</td>\n",
              "      <td>31</td>\n",
              "      <td>0.243836</td>\n",
              "      <td>4.0</td>\n",
              "      <td>1582.29</td>\n",
              "      <td>False</td>\n",
              "    </tr>\n",
              "    <tr>\n",
              "      <th>3</th>\n",
              "      <td>2015-01-01</td>\n",
              "      <td>9566</td>\n",
              "      <td>F</td>\n",
              "      <td>N</td>\n",
              "      <td>N</td>\n",
              "      <td>0</td>\n",
              "      <td>Assalariado</td>\n",
              "      <td>Médio</td>\n",
              "      <td>Casado</td>\n",
              "      <td>Casa</td>\n",
              "      <td>54</td>\n",
              "      <td>12.772603</td>\n",
              "      <td>2.0</td>\n",
              "      <td>13721.17</td>\n",
              "      <td>False</td>\n",
              "    </tr>\n",
              "    <tr>\n",
              "      <th>4</th>\n",
              "      <td>2015-01-01</td>\n",
              "      <td>9502</td>\n",
              "      <td>F</td>\n",
              "      <td>S</td>\n",
              "      <td>N</td>\n",
              "      <td>0</td>\n",
              "      <td>Assalariado</td>\n",
              "      <td>Superior incompleto</td>\n",
              "      <td>Solteiro</td>\n",
              "      <td>Casa</td>\n",
              "      <td>31</td>\n",
              "      <td>8.432877</td>\n",
              "      <td>1.0</td>\n",
              "      <td>2891.08</td>\n",
              "      <td>False</td>\n",
              "    </tr>\n",
              "  </tbody>\n",
              "</table>\n",
              "</div>\n",
              "    <div class=\"colab-df-buttons\">\n",
              "\n",
              "  <div class=\"colab-df-container\">\n",
              "    <button class=\"colab-df-convert\" onclick=\"convertToInteractive('df-7ed6b7b7-398b-4aea-9125-d820ff1c2220')\"\n",
              "            title=\"Convert this dataframe to an interactive table.\"\n",
              "            style=\"display:none;\">\n",
              "\n",
              "  <svg xmlns=\"http://www.w3.org/2000/svg\" height=\"24px\" viewBox=\"0 -960 960 960\">\n",
              "    <path d=\"M120-120v-720h720v720H120Zm60-500h600v-160H180v160Zm220 220h160v-160H400v160Zm0 220h160v-160H400v160ZM180-400h160v-160H180v160Zm440 0h160v-160H620v160ZM180-180h160v-160H180v160Zm440 0h160v-160H620v160Z\"/>\n",
              "  </svg>\n",
              "    </button>\n",
              "\n",
              "  <style>\n",
              "    .colab-df-container {\n",
              "      display:flex;\n",
              "      gap: 12px;\n",
              "    }\n",
              "\n",
              "    .colab-df-convert {\n",
              "      background-color: #E8F0FE;\n",
              "      border: none;\n",
              "      border-radius: 50%;\n",
              "      cursor: pointer;\n",
              "      display: none;\n",
              "      fill: #1967D2;\n",
              "      height: 32px;\n",
              "      padding: 0 0 0 0;\n",
              "      width: 32px;\n",
              "    }\n",
              "\n",
              "    .colab-df-convert:hover {\n",
              "      background-color: #E2EBFA;\n",
              "      box-shadow: 0px 1px 2px rgba(60, 64, 67, 0.3), 0px 1px 3px 1px rgba(60, 64, 67, 0.15);\n",
              "      fill: #174EA6;\n",
              "    }\n",
              "\n",
              "    .colab-df-buttons div {\n",
              "      margin-bottom: 4px;\n",
              "    }\n",
              "\n",
              "    [theme=dark] .colab-df-convert {\n",
              "      background-color: #3B4455;\n",
              "      fill: #D2E3FC;\n",
              "    }\n",
              "\n",
              "    [theme=dark] .colab-df-convert:hover {\n",
              "      background-color: #434B5C;\n",
              "      box-shadow: 0px 1px 3px 1px rgba(0, 0, 0, 0.15);\n",
              "      filter: drop-shadow(0px 1px 2px rgba(0, 0, 0, 0.3));\n",
              "      fill: #FFFFFF;\n",
              "    }\n",
              "  </style>\n",
              "\n",
              "    <script>\n",
              "      const buttonEl =\n",
              "        document.querySelector('#df-7ed6b7b7-398b-4aea-9125-d820ff1c2220 button.colab-df-convert');\n",
              "      buttonEl.style.display =\n",
              "        google.colab.kernel.accessAllowed ? 'block' : 'none';\n",
              "\n",
              "      async function convertToInteractive(key) {\n",
              "        const element = document.querySelector('#df-7ed6b7b7-398b-4aea-9125-d820ff1c2220');\n",
              "        const dataTable =\n",
              "          await google.colab.kernel.invokeFunction('convertToInteractive',\n",
              "                                                    [key], {});\n",
              "        if (!dataTable) return;\n",
              "\n",
              "        const docLinkHtml = 'Like what you see? Visit the ' +\n",
              "          '<a target=\"_blank\" href=https://colab.research.google.com/notebooks/data_table.ipynb>data table notebook</a>'\n",
              "          + ' to learn more about interactive tables.';\n",
              "        element.innerHTML = '';\n",
              "        dataTable['output_type'] = 'display_data';\n",
              "        await google.colab.output.renderOutput(dataTable, element);\n",
              "        const docLink = document.createElement('div');\n",
              "        docLink.innerHTML = docLinkHtml;\n",
              "        element.appendChild(docLink);\n",
              "      }\n",
              "    </script>\n",
              "  </div>\n",
              "\n",
              "\n",
              "<div id=\"df-81721fe2-5ed5-4d1e-a8b8-11b4d5b29e12\">\n",
              "  <button class=\"colab-df-quickchart\" onclick=\"quickchart('df-81721fe2-5ed5-4d1e-a8b8-11b4d5b29e12')\"\n",
              "            title=\"Suggest charts\"\n",
              "            style=\"display:none;\">\n",
              "\n",
              "<svg xmlns=\"http://www.w3.org/2000/svg\" height=\"24px\"viewBox=\"0 0 24 24\"\n",
              "     width=\"24px\">\n",
              "    <g>\n",
              "        <path d=\"M19 3H5c-1.1 0-2 .9-2 2v14c0 1.1.9 2 2 2h14c1.1 0 2-.9 2-2V5c0-1.1-.9-2-2-2zM9 17H7v-7h2v7zm4 0h-2V7h2v10zm4 0h-2v-4h2v4z\"/>\n",
              "    </g>\n",
              "</svg>\n",
              "  </button>\n",
              "\n",
              "<style>\n",
              "  .colab-df-quickchart {\n",
              "      --bg-color: #E8F0FE;\n",
              "      --fill-color: #1967D2;\n",
              "      --hover-bg-color: #E2EBFA;\n",
              "      --hover-fill-color: #174EA6;\n",
              "      --disabled-fill-color: #AAA;\n",
              "      --disabled-bg-color: #DDD;\n",
              "  }\n",
              "\n",
              "  [theme=dark] .colab-df-quickchart {\n",
              "      --bg-color: #3B4455;\n",
              "      --fill-color: #D2E3FC;\n",
              "      --hover-bg-color: #434B5C;\n",
              "      --hover-fill-color: #FFFFFF;\n",
              "      --disabled-bg-color: #3B4455;\n",
              "      --disabled-fill-color: #666;\n",
              "  }\n",
              "\n",
              "  .colab-df-quickchart {\n",
              "    background-color: var(--bg-color);\n",
              "    border: none;\n",
              "    border-radius: 50%;\n",
              "    cursor: pointer;\n",
              "    display: none;\n",
              "    fill: var(--fill-color);\n",
              "    height: 32px;\n",
              "    padding: 0;\n",
              "    width: 32px;\n",
              "  }\n",
              "\n",
              "  .colab-df-quickchart:hover {\n",
              "    background-color: var(--hover-bg-color);\n",
              "    box-shadow: 0 1px 2px rgba(60, 64, 67, 0.3), 0 1px 3px 1px rgba(60, 64, 67, 0.15);\n",
              "    fill: var(--button-hover-fill-color);\n",
              "  }\n",
              "\n",
              "  .colab-df-quickchart-complete:disabled,\n",
              "  .colab-df-quickchart-complete:disabled:hover {\n",
              "    background-color: var(--disabled-bg-color);\n",
              "    fill: var(--disabled-fill-color);\n",
              "    box-shadow: none;\n",
              "  }\n",
              "\n",
              "  .colab-df-spinner {\n",
              "    border: 2px solid var(--fill-color);\n",
              "    border-color: transparent;\n",
              "    border-bottom-color: var(--fill-color);\n",
              "    animation:\n",
              "      spin 1s steps(1) infinite;\n",
              "  }\n",
              "\n",
              "  @keyframes spin {\n",
              "    0% {\n",
              "      border-color: transparent;\n",
              "      border-bottom-color: var(--fill-color);\n",
              "      border-left-color: var(--fill-color);\n",
              "    }\n",
              "    20% {\n",
              "      border-color: transparent;\n",
              "      border-left-color: var(--fill-color);\n",
              "      border-top-color: var(--fill-color);\n",
              "    }\n",
              "    30% {\n",
              "      border-color: transparent;\n",
              "      border-left-color: var(--fill-color);\n",
              "      border-top-color: var(--fill-color);\n",
              "      border-right-color: var(--fill-color);\n",
              "    }\n",
              "    40% {\n",
              "      border-color: transparent;\n",
              "      border-right-color: var(--fill-color);\n",
              "      border-top-color: var(--fill-color);\n",
              "    }\n",
              "    60% {\n",
              "      border-color: transparent;\n",
              "      border-right-color: var(--fill-color);\n",
              "    }\n",
              "    80% {\n",
              "      border-color: transparent;\n",
              "      border-right-color: var(--fill-color);\n",
              "      border-bottom-color: var(--fill-color);\n",
              "    }\n",
              "    90% {\n",
              "      border-color: transparent;\n",
              "      border-bottom-color: var(--fill-color);\n",
              "    }\n",
              "  }\n",
              "</style>\n",
              "\n",
              "  <script>\n",
              "    async function quickchart(key) {\n",
              "      const quickchartButtonEl =\n",
              "        document.querySelector('#' + key + ' button');\n",
              "      quickchartButtonEl.disabled = true;  // To prevent multiple clicks.\n",
              "      quickchartButtonEl.classList.add('colab-df-spinner');\n",
              "      try {\n",
              "        const charts = await google.colab.kernel.invokeFunction(\n",
              "            'suggestCharts', [key], {});\n",
              "      } catch (error) {\n",
              "        console.error('Error during call to suggestCharts:', error);\n",
              "      }\n",
              "      quickchartButtonEl.classList.remove('colab-df-spinner');\n",
              "      quickchartButtonEl.classList.add('colab-df-quickchart-complete');\n",
              "    }\n",
              "    (() => {\n",
              "      let quickchartButtonEl =\n",
              "        document.querySelector('#df-81721fe2-5ed5-4d1e-a8b8-11b4d5b29e12 button');\n",
              "      quickchartButtonEl.style.display =\n",
              "        google.colab.kernel.accessAllowed ? 'block' : 'none';\n",
              "    })();\n",
              "  </script>\n",
              "</div>\n",
              "\n",
              "    </div>\n",
              "  </div>\n"
            ],
            "text/plain": [
              "    data_ref  index sexo posse_de_veiculo posse_de_imovel  qtd_filhos  \\\n",
              "0 2015-01-01   5733    F                N               N           0   \n",
              "1 2015-01-01    727    F                S               S           0   \n",
              "2 2015-01-01   6374    F                N               N           2   \n",
              "3 2015-01-01   9566    F                N               N           0   \n",
              "4 2015-01-01   9502    F                S               N           0   \n",
              "\n",
              "    tipo_renda             educacao estado_civil tipo_residencia  idade  \\\n",
              "0   Empresário                Médio     Solteiro            Casa     43   \n",
              "1  Assalariado                Médio       Casado            Casa     35   \n",
              "2  Assalariado                Médio       Casado            Casa     31   \n",
              "3  Assalariado                Médio       Casado            Casa     54   \n",
              "4  Assalariado  Superior incompleto     Solteiro            Casa     31   \n",
              "\n",
              "   tempo_emprego  qt_pessoas_residencia     renda    mau  \n",
              "0       6.873973                    1.0   2515.39  False  \n",
              "1       4.526027                    2.0   3180.19  False  \n",
              "2       0.243836                    4.0   1582.29  False  \n",
              "3      12.772603                    2.0  13721.17  False  \n",
              "4       8.432877                    1.0   2891.08  False  "
            ]
          },
          "execution_count": 5,
          "metadata": {},
          "output_type": "execute_result"
        }
      ],
      "source": [
        "# importando os dados\n",
        "\n",
        "df = pd.read_feather('/content/drive/MyDrive/credit_scoring.ftr')\n",
        "df.head()"
      ]
    },
    {
      "cell_type": "markdown",
      "metadata": {
        "id": "-q2cvXAQ7j-D"
      },
      "source": [
        "## Amostragem\n",
        "\n",
        "Separe os três últimos meses como safras de validação *out of time* (oot).\n",
        "\n",
        "Variáveis:<br>\n",
        "Considere que a variável ```data_ref``` não é uma variável explicativa, é somente uma variável indicadora da safra, e não deve ser utilizada na modelagem. A variávei ```index``` é um identificador do cliente, e também não deve ser utilizada como covariável (variável explicativa). As restantes podem ser utilizadas para prever a inadimplência, incluindo a renda.\n"
      ]
    },
    {
      "cell_type": "code",
      "execution_count": null,
      "metadata": {
        "colab": {
          "base_uri": "https://localhost:8080/",
          "height": 586
        },
        "id": "ebaxuw5GixHa",
        "outputId": "47952c86-c14a-4e04-cfca-c6b63ed53097"
      },
      "outputs": [
        {
          "data": {
            "text/html": [
              "<div>\n",
              "<style scoped>\n",
              "    .dataframe tbody tr th:only-of-type {\n",
              "        vertical-align: middle;\n",
              "    }\n",
              "\n",
              "    .dataframe tbody tr th {\n",
              "        vertical-align: top;\n",
              "    }\n",
              "\n",
              "    .dataframe thead th {\n",
              "        text-align: right;\n",
              "    }\n",
              "</style>\n",
              "<table border=\"1\" class=\"dataframe\">\n",
              "  <thead>\n",
              "    <tr style=\"text-align: right;\">\n",
              "      <th></th>\n",
              "      <th>count</th>\n",
              "    </tr>\n",
              "    <tr>\n",
              "      <th>data_ref</th>\n",
              "      <th></th>\n",
              "    </tr>\n",
              "  </thead>\n",
              "  <tbody>\n",
              "    <tr>\n",
              "      <th>2015-01-01</th>\n",
              "      <td>50000</td>\n",
              "    </tr>\n",
              "    <tr>\n",
              "      <th>2015-02-01</th>\n",
              "      <td>50000</td>\n",
              "    </tr>\n",
              "    <tr>\n",
              "      <th>2015-03-01</th>\n",
              "      <td>50000</td>\n",
              "    </tr>\n",
              "    <tr>\n",
              "      <th>2015-04-01</th>\n",
              "      <td>50000</td>\n",
              "    </tr>\n",
              "    <tr>\n",
              "      <th>2015-05-01</th>\n",
              "      <td>50000</td>\n",
              "    </tr>\n",
              "    <tr>\n",
              "      <th>2015-06-01</th>\n",
              "      <td>50000</td>\n",
              "    </tr>\n",
              "    <tr>\n",
              "      <th>2015-07-01</th>\n",
              "      <td>50000</td>\n",
              "    </tr>\n",
              "    <tr>\n",
              "      <th>2015-08-01</th>\n",
              "      <td>50000</td>\n",
              "    </tr>\n",
              "    <tr>\n",
              "      <th>2015-09-01</th>\n",
              "      <td>50000</td>\n",
              "    </tr>\n",
              "    <tr>\n",
              "      <th>2015-10-01</th>\n",
              "      <td>50000</td>\n",
              "    </tr>\n",
              "    <tr>\n",
              "      <th>2015-11-01</th>\n",
              "      <td>50000</td>\n",
              "    </tr>\n",
              "    <tr>\n",
              "      <th>2015-12-01</th>\n",
              "      <td>50000</td>\n",
              "    </tr>\n",
              "    <tr>\n",
              "      <th>2016-01-01</th>\n",
              "      <td>50000</td>\n",
              "    </tr>\n",
              "    <tr>\n",
              "      <th>2016-02-01</th>\n",
              "      <td>50000</td>\n",
              "    </tr>\n",
              "    <tr>\n",
              "      <th>2016-03-01</th>\n",
              "      <td>50000</td>\n",
              "    </tr>\n",
              "  </tbody>\n",
              "</table>\n",
              "</div><br><label><b>dtype:</b> int64</label>"
            ],
            "text/plain": [
              "data_ref\n",
              "2015-01-01    50000\n",
              "2015-02-01    50000\n",
              "2015-03-01    50000\n",
              "2015-04-01    50000\n",
              "2015-05-01    50000\n",
              "2015-06-01    50000\n",
              "2015-07-01    50000\n",
              "2015-08-01    50000\n",
              "2015-09-01    50000\n",
              "2015-10-01    50000\n",
              "2015-11-01    50000\n",
              "2015-12-01    50000\n",
              "2016-01-01    50000\n",
              "2016-02-01    50000\n",
              "2016-03-01    50000\n",
              "Name: count, dtype: int64"
            ]
          },
          "execution_count": 6,
          "metadata": {},
          "output_type": "execute_result"
        }
      ],
      "source": [
        "# Descreva a base quanto ao número de linhas, número de linhas para cada mês em ```data_ref```.\n",
        "\n",
        "df['data_ref'].value_counts()"
      ]
    },
    {
      "cell_type": "code",
      "execution_count": null,
      "metadata": {
        "id": "7bwCPp8Z7hbh"
      },
      "outputs": [],
      "source": [
        "# separando as variáveis númericas e categóricas para posterior análise dos dados\n",
        "\n",
        "variaveis_categoricas = ['sexo', 'posse_de_veiculo', 'posse_de_imovel', 'tipo_renda', 'educacao', 'estado_civil', 'tipo_residencia', 'mau']\n",
        "variaveis_numericas = ['qtd_filhos', 'idade', 'tempo_emprego', 'qt_pessoas_residencia', 'renda']"
      ]
    },
    {
      "cell_type": "markdown",
      "metadata": {
        "id": "ujZtFBAb7j-E"
      },
      "source": [
        "## Descritiva básica univariada\n",
        "\n",
        "- Descreva a base quanto ao número de linhas, número de linhas para cada mês em ```data_ref```.\n",
        "- Faça uma descritiva básica univariada de cada variável. Considere as naturezas diferentes: qualitativas e quantitativas."
      ]
    },
    {
      "cell_type": "code",
      "execution_count": null,
      "metadata": {
        "colab": {
          "base_uri": "https://localhost:8080/"
        },
        "id": "oMSnoEAr8YaP",
        "outputId": "3e8449a5-b0f7-4e8b-9577-f7d9eeda9349"
      },
      "outputs": [
        {
          "data": {
            "image/png": "[encoded data removed]",
            "text/plain": [
              "<Figure size 1500x800 with 6 Axes>"
            ]
          },
          "metadata": {},
          "output_type": "display_data"
        }
      ],
      "source": [
        "fig, ax = plt.subplots(2, 3, figsize=(15, 8))\n",
        "\n",
        "i = 0\n",
        "j = 0\n",
        "\n",
        "for col in variaveis_numericas:\n",
        "\n",
        "  sns.histplot(df[col], ax=ax[i, j])\n",
        "\n",
        "  if j < 2:\n",
        "    j += 1\n",
        "  else:\n",
        "    i += 1\n",
        "    j = 0"
      ]
    },
    {
      "cell_type": "code",
      "execution_count": null,
      "metadata": {
        "colab": {
          "base_uri": "https://localhost:8080/"
        },
        "id": "MklnUw3k8YTV",
        "outputId": "1e39e7cb-8716-4dc0-f4f8-3f41804df19c"
      },
      "outputs": [
        {
          "data": {
            "image/png": "[encoded data removed]",
            "text/plain": [
              "<Figure size 2000x1200 with 9 Axes>"
            ]
          },
          "metadata": {},
          "output_type": "display_data"
        }
      ],
      "source": [
        "fig, ax = plt.subplots(3, 3, figsize=(20, 12))\n",
        "\n",
        "i = 0\n",
        "j = 0\n",
        "\n",
        "for col in variaveis_categoricas:\n",
        "\n",
        "  sns.countplot(x=df[col],ax=ax[i, j])\n",
        "\n",
        "  if j < 2:\n",
        "    j += 1\n",
        "  else:\n",
        "    i += 1\n",
        "    j = 0"
      ]
    },
    {
      "cell_type": "code",
      "execution_count": null,
      "metadata": {
        "id": "wHAGvrmA8cgQ"
      },
      "outputs": [],
      "source": [
        "def IV(variavel, resposta):\n",
        "    tab = pd.crosstab(variavel, resposta, margins=True, margins_name='total')\n",
        "\n",
        "    rótulo_evento = tab.columns[0]\n",
        "    rótulo_nao_evento = tab.columns[1]\n",
        "\n",
        "    tab['pct_evento'] = tab[rótulo_evento]/tab.loc['total',rótulo_evento]\n",
        "    tab['ep'] = tab[rótulo_evento]/tab.loc['total',rótulo_evento]\n",
        "\n",
        "    tab['pct_nao_evento'] = tab[rótulo_nao_evento]/tab.loc['total',rótulo_nao_evento]\n",
        "    tab['woe'] = np.log(tab.pct_evento/tab.pct_nao_evento)\n",
        "    tab['iv_parcial'] = (tab.pct_evento - tab.pct_nao_evento)*tab.woe\n",
        "    return tab['iv_parcial'].sum()"
      ]
    },
    {
      "cell_type": "code",
      "execution_count": null,
      "metadata": {
        "id": "mgQYS5jz8fMY"
      },
      "outputs": [],
      "source": [
        "# construindo a base de metadados\n",
        "\n",
        "metadados = pd.DataFrame(df.dtypes, columns=['dtype'])\n",
        "metadados['missing'] = df.isna().sum()\n",
        "metadados['valores_unicos'] = df.nunique()\n",
        "metadados['papel'] = 'covariavel'\n",
        "metadados.loc['mau','papel'] = 'resposta'\n",
        "\n",
        "# calculando o IV de cada variável\n",
        "\n",
        "for var in metadados[metadados.papel=='covariavel'].index:\n",
        "    if  (metadados.loc[var, 'valores_unicos']>6):\n",
        "        metadados.loc[var, 'IV'] = IV(pd.qcut(df[var],5,duplicates='drop'), df.mau)\n",
        "    else:\n",
        "        metadados.loc[var, 'IV'] = IV(df[var], df.mau)\n",
        "\n",
        "\n",
        "metadados"
      ]
    },
    {
      "cell_type": "markdown",
      "metadata": {
        "id": "QzEAP9KY7j-F"
      },
      "source": [
        "## Descritiva bivariada\n",
        "\n",
        "Faça uma análise descritiva bivariada de cada variável"
      ]
    },
    {
      "cell_type": "code",
      "execution_count": null,
      "metadata": {
        "id": "3fS0dIyAixHg"
      },
      "outputs": [],
      "source": [
        "# análise bivariada das variáveis categóricas\n",
        "\n",
        "\n",
        "def biv_discreta(var, base):\n",
        "    df = base.copy()\n",
        "    df['bom'] = 1-df.mau\n",
        "    g = df.groupby(var)\n",
        "\n",
        "    biv = pd.DataFrame({'qt_bom': g['bom'].sum(),\n",
        "                        'qt_mau': g['mau'].sum(),\n",
        "                        'mau':g['mau'].mean(),\n",
        "                        'cont':g[var].count()})\n",
        "\n",
        "    biv[var] = g['mau'].mean().index\n",
        "\n",
        "    biv['ep'] = (biv.mau*(1-biv.mau)/biv.cont)**.5\n",
        "    biv['mau_sup'] = biv.mau+t.ppf([0.975], biv.cont-1)*biv.ep\n",
        "    biv['mau_inf'] = biv.mau+t.ppf([0.025], biv.cont-1)*biv.ep\n",
        "\n",
        "    biv['logit'] = np.log(biv.mau/(1-biv.mau))\n",
        "    biv['logit_sup'] = np.log(biv.mau_sup/(1-biv.mau_sup))\n",
        "    biv['logit_inf'] = np.log(biv.mau_inf/(1-biv.mau_inf))\n",
        "\n",
        "    tx_mau_geral = df.mau.mean()\n",
        "    woe_geral = np.log(df.mau.mean() / (1 - df.mau.mean()))\n",
        "\n",
        "    biv['woe'] = biv.logit - woe_geral\n",
        "    biv['woe_sup'] = biv.logit_sup - woe_geral\n",
        "    biv['woe_inf'] = biv.logit_inf - woe_geral\n",
        "\n",
        "    fig, ax = plt.subplots(2,1, figsize=(8,6))\n",
        "    ax[0].plot(biv[var], biv.woe, ':bo', label='woe')\n",
        "    ax[0].plot(biv[var], biv.woe_sup, 'o:r', label='limite superior')\n",
        "    ax[0].plot(biv[var], biv.woe_inf, 'o:r', label='limite inferior')\n",
        "\n",
        "    num_cat = biv.shape[0]\n",
        "    ax[0].set_xlim([-.3, num_cat-.7])\n",
        "\n",
        "    ax[0].set_ylabel(\"Weight of Evidence\")\n",
        "    ax[0].legend(bbox_to_anchor=(.83, 1.17), ncol=3)\n",
        "\n",
        "    ax[0].set_xticks(list(range(num_cat)))\n",
        "    ax[0].set_xticklabels(biv[var], rotation=15)\n",
        "\n",
        "    ax[1] = biv.cont.plot.bar()\n",
        "\n",
        "    plt.show()"
      ]
    },
    {
      "cell_type": "code",
      "execution_count": null,
      "metadata": {
        "id": "WTApN4jW8nYP"
      },
      "outputs": [],
      "source": [
        "%matplotlib inline\n",
        "\n",
        "@interact(var=variaveis_categoricas)\n",
        "def biv_discreta_inter(var):\n",
        "  biv_discreta(var, df)"
      ]
    },
    {
      "cell_type": "markdown",
      "metadata": {
        "id": "iWcylMkV8vjg"
      },
      "source": [
        "*Após análise, a fim de otimidar o desempenho do modelo a ser elaborado, será interessante:*\n",
        "\n",
        "*   Integrar bolsista ao assalariado\n",
        "*   categorizar escolaridade por até o médio e pós médio\n",
        "*   integrar estado civil separado, solteiro, união, e viúvo\n",
        "*   catgorizar tipo de residência por casa e não casa"
      ]
    },
    {
      "cell_type": "code",
      "execution_count": null,
      "metadata": {
        "id": "O-Vfe_yc8nVv"
      },
      "outputs": [],
      "source": [
        "# análise bivariada das variáveis numéricas\n",
        "\n",
        "def biv_continua(var, ncat, base):\n",
        "    df['bom'] = 1-df.mau\n",
        "    cat_srs, bins = pd.qcut(df[var], ncat, retbins=True, precision=0, duplicates='drop')\n",
        "    g = df.groupby(cat_srs)\n",
        "\n",
        "    biv = pd.DataFrame({'qt_bom': g['bom'].sum(),\n",
        "                        'qt_mau': g['mau'].sum(),\n",
        "                        'mau':g['mau'].mean(),\n",
        "                        var: g[var].mean(),\n",
        "                        'cont':g[var].count()})\n",
        "\n",
        "    biv['ep'] = (biv.mau*(1-biv.mau)/biv.cont)**.5\n",
        "    biv['mau_sup'] = biv.mau+t.ppf([0.975], biv.cont-1)*biv.ep\n",
        "    biv['mau_inf'] = biv.mau+t.ppf([0.025], biv.cont-1)*biv.ep\n",
        "\n",
        "    biv['logit'] = np.log(biv.mau/(1-biv.mau))\n",
        "    biv['logit_sup'] = np.log(biv.mau_sup/(1-biv.mau_sup))\n",
        "    biv['logit_inf'] = np.log(biv.mau_inf/(1-biv.mau_inf))\n",
        "\n",
        "    tx_mau_geral = df.mau.mean()\n",
        "    woe_geral = np.log(df.mau.mean() / (1 - df.mau.mean()))\n",
        "\n",
        "    biv['woe'] = biv.logit - woe_geral\n",
        "    biv['woe_sup'] = biv.logit_sup - woe_geral\n",
        "    biv['woe_inf'] = biv.logit_inf - woe_geral\n",
        "\n",
        "    fig, ax = plt.subplots(2,1, figsize=(8,6))\n",
        "\n",
        "    ax[0].plot(biv[var], biv.woe, ':bo', label='woe')\n",
        "    ax[0].plot(biv[var], biv.woe_sup, 'o:r', label='limite superior')\n",
        "    ax[0].plot(biv[var], biv.woe_inf, 'o:r', label='limite inferior')\n",
        "\n",
        "    num_cat = biv.shape[0]\n",
        "\n",
        "    ax[0].set_ylabel(\"Weight of Evidence\")\n",
        "    ax[0].legend(bbox_to_anchor=(.83, 1.17), ncol=3)\n",
        "\n",
        "    ax[1] = biv.cont.plot.bar()\n",
        "    plt.show()"
      ]
    },
    {
      "cell_type": "code",
      "execution_count": null,
      "metadata": {
        "colab": {
          "base_uri": "https://localhost:8080/"
        },
        "id": "fJhbOO288nTH",
        "outputId": "8baf7c94-4f9e-4915-8dcf-f6c1b43734d7"
      },
      "outputs": [
        {
          "data": {
            "image/png": "[encoded data removed]",
            "text/plain": [
              "<Figure size 800x600 with 2 Axes>"
            ]
          },
          "metadata": {},
          "output_type": "display_data"
        }
      ],
      "source": [
        "%matplotlib inline\n",
        "\n",
        "@interact(var=variaveis_numericas, ncat=(2,10))\n",
        "def biv_continua_inter(var, ncat):\n",
        "  biv_continua(var, ncat, df)"
      ]
    },
    {
      "cell_type": "markdown",
      "metadata": {
        "id": "wTSw1cYO9VGP"
      },
      "source": [
        "*Após análise, a fim de otimidar o desempenho do modelo a ser elaborado, será interessante:*\n",
        "\n",
        "*   integrar com ou sem filhos\n",
        "*   dividir idade em duas categorias\n",
        "*   dividir tempo de emprego em duas categorias\n",
        "*   dividir quantidade de pessoas na residencia em duas categorias\n",
        "*   dividir renda em 4 categorias"
      ]
    },
    {
      "cell_type": "markdown",
      "metadata": {
        "id": "ZpT6mHLH7j-G"
      },
      "source": [
        "## Desenvolvimento do modelo\n",
        "\n",
        "Desenvolva um modelo de *credit scoring* através de uma regressão logística.\n",
        "\n",
        "- Trate valores missings e outliers\n",
        "- Trate 'zeros estruturais'\n",
        "- Faça agrupamentos de categorias conforme vimos em aula\n",
        "- Proponha uma equação preditiva para 'mau'\n",
        "- Caso hajam categorias não significantes, justifique"
      ]
    },
    {
      "cell_type": "code",
      "execution_count": null,
      "metadata": {
        "id": "zEUOLvtXF7pa"
      },
      "outputs": [],
      "source": [
        "df2 = df.copy()"
      ]
    },
    {
      "cell_type": "code",
      "execution_count": null,
      "metadata": {
        "id": "0dEkJ3u3F7nT"
      },
      "outputs": [],
      "source": [
        "# agrupamento de categorias\n",
        "\n",
        "# Integrar bolsista ao assalariado\n",
        "df2.tipo_renda.replace({'Bolsista':'Assalariado'}, inplace=True)\n",
        "\n",
        "# caegorizar até o médio e pós médio\n",
        "df2.educacao.replace({\n",
        "    'Médio':'Ate_medio',\n",
        "    'Fundamental': 'Ate_medio',\n",
        "    'Superior completo': 'Superior',\n",
        "    'Superior incompleto': 'Superior',\n",
        "    'Pós graduação': 'Superior',\n",
        "     }, inplace=True)\n",
        "\n",
        "# integrar separado, solteiro, união, e viúvo\n",
        "df2.estado_civil.replace({\n",
        "    'Solteiro':'Nao_casado',\n",
        "    'União': 'Nao_casado',\n",
        "    'Separado': 'Nao_casado',\n",
        "    'Viúvo': 'Nao_casado',\n",
        "     }, inplace=True)\n",
        "\n",
        "# separar em tipos de residência em casa ou não\n",
        "df2.tipo_residencia.replace({\n",
        "    'Com os pais':'Nao_casa',\n",
        "    'Aluguel': 'Nao_casa',\n",
        "    'Comunitário': 'Nao_casa',\n",
        "    'Governamental': 'Nao_casa',\n",
        "    'Estúdio': 'Nao_casa',\n",
        "     }, inplace=True)\n"
      ]
    },
    {
      "cell_type": "code",
      "execution_count": null,
      "metadata": {
        "id": "qm561czgF7jb"
      },
      "outputs": [],
      "source": [
        "# agrupameno variáveis categóricas\n",
        "\n",
        "# agrupar tem ou não filhos\n",
        "df2['tem_filhos'] = df2.qtd_filhos.apply(lambda x: 1 if x > 0 else 0)\n",
        "\n",
        "# agrupar tem 2 pessoa na residência ou mais\n",
        "df2['qt_pessoas_residencia_cat'] = df2.qt_pessoas_residencia.apply(lambda x: 'ate_2' if x >= 2 else 'mais_2')\n",
        "\n",
        "# dividir idade em duas categorias\n",
        "df2['idade_cat'] = pd.qcut(df['idade'], 2)\n",
        "\n",
        "# dividir tempo de emprego em duas categorias\n",
        "df2['tempo_emprego_cat'] = pd.qcut(df['tempo_emprego'], 2)\n",
        "\n",
        "# dividir renda em 4 categorias\n",
        "df2['renda_cat'] = pd.qcut(df['renda'], 4)"
      ]
    },
    {
      "cell_type": "code",
      "execution_count": null,
      "metadata": {
        "id": "eh3aXr6bF7hD"
      },
      "outputs": [],
      "source": [
        "# Transformar a variável resposta em inteiro\n",
        "df2['mau'] = df2.mau.astype('int64')"
      ]
    },
    {
      "cell_type": "code",
      "execution_count": null,
      "metadata": {
        "id": "L7jnweZ5ixHi"
      },
      "outputs": [],
      "source": [
        "# Separe os três últimos meses como safras de validação *out of time* (oot).\n",
        "\n",
        "df_treino = df2.loc[df['data_ref'].isin(df2['data_ref'].unique()[:-3])]\n",
        "df_teste = df2.loc[~df['data_ref'].isin(df2['data_ref'].unique()[:-3])]"
      ]
    },
    {
      "cell_type": "code",
      "execution_count": null,
      "metadata": {
        "id": "wIPKCQN0GGCd"
      },
      "outputs": [],
      "source": [
        "# excluindo linhas com missings\n",
        "\n",
        "df_treino = df_treino.drop(df_treino.loc[df2['tempo_emprego'].isna()].index)\n",
        "df_teste = df_teste.drop(df_teste.loc[df2['tempo_emprego'].isna()].index)"
      ]
    },
    {
      "cell_type": "code",
      "execution_count": null,
      "metadata": {
        "colab": {
          "base_uri": "https://localhost:8080/"
        },
        "id": "Om0wdYXtGGAS",
        "outputId": "3491dbc5-46fd-4f50-e76c-6cb17e591986"
      },
      "outputs": [
        {
          "data": {
            "text/html": [
              "<table class=\"simpletable\">\n",
              "<caption>Generalized Linear Model Regression Results</caption>\n",
              "<tr>\n",
              "  <th>Dep. Variable:</th>          <td>mau</td>       <th>  No. Observations:  </th>   <td>499125</td>   \n",
              "</tr>\n",
              "<tr>\n",
              "  <th>Model:</th>                  <td>GLM</td>       <th>  Df Residuals:      </th>   <td>499108</td>   \n",
              "</tr>\n",
              "<tr>\n",
              "  <th>Model Family:</th>        <td>Binomial</td>     <th>  Df Model:          </th>   <td>    16</td>   \n",
              "</tr>\n",
              "<tr>\n",
              "  <th>Link Function:</th>         <td>Logit</td>      <th>  Scale:             </th>  <td>  1.0000</td>  \n",
              "</tr>\n",
              "<tr>\n",
              "  <th>Method:</th>                <td>IRLS</td>       <th>  Log-Likelihood:    </th> <td>-1.0055e+05</td>\n",
              "</tr>\n",
              "<tr>\n",
              "  <th>Date:</th>            <td>Wed, 02 Oct 2024</td> <th>  Deviance:          </th> <td>2.0109e+05</td> \n",
              "</tr>\n",
              "<tr>\n",
              "  <th>Time:</th>                <td>14:35:23</td>     <th>  Pearson chi2:      </th>  <td>4.99e+05</td>  \n",
              "</tr>\n",
              "<tr>\n",
              "  <th>No. Iterations:</th>          <td>8</td>        <th>  Pseudo R-squ. (CS):</th>   <td>0.05204</td>  \n",
              "</tr>\n",
              "<tr>\n",
              "  <th>Covariance Type:</th>     <td>nonrobust</td>    <th>                     </th>      <td> </td>     \n",
              "</tr>\n",
              "</table>\n",
              "<table class=\"simpletable\">\n",
              "<tr>\n",
              "                                <td></td>                                  <th>coef</th>     <th>std err</th>      <th>z</th>      <th>P>|z|</th>  <th>[0.025</th>    <th>0.975]</th>  \n",
              "</tr>\n",
              "<tr>\n",
              "  <th>Intercept</th>                                                    <td>   -1.4322</td> <td>    0.018</td> <td>  -80.768</td> <td> 0.000</td> <td>   -1.467</td> <td>   -1.397</td>\n",
              "</tr>\n",
              "<tr>\n",
              "  <th>sexo[T.M]</th>                                                    <td>   -0.0643</td> <td>    0.014</td> <td>   -4.625</td> <td> 0.000</td> <td>   -0.092</td> <td>   -0.037</td>\n",
              "</tr>\n",
              "<tr>\n",
              "  <th>posse_de_veiculo[T.S]</th>                                        <td>    0.0277</td> <td>    0.013</td> <td>    2.064</td> <td> 0.039</td> <td>    0.001</td> <td>    0.054</td>\n",
              "</tr>\n",
              "<tr>\n",
              "  <th>posse_de_imovel[T.S]</th>                                         <td>   -0.0655</td> <td>    0.013</td> <td>   -5.058</td> <td> 0.000</td> <td>   -0.091</td> <td>   -0.040</td>\n",
              "</tr>\n",
              "<tr>\n",
              "  <th>tipo_renda[T.Empresário]</th>                                     <td>   -0.0239</td> <td>    0.014</td> <td>   -1.690</td> <td> 0.091</td> <td>   -0.052</td> <td>    0.004</td>\n",
              "</tr>\n",
              "<tr>\n",
              "  <th>tipo_renda[T.Pensionista]</th>                                    <td>   -0.0196</td> <td>    0.230</td> <td>   -0.085</td> <td> 0.932</td> <td>   -0.470</td> <td>    0.431</td>\n",
              "</tr>\n",
              "<tr>\n",
              "  <th>tipo_renda[T.Servidor público]</th>                               <td>   -0.0295</td> <td>    0.023</td> <td>   -1.261</td> <td> 0.207</td> <td>   -0.075</td> <td>    0.016</td>\n",
              "</tr>\n",
              "<tr>\n",
              "  <th>educacao[T.Superior]</th>                                         <td>   -0.0412</td> <td>    0.014</td> <td>   -3.041</td> <td> 0.002</td> <td>   -0.068</td> <td>   -0.015</td>\n",
              "</tr>\n",
              "<tr>\n",
              "  <th>estado_civil[T.Nao_casado]</th>                                   <td>    0.0321</td> <td>    0.018</td> <td>    1.735</td> <td> 0.083</td> <td>   -0.004</td> <td>    0.068</td>\n",
              "</tr>\n",
              "<tr>\n",
              "  <th>tipo_residencia[T.Nao_casa]</th>                                  <td>    0.0191</td> <td>    0.019</td> <td>    1.016</td> <td> 0.310</td> <td>   -0.018</td> <td>    0.056</td>\n",
              "</tr>\n",
              "<tr>\n",
              "  <th>idade_cat[T.Interval(43.0, 68.0, closed='right')]</th>            <td>   -0.0149</td> <td>    0.014</td> <td>   -1.041</td> <td> 0.298</td> <td>   -0.043</td> <td>    0.013</td>\n",
              "</tr>\n",
              "<tr>\n",
              "  <th>tempo_emprego_cat[T.Interval(6.047, 42.907, closed='right')]</th> <td>   -0.1469</td> <td>    0.015</td> <td>  -10.024</td> <td> 0.000</td> <td>   -0.176</td> <td>   -0.118</td>\n",
              "</tr>\n",
              "<tr>\n",
              "  <th>renda_cat[T.Interval(3467.7, 7861.82, closed='right')]</th>       <td>   -1.0156</td> <td>    0.015</td> <td>  -69.351</td> <td> 0.000</td> <td>   -1.044</td> <td>   -0.987</td>\n",
              "</tr>\n",
              "<tr>\n",
              "  <th>renda_cat[T.Interval(7861.82, 18318.28, closed='right')]</th>     <td>   -1.7398</td> <td>    0.018</td> <td>  -96.763</td> <td> 0.000</td> <td>   -1.775</td> <td>   -1.705</td>\n",
              "</tr>\n",
              "<tr>\n",
              "  <th>renda_cat[T.Interval(18318.28, 4083986.22, closed='right')]</th>  <td>   -2.8818</td> <td>    0.028</td> <td> -104.182</td> <td> 0.000</td> <td>   -2.936</td> <td>   -2.828</td>\n",
              "</tr>\n",
              "<tr>\n",
              "  <th>qt_pessoas_residencia_cat[T.mais_2]</th>                          <td>   -0.0471</td> <td>    0.024</td> <td>   -1.957</td> <td> 0.050</td> <td>   -0.094</td> <td> 7.19e-05</td>\n",
              "</tr>\n",
              "<tr>\n",
              "  <th>tem_filhos</th>                                                   <td>   -0.0023</td> <td>    0.014</td> <td>   -0.160</td> <td> 0.873</td> <td>   -0.030</td> <td>    0.026</td>\n",
              "</tr>\n",
              "</table>"
            ],
            "text/latex": "\\begin{center}\n\\begin{tabular}{lclc}\n\\toprule\n\\textbf{Dep. Variable:}                                                 &       mau        & \\textbf{  No. Observations:  } &    499125    \\\\\n\\textbf{Model:}                                                         &       GLM        & \\textbf{  Df Residuals:      } &    499108    \\\\\n\\textbf{Model Family:}                                                  &     Binomial     & \\textbf{  Df Model:          } &        16    \\\\\n\\textbf{Link Function:}                                                 &      Logit       & \\textbf{  Scale:             } &     1.0000   \\\\\n\\textbf{Method:}                                                        &       IRLS       & \\textbf{  Log-Likelihood:    } & -1.0055e+05  \\\\\n\\textbf{Date:}                                                          & Wed, 02 Oct 2024 & \\textbf{  Deviance:          } &  2.0109e+05  \\\\\n\\textbf{Time:}                                                          &     14:35:23     & \\textbf{  Pearson chi2:      } &   4.99e+05   \\\\\n\\textbf{No. Iterations:}                                                &        8         & \\textbf{  Pseudo R-squ. (CS):} &   0.05204    \\\\\n\\textbf{Covariance Type:}                                               &    nonrobust     & \\textbf{                     } &              \\\\\n\\bottomrule\n\\end{tabular}\n\\begin{tabular}{lcccccc}\n                                                                        & \\textbf{coef} & \\textbf{std err} & \\textbf{z} & \\textbf{P$> |$z$|$} & \\textbf{[0.025} & \\textbf{0.975]}  \\\\\n\\midrule\n\\textbf{Intercept}                                                      &      -1.4322  &        0.018     &   -80.768  &         0.000        &       -1.467    &       -1.397     \\\\\n\\textbf{sexo[T.M]}                                                      &      -0.0643  &        0.014     &    -4.625  &         0.000        &       -0.092    &       -0.037     \\\\\n\\textbf{posse\\_de\\_veiculo[T.S]}                                        &       0.0277  &        0.013     &     2.064  &         0.039        &        0.001    &        0.054     \\\\\n\\textbf{posse\\_de\\_imovel[T.S]}                                         &      -0.0655  &        0.013     &    -5.058  &         0.000        &       -0.091    &       -0.040     \\\\\n\\textbf{tipo\\_renda[T.Empresário]}                                      &      -0.0239  &        0.014     &    -1.690  &         0.091        &       -0.052    &        0.004     \\\\\n\\textbf{tipo\\_renda[T.Pensionista]}                                     &      -0.0196  &        0.230     &    -0.085  &         0.932        &       -0.470    &        0.431     \\\\\n\\textbf{tipo\\_renda[T.Servidor público]}                                &      -0.0295  &        0.023     &    -1.261  &         0.207        &       -0.075    &        0.016     \\\\\n\\textbf{educacao[T.Superior]}                                           &      -0.0412  &        0.014     &    -3.041  &         0.002        &       -0.068    &       -0.015     \\\\\n\\textbf{estado\\_civil[T.Nao\\_casado]}                                   &       0.0321  &        0.018     &     1.735  &         0.083        &       -0.004    &        0.068     \\\\\n\\textbf{tipo\\_residencia[T.Nao\\_casa]}                                  &       0.0191  &        0.019     &     1.016  &         0.310        &       -0.018    &        0.056     \\\\\n\\textbf{idade\\_cat[T.Interval(43.0, 68.0, closed='right')]}             &      -0.0149  &        0.014     &    -1.041  &         0.298        &       -0.043    &        0.013     \\\\\n\\textbf{tempo\\_emprego\\_cat[T.Interval(6.047, 42.907, closed='right')]} &      -0.1469  &        0.015     &   -10.024  &         0.000        &       -0.176    &       -0.118     \\\\\n\\textbf{renda\\_cat[T.Interval(3467.7, 7861.82, closed='right')]}        &      -1.0156  &        0.015     &   -69.351  &         0.000        &       -1.044    &       -0.987     \\\\\n\\textbf{renda\\_cat[T.Interval(7861.82, 18318.28, closed='right')]}      &      -1.7398  &        0.018     &   -96.763  &         0.000        &       -1.775    &       -1.705     \\\\\n\\textbf{renda\\_cat[T.Interval(18318.28, 4083986.22, closed='right')]}   &      -2.8818  &        0.028     &  -104.182  &         0.000        &       -2.936    &       -2.828     \\\\\n\\textbf{qt\\_pessoas\\_residencia\\_cat[T.mais\\_2]}                        &      -0.0471  &        0.024     &    -1.957  &         0.050        &       -0.094    &     7.19e-05     \\\\\n\\textbf{tem\\_filhos}                                                    &      -0.0023  &        0.014     &    -0.160  &         0.873        &       -0.030    &        0.026     \\\\\n\\bottomrule\n\\end{tabular}\n%\\caption{Generalized Linear Model Regression Results}\n\\end{center}",
            "text/plain": [
              "<class 'statsmodels.iolib.summary.Summary'>\n",
              "\"\"\"\n",
              "                 Generalized Linear Model Regression Results                  \n",
              "==============================================================================\n",
              "Dep. Variable:                    mau   No. Observations:               499125\n",
              "Model:                            GLM   Df Residuals:                   499108\n",
              "Model Family:                Binomial   Df Model:                           16\n",
              "Link Function:                  Logit   Scale:                          1.0000\n",
              "Method:                          IRLS   Log-Likelihood:            -1.0055e+05\n",
              "Date:                Wed, 02 Oct 2024   Deviance:                   2.0109e+05\n",
              "Time:                        14:35:23   Pearson chi2:                 4.99e+05\n",
              "No. Iterations:                     8   Pseudo R-squ. (CS):            0.05204\n",
              "Covariance Type:            nonrobust                                         \n",
              "================================================================================================================================\n",
              "                                                                   coef    std err          z      P>|z|      [0.025      0.975]\n",
              "--------------------------------------------------------------------------------------------------------------------------------\n",
              "Intercept                                                       -1.4322      0.018    -80.768      0.000      -1.467      -1.397\n",
              "sexo[T.M]                                                       -0.0643      0.014     -4.625      0.000      -0.092      -0.037\n",
              "posse_de_veiculo[T.S]                                            0.0277      0.013      2.064      0.039       0.001       0.054\n",
              "posse_de_imovel[T.S]                                            -0.0655      0.013     -5.058      0.000      -0.091      -0.040\n",
              "tipo_renda[T.Empresário]                                        -0.0239      0.014     -1.690      0.091      -0.052       0.004\n",
              "tipo_renda[T.Pensionista]                                       -0.0196      0.230     -0.085      0.932      -0.470       0.431\n",
              "tipo_renda[T.Servidor público]                                  -0.0295      0.023     -1.261      0.207      -0.075       0.016\n",
              "educacao[T.Superior]                                            -0.0412      0.014     -3.041      0.002      -0.068      -0.015\n",
              "estado_civil[T.Nao_casado]                                       0.0321      0.018      1.735      0.083      -0.004       0.068\n",
              "tipo_residencia[T.Nao_casa]                                      0.0191      0.019      1.016      0.310      -0.018       0.056\n",
              "idade_cat[T.Interval(43.0, 68.0, closed='right')]               -0.0149      0.014     -1.041      0.298      -0.043       0.013\n",
              "tempo_emprego_cat[T.Interval(6.047, 42.907, closed='right')]    -0.1469      0.015    -10.024      0.000      -0.176      -0.118\n",
              "renda_cat[T.Interval(3467.7, 7861.82, closed='right')]          -1.0156      0.015    -69.351      0.000      -1.044      -0.987\n",
              "renda_cat[T.Interval(7861.82, 18318.28, closed='right')]        -1.7398      0.018    -96.763      0.000      -1.775      -1.705\n",
              "renda_cat[T.Interval(18318.28, 4083986.22, closed='right')]     -2.8818      0.028   -104.182      0.000      -2.936      -2.828\n",
              "qt_pessoas_residencia_cat[T.mais_2]                             -0.0471      0.024     -1.957      0.050      -0.094    7.19e-05\n",
              "tem_filhos                                                      -0.0023      0.014     -0.160      0.873      -0.030       0.026\n",
              "================================================================================================================================\n",
              "\"\"\""
            ]
          },
          "execution_count": 22,
          "metadata": {},
          "output_type": "execute_result"
        }
      ],
      "source": [
        "formula = '''\n",
        "    mau ~ sexo + posse_de_veiculo + posse_de_imovel + tem_filhos + tipo_renda +\n",
        "    educacao + estado_civil + tipo_residencia + idade_cat + tempo_emprego_cat +\n",
        "    renda_cat + qt_pessoas_residencia_cat\n",
        "    '''\n",
        "\n",
        "rl = smf.glm(formula, data=df_treino, family=sm.families.Binomial()).fit()\n",
        "\n",
        "rl.summary()"
      ]
    },
    {
      "cell_type": "markdown",
      "metadata": {
        "id": "Nck8JN8AGMti"
      },
      "source": [
        "*Verifica-se que as variáveis mais significantes são: sexo, posse de imóvel, educacao, tempo de emprego categórico, renda categórica*"
      ]
    },
    {
      "cell_type": "code",
      "execution_count": null,
      "metadata": {
        "colab": {
          "base_uri": "https://localhost:8080/"
        },
        "id": "2BJ3bKfQGF-j",
        "outputId": "3bf320ca-2973-470e-9e15-d51f2f0fb398"
      },
      "outputs": [
        {
          "data": {
            "text/html": [
              "<table class=\"simpletable\">\n",
              "<caption>Generalized Linear Model Regression Results</caption>\n",
              "<tr>\n",
              "  <th>Dep. Variable:</th>          <td>mau</td>       <th>  No. Observations:  </th>   <td>499125</td>   \n",
              "</tr>\n",
              "<tr>\n",
              "  <th>Model:</th>                  <td>GLM</td>       <th>  Df Residuals:      </th>   <td>499117</td>   \n",
              "</tr>\n",
              "<tr>\n",
              "  <th>Model Family:</th>        <td>Binomial</td>     <th>  Df Model:          </th>   <td>     7</td>   \n",
              "</tr>\n",
              "<tr>\n",
              "  <th>Link Function:</th>         <td>Logit</td>      <th>  Scale:             </th>  <td>  1.0000</td>  \n",
              "</tr>\n",
              "<tr>\n",
              "  <th>Method:</th>                <td>IRLS</td>       <th>  Log-Likelihood:    </th> <td>-1.0055e+05</td>\n",
              "</tr>\n",
              "<tr>\n",
              "  <th>Date:</th>            <td>Wed, 02 Oct 2024</td> <th>  Deviance:          </th> <td>2.0111e+05</td> \n",
              "</tr>\n",
              "<tr>\n",
              "  <th>Time:</th>                <td>14:35:32</td>     <th>  Pearson chi2:      </th>  <td>4.99e+05</td>  \n",
              "</tr>\n",
              "<tr>\n",
              "  <th>No. Iterations:</th>          <td>8</td>        <th>  Pseudo R-squ. (CS):</th>   <td>0.05201</td>  \n",
              "</tr>\n",
              "<tr>\n",
              "  <th>Covariance Type:</th>     <td>nonrobust</td>    <th>                     </th>      <td> </td>     \n",
              "</tr>\n",
              "</table>\n",
              "<table class=\"simpletable\">\n",
              "<tr>\n",
              "                                <td></td>                                  <th>coef</th>     <th>std err</th>      <th>z</th>      <th>P>|z|</th>  <th>[0.025</th>    <th>0.975]</th>  \n",
              "</tr>\n",
              "<tr>\n",
              "  <th>Intercept</th>                                                    <td>   -1.4320</td> <td>    0.013</td> <td> -107.800</td> <td> 0.000</td> <td>   -1.458</td> <td>   -1.406</td>\n",
              "</tr>\n",
              "<tr>\n",
              "  <th>sexo[T.M]</th>                                                    <td>   -0.0524</td> <td>    0.013</td> <td>   -4.042</td> <td> 0.000</td> <td>   -0.078</td> <td>   -0.027</td>\n",
              "</tr>\n",
              "<tr>\n",
              "  <th>posse_de_imovel[T.S]</th>                                         <td>   -0.0693</td> <td>    0.013</td> <td>   -5.501</td> <td> 0.000</td> <td>   -0.094</td> <td>   -0.045</td>\n",
              "</tr>\n",
              "<tr>\n",
              "  <th>educacao[T.Superior]</th>                                         <td>   -0.0396</td> <td>    0.013</td> <td>   -3.011</td> <td> 0.003</td> <td>   -0.065</td> <td>   -0.014</td>\n",
              "</tr>\n",
              "<tr>\n",
              "  <th>tempo_emprego_cat[T.Interval(6.047, 42.907, closed='right')]</th> <td>   -0.1478</td> <td>    0.015</td> <td>  -10.171</td> <td> 0.000</td> <td>   -0.176</td> <td>   -0.119</td>\n",
              "</tr>\n",
              "<tr>\n",
              "  <th>renda_cat[T.Interval(3467.7, 7861.82, closed='right')]</th>       <td>   -1.0167</td> <td>    0.015</td> <td>  -69.487</td> <td> 0.000</td> <td>   -1.045</td> <td>   -0.988</td>\n",
              "</tr>\n",
              "<tr>\n",
              "  <th>renda_cat[T.Interval(7861.82, 18318.28, closed='right')]</th>     <td>   -1.7419</td> <td>    0.018</td> <td>  -97.038</td> <td> 0.000</td> <td>   -1.777</td> <td>   -1.707</td>\n",
              "</tr>\n",
              "<tr>\n",
              "  <th>renda_cat[T.Interval(18318.28, 4083986.22, closed='right')]</th>  <td>   -2.8870</td> <td>    0.028</td> <td> -104.828</td> <td> 0.000</td> <td>   -2.941</td> <td>   -2.833</td>\n",
              "</tr>\n",
              "</table>"
            ],
            "text/latex": "\\begin{center}\n\\begin{tabular}{lclc}\n\\toprule\n\\textbf{Dep. Variable:}                                                 &       mau        & \\textbf{  No. Observations:  } &    499125    \\\\\n\\textbf{Model:}                                                         &       GLM        & \\textbf{  Df Residuals:      } &    499117    \\\\\n\\textbf{Model Family:}                                                  &     Binomial     & \\textbf{  Df Model:          } &         7    \\\\\n\\textbf{Link Function:}                                                 &      Logit       & \\textbf{  Scale:             } &     1.0000   \\\\\n\\textbf{Method:}                                                        &       IRLS       & \\textbf{  Log-Likelihood:    } & -1.0055e+05  \\\\\n\\textbf{Date:}                                                          & Wed, 02 Oct 2024 & \\textbf{  Deviance:          } &  2.0111e+05  \\\\\n\\textbf{Time:}                                                          &     14:35:32     & \\textbf{  Pearson chi2:      } &   4.99e+05   \\\\\n\\textbf{No. Iterations:}                                                &        8         & \\textbf{  Pseudo R-squ. (CS):} &   0.05201    \\\\\n\\textbf{Covariance Type:}                                               &    nonrobust     & \\textbf{                     } &              \\\\\n\\bottomrule\n\\end{tabular}\n\\begin{tabular}{lcccccc}\n                                                                        & \\textbf{coef} & \\textbf{std err} & \\textbf{z} & \\textbf{P$> |$z$|$} & \\textbf{[0.025} & \\textbf{0.975]}  \\\\\n\\midrule\n\\textbf{Intercept}                                                      &      -1.4320  &        0.013     &  -107.800  &         0.000        &       -1.458    &       -1.406     \\\\\n\\textbf{sexo[T.M]}                                                      &      -0.0524  &        0.013     &    -4.042  &         0.000        &       -0.078    &       -0.027     \\\\\n\\textbf{posse\\_de\\_imovel[T.S]}                                         &      -0.0693  &        0.013     &    -5.501  &         0.000        &       -0.094    &       -0.045     \\\\\n\\textbf{educacao[T.Superior]}                                           &      -0.0396  &        0.013     &    -3.011  &         0.003        &       -0.065    &       -0.014     \\\\\n\\textbf{tempo\\_emprego\\_cat[T.Interval(6.047, 42.907, closed='right')]} &      -0.1478  &        0.015     &   -10.171  &         0.000        &       -0.176    &       -0.119     \\\\\n\\textbf{renda\\_cat[T.Interval(3467.7, 7861.82, closed='right')]}        &      -1.0167  &        0.015     &   -69.487  &         0.000        &       -1.045    &       -0.988     \\\\\n\\textbf{renda\\_cat[T.Interval(7861.82, 18318.28, closed='right')]}      &      -1.7419  &        0.018     &   -97.038  &         0.000        &       -1.777    &       -1.707     \\\\\n\\textbf{renda\\_cat[T.Interval(18318.28, 4083986.22, closed='right')]}   &      -2.8870  &        0.028     &  -104.828  &         0.000        &       -2.941    &       -2.833     \\\\\n\\bottomrule\n\\end{tabular}\n%\\caption{Generalized Linear Model Regression Results}\n\\end{center}",
            "text/plain": [
              "<class 'statsmodels.iolib.summary.Summary'>\n",
              "\"\"\"\n",
              "                 Generalized Linear Model Regression Results                  \n",
              "==============================================================================\n",
              "Dep. Variable:                    mau   No. Observations:               499125\n",
              "Model:                            GLM   Df Residuals:                   499117\n",
              "Model Family:                Binomial   Df Model:                            7\n",
              "Link Function:                  Logit   Scale:                          1.0000\n",
              "Method:                          IRLS   Log-Likelihood:            -1.0055e+05\n",
              "Date:                Wed, 02 Oct 2024   Deviance:                   2.0111e+05\n",
              "Time:                        14:35:32   Pearson chi2:                 4.99e+05\n",
              "No. Iterations:                     8   Pseudo R-squ. (CS):            0.05201\n",
              "Covariance Type:            nonrobust                                         \n",
              "================================================================================================================================\n",
              "                                                                   coef    std err          z      P>|z|      [0.025      0.975]\n",
              "--------------------------------------------------------------------------------------------------------------------------------\n",
              "Intercept                                                       -1.4320      0.013   -107.800      0.000      -1.458      -1.406\n",
              "sexo[T.M]                                                       -0.0524      0.013     -4.042      0.000      -0.078      -0.027\n",
              "posse_de_imovel[T.S]                                            -0.0693      0.013     -5.501      0.000      -0.094      -0.045\n",
              "educacao[T.Superior]                                            -0.0396      0.013     -3.011      0.003      -0.065      -0.014\n",
              "tempo_emprego_cat[T.Interval(6.047, 42.907, closed='right')]    -0.1478      0.015    -10.171      0.000      -0.176      -0.119\n",
              "renda_cat[T.Interval(3467.7, 7861.82, closed='right')]          -1.0167      0.015    -69.487      0.000      -1.045      -0.988\n",
              "renda_cat[T.Interval(7861.82, 18318.28, closed='right')]        -1.7419      0.018    -97.038      0.000      -1.777      -1.707\n",
              "renda_cat[T.Interval(18318.28, 4083986.22, closed='right')]     -2.8870      0.028   -104.828      0.000      -2.941      -2.833\n",
              "================================================================================================================================\n",
              "\"\"\""
            ]
          },
          "execution_count": 23,
          "metadata": {},
          "output_type": "execute_result"
        }
      ],
      "source": [
        "formula = '''\n",
        "    mau ~ sexo + posse_de_imovel +\n",
        "    educacao + tempo_emprego_cat +\n",
        "    renda_cat\n",
        "    '''\n",
        "\n",
        "rl = smf.glm(formula, data=df_treino, family=sm.families.Binomial()).fit()\n",
        "\n",
        "rl.summary()"
      ]
    },
    {
      "cell_type": "markdown",
      "metadata": {
        "id": "5ND_CEDs7j-H"
      },
      "source": [
        "## Avaliação do modelo\n",
        "\n",
        "Avalie o poder discriminante do modelo pelo menos avaliando acurácia, KS e Gini.\n",
        "\n",
        "Avalie estas métricas nas bases de desenvolvimento e *out of time*."
      ]
    },
    {
      "cell_type": "code",
      "execution_count": null,
      "metadata": {
        "id": "q5R_rgmtixHl"
      },
      "outputs": [],
      "source": [
        "proporcao_mau = df2.mau.value_counts()[1] / df2.mau.value_counts().sum()"
      ]
    },
    {
      "cell_type": "code",
      "execution_count": null,
      "metadata": {
        "id": "y7U-CPJbixHl"
      },
      "outputs": [],
      "source": [
        "df_treino['score'] = rl.predict()\n",
        "\n",
        "# Acurácia\n",
        "acc = metrics.accuracy_score(df_treino.mau, df_treino.score > proporcao_mau)\n",
        "#AUC\n",
        "fpr, tpr, thresholds = metrics.roc_curve(df_treino.mau, df_treino.score)\n",
        "auc = metrics.auc(fpr, tpr)\n",
        "#Gini\n",
        "gini = 2*auc -1\n",
        "ks = ks_2samp(df_treino.loc[df_treino.mau == 1, 'score'], df_treino.loc[df_treino.mau != 1, 'score']).statistic\n",
        "\n",
        "print('RESULTADOS NA BASE DE TREINO')\n",
        "print('Acurácia: {0:.1%} \\nAUC: {1:.1%} \\nGINI: {2:.1%}\\nKS: {3:.1%}'\n",
        "      .format(acc, auc, gini, ks))"
      ]
    },
    {
      "cell_type": "code",
      "execution_count": null,
      "metadata": {
        "colab": {
          "base_uri": "https://localhost:8080/"
        },
        "id": "Pc7sJ0JPGdLr",
        "outputId": "a5a2bc78-be6e-4775-9b89-2b562f1fd967"
      },
      "outputs": [
        {
          "name": "stdout",
          "output_type": "stream",
          "text": [
            "RESULTADOS NA BASE DE TESTE\n",
            "Acurácia: 54.4% \n",
            "AUC: 70.4% \n",
            "GINI: 40.9%\n",
            "KS: 33.6%\n"
          ]
        }
      ],
      "source": [
        "df_teste['score'] = rl.predict(df_teste)\n",
        "\n",
        "# Acurácia\n",
        "acc = metrics.accuracy_score(df_teste.mau, df_teste.score > proporcao_mau)\n",
        "#AUC\n",
        "fpr, tpr, thresholds = metrics.roc_curve(df_teste.mau, df_teste.score)\n",
        "auc = metrics.auc(fpr, tpr)\n",
        "#Gini\n",
        "gini = 2*auc -1\n",
        "ks = ks_2samp(df_teste.loc[df_teste.mau == 1, 'score'], df_teste.loc[df_teste.mau != 1, 'score']).statistic\n",
        "\n",
        "print('RESULTADOS NA BASE DE TESTE')\n",
        "print('Acurácia: {0:.1%} \\nAUC: {1:.1%} \\nGINI: {2:.1%}\\nKS: {3:.1%}'\n",
        "      .format(acc, auc, gini, ks))"
      ]
    },
    {
      "cell_type": "markdown",
      "metadata": {
        "id": "wPSuqsSw7j-I"
      },
      "source": [
        "## Criar um pipeline utilizando o sklearn pipeline"
      ]
    },
    {
      "cell_type": "code",
      "execution_count": null,
      "metadata": {
        "id": "1bxRug528v4l"
      },
      "outputs": [],
      "source": [
        "# importando biliotecas para a tarefa 2\n",
        "\n",
        "import pandas as pd\n",
        "import numpy as np\n",
        "\n",
        "from sklearn import tree\n",
        "from sklearn.impute import SimpleImputer\n",
        "from sklearn.decomposition import PCA\n",
        "from sklearn.linear_model import RidgeClassifier\n",
        "from sklearn.pipeline import Pipeline\n",
        "from sklearn.preprocessing import FunctionTransformer\n",
        "from sklearn.compose import ColumnTransformer\n",
        "from sklearn.compose import make_column_transformer\n",
        "from sklearn.compose import make_column_selector\n",
        "from sklearn.preprocessing import OneHotEncoder\n",
        "from sklearn.feature_selection import SelectFromModel\n",
        "from sklearn.metrics import confusion_matrix, ConfusionMatrixDisplay\n",
        "from sklearn.svm import LinearSVC\n",
        "from sklearn.metrics import confusion_matrix, accuracy_score, f1_score"
      ]
    },
    {
      "cell_type": "markdown",
      "metadata": {
        "id": "4ntTJuyR7j-I"
      },
      "source": [
        "## Pré processamento"
      ]
    },
    {
      "cell_type": "code",
      "execution_count": null,
      "metadata": {
        "colab": {
          "base_uri": "https://localhost:8080/",
          "height": 293
        },
        "id": "l9EmONy57VSq",
        "outputId": "840b9bf3-6fd9-4ea7-f9bd-af8cdbdf93e0"
      },
      "outputs": [
        {
          "data": {
            "application/vnd.google.colaboratory.intrinsic+json": {
              "type": "dataframe",
              "variable_name": "df"
            },
            "text/html": [
              "\n",
              "  <div id=\"df-25a83d38-58bc-4ab6-832e-60da7c281bd8\" class=\"colab-df-container\">\n",
              "    <div>\n",
              "<style scoped>\n",
              "    .dataframe tbody tr th:only-of-type {\n",
              "        vertical-align: middle;\n",
              "    }\n",
              "\n",
              "    .dataframe tbody tr th {\n",
              "        vertical-align: top;\n",
              "    }\n",
              "\n",
              "    .dataframe thead th {\n",
              "        text-align: right;\n",
              "    }\n",
              "</style>\n",
              "<table border=\"1\" class=\"dataframe\">\n",
              "  <thead>\n",
              "    <tr style=\"text-align: right;\">\n",
              "      <th></th>\n",
              "      <th>data_ref</th>\n",
              "      <th>index</th>\n",
              "      <th>sexo</th>\n",
              "      <th>posse_de_veiculo</th>\n",
              "      <th>posse_de_imovel</th>\n",
              "      <th>qtd_filhos</th>\n",
              "      <th>tipo_renda</th>\n",
              "      <th>educacao</th>\n",
              "      <th>estado_civil</th>\n",
              "      <th>tipo_residencia</th>\n",
              "      <th>idade</th>\n",
              "      <th>tempo_emprego</th>\n",
              "      <th>qt_pessoas_residencia</th>\n",
              "      <th>renda</th>\n",
              "      <th>mau</th>\n",
              "    </tr>\n",
              "  </thead>\n",
              "  <tbody>\n",
              "    <tr>\n",
              "      <th>0</th>\n",
              "      <td>2015-01-01</td>\n",
              "      <td>5733</td>\n",
              "      <td>F</td>\n",
              "      <td>N</td>\n",
              "      <td>N</td>\n",
              "      <td>0</td>\n",
              "      <td>Empresário</td>\n",
              "      <td>Médio</td>\n",
              "      <td>Solteiro</td>\n",
              "      <td>Casa</td>\n",
              "      <td>43</td>\n",
              "      <td>6.873973</td>\n",
              "      <td>1.0</td>\n",
              "      <td>2515.39</td>\n",
              "      <td>False</td>\n",
              "    </tr>\n",
              "    <tr>\n",
              "      <th>1</th>\n",
              "      <td>2015-01-01</td>\n",
              "      <td>727</td>\n",
              "      <td>F</td>\n",
              "      <td>S</td>\n",
              "      <td>S</td>\n",
              "      <td>0</td>\n",
              "      <td>Assalariado</td>\n",
              "      <td>Médio</td>\n",
              "      <td>Casado</td>\n",
              "      <td>Casa</td>\n",
              "      <td>35</td>\n",
              "      <td>4.526027</td>\n",
              "      <td>2.0</td>\n",
              "      <td>3180.19</td>\n",
              "      <td>False</td>\n",
              "    </tr>\n",
              "    <tr>\n",
              "      <th>2</th>\n",
              "      <td>2015-01-01</td>\n",
              "      <td>6374</td>\n",
              "      <td>F</td>\n",
              "      <td>N</td>\n",
              "      <td>N</td>\n",
              "      <td>2</td>\n",
              "      <td>Assalariado</td>\n",
              "      <td>Médio</td>\n",
              "      <td>Casado</td>\n",
              "      <td>Casa</td>\n",
              "      <td>31</td>\n",
              "      <td>0.243836</td>\n",
              "      <td>4.0</td>\n",
              "      <td>1582.29</td>\n",
              "      <td>False</td>\n",
              "    </tr>\n",
              "    <tr>\n",
              "      <th>3</th>\n",
              "      <td>2015-01-01</td>\n",
              "      <td>9566</td>\n",
              "      <td>F</td>\n",
              "      <td>N</td>\n",
              "      <td>N</td>\n",
              "      <td>0</td>\n",
              "      <td>Assalariado</td>\n",
              "      <td>Médio</td>\n",
              "      <td>Casado</td>\n",
              "      <td>Casa</td>\n",
              "      <td>54</td>\n",
              "      <td>12.772603</td>\n",
              "      <td>2.0</td>\n",
              "      <td>13721.17</td>\n",
              "      <td>False</td>\n",
              "    </tr>\n",
              "    <tr>\n",
              "      <th>4</th>\n",
              "      <td>2015-01-01</td>\n",
              "      <td>9502</td>\n",
              "      <td>F</td>\n",
              "      <td>S</td>\n",
              "      <td>N</td>\n",
              "      <td>0</td>\n",
              "      <td>Assalariado</td>\n",
              "      <td>Superior incompleto</td>\n",
              "      <td>Solteiro</td>\n",
              "      <td>Casa</td>\n",
              "      <td>31</td>\n",
              "      <td>8.432877</td>\n",
              "      <td>1.0</td>\n",
              "      <td>2891.08</td>\n",
              "      <td>False</td>\n",
              "    </tr>\n",
              "  </tbody>\n",
              "</table>\n",
              "</div>\n",
              "    <div class=\"colab-df-buttons\">\n",
              "\n",
              "  <div class=\"colab-df-container\">\n",
              "    <button class=\"colab-df-convert\" onclick=\"convertToInteractive('df-25a83d38-58bc-4ab6-832e-60da7c281bd8')\"\n",
              "            title=\"Convert this dataframe to an interactive table.\"\n",
              "            style=\"display:none;\">\n",
              "\n",
              "  <svg xmlns=\"http://www.w3.org/2000/svg\" height=\"24px\" viewBox=\"0 -960 960 960\">\n",
              "    <path d=\"M120-120v-720h720v720H120Zm60-500h600v-160H180v160Zm220 220h160v-160H400v160Zm0 220h160v-160H400v160ZM180-400h160v-160H180v160Zm440 0h160v-160H620v160ZM180-180h160v-160H180v160Zm440 0h160v-160H620v160Z\"/>\n",
              "  </svg>\n",
              "    </button>\n",
              "\n",
              "  <style>\n",
              "    .colab-df-container {\n",
              "      display:flex;\n",
              "      gap: 12px;\n",
              "    }\n",
              "\n",
              "    .colab-df-convert {\n",
              "      background-color: #E8F0FE;\n",
              "      border: none;\n",
              "      border-radius: 50%;\n",
              "      cursor: pointer;\n",
              "      display: none;\n",
              "      fill: #1967D2;\n",
              "      height: 32px;\n",
              "      padding: 0 0 0 0;\n",
              "      width: 32px;\n",
              "    }\n",
              "\n",
              "    .colab-df-convert:hover {\n",
              "      background-color: #E2EBFA;\n",
              "      box-shadow: 0px 1px 2px rgba(60, 64, 67, 0.3), 0px 1px 3px 1px rgba(60, 64, 67, 0.15);\n",
              "      fill: #174EA6;\n",
              "    }\n",
              "\n",
              "    .colab-df-buttons div {\n",
              "      margin-bottom: 4px;\n",
              "    }\n",
              "\n",
              "    [theme=dark] .colab-df-convert {\n",
              "      background-color: #3B4455;\n",
              "      fill: #D2E3FC;\n",
              "    }\n",
              "\n",
              "    [theme=dark] .colab-df-convert:hover {\n",
              "      background-color: #434B5C;\n",
              "      box-shadow: 0px 1px 3px 1px rgba(0, 0, 0, 0.15);\n",
              "      filter: drop-shadow(0px 1px 2px rgba(0, 0, 0, 0.3));\n",
              "      fill: #FFFFFF;\n",
              "    }\n",
              "  </style>\n",
              "\n",
              "    <script>\n",
              "      const buttonEl =\n",
              "        document.querySelector('#df-25a83d38-58bc-4ab6-832e-60da7c281bd8 button.colab-df-convert');\n",
              "      buttonEl.style.display =\n",
              "        google.colab.kernel.accessAllowed ? 'block' : 'none';\n",
              "\n",
              "      async function convertToInteractive(key) {\n",
              "        const element = document.querySelector('#df-25a83d38-58bc-4ab6-832e-60da7c281bd8');\n",
              "        const dataTable =\n",
              "          await google.colab.kernel.invokeFunction('convertToInteractive',\n",
              "                                                    [key], {});\n",
              "        if (!dataTable) return;\n",
              "\n",
              "        const docLinkHtml = 'Like what you see? Visit the ' +\n",
              "          '<a target=\"_blank\" href=https://colab.research.google.com/notebooks/data_table.ipynb>data table notebook</a>'\n",
              "          + ' to learn more about interactive tables.';\n",
              "        element.innerHTML = '';\n",
              "        dataTable['output_type'] = 'display_data';\n",
              "        await google.colab.output.renderOutput(dataTable, element);\n",
              "        const docLink = document.createElement('div');\n",
              "        docLink.innerHTML = docLinkHtml;\n",
              "        element.appendChild(docLink);\n",
              "      }\n",
              "    </script>\n",
              "  </div>\n",
              "\n",
              "\n",
              "<div id=\"df-da582ecc-7388-47c5-8cd7-0b310f9ddfda\">\n",
              "  <button class=\"colab-df-quickchart\" onclick=\"quickchart('df-da582ecc-7388-47c5-8cd7-0b310f9ddfda')\"\n",
              "            title=\"Suggest charts\"\n",
              "            style=\"display:none;\">\n",
              "\n",
              "<svg xmlns=\"http://www.w3.org/2000/svg\" height=\"24px\"viewBox=\"0 0 24 24\"\n",
              "     width=\"24px\">\n",
              "    <g>\n",
              "        <path d=\"M19 3H5c-1.1 0-2 .9-2 2v14c0 1.1.9 2 2 2h14c1.1 0 2-.9 2-2V5c0-1.1-.9-2-2-2zM9 17H7v-7h2v7zm4 0h-2V7h2v10zm4 0h-2v-4h2v4z\"/>\n",
              "    </g>\n",
              "</svg>\n",
              "  </button>\n",
              "\n",
              "<style>\n",
              "  .colab-df-quickchart {\n",
              "      --bg-color: #E8F0FE;\n",
              "      --fill-color: #1967D2;\n",
              "      --hover-bg-color: #E2EBFA;\n",
              "      --hover-fill-color: #174EA6;\n",
              "      --disabled-fill-color: #AAA;\n",
              "      --disabled-bg-color: #DDD;\n",
              "  }\n",
              "\n",
              "  [theme=dark] .colab-df-quickchart {\n",
              "      --bg-color: #3B4455;\n",
              "      --fill-color: #D2E3FC;\n",
              "      --hover-bg-color: #434B5C;\n",
              "      --hover-fill-color: #FFFFFF;\n",
              "      --disabled-bg-color: #3B4455;\n",
              "      --disabled-fill-color: #666;\n",
              "  }\n",
              "\n",
              "  .colab-df-quickchart {\n",
              "    background-color: var(--bg-color);\n",
              "    border: none;\n",
              "    border-radius: 50%;\n",
              "    cursor: pointer;\n",
              "    display: none;\n",
              "    fill: var(--fill-color);\n",
              "    height: 32px;\n",
              "    padding: 0;\n",
              "    width: 32px;\n",
              "  }\n",
              "\n",
              "  .colab-df-quickchart:hover {\n",
              "    background-color: var(--hover-bg-color);\n",
              "    box-shadow: 0 1px 2px rgba(60, 64, 67, 0.3), 0 1px 3px 1px rgba(60, 64, 67, 0.15);\n",
              "    fill: var(--button-hover-fill-color);\n",
              "  }\n",
              "\n",
              "  .colab-df-quickchart-complete:disabled,\n",
              "  .colab-df-quickchart-complete:disabled:hover {\n",
              "    background-color: var(--disabled-bg-color);\n",
              "    fill: var(--disabled-fill-color);\n",
              "    box-shadow: none;\n",
              "  }\n",
              "\n",
              "  .colab-df-spinner {\n",
              "    border: 2px solid var(--fill-color);\n",
              "    border-color: transparent;\n",
              "    border-bottom-color: var(--fill-color);\n",
              "    animation:\n",
              "      spin 1s steps(1) infinite;\n",
              "  }\n",
              "\n",
              "  @keyframes spin {\n",
              "    0% {\n",
              "      border-color: transparent;\n",
              "      border-bottom-color: var(--fill-color);\n",
              "      border-left-color: var(--fill-color);\n",
              "    }\n",
              "    20% {\n",
              "      border-color: transparent;\n",
              "      border-left-color: var(--fill-color);\n",
              "      border-top-color: var(--fill-color);\n",
              "    }\n",
              "    30% {\n",
              "      border-color: transparent;\n",
              "      border-left-color: var(--fill-color);\n",
              "      border-top-color: var(--fill-color);\n",
              "      border-right-color: var(--fill-color);\n",
              "    }\n",
              "    40% {\n",
              "      border-color: transparent;\n",
              "      border-right-color: var(--fill-color);\n",
              "      border-top-color: var(--fill-color);\n",
              "    }\n",
              "    60% {\n",
              "      border-color: transparent;\n",
              "      border-right-color: var(--fill-color);\n",
              "    }\n",
              "    80% {\n",
              "      border-color: transparent;\n",
              "      border-right-color: var(--fill-color);\n",
              "      border-bottom-color: var(--fill-color);\n",
              "    }\n",
              "    90% {\n",
              "      border-color: transparent;\n",
              "      border-bottom-color: var(--fill-color);\n",
              "    }\n",
              "  }\n",
              "</style>\n",
              "\n",
              "  <script>\n",
              "    async function quickchart(key) {\n",
              "      const quickchartButtonEl =\n",
              "        document.querySelector('#' + key + ' button');\n",
              "      quickchartButtonEl.disabled = true;  // To prevent multiple clicks.\n",
              "      quickchartButtonEl.classList.add('colab-df-spinner');\n",
              "      try {\n",
              "        const charts = await google.colab.kernel.invokeFunction(\n",
              "            'suggestCharts', [key], {});\n",
              "      } catch (error) {\n",
              "        console.error('Error during call to suggestCharts:', error);\n",
              "      }\n",
              "      quickchartButtonEl.classList.remove('colab-df-spinner');\n",
              "      quickchartButtonEl.classList.add('colab-df-quickchart-complete');\n",
              "    }\n",
              "    (() => {\n",
              "      let quickchartButtonEl =\n",
              "        document.querySelector('#df-da582ecc-7388-47c5-8cd7-0b310f9ddfda button');\n",
              "      quickchartButtonEl.style.display =\n",
              "        google.colab.kernel.accessAllowed ? 'block' : 'none';\n",
              "    })();\n",
              "  </script>\n",
              "</div>\n",
              "\n",
              "    </div>\n",
              "  </div>\n"
            ],
            "text/plain": [
              "    data_ref  index sexo posse_de_veiculo posse_de_imovel  qtd_filhos  \\\n",
              "0 2015-01-01   5733    F                N               N           0   \n",
              "1 2015-01-01    727    F                S               S           0   \n",
              "2 2015-01-01   6374    F                N               N           2   \n",
              "3 2015-01-01   9566    F                N               N           0   \n",
              "4 2015-01-01   9502    F                S               N           0   \n",
              "\n",
              "    tipo_renda             educacao estado_civil tipo_residencia  idade  \\\n",
              "0   Empresário                Médio     Solteiro            Casa     43   \n",
              "1  Assalariado                Médio       Casado            Casa     35   \n",
              "2  Assalariado                Médio       Casado            Casa     31   \n",
              "3  Assalariado                Médio       Casado            Casa     54   \n",
              "4  Assalariado  Superior incompleto     Solteiro            Casa     31   \n",
              "\n",
              "   tempo_emprego  qt_pessoas_residencia     renda    mau  \n",
              "0       6.873973                    1.0   2515.39  False  \n",
              "1       4.526027                    2.0   3180.19  False  \n",
              "2       0.243836                    4.0   1582.29  False  \n",
              "3      12.772603                    2.0  13721.17  False  \n",
              "4       8.432877                    1.0   2891.08  False  "
            ]
          },
          "execution_count": 16,
          "metadata": {},
          "output_type": "execute_result"
        }
      ],
      "source": [
        "# importando os dados\n",
        "\n",
        "df = pd.read_feather('/content/drive/MyDrive/credit_scoring.ftr')\n",
        "df.head(5)"
      ]
    },
    {
      "cell_type": "code",
      "execution_count": null,
      "metadata": {
        "id": "huSpuWbBRNsS"
      },
      "outputs": [],
      "source": [
        "# removendo dados duplicados\n",
        "\n",
        "df = df.drop_duplicates()"
      ]
    },
    {
      "cell_type": "code",
      "execution_count": null,
      "metadata": {
        "id": "TKEMCAw54maG"
      },
      "outputs": [],
      "source": [
        "# Separe os três últimos meses como safras de validação *out of time* (oot).\n",
        "\n",
        "df_treino = df.loc[df['data_ref'].isin(df['data_ref'].unique()[:-3])]\n",
        "df_teste = df.loc[~df['data_ref'].isin(df['data_ref'].unique()[:-3])]"
      ]
    },
    {
      "cell_type": "code",
      "execution_count": null,
      "metadata": {
        "id": "QbhZw7Mk7XF8"
      },
      "outputs": [],
      "source": [
        "# separando features explicativos e target\n",
        "\n",
        "x_treino = df_treino.drop('mau', axis=1)\n",
        "x_teste = df_teste.drop('mau', axis=1)\n",
        "y_treino = df_treino.mau\n",
        "y_teste = df_teste.mau"
      ]
    },
    {
      "cell_type": "markdown",
      "metadata": {
        "id": "PKarj0xTXkdq"
      },
      "source": [
        "### Remover colunas"
      ]
    },
    {
      "cell_type": "code",
      "execution_count": null,
      "metadata": {
        "id": "xK4mLkxwXh0t"
      },
      "outputs": [],
      "source": [
        "def remove_columns(X):\n",
        "\n",
        "  X = X.drop(['data_ref', 'index'], axis=1)\n",
        "\n",
        "  return X\n"
      ]
    },
    {
      "cell_type": "code",
      "execution_count": null,
      "metadata": {
        "id": "WPWH2loOX-r8"
      },
      "outputs": [],
      "source": [
        "# criando step de remoção de outliers para aplicação em pipeline\n",
        "\n",
        "ct_remove_columns = FunctionTransformer(remove_columns)"
      ]
    },
    {
      "cell_type": "code",
      "execution_count": null,
      "metadata": {
        "id": "bWryBJlnYcdg"
      },
      "outputs": [],
      "source": [
        "x_treino = ct_remove_columns.fit_transform(x_treino)\n",
        "\n",
        "x_teste = ct_remove_columns.transform(x_teste)"
      ]
    },
    {
      "cell_type": "markdown",
      "metadata": {
        "id": "OpWiu_iDtTX9"
      },
      "source": [
        "### Remoção de outliers\n"
      ]
    },
    {
      "cell_type": "markdown",
      "metadata": {
        "id": "ZHABl32jvJsx"
      },
      "source": [
        "Como identificar outlier? Substituir o outlier por algum valor? Remover a linha?"
      ]
    },
    {
      "cell_type": "code",
      "execution_count": null,
      "metadata": {
        "id": "lAeAWQvrtZDd"
      },
      "outputs": [],
      "source": [
        "# criando função para remoção de outliers\n",
        "\n",
        "def remove_outliers(X):\n",
        "\n",
        "  # Calcular os quartis Q1 e Q3\n",
        "  Q1 = X.quantile(0.25)\n",
        "  Q3 = X.quantile(0.75)\n",
        "\n",
        "  # Calcular o IQR\n",
        "  IQR = Q3 - Q1\n",
        "\n",
        "  # Definir os limites inferior e superior\n",
        "  limite_inferior = Q1 - 1.5 * IQR\n",
        "  limite_superior = Q3 + 1.5 * IQR\n",
        "\n",
        "  # Remover outliers\n",
        "  X_new = X[(X >= limite_inferior) & (X <= limite_superior)]\n",
        "\n",
        "  return X_new"
      ]
    },
    {
      "cell_type": "code",
      "execution_count": null,
      "metadata": {
        "id": "jDC_y1xUo5gl"
      },
      "outputs": [],
      "source": [
        "# criando step de remoção de outliers para aplicação em pipeline\n",
        "\n",
        "ct_remove_outlier = ColumnTransformer([\n",
        "      ('out', FunctionTransformer(remove_outliers),\n",
        "      make_column_selector(dtype_include=np.number))], remainder='passthrough')"
      ]
    },
    {
      "cell_type": "code",
      "execution_count": null,
      "metadata": {
        "id": "2xid3eSptY61"
      },
      "outputs": [],
      "source": [
        "# aplicando a transformação\n",
        "\n",
        "x_treino = ct_remove_outlier.fit_transform(x_treino)\n",
        "\n",
        "x_teste = ct_remove_outlier.transform(x_teste)"
      ]
    },
    {
      "cell_type": "markdown",
      "metadata": {
        "id": "hTTe2zKCixHp"
      },
      "source": [
        "### Substituição de nulos (nans)\n",
        "\n",
        "Existe nulos na base? é dado numérico ou categórico? qual o valor de substituição? média? valor mais frequente? etc"
      ]
    },
    {
      "cell_type": "code",
      "execution_count": null,
      "metadata": {
        "id": "LgsBq5GVxNhh"
      },
      "outputs": [],
      "source": [
        "# criando step para imputação de valores\n",
        "\n",
        "ct_missing = ColumnTransformer([\n",
        "      ('median', SimpleImputer(strategy='median'), # mediana em missings numéricos\n",
        "      [0,1,2,3,4]),\n",
        "      ('most_frequent', SimpleImputer(strategy='most_frequent'), # moda em missings categóricos\n",
        "      [5,6,7,8,9,10,11])])"
      ]
    },
    {
      "cell_type": "code",
      "execution_count": null,
      "metadata": {
        "id": "cMg0eOJN87hV"
      },
      "outputs": [],
      "source": [
        "# aplicando a transformação\n",
        "\n",
        "x_treino = ct_missing.fit_transform(x_treino)\n",
        "\n",
        "x_teste = ct_missing.transform(x_teste)"
      ]
    },
    {
      "cell_type": "markdown",
      "metadata": {
        "id": "uT9QleB2ixHw"
      },
      "source": [
        "### Redução de dimensionalidade (PCA)\n",
        "\n",
        "Aplicar PCA para reduzir a dimensionalidade para 5"
      ]
    },
    {
      "cell_type": "code",
      "execution_count": null,
      "metadata": {
        "id": "vmX7VfFlzYgu"
      },
      "outputs": [],
      "source": [
        "# criando step para aplicação de PCA sobre os dados\n",
        "\n",
        "ct_pca = ColumnTransformer([\n",
        "      ('pca', PCA(n_components=5),\n",
        "      [0,1,2,3,4])], remainder='passthrough')"
      ]
    },
    {
      "cell_type": "code",
      "execution_count": null,
      "metadata": {
        "id": "KuyXg32YzYau"
      },
      "outputs": [],
      "source": [
        "# aplicando a transformação\n",
        "\n",
        "x_treino = ct_pca.fit_transform(x_treino)\n",
        "\n",
        "x_teste = ct_pca.transform(x_teste)"
      ]
    },
    {
      "cell_type": "markdown",
      "metadata": {
        "id": "Q7IpfNFiixHy"
      },
      "source": [
        "### Criação de dummies\n",
        "\n",
        "Aplicar o get_dummies() ou onehotencoder() para transformar colunas catégoricas do dataframe em colunas de 0 e 1.\n",
        "- sexo\n",
        "- posse_de_veiculo\n",
        "- posse_de_imovel\n",
        "- tipo_renda\n",
        "- educacao\n",
        "- estado_civil\n",
        "- tipo_residencia"
      ]
    },
    {
      "cell_type": "code",
      "execution_count": null,
      "metadata": {
        "id": "_xCcleQ_ixH0"
      },
      "outputs": [],
      "source": [
        "# criando step para criação de dummies de variáveis categóricas\n",
        "\n",
        "ct_dummie = ColumnTransformer([\n",
        "      ('onehot', OneHotEncoder(),\n",
        "      [5,6,7,8,9,10,11])], remainder='passthrough')"
      ]
    },
    {
      "cell_type": "code",
      "execution_count": null,
      "metadata": {
        "id": "pukMrQxkwfbQ"
      },
      "outputs": [],
      "source": [
        "# aplicando a transformação\n",
        "\n",
        "x_treino = ct_dummie.fit_transform(x_treino)\n",
        "\n",
        "x_teste = ct_dummie.transform(x_teste)"
      ]
    },
    {
      "cell_type": "markdown",
      "metadata": {
        "id": "8JJ4cwHyCThA"
      },
      "source": [
        "### Seleção de variáveis\n",
        "\n",
        "Qual tipo de técnica? Boruta? Feature importance?"
      ]
    },
    {
      "cell_type": "code",
      "execution_count": null,
      "metadata": {
        "id": "DFK30zeqlwBv"
      },
      "outputs": [],
      "source": [
        "# selecionado as features através da técnica LinearSVC\n",
        "\n",
        "lsvc = LinearSVC(penalty=\"l1\", dual=False).fit(x_treino, y_treino)\n",
        "\n",
        "model = SelectFromModel(lsvc, prefit=True)"
      ]
    },
    {
      "cell_type": "code",
      "execution_count": null,
      "metadata": {
        "id": "eN3ZV6gH4Cp4"
      },
      "outputs": [],
      "source": [
        "# aplicando a transformação\n",
        "\n",
        "x_treino = model.transform(x_treino)\n",
        "\n",
        "x_teste = model.transform(x_teste)"
      ]
    },
    {
      "cell_type": "markdown",
      "metadata": {
        "id": "UUEBinzDixH2"
      },
      "source": [
        "### Pipeline\n",
        "\n",
        "Crie um pipeline contendo essas funções.\n",
        "\n",
        "preprocessamento()\n",
        "- substituicao de nulos\n",
        "- remoção outliers\n",
        "- PCA\n",
        "- Criação de dummy de pelo menos 1 variável (posse_de_veiculo)"
      ]
    },
    {
      "cell_type": "code",
      "execution_count": null,
      "metadata": {
        "id": "gIb2EK3kixH3"
      },
      "outputs": [],
      "source": [
        "# importando os dados\n",
        "\n",
        "df = pd.read_feather('/content/drive/MyDrive/credit_scoring.ftr')\n",
        "\n",
        "# removendo dados duplicados\n",
        "\n",
        "df = df.drop_duplicates()\n",
        "\n",
        "# separando dados para treino e teste\n",
        "\n",
        "df_treino = df.loc[df['data_ref'].isin(df['data_ref'].unique()[:-3])]\n",
        "df_teste = df.loc[~df['data_ref'].isin(df['data_ref'].unique()[:-3])]\n",
        "\n",
        "# separando features explicativos e target\n",
        "\n",
        "x_treino = df_treino.drop('mau', axis=1)\n",
        "x_teste = df_teste.drop('mau', axis=1)\n",
        "y_treino = df_treino.mau\n",
        "y_teste = df_teste.mau"
      ]
    },
    {
      "cell_type": "code",
      "execution_count": null,
      "metadata": {
        "id": "wCsjP4agixH4"
      },
      "outputs": [],
      "source": [
        "# criando pipeline através de sklearn com as etapas criadas anteriormente\n",
        "\n",
        "preprocessamento = Pipeline(steps=[\n",
        "                          (\"remove_columns\", ct_remove_columns),\n",
        "                          (\"outliers\", ct_remove_outlier),\n",
        "                          (\"missing\", ct_missing),\n",
        "                          (\"pca\", ct_pca),\n",
        "                          (\"dummies\", ct_dummie)])"
      ]
    },
    {
      "cell_type": "markdown",
      "metadata": {
        "id": "1Ty492Lx7j-N"
      },
      "source": [
        "### Treinar um modelo de regressão logistica com o resultado"
      ]
    },
    {
      "cell_type": "code",
      "execution_count": null,
      "metadata": {
        "id": "gQZovfofDrJ7"
      },
      "outputs": [],
      "source": [
        "# processando os dados através do pipeline\n",
        "\n",
        "x_treino_p = preprocessamento.fit_transform(x_treino)\n",
        "\n",
        "x_teste_p = preprocessamento.transform(x_teste)"
      ]
    },
    {
      "cell_type": "code",
      "execution_count": null,
      "metadata": {
        "id": "pckK-kZh7j-N"
      },
      "outputs": [],
      "source": [
        "# treinando o modelo preditivo\n",
        "\n",
        "clf = tree.DecisionTreeClassifier().fit(x_treino_p, y_treino)"
      ]
    },
    {
      "cell_type": "markdown",
      "metadata": {
        "id": "YmI8rvHqEj6S"
      },
      "source": [
        "### Avaliando a performance do modelo"
      ]
    },
    {
      "cell_type": "code",
      "execution_count": null,
      "metadata": {
        "id": "54zRZ5hSDmTk"
      },
      "outputs": [],
      "source": [
        "# salvando as predições do modelo na base de treino e de teste\n",
        "\n",
        "pred_treino = clf.predict(x_treino_p)\n",
        "\n",
        "pred_teste = clf.predict(x_teste_p)"
      ]
    },
    {
      "cell_type": "code",
      "execution_count": null,
      "metadata": {
        "colab": {
          "base_uri": "https://localhost:8080/",
          "height": 466
        },
        "id": "tjHD5RaZ0LZL",
        "outputId": "018e4512-60e8-4cbf-96f4-c459a315a332"
      },
      "outputs": [
        {
          "name": "stdout",
          "output_type": "stream",
          "text": [
            "Acurácia na base de treino: 0.8644403125200363\n"
          ]
        },
        {
          "data": {
            "image/png": "[encoded data removed]",
            "text/plain": [
              "<Figure size 640x480 with 2 Axes>"
            ]
          },
          "metadata": {},
          "output_type": "display_data"
        }
      ],
      "source": [
        "# verificando a acurácia do modelo na base de treino\n",
        "\n",
        "cm = confusion_matrix(y_treino, pred_treino)\n",
        "\n",
        "ConfusionMatrixDisplay(confusion_matrix=cm, display_labels=clf.classes_).plot()\n",
        "\n",
        "print(f'Acurácia na base de treino: {accuracy_score(y_treino, pred_treino)}')"
      ]
    },
    {
      "cell_type": "code",
      "execution_count": null,
      "metadata": {
        "colab": {
          "base_uri": "https://localhost:8080/",
          "height": 466
        },
        "id": "u2L5FJZG2hYr",
        "outputId": "ac421011-ceec-42c0-e618-f8ab6b4d7a61"
      },
      "outputs": [
        {
          "name": "stdout",
          "output_type": "stream",
          "text": [
            "Acurácia na base de teste: 0.7284826974267968\n"
          ]
        },
        {
          "data": {
            "image/png": "[encoded data removed]",
            "text/plain": [
              "<Figure size 640x480 with 2 Axes>"
            ]
          },
          "metadata": {},
          "output_type": "display_data"
        }
      ],
      "source": [
        "# verificando a acurácia do modelo na base de teste\n",
        "\n",
        "cm = confusion_matrix(y_teste, pred_teste)\n",
        "\n",
        "ConfusionMatrixDisplay(confusion_matrix=cm, display_labels=clf.classes_).plot()\n",
        "\n",
        "print(f'Acurácia na base de teste: {accuracy_score(y_teste, pred_teste)}')"
      ]
    },
    {
      "cell_type": "markdown",
      "metadata": {
        "id": "zVYDAeqEvh67"
      },
      "source": [
        "Apesar de o modelo apresentar performance com alta acurácia, não se mostra sensível na detecção de 'maus' clientes. Isso se deve, provavelmente, à pouca representação de ocorrência de 'mau' na amostra. Será interessante verificar qual o melhor ajuste para se obter maior deteção de 'maus' - Recall -, com menor geração falsos positivos - Precisão."
      ]
    },
    {
      "cell_type": "code",
      "execution_count": null,
      "metadata": {
        "colab": {
          "base_uri": "https://localhost:8080/",
          "height": 469
        },
        "id": "FV6w9RPaoZkV",
        "outputId": "420735ce-e1ce-452a-d18c-ab7ec9f67898"
      },
      "outputs": [
        {
          "name": "stdout",
          "output_type": "stream",
          "text": [
            "Probabilidade de 'mau' em que F1 - score atinge maior valor nas bases de dados: 0.3061224489795918\n"
          ]
        },
        {
          "data": {
            "image/png": "[encoded data removed]",
            "text/plain": [
              "<Figure size 640x480 with 1 Axes>"
            ]
          },
          "metadata": {},
          "output_type": "display_data"
        }
      ],
      "source": [
        "# verificando o F1 - score conforme taxa de probabilidade de 'mau' atribuída pelo modelo\n",
        "\n",
        "prob_mau = clf.predict_proba(x_treino_p)[:,1]\n",
        "prob_mau_t = clf.predict_proba(x_teste_p)[:,1]\n",
        "\n",
        "x = np.linspace(0,1)\n",
        "\n",
        "y_tr = [f1_score(y_treino,(prob_mau >= i)) for i in x]\n",
        "y_te = [f1_score(y_teste,(prob_mau_t >= i)) for i in x]\n",
        "\n",
        "plt.plot(x, y_tr, label='treino')\n",
        "plt.plot(x, y_te, label='teste')\n",
        "plt.axvline(x=x[15], color='r', linestyle='dotted')\n",
        "plt.title(\"F1 - score x Probabilidade de 'mau'\")\n",
        "plt.legend()\n",
        "\n",
        "print(f\"Probabilidade de 'mau' em que F1 - score atinge maior valor nas bases de dados: {x[15]}\")\n"
      ]
    },
    {
      "cell_type": "code",
      "execution_count": null,
      "metadata": {
        "colab": {
          "base_uri": "https://localhost:8080/",
          "height": 466
        },
        "id": "DSXNc7GYEfbb",
        "outputId": "bdb0c763-eff7-4d96-da1d-5c3e96345410"
      },
      "outputs": [
        {
          "name": "stdout",
          "output_type": "stream",
          "text": [
            "Acurácia na base de treino, classificando 'mau' a partir de 20% de probabilidade': 0.7919204594374273\n"
          ]
        },
        {
          "data": {
            "image/png": "[encoded data removed]",
            "text/plain": [
              "<Figure size 640x480 with 2 Axes>"
            ]
          },
          "metadata": {},
          "output_type": "display_data"
        }
      ],
      "source": [
        "# verificando a acurácia do modelo na base de treino ao trabalhar a probabilidade de 'mau' com 30%\n",
        "\n",
        "cm = confusion_matrix(y_treino, (prob_mau >= 0.30))\n",
        "\n",
        "ConfusionMatrixDisplay(confusion_matrix=cm, display_labels=clf.classes_).plot()\n",
        "\n",
        "print(f\"Acurácia na base de treino, classificando 'mau' a partir de 20% de probabilidade': {accuracy_score(y_treino, (prob_mau >= 0.30))}\")"
      ]
    },
    {
      "cell_type": "code",
      "execution_count": null,
      "metadata": {
        "colab": {
          "base_uri": "https://localhost:8080/",
          "height": 466
        },
        "id": "jWtQ5J6H3HYg",
        "outputId": "46abe640-75d9-4791-fbd8-dc75d179b737"
      },
      "outputs": [
        {
          "name": "stdout",
          "output_type": "stream",
          "text": [
            "Acurácia na base de teste, classificando 'mau' a partir de 20% de probabilidade': 0.5865773977575219\n"
          ]
        },
        {
          "data": {
            "image/png": "[encoded data removed]",
            "text/plain": [
              "<Figure size 640x480 with 2 Axes>"
            ]
          },
          "metadata": {},
          "output_type": "display_data"
        }
      ],
      "source": [
        "# verificando a acurácia do modelo na base de teste ao trabalhar a probabilidade de 'mau' com 20%\n",
        "\n",
        "cm = confusion_matrix(y_teste, (prob_mau_t >= 0.30))\n",
        "\n",
        "ConfusionMatrixDisplay(confusion_matrix=cm, display_labels=clf.classes_).plot()\n",
        "\n",
        "print(f\"Acurácia na base de teste, classificando 'mau' a partir de 20% de probabilidade': {accuracy_score(y_teste, (prob_mau_t >= 0.30))}\")"
      ]
    },
    {
      "cell_type": "markdown",
      "metadata": {
        "id": "dPDEMibqmRRe"
      },
      "source": [
        "Em face dos resultados, constata-se que a busca por melhor permance do modelo sob a métrica de F1 score ocorre em detrimento da acurária. O contrário também acontece. Daí, a fim de se aproveitar os resultados de ambas abordagens, podemos adotar a seguinte classificação de risco de crédito (inadimplência) de acordo a probabilidade de 'mau' atribuída pelo modelo:\n",
        "\n",
        "*   RISCO ALTO: probabilidade de 'mau' maior que 50%\n",
        "*   RISCO MÉDIO: probabilidade de 'mau' de 30% a 50%\n",
        "*   RISCO BAIXO: probabilidade de 'mau' menor que 20%\n",
        "\n",
        "A vantagem também é que se dá maior margem de decisão, principalmente sobre os classificados de RISCO MÉDIO\n",
        "\n",
        "\n"
      ]
    },
    {
      "cell_type": "markdown",
      "metadata": {
        "id": "2h5PFvAA7j-P"
      },
      "source": [
        "### Salvar o pickle file do modelo treinado"
      ]
    },
    {
      "cell_type": "code",
      "execution_count": null,
      "metadata": {
        "id": "trR0wi2d7j-P"
      },
      "outputs": [],
      "source": [
        "# gravando o modelo\n",
        "\n",
        "import pickle\n",
        "\n",
        "nome_arquivo = '/content/drive/MyDrive/PROJ_EBAC_FINAL/modelo/model_final.pkl'\n",
        "pickle.dump(clf, open(nome_arquivo, 'wb'))"
      ]
    },
    {
      "cell_type": "code",
      "execution_count": null,
      "metadata": {
        "colab": {
          "base_uri": "https://localhost:8080/"
        },
        "id": "ZPbXzmOwITb3",
        "outputId": "0ba2ca6e-d98a-4a2f-de60-efdf699775a9"
      },
      "outputs": [
        {
          "data": {
            "text/plain": [
              "['/content/drive/MyDrive/PROJ_EBAC_FINAL/modelo/pipe.joblib']"
            ]
          },
          "execution_count": 120,
          "metadata": {},
          "output_type": "execute_result"
        }
      ],
      "source": [
        "# gravando o pipeline\n",
        "\n",
        "from joblib import dump\n",
        "\n",
        "dump(preprocessamento, '/content/drive/MyDrive/PROJ_EBAC_FINAL/modelo/pipe.joblib')"
      ]
    },
    {
      "cell_type": "markdown",
      "metadata": {
        "id": "tb4LTrG27j-Q"
      },
      "source": [
        "# Pycaret na base de dados\n",
        "\n",
        "Utilize o pycaret para pre processar os dados e rodar o modelo **lightgbm**. Faça todos os passos a passos da aula e gere os gráficos finais. E o pipeline de toda a transformação.\n",
        "\n"
      ]
    },
    {
      "cell_type": "code",
      "execution_count": null,
      "metadata": {
        "id": "IzDoPeN5HC5K"
      },
      "outputs": [],
      "source": [
        "from pycaret.classification import *\n",
        "from sklearn import set_config"
      ]
    },
    {
      "cell_type": "code",
      "execution_count": null,
      "metadata": {
        "id": "npiMYxvGixH5"
      },
      "outputs": [],
      "source": [
        "df = pd.read_feather('/content/drive/MyDrive/credit_scoring.ftr')\n",
        "df.head(5)"
      ]
    },
    {
      "cell_type": "code",
      "execution_count": null,
      "metadata": {
        "id": "MNBoAKNqC06L"
      },
      "outputs": [],
      "source": [
        "data = df.drop(['data_ref', 'index'], axis=1)"
      ]
    },
    {
      "cell_type": "code",
      "execution_count": null,
      "metadata": {
        "colab": {
          "base_uri": "https://localhost:8080/",
          "height": 896
        },
        "id": "CMYz2iVcBczU",
        "outputId": "4a672559-dea4-4a2b-a02b-9b00c87b946d"
      },
      "outputs": [
        {
          "data": {
            "text/html": [
              "<style type=\"text/css\">\n",
              "#T_0f34d_row10_col1, #T_0f34d_row16_col1, #T_0f34d_row18_col1 {\n",
              "  background-color: lightgreen;\n",
              "}\n",
              "</style>\n",
              "<table id=\"T_0f34d\" class=\"dataframe\">\n",
              "  <thead>\n",
              "    <tr>\n",
              "      <th class=\"blank level0\" >&nbsp;</th>\n",
              "      <th id=\"T_0f34d_level0_col0\" class=\"col_heading level0 col0\" >Description</th>\n",
              "      <th id=\"T_0f34d_level0_col1\" class=\"col_heading level0 col1\" >Value</th>\n",
              "    </tr>\n",
              "  </thead>\n",
              "  <tbody>\n",
              "    <tr>\n",
              "      <th id=\"T_0f34d_level0_row0\" class=\"row_heading level0 row0\" >0</th>\n",
              "      <td id=\"T_0f34d_row0_col0\" class=\"data row0 col0\" >Session id</td>\n",
              "      <td id=\"T_0f34d_row0_col1\" class=\"data row0 col1\" >123</td>\n",
              "    </tr>\n",
              "    <tr>\n",
              "      <th id=\"T_0f34d_level0_row1\" class=\"row_heading level0 row1\" >1</th>\n",
              "      <td id=\"T_0f34d_row1_col0\" class=\"data row1 col0\" >Target</td>\n",
              "      <td id=\"T_0f34d_row1_col1\" class=\"data row1 col1\" >mau</td>\n",
              "    </tr>\n",
              "    <tr>\n",
              "      <th id=\"T_0f34d_level0_row2\" class=\"row_heading level0 row2\" >2</th>\n",
              "      <td id=\"T_0f34d_row2_col0\" class=\"data row2 col0\" >Target type</td>\n",
              "      <td id=\"T_0f34d_row2_col1\" class=\"data row2 col1\" >Binary</td>\n",
              "    </tr>\n",
              "    <tr>\n",
              "      <th id=\"T_0f34d_level0_row3\" class=\"row_heading level0 row3\" >3</th>\n",
              "      <td id=\"T_0f34d_row3_col0\" class=\"data row3 col0\" >Original data shape</td>\n",
              "      <td id=\"T_0f34d_row3_col1\" class=\"data row3 col1\" >(750000, 13)</td>\n",
              "    </tr>\n",
              "    <tr>\n",
              "      <th id=\"T_0f34d_level0_row4\" class=\"row_heading level0 row4\" >4</th>\n",
              "      <td id=\"T_0f34d_row4_col0\" class=\"data row4 col0\" >Transformed data shape</td>\n",
              "      <td id=\"T_0f34d_row4_col1\" class=\"data row4 col1\" >(723761, 30)</td>\n",
              "    </tr>\n",
              "    <tr>\n",
              "      <th id=\"T_0f34d_level0_row5\" class=\"row_heading level0 row5\" >5</th>\n",
              "      <td id=\"T_0f34d_row5_col0\" class=\"data row5 col0\" >Transformed train set shape</td>\n",
              "      <td id=\"T_0f34d_row5_col1\" class=\"data row5 col1\" >(498761, 30)</td>\n",
              "    </tr>\n",
              "    <tr>\n",
              "      <th id=\"T_0f34d_level0_row6\" class=\"row_heading level0 row6\" >6</th>\n",
              "      <td id=\"T_0f34d_row6_col0\" class=\"data row6 col0\" >Transformed test set shape</td>\n",
              "      <td id=\"T_0f34d_row6_col1\" class=\"data row6 col1\" >(225000, 30)</td>\n",
              "    </tr>\n",
              "    <tr>\n",
              "      <th id=\"T_0f34d_level0_row7\" class=\"row_heading level0 row7\" >7</th>\n",
              "      <td id=\"T_0f34d_row7_col0\" class=\"data row7 col0\" >Numeric features</td>\n",
              "      <td id=\"T_0f34d_row7_col1\" class=\"data row7 col1\" >5</td>\n",
              "    </tr>\n",
              "    <tr>\n",
              "      <th id=\"T_0f34d_level0_row8\" class=\"row_heading level0 row8\" >8</th>\n",
              "      <td id=\"T_0f34d_row8_col0\" class=\"data row8 col0\" >Categorical features</td>\n",
              "      <td id=\"T_0f34d_row8_col1\" class=\"data row8 col1\" >7</td>\n",
              "    </tr>\n",
              "    <tr>\n",
              "      <th id=\"T_0f34d_level0_row9\" class=\"row_heading level0 row9\" >9</th>\n",
              "      <td id=\"T_0f34d_row9_col0\" class=\"data row9 col0\" >Rows with missing values</td>\n",
              "      <td id=\"T_0f34d_row9_col1\" class=\"data row9 col1\" >16.8%</td>\n",
              "    </tr>\n",
              "    <tr>\n",
              "      <th id=\"T_0f34d_level0_row10\" class=\"row_heading level0 row10\" >10</th>\n",
              "      <td id=\"T_0f34d_row10_col0\" class=\"data row10 col0\" >Preprocess</td>\n",
              "      <td id=\"T_0f34d_row10_col1\" class=\"data row10 col1\" >True</td>\n",
              "    </tr>\n",
              "    <tr>\n",
              "      <th id=\"T_0f34d_level0_row11\" class=\"row_heading level0 row11\" >11</th>\n",
              "      <td id=\"T_0f34d_row11_col0\" class=\"data row11 col0\" >Imputation type</td>\n",
              "      <td id=\"T_0f34d_row11_col1\" class=\"data row11 col1\" >simple</td>\n",
              "    </tr>\n",
              "    <tr>\n",
              "      <th id=\"T_0f34d_level0_row12\" class=\"row_heading level0 row12\" >12</th>\n",
              "      <td id=\"T_0f34d_row12_col0\" class=\"data row12 col0\" >Numeric imputation</td>\n",
              "      <td id=\"T_0f34d_row12_col1\" class=\"data row12 col1\" >median</td>\n",
              "    </tr>\n",
              "    <tr>\n",
              "      <th id=\"T_0f34d_level0_row13\" class=\"row_heading level0 row13\" >13</th>\n",
              "      <td id=\"T_0f34d_row13_col0\" class=\"data row13 col0\" >Categorical imputation</td>\n",
              "      <td id=\"T_0f34d_row13_col1\" class=\"data row13 col1\" >mode</td>\n",
              "    </tr>\n",
              "    <tr>\n",
              "      <th id=\"T_0f34d_level0_row14\" class=\"row_heading level0 row14\" >14</th>\n",
              "      <td id=\"T_0f34d_row14_col0\" class=\"data row14 col0\" >Maximum one-hot encoding</td>\n",
              "      <td id=\"T_0f34d_row14_col1\" class=\"data row14 col1\" >25</td>\n",
              "    </tr>\n",
              "    <tr>\n",
              "      <th id=\"T_0f34d_level0_row15\" class=\"row_heading level0 row15\" >15</th>\n",
              "      <td id=\"T_0f34d_row15_col0\" class=\"data row15 col0\" >Encoding method</td>\n",
              "      <td id=\"T_0f34d_row15_col1\" class=\"data row15 col1\" >category-encoders estimator</td>\n",
              "    </tr>\n",
              "    <tr>\n",
              "      <th id=\"T_0f34d_level0_row16\" class=\"row_heading level0 row16\" >16</th>\n",
              "      <td id=\"T_0f34d_row16_col0\" class=\"data row16 col0\" >Remove multicollinearity</td>\n",
              "      <td id=\"T_0f34d_row16_col1\" class=\"data row16 col1\" >True</td>\n",
              "    </tr>\n",
              "    <tr>\n",
              "      <th id=\"T_0f34d_level0_row17\" class=\"row_heading level0 row17\" >17</th>\n",
              "      <td id=\"T_0f34d_row17_col0\" class=\"data row17 col0\" >Multicollinearity threshold</td>\n",
              "      <td id=\"T_0f34d_row17_col1\" class=\"data row17 col1\" >0.900000</td>\n",
              "    </tr>\n",
              "    <tr>\n",
              "      <th id=\"T_0f34d_level0_row18\" class=\"row_heading level0 row18\" >18</th>\n",
              "      <td id=\"T_0f34d_row18_col0\" class=\"data row18 col0\" >Remove outliers</td>\n",
              "      <td id=\"T_0f34d_row18_col1\" class=\"data row18 col1\" >True</td>\n",
              "    </tr>\n",
              "    <tr>\n",
              "      <th id=\"T_0f34d_level0_row19\" class=\"row_heading level0 row19\" >19</th>\n",
              "      <td id=\"T_0f34d_row19_col0\" class=\"data row19 col0\" >Outliers threshold</td>\n",
              "      <td id=\"T_0f34d_row19_col1\" class=\"data row19 col1\" >0.050000</td>\n",
              "    </tr>\n",
              "    <tr>\n",
              "      <th id=\"T_0f34d_level0_row20\" class=\"row_heading level0 row20\" >20</th>\n",
              "      <td id=\"T_0f34d_row20_col0\" class=\"data row20 col0\" >Fold Generator</td>\n",
              "      <td id=\"T_0f34d_row20_col1\" class=\"data row20 col1\" >StratifiedKFold</td>\n",
              "    </tr>\n",
              "    <tr>\n",
              "      <th id=\"T_0f34d_level0_row21\" class=\"row_heading level0 row21\" >21</th>\n",
              "      <td id=\"T_0f34d_row21_col0\" class=\"data row21 col0\" >Fold Number</td>\n",
              "      <td id=\"T_0f34d_row21_col1\" class=\"data row21 col1\" >10</td>\n",
              "    </tr>\n",
              "    <tr>\n",
              "      <th id=\"T_0f34d_level0_row22\" class=\"row_heading level0 row22\" >22</th>\n",
              "      <td id=\"T_0f34d_row22_col0\" class=\"data row22 col0\" >CPU Jobs</td>\n",
              "      <td id=\"T_0f34d_row22_col1\" class=\"data row22 col1\" >-1</td>\n",
              "    </tr>\n",
              "    <tr>\n",
              "      <th id=\"T_0f34d_level0_row23\" class=\"row_heading level0 row23\" >23</th>\n",
              "      <td id=\"T_0f34d_row23_col0\" class=\"data row23 col0\" >Use GPU</td>\n",
              "      <td id=\"T_0f34d_row23_col1\" class=\"data row23 col1\" >False</td>\n",
              "    </tr>\n",
              "    <tr>\n",
              "      <th id=\"T_0f34d_level0_row24\" class=\"row_heading level0 row24\" >24</th>\n",
              "      <td id=\"T_0f34d_row24_col0\" class=\"data row24 col0\" >Log Experiment</td>\n",
              "      <td id=\"T_0f34d_row24_col1\" class=\"data row24 col1\" >False</td>\n",
              "    </tr>\n",
              "    <tr>\n",
              "      <th id=\"T_0f34d_level0_row25\" class=\"row_heading level0 row25\" >25</th>\n",
              "      <td id=\"T_0f34d_row25_col0\" class=\"data row25 col0\" >Experiment Name</td>\n",
              "      <td id=\"T_0f34d_row25_col1\" class=\"data row25 col1\" >clf-default-name</td>\n",
              "    </tr>\n",
              "    <tr>\n",
              "      <th id=\"T_0f34d_level0_row26\" class=\"row_heading level0 row26\" >26</th>\n",
              "      <td id=\"T_0f34d_row26_col0\" class=\"data row26 col0\" >USI</td>\n",
              "      <td id=\"T_0f34d_row26_col1\" class=\"data row26 col1\" >32a6</td>\n",
              "    </tr>\n",
              "  </tbody>\n",
              "</table>\n"
            ],
            "text/plain": [
              "<pandas.io.formats.style.Styler at 0x7a3397dd4280>"
            ]
          },
          "metadata": {},
          "output_type": "display_data"
        }
      ],
      "source": [
        "clf = setup(data = data,\n",
        "            target = 'mau',\n",
        "            encoding_method='category-encoders estimator',\n",
        "            numeric_imputation='median',\n",
        "            remove_outliers=True,\n",
        "            remove_multicollinearity = True,\n",
        "            session_id=123)"
      ]
    },
    {
      "cell_type": "code",
      "execution_count": null,
      "metadata": {
        "colab": {
          "base_uri": "https://localhost:8080/",
          "height": 580,
          "referenced_widgets": [
            "784fc6ef3a904eb295cc8ecb268f6b5d",
            "ef9d75ad3cbd419c9462301543493e1b",
            "b393fadcfece43f3b59cf3ffd4c27b27",
            "c8b7d95d0e9645eea5ac2083f6310911",
            "18caae736cbd436e92c5232b3c02ec46",
            "3ca740187c48432bac1e24165391b70c",
            "f704ba81d77141e29971061ea1db742c",
            "77a4ddd82fc84ffa931f8124635f8baf",
            "95558fb93113403398fde4ec2c2b5de4",
            "fda711143755425d8812d51002f5194c",
            "94f1eb92acfb45358ee2e3c0c47e4438"
          ]
        },
        "id": "2dBEFQoVCjlB",
        "outputId": "4afd5b8f-45f3-438c-a3b3-b48e8e85823c"
      },
      "outputs": [
        {
          "data": {
            "application/vnd.google.colaboratory.intrinsic+json": {
              "summary": "{\n  \"name\": \"lightgbm = create_model('lightgbm')\",\n  \"rows\": 3,\n  \"fields\": [\n    {\n      \"column\": \" \",\n      \"properties\": {\n        \"dtype\": \"category\",\n        \"num_unique_values\": 1,\n        \"samples\": [\n          \". . . . . . . . . . . . . . . . . .\"\n        ],\n        \"semantic_type\": \"\",\n        \"description\": \"\"\n      }\n    },\n    {\n      \"column\": \"  \",\n      \"properties\": {\n        \"dtype\": \"string\",\n        \"num_unique_values\": 3,\n        \"samples\": [\n          \"14:37:11\"\n        ],\n        \"semantic_type\": \"\",\n        \"description\": \"\"\n      }\n    }\n  ]\n}",
              "type": "dataframe"
            },
            "text/html": [
              "\n",
              "  <div id=\"df-1c288904-f2b0-4430-b7cb-add055f8b83e\" class=\"colab-df-container\">\n",
              "    <div>\n",
              "<style scoped>\n",
              "    .dataframe tbody tr th:only-of-type {\n",
              "        vertical-align: middle;\n",
              "    }\n",
              "\n",
              "    .dataframe tbody tr th {\n",
              "        vertical-align: top;\n",
              "    }\n",
              "\n",
              "    .dataframe thead th {\n",
              "        text-align: right;\n",
              "    }\n",
              "</style>\n",
              "<table border=\"1\" class=\"dataframe\">\n",
              "  <thead>\n",
              "    <tr style=\"text-align: right;\">\n",
              "      <th></th>\n",
              "      <th></th>\n",
              "      <th></th>\n",
              "    </tr>\n",
              "    <tr>\n",
              "      <th></th>\n",
              "      <th></th>\n",
              "      <th></th>\n",
              "    </tr>\n",
              "  </thead>\n",
              "  <tbody>\n",
              "    <tr>\n",
              "      <th>Initiated</th>\n",
              "      <td>. . . . . . . . . . . . . . . . . .</td>\n",
              "      <td>14:37:11</td>\n",
              "    </tr>\n",
              "    <tr>\n",
              "      <th>Status</th>\n",
              "      <td>. . . . . . . . . . . . . . . . . .</td>\n",
              "      <td>Fitting 10 Folds</td>\n",
              "    </tr>\n",
              "    <tr>\n",
              "      <th>Estimator</th>\n",
              "      <td>. . . . . . . . . . . . . . . . . .</td>\n",
              "      <td>Light Gradient Boosting Machine</td>\n",
              "    </tr>\n",
              "  </tbody>\n",
              "</table>\n",
              "</div>\n",
              "    <div class=\"colab-df-buttons\">\n",
              "\n",
              "  <div class=\"colab-df-container\">\n",
              "    <button class=\"colab-df-convert\" onclick=\"convertToInteractive('df-1c288904-f2b0-4430-b7cb-add055f8b83e')\"\n",
              "            title=\"Convert this dataframe to an interactive table.\"\n",
              "            style=\"display:none;\">\n",
              "\n",
              "  <svg xmlns=\"http://www.w3.org/2000/svg\" height=\"24px\" viewBox=\"0 -960 960 960\">\n",
              "    <path d=\"M120-120v-720h720v720H120Zm60-500h600v-160H180v160Zm220 220h160v-160H400v160Zm0 220h160v-160H400v160ZM180-400h160v-160H180v160Zm440 0h160v-160H620v160ZM180-180h160v-160H180v160Zm440 0h160v-160H620v160Z\"/>\n",
              "  </svg>\n",
              "    </button>\n",
              "\n",
              "  <style>\n",
              "    .colab-df-container {\n",
              "      display:flex;\n",
              "      gap: 12px;\n",
              "    }\n",
              "\n",
              "    .colab-df-convert {\n",
              "      background-color: #E8F0FE;\n",
              "      border: none;\n",
              "      border-radius: 50%;\n",
              "      cursor: pointer;\n",
              "      display: none;\n",
              "      fill: #1967D2;\n",
              "      height: 32px;\n",
              "      padding: 0 0 0 0;\n",
              "      width: 32px;\n",
              "    }\n",
              "\n",
              "    .colab-df-convert:hover {\n",
              "      background-color: #E2EBFA;\n",
              "      box-shadow: 0px 1px 2px rgba(60, 64, 67, 0.3), 0px 1px 3px 1px rgba(60, 64, 67, 0.15);\n",
              "      fill: #174EA6;\n",
              "    }\n",
              "\n",
              "    .colab-df-buttons div {\n",
              "      margin-bottom: 4px;\n",
              "    }\n",
              "\n",
              "    [theme=dark] .colab-df-convert {\n",
              "      background-color: #3B4455;\n",
              "      fill: #D2E3FC;\n",
              "    }\n",
              "\n",
              "    [theme=dark] .colab-df-convert:hover {\n",
              "      background-color: #434B5C;\n",
              "      box-shadow: 0px 1px 3px 1px rgba(0, 0, 0, 0.15);\n",
              "      filter: drop-shadow(0px 1px 2px rgba(0, 0, 0, 0.3));\n",
              "      fill: #FFFFFF;\n",
              "    }\n",
              "  </style>\n",
              "\n",
              "    <script>\n",
              "      const buttonEl =\n",
              "        document.querySelector('#df-1c288904-f2b0-4430-b7cb-add055f8b83e button.colab-df-convert');\n",
              "      buttonEl.style.display =\n",
              "        google.colab.kernel.accessAllowed ? 'block' : 'none';\n",
              "\n",
              "      async function convertToInteractive(key) {\n",
              "        const element = document.querySelector('#df-1c288904-f2b0-4430-b7cb-add055f8b83e');\n",
              "        const dataTable =\n",
              "          await google.colab.kernel.invokeFunction('convertToInteractive',\n",
              "                                                    [key], {});\n",
              "        if (!dataTable) return;\n",
              "\n",
              "        const docLinkHtml = 'Like what you see? Visit the ' +\n",
              "          '<a target=\"_blank\" href=https://colab.research.google.com/notebooks/data_table.ipynb>data table notebook</a>'\n",
              "          + ' to learn more about interactive tables.';\n",
              "        element.innerHTML = '';\n",
              "        dataTable['output_type'] = 'display_data';\n",
              "        await google.colab.output.renderOutput(dataTable, element);\n",
              "        const docLink = document.createElement('div');\n",
              "        docLink.innerHTML = docLinkHtml;\n",
              "        element.appendChild(docLink);\n",
              "      }\n",
              "    </script>\n",
              "  </div>\n",
              "\n",
              "\n",
              "<div id=\"df-32fddf4e-ddcf-4bde-b3ea-a3b10f7f8e67\">\n",
              "  <button class=\"colab-df-quickchart\" onclick=\"quickchart('df-32fddf4e-ddcf-4bde-b3ea-a3b10f7f8e67')\"\n",
              "            title=\"Suggest charts\"\n",
              "            style=\"display:none;\">\n",
              "\n",
              "<svg xmlns=\"http://www.w3.org/2000/svg\" height=\"24px\"viewBox=\"0 0 24 24\"\n",
              "     width=\"24px\">\n",
              "    <g>\n",
              "        <path d=\"M19 3H5c-1.1 0-2 .9-2 2v14c0 1.1.9 2 2 2h14c1.1 0 2-.9 2-2V5c0-1.1-.9-2-2-2zM9 17H7v-7h2v7zm4 0h-2V7h2v10zm4 0h-2v-4h2v4z\"/>\n",
              "    </g>\n",
              "</svg>\n",
              "  </button>\n",
              "\n",
              "<style>\n",
              "  .colab-df-quickchart {\n",
              "      --bg-color: #E8F0FE;\n",
              "      --fill-color: #1967D2;\n",
              "      --hover-bg-color: #E2EBFA;\n",
              "      --hover-fill-color: #174EA6;\n",
              "      --disabled-fill-color: #AAA;\n",
              "      --disabled-bg-color: #DDD;\n",
              "  }\n",
              "\n",
              "  [theme=dark] .colab-df-quickchart {\n",
              "      --bg-color: #3B4455;\n",
              "      --fill-color: #D2E3FC;\n",
              "      --hover-bg-color: #434B5C;\n",
              "      --hover-fill-color: #FFFFFF;\n",
              "      --disabled-bg-color: #3B4455;\n",
              "      --disabled-fill-color: #666;\n",
              "  }\n",
              "\n",
              "  .colab-df-quickchart {\n",
              "    background-color: var(--bg-color);\n",
              "    border: none;\n",
              "    border-radius: 50%;\n",
              "    cursor: pointer;\n",
              "    display: none;\n",
              "    fill: var(--fill-color);\n",
              "    height: 32px;\n",
              "    padding: 0;\n",
              "    width: 32px;\n",
              "  }\n",
              "\n",
              "  .colab-df-quickchart:hover {\n",
              "    background-color: var(--hover-bg-color);\n",
              "    box-shadow: 0 1px 2px rgba(60, 64, 67, 0.3), 0 1px 3px 1px rgba(60, 64, 67, 0.15);\n",
              "    fill: var(--button-hover-fill-color);\n",
              "  }\n",
              "\n",
              "  .colab-df-quickchart-complete:disabled,\n",
              "  .colab-df-quickchart-complete:disabled:hover {\n",
              "    background-color: var(--disabled-bg-color);\n",
              "    fill: var(--disabled-fill-color);\n",
              "    box-shadow: none;\n",
              "  }\n",
              "\n",
              "  .colab-df-spinner {\n",
              "    border: 2px solid var(--fill-color);\n",
              "    border-color: transparent;\n",
              "    border-bottom-color: var(--fill-color);\n",
              "    animation:\n",
              "      spin 1s steps(1) infinite;\n",
              "  }\n",
              "\n",
              "  @keyframes spin {\n",
              "    0% {\n",
              "      border-color: transparent;\n",
              "      border-bottom-color: var(--fill-color);\n",
              "      border-left-color: var(--fill-color);\n",
              "    }\n",
              "    20% {\n",
              "      border-color: transparent;\n",
              "      border-left-color: var(--fill-color);\n",
              "      border-top-color: var(--fill-color);\n",
              "    }\n",
              "    30% {\n",
              "      border-color: transparent;\n",
              "      border-left-color: var(--fill-color);\n",
              "      border-top-color: var(--fill-color);\n",
              "      border-right-color: var(--fill-color);\n",
              "    }\n",
              "    40% {\n",
              "      border-color: transparent;\n",
              "      border-right-color: var(--fill-color);\n",
              "      border-top-color: var(--fill-color);\n",
              "    }\n",
              "    60% {\n",
              "      border-color: transparent;\n",
              "      border-right-color: var(--fill-color);\n",
              "    }\n",
              "    80% {\n",
              "      border-color: transparent;\n",
              "      border-right-color: var(--fill-color);\n",
              "      border-bottom-color: var(--fill-color);\n",
              "    }\n",
              "    90% {\n",
              "      border-color: transparent;\n",
              "      border-bottom-color: var(--fill-color);\n",
              "    }\n",
              "  }\n",
              "</style>\n",
              "\n",
              "  <script>\n",
              "    async function quickchart(key) {\n",
              "      const quickchartButtonEl =\n",
              "        document.querySelector('#' + key + ' button');\n",
              "      quickchartButtonEl.disabled = true;  // To prevent multiple clicks.\n",
              "      quickchartButtonEl.classList.add('colab-df-spinner');\n",
              "      try {\n",
              "        const charts = await google.colab.kernel.invokeFunction(\n",
              "            'suggestCharts', [key], {});\n",
              "      } catch (error) {\n",
              "        console.error('Error during call to suggestCharts:', error);\n",
              "      }\n",
              "      quickchartButtonEl.classList.remove('colab-df-spinner');\n",
              "      quickchartButtonEl.classList.add('colab-df-quickchart-complete');\n",
              "    }\n",
              "    (() => {\n",
              "      let quickchartButtonEl =\n",
              "        document.querySelector('#df-32fddf4e-ddcf-4bde-b3ea-a3b10f7f8e67 button');\n",
              "      quickchartButtonEl.style.display =\n",
              "        google.colab.kernel.accessAllowed ? 'block' : 'none';\n",
              "    })();\n",
              "  </script>\n",
              "</div>\n",
              "\n",
              "    </div>\n",
              "  </div>\n"
            ],
            "text/plain": [
              "                                                \\\n",
              "                                                 \n",
              "Initiated  . . . . . . . . . . . . . . . . . .   \n",
              "Status     . . . . . . . . . . . . . . . . . .   \n",
              "Estimator  . . . . . . . . . . . . . . . . . .   \n",
              "\n",
              "                                            \n",
              "                                            \n",
              "Initiated                         14:37:11  \n",
              "Status                    Fitting 10 Folds  \n",
              "Estimator  Light Gradient Boosting Machine  "
            ]
          },
          "metadata": {},
          "output_type": "display_data"
        },
        {
          "data": {
            "text/html": [],
            "text/plain": [
              "<IPython.core.display.HTML object>"
            ]
          },
          "metadata": {},
          "output_type": "display_data"
        },
        {
          "data": {
            "application/vnd.jupyter.widget-view+json": {
              "model_id": "784fc6ef3a904eb295cc8ecb268f6b5d",
              "version_major": 2,
              "version_minor": 0
            },
            "text/plain": [
              "Processing:   0%|          | 0/4 [00:00<?, ?it/s]"
            ]
          },
          "metadata": {
            "application/vnd.jupyter.widget-view+json": {
              "colab": {
                "custom_widget_manager": {
                  "url": "https://ssl.gstatic.com/colaboratory-static/widgets/colab-cdn-widget-manager/2b70e893a8ba7c0f/manager.min.js"
                }
              }
            }
          },
          "output_type": "display_data"
        },
        {
          "data": {
            "text/html": [],
            "text/plain": [
              "<IPython.core.display.HTML object>"
            ]
          },
          "metadata": {},
          "output_type": "display_data"
        },
        {
          "data": {
            "text/html": [],
            "text/plain": [
              "<IPython.core.display.HTML object>"
            ]
          },
          "metadata": {},
          "output_type": "display_data"
        },
        {
          "data": {
            "text/html": [
              "<style type=\"text/css\">\n",
              "#T_d4df7_row10_col0, #T_d4df7_row10_col1, #T_d4df7_row10_col2, #T_d4df7_row10_col3, #T_d4df7_row10_col4, #T_d4df7_row10_col5, #T_d4df7_row10_col6 {\n",
              "  background: yellow;\n",
              "}\n",
              "</style>\n",
              "<table id=\"T_d4df7\" class=\"dataframe\">\n",
              "  <thead>\n",
              "    <tr>\n",
              "      <th class=\"blank level0\" >&nbsp;</th>\n",
              "      <th id=\"T_d4df7_level0_col0\" class=\"col_heading level0 col0\" >Accuracy</th>\n",
              "      <th id=\"T_d4df7_level0_col1\" class=\"col_heading level0 col1\" >AUC</th>\n",
              "      <th id=\"T_d4df7_level0_col2\" class=\"col_heading level0 col2\" >Recall</th>\n",
              "      <th id=\"T_d4df7_level0_col3\" class=\"col_heading level0 col3\" >Prec.</th>\n",
              "      <th id=\"T_d4df7_level0_col4\" class=\"col_heading level0 col4\" >F1</th>\n",
              "      <th id=\"T_d4df7_level0_col5\" class=\"col_heading level0 col5\" >Kappa</th>\n",
              "      <th id=\"T_d4df7_level0_col6\" class=\"col_heading level0 col6\" >MCC</th>\n",
              "    </tr>\n",
              "    <tr>\n",
              "      <th class=\"index_name level0\" >Fold</th>\n",
              "      <th class=\"blank col0\" >&nbsp;</th>\n",
              "      <th class=\"blank col1\" >&nbsp;</th>\n",
              "      <th class=\"blank col2\" >&nbsp;</th>\n",
              "      <th class=\"blank col3\" >&nbsp;</th>\n",
              "      <th class=\"blank col4\" >&nbsp;</th>\n",
              "      <th class=\"blank col5\" >&nbsp;</th>\n",
              "      <th class=\"blank col6\" >&nbsp;</th>\n",
              "    </tr>\n",
              "  </thead>\n",
              "  <tbody>\n",
              "    <tr>\n",
              "      <th id=\"T_d4df7_level0_row0\" class=\"row_heading level0 row0\" >0</th>\n",
              "      <td id=\"T_d4df7_row0_col0\" class=\"data row0 col0\" >0.9220</td>\n",
              "      <td id=\"T_d4df7_row0_col1\" class=\"data row0 col1\" >0.7714</td>\n",
              "      <td id=\"T_d4df7_row0_col2\" class=\"data row0 col2\" >0.0244</td>\n",
              "      <td id=\"T_d4df7_row0_col3\" class=\"data row0 col3\" >0.5263</td>\n",
              "      <td id=\"T_d4df7_row0_col4\" class=\"data row0 col4\" >0.0466</td>\n",
              "      <td id=\"T_d4df7_row0_col5\" class=\"data row0 col5\" >0.0399</td>\n",
              "      <td id=\"T_d4df7_row0_col6\" class=\"data row0 col6\" >0.1006</td>\n",
              "    </tr>\n",
              "    <tr>\n",
              "      <th id=\"T_d4df7_level0_row1\" class=\"row_heading level0 row1\" >1</th>\n",
              "      <td id=\"T_d4df7_row1_col0\" class=\"data row1 col0\" >0.9220</td>\n",
              "      <td id=\"T_d4df7_row1_col1\" class=\"data row1 col1\" >0.7871</td>\n",
              "      <td id=\"T_d4df7_row1_col2\" class=\"data row1 col2\" >0.0251</td>\n",
              "      <td id=\"T_d4df7_row1_col3\" class=\"data row1 col3\" >0.5228</td>\n",
              "      <td id=\"T_d4df7_row1_col4\" class=\"data row1 col4\" >0.0479</td>\n",
              "      <td id=\"T_d4df7_row1_col5\" class=\"data row1 col5\" >0.0410</td>\n",
              "      <td id=\"T_d4df7_row1_col6\" class=\"data row1 col6\" >0.1016</td>\n",
              "    </tr>\n",
              "    <tr>\n",
              "      <th id=\"T_d4df7_level0_row2\" class=\"row_heading level0 row2\" >2</th>\n",
              "      <td id=\"T_d4df7_row2_col0\" class=\"data row2 col0\" >0.9226</td>\n",
              "      <td id=\"T_d4df7_row2_col1\" class=\"data row2 col1\" >0.7787</td>\n",
              "      <td id=\"T_d4df7_row2_col2\" class=\"data row2 col2\" >0.0283</td>\n",
              "      <td id=\"T_d4df7_row2_col3\" class=\"data row2 col3\" >0.6073</td>\n",
              "      <td id=\"T_d4df7_row2_col4\" class=\"data row2 col4\" >0.0540</td>\n",
              "      <td id=\"T_d4df7_row2_col5\" class=\"data row2 col5\" >0.0474</td>\n",
              "      <td id=\"T_d4df7_row2_col6\" class=\"data row2 col6\" >0.1191</td>\n",
              "    </tr>\n",
              "    <tr>\n",
              "      <th id=\"T_d4df7_level0_row3\" class=\"row_heading level0 row3\" >3</th>\n",
              "      <td id=\"T_d4df7_row3_col0\" class=\"data row3 col0\" >0.9222</td>\n",
              "      <td id=\"T_d4df7_row3_col1\" class=\"data row3 col1\" >0.7819</td>\n",
              "      <td id=\"T_d4df7_row3_col2\" class=\"data row3 col2\" >0.0244</td>\n",
              "      <td id=\"T_d4df7_row3_col3\" class=\"data row3 col3\" >0.5495</td>\n",
              "      <td id=\"T_d4df7_row3_col4\" class=\"data row3 col4\" >0.0467</td>\n",
              "      <td id=\"T_d4df7_row3_col5\" class=\"data row3 col5\" >0.0403</td>\n",
              "      <td id=\"T_d4df7_row3_col6\" class=\"data row3 col6\" >0.1035</td>\n",
              "    </tr>\n",
              "    <tr>\n",
              "      <th id=\"T_d4df7_level0_row4\" class=\"row_heading level0 row4\" >4</th>\n",
              "      <td id=\"T_d4df7_row4_col0\" class=\"data row4 col0\" >0.9219</td>\n",
              "      <td id=\"T_d4df7_row4_col1\" class=\"data row4 col1\" >0.7840</td>\n",
              "      <td id=\"T_d4df7_row4_col2\" class=\"data row4 col2\" >0.0222</td>\n",
              "      <td id=\"T_d4df7_row4_col3\" class=\"data row4 col3\" >0.5170</td>\n",
              "      <td id=\"T_d4df7_row4_col4\" class=\"data row4 col4\" >0.0425</td>\n",
              "      <td id=\"T_d4df7_row4_col5\" class=\"data row4 col5\" >0.0363</td>\n",
              "      <td id=\"T_d4df7_row4_col6\" class=\"data row4 col6\" >0.0948</td>\n",
              "    </tr>\n",
              "    <tr>\n",
              "      <th id=\"T_d4df7_level0_row5\" class=\"row_heading level0 row5\" >5</th>\n",
              "      <td id=\"T_d4df7_row5_col0\" class=\"data row5 col0\" >0.9225</td>\n",
              "      <td id=\"T_d4df7_row5_col1\" class=\"data row5 col1\" >0.7768</td>\n",
              "      <td id=\"T_d4df7_row5_col2\" class=\"data row5 col2\" >0.0261</td>\n",
              "      <td id=\"T_d4df7_row5_col3\" class=\"data row5 col3\" >0.6011</td>\n",
              "      <td id=\"T_d4df7_row5_col4\" class=\"data row5 col4\" >0.0500</td>\n",
              "      <td id=\"T_d4df7_row5_col5\" class=\"data row5 col5\" >0.0438</td>\n",
              "      <td id=\"T_d4df7_row5_col6\" class=\"data row5 col6\" >0.1136</td>\n",
              "    </tr>\n",
              "    <tr>\n",
              "      <th id=\"T_d4df7_level0_row6\" class=\"row_heading level0 row6\" >6</th>\n",
              "      <td id=\"T_d4df7_row6_col0\" class=\"data row6 col0\" >0.9224</td>\n",
              "      <td id=\"T_d4df7_row6_col1\" class=\"data row6 col1\" >0.7830</td>\n",
              "      <td id=\"T_d4df7_row6_col2\" class=\"data row6 col2\" >0.0258</td>\n",
              "      <td id=\"T_d4df7_row6_col3\" class=\"data row6 col3\" >0.5856</td>\n",
              "      <td id=\"T_d4df7_row6_col4\" class=\"data row6 col4\" >0.0495</td>\n",
              "      <td id=\"T_d4df7_row6_col5\" class=\"data row6 col5\" >0.0431</td>\n",
              "      <td id=\"T_d4df7_row6_col6\" class=\"data row6 col6\" >0.1112</td>\n",
              "    </tr>\n",
              "    <tr>\n",
              "      <th id=\"T_d4df7_level0_row7\" class=\"row_heading level0 row7\" >7</th>\n",
              "      <td id=\"T_d4df7_row7_col0\" class=\"data row7 col0\" >0.9219</td>\n",
              "      <td id=\"T_d4df7_row7_col1\" class=\"data row7 col1\" >0.7791</td>\n",
              "      <td id=\"T_d4df7_row7_col2\" class=\"data row7 col2\" >0.0246</td>\n",
              "      <td id=\"T_d4df7_row7_col3\" class=\"data row7 col3\" >0.5101</td>\n",
              "      <td id=\"T_d4df7_row7_col4\" class=\"data row7 col4\" >0.0469</td>\n",
              "      <td id=\"T_d4df7_row7_col5\" class=\"data row7 col5\" >0.0400</td>\n",
              "      <td id=\"T_d4df7_row7_col6\" class=\"data row7 col6\" >0.0990</td>\n",
              "    </tr>\n",
              "    <tr>\n",
              "      <th id=\"T_d4df7_level0_row8\" class=\"row_heading level0 row8\" >8</th>\n",
              "      <td id=\"T_d4df7_row8_col0\" class=\"data row8 col0\" >0.9218</td>\n",
              "      <td id=\"T_d4df7_row8_col1\" class=\"data row8 col1\" >0.7788</td>\n",
              "      <td id=\"T_d4df7_row8_col2\" class=\"data row8 col2\" >0.0207</td>\n",
              "      <td id=\"T_d4df7_row8_col3\" class=\"data row8 col3\" >0.5030</td>\n",
              "      <td id=\"T_d4df7_row8_col4\" class=\"data row8 col4\" >0.0398</td>\n",
              "      <td id=\"T_d4df7_row8_col5\" class=\"data row8 col5\" >0.0338</td>\n",
              "      <td id=\"T_d4df7_row8_col6\" class=\"data row8 col6\" >0.0899</td>\n",
              "    </tr>\n",
              "    <tr>\n",
              "      <th id=\"T_d4df7_level0_row9\" class=\"row_heading level0 row9\" >9</th>\n",
              "      <td id=\"T_d4df7_row9_col0\" class=\"data row9 col0\" >0.9217</td>\n",
              "      <td id=\"T_d4df7_row9_col1\" class=\"data row9 col1\" >0.7797</td>\n",
              "      <td id=\"T_d4df7_row9_col2\" class=\"data row9 col2\" >0.0171</td>\n",
              "      <td id=\"T_d4df7_row9_col3\" class=\"data row9 col3\" >0.4861</td>\n",
              "      <td id=\"T_d4df7_row9_col4\" class=\"data row9 col4\" >0.0329</td>\n",
              "      <td id=\"T_d4df7_row9_col5\" class=\"data row9 col5\" >0.0278</td>\n",
              "      <td id=\"T_d4df7_row9_col6\" class=\"data row9 col6\" >0.0797</td>\n",
              "    </tr>\n",
              "    <tr>\n",
              "      <th id=\"T_d4df7_level0_row10\" class=\"row_heading level0 row10\" >Mean</th>\n",
              "      <td id=\"T_d4df7_row10_col0\" class=\"data row10 col0\" >0.9221</td>\n",
              "      <td id=\"T_d4df7_row10_col1\" class=\"data row10 col1\" >0.7800</td>\n",
              "      <td id=\"T_d4df7_row10_col2\" class=\"data row10 col2\" >0.0238</td>\n",
              "      <td id=\"T_d4df7_row10_col3\" class=\"data row10 col3\" >0.5409</td>\n",
              "      <td id=\"T_d4df7_row10_col4\" class=\"data row10 col4\" >0.0457</td>\n",
              "      <td id=\"T_d4df7_row10_col5\" class=\"data row10 col5\" >0.0393</td>\n",
              "      <td id=\"T_d4df7_row10_col6\" class=\"data row10 col6\" >0.1013</td>\n",
              "    </tr>\n",
              "    <tr>\n",
              "      <th id=\"T_d4df7_level0_row11\" class=\"row_heading level0 row11\" >Std</th>\n",
              "      <td id=\"T_d4df7_row11_col0\" class=\"data row11 col0\" >0.0003</td>\n",
              "      <td id=\"T_d4df7_row11_col1\" class=\"data row11 col1\" >0.0041</td>\n",
              "      <td id=\"T_d4df7_row11_col2\" class=\"data row11 col2\" >0.0030</td>\n",
              "      <td id=\"T_d4df7_row11_col3\" class=\"data row11 col3\" >0.0408</td>\n",
              "      <td id=\"T_d4df7_row11_col4\" class=\"data row11 col4\" >0.0056</td>\n",
              "      <td id=\"T_d4df7_row11_col5\" class=\"data row11 col5\" >0.0053</td>\n",
              "      <td id=\"T_d4df7_row11_col6\" class=\"data row11 col6\" >0.0110</td>\n",
              "    </tr>\n",
              "  </tbody>\n",
              "</table>\n"
            ],
            "text/plain": [
              "<pandas.io.formats.style.Styler at 0x7a3396d47070>"
            ]
          },
          "metadata": {},
          "output_type": "display_data"
        }
      ],
      "source": [
        "lightgbm = create_model('lightgbm')"
      ]
    },
    {
      "cell_type": "code",
      "execution_count": null,
      "metadata": {
        "colab": {
          "base_uri": "https://localhost:8080/",
          "height": 524
        },
        "id": "FCrf40yQixIV",
        "outputId": "2c22aa08-661b-4d24-9b0a-9393b172cb3d"
      },
      "outputs": [
        {
          "data": {
            "text/html": [],
            "text/plain": [
              "<IPython.core.display.HTML object>"
            ]
          },
          "metadata": {},
          "output_type": "display_data"
        },
        {
          "data": {
            "image/png": "[encoded data removed]",
            "text/plain": [
              "<Figure size 800x550 with 1 Axes>"
            ]
          },
          "metadata": {},
          "output_type": "display_data"
        }
      ],
      "source": [
        "plot_model(lightgbm)"
      ]
    },
    {
      "cell_type": "code",
      "execution_count": null,
      "metadata": {
        "colab": {
          "base_uri": "https://localhost:8080/",
          "height": 551
        },
        "id": "sw12v0NeixIX",
        "outputId": "4d293f18-9e18-4379-ceea-9cb3cb093339"
      },
      "outputs": [
        {
          "data": {
            "text/html": [],
            "text/plain": [
              "<IPython.core.display.HTML object>"
            ]
          },
          "metadata": {},
          "output_type": "display_data"
        },
        {
          "data": {
            "image/png": "[encoded data removed]",
            "text/plain": [
              "<Figure size 800x550 with 1 Axes>"
            ]
          },
          "metadata": {},
          "output_type": "display_data"
        }
      ],
      "source": [
        "plot_model(lightgbm, plot = 'confusion_matrix')"
      ]
    },
    {
      "cell_type": "code",
      "execution_count": null,
      "metadata": {
        "colab": {
          "base_uri": "https://localhost:8080/",
          "height": 485
        },
        "id": "Y8yxDPGqixIY",
        "outputId": "1b021306-c5ad-48f7-ed58-11f44e1b82bd"
      },
      "outputs": [
        {
          "data": {
            "text/html": [],
            "text/plain": [
              "<IPython.core.display.HTML object>"
            ]
          },
          "metadata": {},
          "output_type": "display_data"
        },
        {
          "data": {
            "image/png": "[encoded data removed]",
            "text/plain": [
              "<Figure size 800x500 with 1 Axes>"
            ]
          },
          "metadata": {},
          "output_type": "display_data"
        }
      ],
      "source": [
        "plot_model(lightgbm, plot = 'feature')"
      ]
    },
    {
      "cell_type": "markdown",
      "metadata": {
        "id": "ViB69F707j-T"
      },
      "source": [
        "### Salvar o arquivo do modelo treinado"
      ]
    },
    {
      "cell_type": "code",
      "execution_count": null,
      "metadata": {
        "colab": {
          "base_uri": "https://localhost:8080/"
        },
        "id": "XYtv3HU07j-T",
        "outputId": "409a4c6f-4cdb-424e-e59d-86e33313f379"
      },
      "outputs": [
        {
          "name": "stdout",
          "output_type": "stream",
          "text": [
            "Transformation Pipeline and Model Successfully Saved\n"
          ]
        },
        {
          "data": {
            "text/plain": [
              "(Pipeline(memory=Memory(location=None),\n",
              "          steps=[('numerical_imputer',\n",
              "                  TransformerWrapper(exclude=None,\n",
              "                                     include=['qtd_filhos', 'idade',\n",
              "                                              'tempo_emprego',\n",
              "                                              'qt_pessoas_residencia', 'renda'],\n",
              "                                     transformer=SimpleImputer(add_indicator=False,\n",
              "                                                               copy=True,\n",
              "                                                               fill_value=None,\n",
              "                                                               keep_empty_features=False,\n",
              "                                                               missing_values=nan,\n",
              "                                                               strategy='median'))),\n",
              "                 ('categorical_imputer',\n",
              "                  TransformerW...\n",
              "                  LGBMClassifier(boosting_type='gbdt', class_weight=None,\n",
              "                                 colsample_bytree=1.0, importance_type='split',\n",
              "                                 learning_rate=0.1, max_depth=-1,\n",
              "                                 min_child_samples=20, min_child_weight=0.001,\n",
              "                                 min_split_gain=0.0, n_estimators=100, n_jobs=-1,\n",
              "                                 num_leaves=31, objective=None, random_state=123,\n",
              "                                 reg_alpha=0.0, reg_lambda=0.0, subsample=1.0,\n",
              "                                 subsample_for_bin=200000, subsample_freq=0))],\n",
              "          verbose=False),\n",
              " 'lightgbm-model.pkl')"
            ]
          },
          "execution_count": 70,
          "metadata": {},
          "output_type": "execute_result"
        }
      ],
      "source": [
        "save_model(lightgbm, model_name='lightgbm-model')"
      ]
    },
    {
      "cell_type": "markdown",
      "metadata": {
        "id": "mlGzVnXZ7j-U"
      },
      "source": [
        "# Projeto Final\n",
        "\n",
        "1. Subir no GITHUB todos os jupyter notebooks/códigos que você desenvolveu nesse ultimo módulo\n",
        "1. Gerar um arquivo python (.py) com todas as funções necessárias para rodar no streamlit a escoragem do arquivo de treino\n",
        "    - Criar um .py\n",
        "    - Criar um carregador de csv no streamlit\n",
        "    - Subir um csv no streamlit\n",
        "    - Criar um pipeline de pré processamento dos dados\n",
        "    - Utilizar o modelo treinado para escorar a base\n",
        "        - nome_arquivo = 'model_final.pkl'\n",
        "1. Gravar um vídeo da tela do streamlit em funcionamento (usando o próprio streamlit (temos aula disso) ou qlqr outra forma de gravação).\n",
        "1. Subir no Github o vídeo de funcionamento da ferramenta como README.md.\n",
        "1. Subir no Github os códigos desenvolvidos.\n",
        "1. Enviar links do github para o tutor corrigir."
      ]
    }
  ],
  "metadata": {
    "colab": {
      "provenance": []
    },
    "kernelspec": {
      "display_name": "Python 3",
      "language": "python",
      "name": "python3"
    },
    "language_info": {
      "codemirror_mode": {
        "name": "ipython",
        "version": 3
      },
      "file_extension": ".py",
      "mimetype": "text/x-python",
      "name": "python",
      "nbconvert_exporter": "python",
      "pygments_lexer": "ipython3",
      "version": "3.8.7"
    },
    "toc": {
      "base_numbering": 1,
      "nav_menu": {},
      "number_sections": false,
      "sideBar": true,
      "skip_h1_title": true,
      "title_cell": "Índice",
      "title_sidebar": "Conteúdo",
      "toc_cell": false,
      "toc_position": {},
      "toc_section_display": true,
      "toc_window_display": false
    },
    "varInspector": {
      "cols": {
        "lenName": 16,
        "lenType": 16,
        "lenVar": 40
      },
      "kernels_config": {
        "python": {
          "delete_cmd_postfix": "",
          "delete_cmd_prefix": "del ",
          "library": "var_list.py",
          "varRefreshCmd": "print(var_dic_list())"
        },
        "r": {
          "delete_cmd_postfix": ") ",
          "delete_cmd_prefix": "rm(",
          "library": "var_list.r",
          "varRefreshCmd": "cat(var_dic_list()) "
        }
      },
      "types_to_exclude": [
        "module",
        "function",
        "builtin_function_or_method",
        "instance",
        "_Feature"
      ],
      "window_display": false
    },
    "widgets": {
      "application/vnd.jupyter.widget-state+json": {
        "18caae736cbd436e92c5232b3c02ec46": {
          "model_module": "@jupyter-widgets/base",
          "model_module_version": "1.2.0",
          "model_name": "LayoutModel",
          "state": {
            "_model_module": "@jupyter-widgets/base",
            "_model_module_version": "1.2.0",
            "_model_name": "LayoutModel",
            "_view_count": null,
            "_view_module": "@jupyter-widgets/base",
            "_view_module_version": "1.2.0",
            "_view_name": "LayoutView",
            "align_content": null,
            "align_items": null,
            "align_self": null,
            "border": null,
            "bottom": null,
            "display": null,
            "flex": null,
            "flex_flow": null,
            "grid_area": null,
            "grid_auto_columns": null,
            "grid_auto_flow": null,
            "grid_auto_rows": null,
            "grid_column": null,
            "grid_gap": null,
            "grid_row": null,
            "grid_template_areas": null,
            "grid_template_columns": null,
            "grid_template_rows": null,
            "height": null,
            "justify_content": null,
            "justify_items": null,
            "left": null,
            "margin": null,
            "max_height": null,
            "max_width": null,
            "min_height": null,
            "min_width": null,
            "object_fit": null,
            "object_position": null,
            "order": null,
            "overflow": null,
            "overflow_x": null,
            "overflow_y": null,
            "padding": null,
            "right": null,
            "top": null,
            "visibility": "hidden",
            "width": null
          }
        },
        "3ca740187c48432bac1e24165391b70c": {
          "model_module": "@jupyter-widgets/base",
          "model_module_version": "1.2.0",
          "model_name": "LayoutModel",
          "state": {
            "_model_module": "@jupyter-widgets/base",
            "_model_module_version": "1.2.0",
            "_model_name": "LayoutModel",
            "_view_count": null,
            "_view_module": "@jupyter-widgets/base",
            "_view_module_version": "1.2.0",
            "_view_name": "LayoutView",
            "align_content": null,
            "align_items": null,
            "align_self": null,
            "border": null,
            "bottom": null,
            "display": null,
            "flex": null,
            "flex_flow": null,
            "grid_area": null,
            "grid_auto_columns": null,
            "grid_auto_flow": null,
            "grid_auto_rows": null,
            "grid_column": null,
            "grid_gap": null,
            "grid_row": null,
            "grid_template_areas": null,
            "grid_template_columns": null,
            "grid_template_rows": null,
            "height": null,
            "justify_content": null,
            "justify_items": null,
            "left": null,
            "margin": null,
            "max_height": null,
            "max_width": null,
            "min_height": null,
            "min_width": null,
            "object_fit": null,
            "object_position": null,
            "order": null,
            "overflow": null,
            "overflow_x": null,
            "overflow_y": null,
            "padding": null,
            "right": null,
            "top": null,
            "visibility": null,
            "width": null
          }
        },
        "77a4ddd82fc84ffa931f8124635f8baf": {
          "model_module": "@jupyter-widgets/base",
          "model_module_version": "1.2.0",
          "model_name": "LayoutModel",
          "state": {
            "_model_module": "@jupyter-widgets/base",
            "_model_module_version": "1.2.0",
            "_model_name": "LayoutModel",
            "_view_count": null,
            "_view_module": "@jupyter-widgets/base",
            "_view_module_version": "1.2.0",
            "_view_name": "LayoutView",
            "align_content": null,
            "align_items": null,
            "align_self": null,
            "border": null,
            "bottom": null,
            "display": null,
            "flex": null,
            "flex_flow": null,
            "grid_area": null,
            "grid_auto_columns": null,
            "grid_auto_flow": null,
            "grid_auto_rows": null,
            "grid_column": null,
            "grid_gap": null,
            "grid_row": null,
            "grid_template_areas": null,
            "grid_template_columns": null,
            "grid_template_rows": null,
            "height": null,
            "justify_content": null,
            "justify_items": null,
            "left": null,
            "margin": null,
            "max_height": null,
            "max_width": null,
            "min_height": null,
            "min_width": null,
            "object_fit": null,
            "object_position": null,
            "order": null,
            "overflow": null,
            "overflow_x": null,
            "overflow_y": null,
            "padding": null,
            "right": null,
            "top": null,
            "visibility": null,
            "width": null
          }
        },
        "784fc6ef3a904eb295cc8ecb268f6b5d": {
          "model_module": "@jupyter-widgets/controls",
          "model_module_version": "1.5.0",
          "model_name": "HBoxModel",
          "state": {
            "_dom_classes": [],
            "_model_module": "@jupyter-widgets/controls",
            "_model_module_version": "1.5.0",
            "_model_name": "HBoxModel",
            "_view_count": null,
            "_view_module": "@jupyter-widgets/controls",
            "_view_module_version": "1.5.0",
            "_view_name": "HBoxView",
            "box_style": "",
            "children": [
              "IPY_MODEL_ef9d75ad3cbd419c9462301543493e1b",
              "IPY_MODEL_b393fadcfece43f3b59cf3ffd4c27b27",
              "IPY_MODEL_c8b7d95d0e9645eea5ac2083f6310911"
            ],
            "layout": "IPY_MODEL_18caae736cbd436e92c5232b3c02ec46"
          }
        },
        "94f1eb92acfb45358ee2e3c0c47e4438": {
          "model_module": "@jupyter-widgets/controls",
          "model_module_version": "1.5.0",
          "model_name": "DescriptionStyleModel",
          "state": {
            "_model_module": "@jupyter-widgets/controls",
            "_model_module_version": "1.5.0",
            "_model_name": "DescriptionStyleModel",
            "_view_count": null,
            "_view_module": "@jupyter-widgets/base",
            "_view_module_version": "1.2.0",
            "_view_name": "StyleView",
            "description_width": ""
          }
        },
        "95558fb93113403398fde4ec2c2b5de4": {
          "model_module": "@jupyter-widgets/controls",
          "model_module_version": "1.5.0",
          "model_name": "ProgressStyleModel",
          "state": {
            "_model_module": "@jupyter-widgets/controls",
            "_model_module_version": "1.5.0",
            "_model_name": "ProgressStyleModel",
            "_view_count": null,
            "_view_module": "@jupyter-widgets/base",
            "_view_module_version": "1.2.0",
            "_view_name": "StyleView",
            "bar_color": null,
            "description_width": ""
          }
        },
        "b393fadcfece43f3b59cf3ffd4c27b27": {
          "model_module": "@jupyter-widgets/controls",
          "model_module_version": "1.5.0",
          "model_name": "FloatProgressModel",
          "state": {
            "_dom_classes": [],
            "_model_module": "@jupyter-widgets/controls",
            "_model_module_version": "1.5.0",
            "_model_name": "FloatProgressModel",
            "_view_count": null,
            "_view_module": "@jupyter-widgets/controls",
            "_view_module_version": "1.5.0",
            "_view_name": "ProgressView",
            "bar_style": "",
            "description": "",
            "description_tooltip": null,
            "layout": "IPY_MODEL_77a4ddd82fc84ffa931f8124635f8baf",
            "max": 4,
            "min": 0,
            "orientation": "horizontal",
            "style": "IPY_MODEL_95558fb93113403398fde4ec2c2b5de4",
            "value": 4
          }
        },
        "c8b7d95d0e9645eea5ac2083f6310911": {
          "model_module": "@jupyter-widgets/controls",
          "model_module_version": "1.5.0",
          "model_name": "HTMLModel",
          "state": {
            "_dom_classes": [],
            "_model_module": "@jupyter-widgets/controls",
            "_model_module_version": "1.5.0",
            "_model_name": "HTMLModel",
            "_view_count": null,
            "_view_module": "@jupyter-widgets/controls",
            "_view_module_version": "1.5.0",
            "_view_name": "HTMLView",
            "description": "",
            "description_tooltip": null,
            "layout": "IPY_MODEL_fda711143755425d8812d51002f5194c",
            "placeholder": "​",
            "style": "IPY_MODEL_94f1eb92acfb45358ee2e3c0c47e4438",
            "value": " 4/4 [04:27&lt;00:00, 62.37s/it]"
          }
        },
        "ef9d75ad3cbd419c9462301543493e1b": {
          "model_module": "@jupyter-widgets/controls",
          "model_module_version": "1.5.0",
          "model_name": "HTMLModel",
          "state": {
            "_dom_classes": [],
            "_model_module": "@jupyter-widgets/controls",
            "_model_module_version": "1.5.0",
            "_model_name": "HTMLModel",
            "_view_count": null,
            "_view_module": "@jupyter-widgets/controls",
            "_view_module_version": "1.5.0",
            "_view_name": "HTMLView",
            "description": "",
            "description_tooltip": null,
            "layout": "IPY_MODEL_3ca740187c48432bac1e24165391b70c",
            "placeholder": "​",
            "style": "IPY_MODEL_f704ba81d77141e29971061ea1db742c",
            "value": "Processing: 100%"
          }
        },
        "f704ba81d77141e29971061ea1db742c": {
          "model_module": "@jupyter-widgets/controls",
          "model_module_version": "1.5.0",
          "model_name": "DescriptionStyleModel",
          "state": {
            "_model_module": "@jupyter-widgets/controls",
            "_model_module_version": "1.5.0",
            "_model_name": "DescriptionStyleModel",
            "_view_count": null,
            "_view_module": "@jupyter-widgets/base",
            "_view_module_version": "1.2.0",
            "_view_name": "StyleView",
            "description_width": ""
          }
        },
        "fda711143755425d8812d51002f5194c": {
          "model_module": "@jupyter-widgets/base",
          "model_module_version": "1.2.0",
          "model_name": "LayoutModel",
          "state": {
            "_model_module": "@jupyter-widgets/base",
            "_model_module_version": "1.2.0",
            "_model_name": "LayoutModel",
            "_view_count": null,
            "_view_module": "@jupyter-widgets/base",
            "_view_module_version": "1.2.0",
            "_view_name": "LayoutView",
            "align_content": null,
            "align_items": null,
            "align_self": null,
            "border": null,
            "bottom": null,
            "display": null,
            "flex": null,
            "flex_flow": null,
            "grid_area": null,
            "grid_auto_columns": null,
            "grid_auto_flow": null,
            "grid_auto_rows": null,
            "grid_column": null,
            "grid_gap": null,
            "grid_row": null,
            "grid_template_areas": null,
            "grid_template_columns": null,
            "grid_template_rows": null,
            "height": null,
            "justify_content": null,
            "justify_items": null,
            "left": null,
            "margin": null,
            "max_height": null,
            "max_width": null,
            "min_height": null,
            "min_width": null,
            "object_fit": null,
            "object_position": null,
            "order": null,
            "overflow": null,
            "overflow_x": null,
            "overflow_y": null,
            "padding": null,
            "right": null,
            "top": null,
            "visibility": null,
            "width": null
          }
        }
      }
    }
  },
  "nbformat": 4,
  "nbformat_minor": 0
}